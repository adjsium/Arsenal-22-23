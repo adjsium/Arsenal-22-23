{
  "cells": [
    {
      "cell_type": "markdown",
      "id": "b881f332",
      "metadata": {
        "colab_type": "text",
        "id": "view-in-github"
      },
      "source": [
        "<a href=\"https://colab.research.google.com/github/adjsium/Arsenal-22-23/blob/main/Arsenal%20notebook.ipynb\" target=\"_parent\"><img src=\"https://colab.research.google.com/assets/colab-badge.svg\" alt=\"Open In Colab\"/></a>"
      ]
    },
    {
      "cell_type": "code",
      "execution_count": 45,
      "id": "62c5aa89",
      "metadata": {
        "id": "62c5aa89"
      },
      "outputs": [],
      "source": [
        "import pandas as pd\n",
        "pd.set_option('display.max_columns', None)\n",
        "import plotly.express as px\n",
        "import plotly.graph_objects as go\n",
        "from plotly.subplots import make_subplots"
      ]
    },
    {
      "cell_type": "code",
      "execution_count": 46,
      "id": "36d1cb85",
      "metadata": {
        "id": "36d1cb85"
      },
      "outputs": [],
      "source": [
        "data_url = 'https://raw.githubusercontent.com/adjsium/Arsenal-22-23/main/E0.csv'\n",
        "master_df = pd.read_csv(data_url)"
      ]
    },
    {
      "cell_type": "markdown",
      "id": "4efabd3d",
      "metadata": {},
      "source": [
        "Data Cleansing"
      ]
    },
    {
      "cell_type": "code",
      "execution_count": 47,
      "id": "1e3bff41",
      "metadata": {
        "colab": {
          "base_uri": "https://localhost:8080/"
        },
        "id": "1e3bff41",
        "outputId": "b93c8adc-3ab2-46f8-cc29-7ee1941d870e"
      },
      "outputs": [
        {
          "name": "stdout",
          "output_type": "stream",
          "text": [
            "  Div        Date   Time        HomeTeam       AwayTeam  FTHG  FTAG FTR  HTHG  \\\n",
            "0  E0  05/08/2022  20:00  Crystal Palace        Arsenal     0     2   A     0   \n",
            "1  E0  06/08/2022  12:30          Fulham      Liverpool     2     2   D     1   \n",
            "2  E0  06/08/2022  15:00     Bournemouth    Aston Villa     2     0   H     1   \n",
            "3  E0  06/08/2022  15:00           Leeds         Wolves     2     1   H     1   \n",
            "4  E0  06/08/2022  15:00       Newcastle  Nott'm Forest     2     0   H     0   \n",
            "\n",
            "   HTAG HTR   Referee  HS  AS  HST  AST  HF  AF  HC  AC  HY  AY  HR  AR  \\\n",
            "0     1   A  A Taylor  10  10    2    2  16  11   3   5   1   2   0   0   \n",
            "1     0   H  A Madley   9  11    3    4   7   9   4   4   2   0   0   0   \n",
            "2     0   H  P Bankes   7  15    3    2  18  16   5   5   3   3   0   0   \n",
            "3     1   D   R Jones  12  15    4    6  13   9   6   4   2   0   0   0   \n",
            "4     0   D  S Hooper  23   5   10    0   9  14  11   1   0   3   0   0   \n",
            "\n",
            "   B365H  B365D  B365A    BWH   BWD   BWA    IWH   IWD   IWA    PSH   PSD  \\\n",
            "0   4.20    3.6   1.85   4.33  3.50  1.87   4.30  3.55  1.85   4.50  3.65   \n",
            "1  11.00    6.0   1.25  10.00  5.75  1.28  12.00  5.75  1.27  11.20  6.22   \n",
            "2   3.75    3.5   2.00   3.75  3.40  2.00   3.65  3.45  2.05   3.93  3.58   \n",
            "3   2.25    3.4   3.20   2.30  3.30  2.95   2.30  3.30  3.15   2.39  3.33   \n",
            "4   1.66    3.8   5.25   1.65  3.80  5.50   1.65  3.80  5.50   1.71  3.74   \n",
            "\n",
            "    PSA    WHH  WHD   WHA    VCH  VCD   VCA   MaxH  MaxD  MaxA   AvgH  AvgD  \\\n",
            "0  1.89   4.40  3.5  1.83   4.60  3.5  1.87   4.60  3.78  1.95   4.39  3.59   \n",
            "1  1.28  12.00  5.5  1.27  13.00  6.0  1.25  13.00  6.40  1.31  10.99  6.05   \n",
            "2  2.04   3.75  3.3  2.05   3.75  3.3  2.00   4.00  3.66  2.10   3.80  3.50   \n",
            "3  3.30   2.25  3.3  3.20   2.30  3.2  3.10   2.42  3.54  3.30   2.34  3.34   \n",
            "4  5.83   1.67  3.7  5.25   1.62  3.7  5.50   1.72  3.96  6.00   1.67  3.80   \n",
            "\n",
            "   AvgA  B365>2.5  B365<2.5  P>2.5  P<2.5  Max>2.5  Max<2.5  Avg>2.5  Avg<2.5  \\\n",
            "0  1.88      2.10      1.72   2.14   1.78     2.19     1.91     2.09     1.76   \n",
            "1  1.28      1.50      2.62   1.50   2.70     1.54     2.76     1.48     2.63   \n",
            "2  2.04      2.00      1.80   2.10   1.81     2.10     1.87     2.03     1.80   \n",
            "3  3.18      2.05      1.85   2.09   1.83     2.11     1.87     2.03     1.81   \n",
            "4  5.57      2.05      1.85   2.10   1.81     2.10     1.86     2.03     1.81   \n",
            "\n",
            "    AHh  B365AHH  B365AHA  PAHH  PAHA  MaxAHH  MaxAHA  AvgAHH  AvgAHA  B365CH  \\\n",
            "0  0.50     2.04     1.89  2.03  1.89    2.06    1.91    2.01    1.87    4.50   \n",
            "1  1.75     1.90     2.03  1.91  2.00    1.92    2.04    1.89    1.99   11.00   \n",
            "2  0.50     1.87     2.06  1.88  2.04    1.88    2.07    1.85    2.04    4.00   \n",
            "3 -0.25     2.05     1.88  2.04  1.89    2.06    1.90    2.01    1.87    2.37   \n",
            "4 -0.75     1.87     2.06  1.92  2.01    1.92    2.08    1.86    2.02    1.53   \n",
            "\n",
            "   B365CD  B365CA  BWCH  BWCD  BWCA   IWCH  IWCD  IWCA   PSCH  PSCD  PSCA  \\\n",
            "0    3.60    1.80  4.50   3.5  1.83   4.40  3.55  1.85   4.58  3.63  1.88   \n",
            "1    5.75    1.28  9.25   6.0  1.29  11.00  5.50  1.30  10.50  6.50  1.29   \n",
            "2    3.50    1.95  3.90   3.4  1.95   3.85  3.45  2.00   4.09  3.59  2.00   \n",
            "3    3.30    3.00  2.40   3.3  2.75   2.45  3.30  2.95   2.45  3.44  3.09   \n",
            "4    4.00    6.00  1.58   3.9  6.00   1.63  3.80  6.00   1.57  4.22  6.60   \n",
            "\n",
            "    WHCH  WHCD  WHCA   VCCH  VCCD  VCCA  MaxCH  MaxCD  MaxCA  AvgCH  AvgCD  \\\n",
            "0   4.80   3.4  1.78   4.75   3.5  1.85   5.01   3.70   1.91   4.56   3.57   \n",
            "1  11.00   5.5  1.27  11.50   6.0  1.29  11.95   6.93   1.30  10.33   6.20   \n",
            "2   4.00   3.4  1.95   4.10   3.4  2.00   4.25   3.63   2.06   3.99   3.49   \n",
            "3   2.40   3.3  2.90   2.40   3.4  3.00   2.50   3.55   3.18   2.43   3.36   \n",
            "4   1.53   3.9  6.50   1.57   3.9  7.00   1.67   4.30   7.00   1.59   4.07   \n",
            "\n",
            "   AvgCA  B365C>2.5  B365C<2.5  PC>2.5  PC<2.5  MaxC>2.5  MaxC<2.5  AvgC>2.5  \\\n",
            "0   1.85       2.10       1.72    2.14    1.78      2.19      1.91      2.08   \n",
            "1   1.28       1.50       2.62    1.49    2.77      1.51      3.00      1.47   \n",
            "2   2.00       2.10       1.72    2.13    1.79      2.24      1.81      2.10   \n",
            "3   3.02       1.95       1.95    1.96    1.94      2.09      1.96      1.96   \n",
            "4   6.15       1.94       1.96    1.97    1.93      2.06      1.97      1.94   \n",
            "\n",
            "   AvgC<2.5  AHCh  B365CAHH  B365CAHA  PCAHH  PCAHA  MaxCAHH  MaxCAHA  \\\n",
            "0      1.76  0.50      2.09      1.84   2.04   1.88     2.09     1.88   \n",
            "1      2.73  1.75      1.90      2.03   1.91   2.02     2.01     2.06   \n",
            "2      1.76  0.50      1.93      2.00   1.93   2.00     1.94     2.04   \n",
            "3      1.87 -0.25      2.08      1.85   2.10   1.84     2.14     1.87   \n",
            "4      1.89 -1.00      1.97      1.96   1.99   1.93     2.19     1.97   \n",
            "\n",
            "   AvgCAHH  AvgCAHA  \n",
            "0     2.03     1.85  \n",
            "1     1.89     1.99  \n",
            "2     1.88     2.00  \n",
            "3     2.08     1.81  \n",
            "4     2.03     1.86  \n"
          ]
        }
      ],
      "source": [
        "print(master_df.head())"
      ]
    },
    {
      "cell_type": "code",
      "execution_count": 48,
      "id": "cb358a27",
      "metadata": {
        "id": "cb358a27"
      },
      "outputs": [],
      "source": [
        "home_df = master_df.loc[master_df['HomeTeam'].str.contains('Arsenal')]"
      ]
    },
    {
      "cell_type": "code",
      "execution_count": 49,
      "id": "e8b1e6ee",
      "metadata": {
        "id": "e8b1e6ee"
      },
      "outputs": [],
      "source": [
        "away_df = master_df.loc[master_df['AwayTeam'].str.contains('Arsenal')]"
      ]
    },
    {
      "cell_type": "code",
      "execution_count": 50,
      "id": "fe6ec7cb",
      "metadata": {
        "id": "fe6ec7cb"
      },
      "outputs": [],
      "source": [
        "home_df.set_index('Date', inplace=True)\n",
        "away_df.set_index('Date', inplace=True)\n",
        "home_df.reset_index(inplace=True)\n",
        "away_df.reset_index(inplace=True)"
      ]
    },
    {
      "cell_type": "code",
      "execution_count": 51,
      "id": "9b2e04c6",
      "metadata": {
        "colab": {
          "base_uri": "https://localhost:8080/",
          "height": 1000
        },
        "id": "9b2e04c6",
        "outputId": "971e3925-8f91-4c73-a60a-e1b1a05c32ad"
      },
      "outputs": [
        {
          "data": {
            "text/html": [
              "<div>\n",
              "<style scoped>\n",
              "    .dataframe tbody tr th:only-of-type {\n",
              "        vertical-align: middle;\n",
              "    }\n",
              "\n",
              "    .dataframe tbody tr th {\n",
              "        vertical-align: top;\n",
              "    }\n",
              "\n",
              "    .dataframe thead th {\n",
              "        text-align: right;\n",
              "    }\n",
              "</style>\n",
              "<table border=\"1\" class=\"dataframe\">\n",
              "  <thead>\n",
              "    <tr style=\"text-align: right;\">\n",
              "      <th></th>\n",
              "      <th>Date</th>\n",
              "      <th>Div</th>\n",
              "      <th>Time</th>\n",
              "      <th>HomeTeam</th>\n",
              "      <th>AwayTeam</th>\n",
              "      <th>FTHG</th>\n",
              "      <th>FTAG</th>\n",
              "      <th>FTR</th>\n",
              "      <th>HTHG</th>\n",
              "      <th>HTAG</th>\n",
              "      <th>HTR</th>\n",
              "      <th>Referee</th>\n",
              "      <th>HS</th>\n",
              "      <th>AS</th>\n",
              "      <th>HST</th>\n",
              "      <th>AST</th>\n",
              "      <th>HF</th>\n",
              "      <th>AF</th>\n",
              "      <th>HC</th>\n",
              "      <th>AC</th>\n",
              "      <th>HY</th>\n",
              "      <th>AY</th>\n",
              "      <th>HR</th>\n",
              "      <th>AR</th>\n",
              "      <th>B365H</th>\n",
              "      <th>B365D</th>\n",
              "      <th>B365A</th>\n",
              "      <th>BWH</th>\n",
              "      <th>BWD</th>\n",
              "      <th>BWA</th>\n",
              "      <th>IWH</th>\n",
              "      <th>IWD</th>\n",
              "      <th>IWA</th>\n",
              "      <th>PSH</th>\n",
              "      <th>PSD</th>\n",
              "      <th>PSA</th>\n",
              "      <th>WHH</th>\n",
              "      <th>WHD</th>\n",
              "      <th>WHA</th>\n",
              "      <th>VCH</th>\n",
              "      <th>VCD</th>\n",
              "      <th>VCA</th>\n",
              "      <th>MaxH</th>\n",
              "      <th>MaxD</th>\n",
              "      <th>MaxA</th>\n",
              "      <th>AvgH</th>\n",
              "      <th>AvgD</th>\n",
              "      <th>AvgA</th>\n",
              "      <th>B365&gt;2.5</th>\n",
              "      <th>B365&lt;2.5</th>\n",
              "      <th>P&gt;2.5</th>\n",
              "      <th>P&lt;2.5</th>\n",
              "      <th>Max&gt;2.5</th>\n",
              "      <th>Max&lt;2.5</th>\n",
              "      <th>Avg&gt;2.5</th>\n",
              "      <th>Avg&lt;2.5</th>\n",
              "      <th>AHh</th>\n",
              "      <th>B365AHH</th>\n",
              "      <th>B365AHA</th>\n",
              "      <th>PAHH</th>\n",
              "      <th>PAHA</th>\n",
              "      <th>MaxAHH</th>\n",
              "      <th>MaxAHA</th>\n",
              "      <th>AvgAHH</th>\n",
              "      <th>AvgAHA</th>\n",
              "      <th>B365CH</th>\n",
              "      <th>B365CD</th>\n",
              "      <th>B365CA</th>\n",
              "      <th>BWCH</th>\n",
              "      <th>BWCD</th>\n",
              "      <th>BWCA</th>\n",
              "      <th>IWCH</th>\n",
              "      <th>IWCD</th>\n",
              "      <th>IWCA</th>\n",
              "      <th>PSCH</th>\n",
              "      <th>PSCD</th>\n",
              "      <th>PSCA</th>\n",
              "      <th>WHCH</th>\n",
              "      <th>WHCD</th>\n",
              "      <th>WHCA</th>\n",
              "      <th>VCCH</th>\n",
              "      <th>VCCD</th>\n",
              "      <th>VCCA</th>\n",
              "      <th>MaxCH</th>\n",
              "      <th>MaxCD</th>\n",
              "      <th>MaxCA</th>\n",
              "      <th>AvgCH</th>\n",
              "      <th>AvgCD</th>\n",
              "      <th>AvgCA</th>\n",
              "      <th>B365C&gt;2.5</th>\n",
              "      <th>B365C&lt;2.5</th>\n",
              "      <th>PC&gt;2.5</th>\n",
              "      <th>PC&lt;2.5</th>\n",
              "      <th>MaxC&gt;2.5</th>\n",
              "      <th>MaxC&lt;2.5</th>\n",
              "      <th>AvgC&gt;2.5</th>\n",
              "      <th>AvgC&lt;2.5</th>\n",
              "      <th>AHCh</th>\n",
              "      <th>B365CAHH</th>\n",
              "      <th>B365CAHA</th>\n",
              "      <th>PCAHH</th>\n",
              "      <th>PCAHA</th>\n",
              "      <th>MaxCAHH</th>\n",
              "      <th>MaxCAHA</th>\n",
              "      <th>AvgCAHH</th>\n",
              "      <th>AvgCAHA</th>\n",
              "    </tr>\n",
              "  </thead>\n",
              "  <tbody>\n",
              "    <tr>\n",
              "      <th>0</th>\n",
              "      <td>13/08/2022</td>\n",
              "      <td>E0</td>\n",
              "      <td>15:00</td>\n",
              "      <td>Arsenal</td>\n",
              "      <td>Leicester</td>\n",
              "      <td>4</td>\n",
              "      <td>2</td>\n",
              "      <td>H</td>\n",
              "      <td>2</td>\n",
              "      <td>0</td>\n",
              "      <td>H</td>\n",
              "      <td>D England</td>\n",
              "      <td>19</td>\n",
              "      <td>6</td>\n",
              "      <td>7</td>\n",
              "      <td>2</td>\n",
              "      <td>15</td>\n",
              "      <td>9</td>\n",
              "      <td>6</td>\n",
              "      <td>2</td>\n",
              "      <td>1</td>\n",
              "      <td>1</td>\n",
              "      <td>0</td>\n",
              "      <td>0</td>\n",
              "      <td>1.53</td>\n",
              "      <td>4.33</td>\n",
              "      <td>5.75</td>\n",
              "      <td>1.52</td>\n",
              "      <td>4.40</td>\n",
              "      <td>6.00</td>\n",
              "      <td>1.53</td>\n",
              "      <td>4.40</td>\n",
              "      <td>5.75</td>\n",
              "      <td>1.58</td>\n",
              "      <td>4.34</td>\n",
              "      <td>6.22</td>\n",
              "      <td>1.53</td>\n",
              "      <td>4.20</td>\n",
              "      <td>5.80</td>\n",
              "      <td>1.50</td>\n",
              "      <td>4.20</td>\n",
              "      <td>6.00</td>\n",
              "      <td>1.60</td>\n",
              "      <td>4.65</td>\n",
              "      <td>6.42</td>\n",
              "      <td>1.55</td>\n",
              "      <td>4.37</td>\n",
              "      <td>6.04</td>\n",
              "      <td>1.66</td>\n",
              "      <td>2.20</td>\n",
              "      <td>1.71</td>\n",
              "      <td>2.25</td>\n",
              "      <td>1.76</td>\n",
              "      <td>2.30</td>\n",
              "      <td>1.69</td>\n",
              "      <td>2.21</td>\n",
              "      <td>-1.00</td>\n",
              "      <td>1.92</td>\n",
              "      <td>1.98</td>\n",
              "      <td>1.96</td>\n",
              "      <td>1.96</td>\n",
              "      <td>1.98</td>\n",
              "      <td>2.04</td>\n",
              "      <td>1.91</td>\n",
              "      <td>1.96</td>\n",
              "      <td>1.55</td>\n",
              "      <td>4.33</td>\n",
              "      <td>5.50</td>\n",
              "      <td>1.57</td>\n",
              "      <td>4.33</td>\n",
              "      <td>5.50</td>\n",
              "      <td>1.53</td>\n",
              "      <td>4.20</td>\n",
              "      <td>6.25</td>\n",
              "      <td>1.58</td>\n",
              "      <td>4.42</td>\n",
              "      <td>5.97</td>\n",
              "      <td>1.55</td>\n",
              "      <td>4.2</td>\n",
              "      <td>5.80</td>\n",
              "      <td>1.55</td>\n",
              "      <td>4.40</td>\n",
              "      <td>6.00</td>\n",
              "      <td>1.60</td>\n",
              "      <td>4.70</td>\n",
              "      <td>6.25</td>\n",
              "      <td>1.57</td>\n",
              "      <td>4.40</td>\n",
              "      <td>5.89</td>\n",
              "      <td>1.66</td>\n",
              "      <td>2.20</td>\n",
              "      <td>1.73</td>\n",
              "      <td>2.22</td>\n",
              "      <td>1.76</td>\n",
              "      <td>2.34</td>\n",
              "      <td>1.68</td>\n",
              "      <td>2.22</td>\n",
              "      <td>-1.00</td>\n",
              "      <td>1.98</td>\n",
              "      <td>1.92</td>\n",
              "      <td>1.96</td>\n",
              "      <td>1.96</td>\n",
              "      <td>1.99</td>\n",
              "      <td>2.00</td>\n",
              "      <td>1.94</td>\n",
              "      <td>1.94</td>\n",
              "    </tr>\n",
              "    <tr>\n",
              "      <th>1</th>\n",
              "      <td>27/08/2022</td>\n",
              "      <td>E0</td>\n",
              "      <td>17:30</td>\n",
              "      <td>Arsenal</td>\n",
              "      <td>Fulham</td>\n",
              "      <td>2</td>\n",
              "      <td>1</td>\n",
              "      <td>H</td>\n",
              "      <td>0</td>\n",
              "      <td>0</td>\n",
              "      <td>D</td>\n",
              "      <td>J Gillett</td>\n",
              "      <td>22</td>\n",
              "      <td>11</td>\n",
              "      <td>8</td>\n",
              "      <td>3</td>\n",
              "      <td>6</td>\n",
              "      <td>12</td>\n",
              "      <td>9</td>\n",
              "      <td>2</td>\n",
              "      <td>2</td>\n",
              "      <td>3</td>\n",
              "      <td>0</td>\n",
              "      <td>0</td>\n",
              "      <td>1.30</td>\n",
              "      <td>5.75</td>\n",
              "      <td>9.00</td>\n",
              "      <td>1.30</td>\n",
              "      <td>5.75</td>\n",
              "      <td>9.25</td>\n",
              "      <td>1.35</td>\n",
              "      <td>5.25</td>\n",
              "      <td>8.25</td>\n",
              "      <td>1.33</td>\n",
              "      <td>5.83</td>\n",
              "      <td>9.75</td>\n",
              "      <td>1.29</td>\n",
              "      <td>5.50</td>\n",
              "      <td>9.50</td>\n",
              "      <td>1.29</td>\n",
              "      <td>5.50</td>\n",
              "      <td>10.00</td>\n",
              "      <td>1.36</td>\n",
              "      <td>6.10</td>\n",
              "      <td>10.00</td>\n",
              "      <td>1.32</td>\n",
              "      <td>5.77</td>\n",
              "      <td>9.44</td>\n",
              "      <td>1.50</td>\n",
              "      <td>2.62</td>\n",
              "      <td>1.52</td>\n",
              "      <td>2.66</td>\n",
              "      <td>1.54</td>\n",
              "      <td>2.75</td>\n",
              "      <td>1.49</td>\n",
              "      <td>2.62</td>\n",
              "      <td>-1.50</td>\n",
              "      <td>1.87</td>\n",
              "      <td>2.03</td>\n",
              "      <td>1.88</td>\n",
              "      <td>2.05</td>\n",
              "      <td>1.91</td>\n",
              "      <td>2.07</td>\n",
              "      <td>1.86</td>\n",
              "      <td>2.01</td>\n",
              "      <td>1.40</td>\n",
              "      <td>5.50</td>\n",
              "      <td>6.50</td>\n",
              "      <td>1.39</td>\n",
              "      <td>5.00</td>\n",
              "      <td>7.25</td>\n",
              "      <td>1.40</td>\n",
              "      <td>5.50</td>\n",
              "      <td>7.00</td>\n",
              "      <td>1.42</td>\n",
              "      <td>5.35</td>\n",
              "      <td>7.50</td>\n",
              "      <td>1.36</td>\n",
              "      <td>5.0</td>\n",
              "      <td>8.00</td>\n",
              "      <td>1.36</td>\n",
              "      <td>5.25</td>\n",
              "      <td>8.50</td>\n",
              "      <td>1.43</td>\n",
              "      <td>5.80</td>\n",
              "      <td>9.50</td>\n",
              "      <td>1.39</td>\n",
              "      <td>5.32</td>\n",
              "      <td>7.66</td>\n",
              "      <td>1.53</td>\n",
              "      <td>2.50</td>\n",
              "      <td>1.57</td>\n",
              "      <td>2.54</td>\n",
              "      <td>1.59</td>\n",
              "      <td>2.66</td>\n",
              "      <td>1.54</td>\n",
              "      <td>2.50</td>\n",
              "      <td>-1.50</td>\n",
              "      <td>2.02</td>\n",
              "      <td>1.77</td>\n",
              "      <td>2.15</td>\n",
              "      <td>1.79</td>\n",
              "      <td>2.15</td>\n",
              "      <td>2.04</td>\n",
              "      <td>2.03</td>\n",
              "      <td>1.84</td>\n",
              "    </tr>\n",
              "    <tr>\n",
              "      <th>2</th>\n",
              "      <td>31/08/2022</td>\n",
              "      <td>E0</td>\n",
              "      <td>19:30</td>\n",
              "      <td>Arsenal</td>\n",
              "      <td>Aston Villa</td>\n",
              "      <td>2</td>\n",
              "      <td>1</td>\n",
              "      <td>H</td>\n",
              "      <td>1</td>\n",
              "      <td>0</td>\n",
              "      <td>H</td>\n",
              "      <td>R Jones</td>\n",
              "      <td>22</td>\n",
              "      <td>4</td>\n",
              "      <td>9</td>\n",
              "      <td>3</td>\n",
              "      <td>10</td>\n",
              "      <td>14</td>\n",
              "      <td>10</td>\n",
              "      <td>3</td>\n",
              "      <td>2</td>\n",
              "      <td>3</td>\n",
              "      <td>0</td>\n",
              "      <td>0</td>\n",
              "      <td>1.45</td>\n",
              "      <td>4.50</td>\n",
              "      <td>6.00</td>\n",
              "      <td>1.46</td>\n",
              "      <td>4.50</td>\n",
              "      <td>7.00</td>\n",
              "      <td>1.47</td>\n",
              "      <td>4.60</td>\n",
              "      <td>6.75</td>\n",
              "      <td>1.50</td>\n",
              "      <td>4.67</td>\n",
              "      <td>6.97</td>\n",
              "      <td>1.44</td>\n",
              "      <td>4.40</td>\n",
              "      <td>7.00</td>\n",
              "      <td>1.40</td>\n",
              "      <td>4.40</td>\n",
              "      <td>7.50</td>\n",
              "      <td>1.50</td>\n",
              "      <td>4.80</td>\n",
              "      <td>7.50</td>\n",
              "      <td>1.47</td>\n",
              "      <td>4.63</td>\n",
              "      <td>7.00</td>\n",
              "      <td>1.72</td>\n",
              "      <td>2.10</td>\n",
              "      <td>1.78</td>\n",
              "      <td>2.15</td>\n",
              "      <td>1.82</td>\n",
              "      <td>2.17</td>\n",
              "      <td>1.75</td>\n",
              "      <td>2.11</td>\n",
              "      <td>-1.25</td>\n",
              "      <td>2.06</td>\n",
              "      <td>1.84</td>\n",
              "      <td>2.12</td>\n",
              "      <td>1.83</td>\n",
              "      <td>2.12</td>\n",
              "      <td>1.88</td>\n",
              "      <td>2.04</td>\n",
              "      <td>1.84</td>\n",
              "      <td>1.50</td>\n",
              "      <td>4.50</td>\n",
              "      <td>6.00</td>\n",
              "      <td>1.53</td>\n",
              "      <td>4.20</td>\n",
              "      <td>6.00</td>\n",
              "      <td>1.53</td>\n",
              "      <td>4.40</td>\n",
              "      <td>5.75</td>\n",
              "      <td>1.55</td>\n",
              "      <td>4.57</td>\n",
              "      <td>6.27</td>\n",
              "      <td>1.52</td>\n",
              "      <td>4.2</td>\n",
              "      <td>6.00</td>\n",
              "      <td>1.53</td>\n",
              "      <td>4.50</td>\n",
              "      <td>6.00</td>\n",
              "      <td>1.59</td>\n",
              "      <td>4.60</td>\n",
              "      <td>6.70</td>\n",
              "      <td>1.54</td>\n",
              "      <td>4.46</td>\n",
              "      <td>6.08</td>\n",
              "      <td>1.66</td>\n",
              "      <td>2.20</td>\n",
              "      <td>1.71</td>\n",
              "      <td>2.24</td>\n",
              "      <td>1.75</td>\n",
              "      <td>2.29</td>\n",
              "      <td>1.68</td>\n",
              "      <td>2.22</td>\n",
              "      <td>-1.00</td>\n",
              "      <td>1.90</td>\n",
              "      <td>2.00</td>\n",
              "      <td>1.91</td>\n",
              "      <td>2.02</td>\n",
              "      <td>1.98</td>\n",
              "      <td>2.05</td>\n",
              "      <td>1.88</td>\n",
              "      <td>1.98</td>\n",
              "    </tr>\n",
              "    <tr>\n",
              "      <th>3</th>\n",
              "      <td>01/10/2022</td>\n",
              "      <td>E0</td>\n",
              "      <td>12:30</td>\n",
              "      <td>Arsenal</td>\n",
              "      <td>Tottenham</td>\n",
              "      <td>3</td>\n",
              "      <td>1</td>\n",
              "      <td>H</td>\n",
              "      <td>1</td>\n",
              "      <td>1</td>\n",
              "      <td>D</td>\n",
              "      <td>A Taylor</td>\n",
              "      <td>22</td>\n",
              "      <td>7</td>\n",
              "      <td>9</td>\n",
              "      <td>3</td>\n",
              "      <td>10</td>\n",
              "      <td>10</td>\n",
              "      <td>5</td>\n",
              "      <td>2</td>\n",
              "      <td>2</td>\n",
              "      <td>1</td>\n",
              "      <td>0</td>\n",
              "      <td>1</td>\n",
              "      <td>2.05</td>\n",
              "      <td>3.75</td>\n",
              "      <td>3.30</td>\n",
              "      <td>2.05</td>\n",
              "      <td>3.70</td>\n",
              "      <td>3.40</td>\n",
              "      <td>2.10</td>\n",
              "      <td>3.70</td>\n",
              "      <td>3.30</td>\n",
              "      <td>2.13</td>\n",
              "      <td>3.65</td>\n",
              "      <td>3.57</td>\n",
              "      <td>2.05</td>\n",
              "      <td>3.50</td>\n",
              "      <td>3.50</td>\n",
              "      <td>2.00</td>\n",
              "      <td>3.60</td>\n",
              "      <td>3.50</td>\n",
              "      <td>2.15</td>\n",
              "      <td>3.85</td>\n",
              "      <td>3.65</td>\n",
              "      <td>2.08</td>\n",
              "      <td>3.70</td>\n",
              "      <td>3.48</td>\n",
              "      <td>1.72</td>\n",
              "      <td>2.10</td>\n",
              "      <td>1.76</td>\n",
              "      <td>2.18</td>\n",
              "      <td>1.77</td>\n",
              "      <td>2.28</td>\n",
              "      <td>1.71</td>\n",
              "      <td>2.16</td>\n",
              "      <td>-0.50</td>\n",
              "      <td>2.06</td>\n",
              "      <td>1.84</td>\n",
              "      <td>2.12</td>\n",
              "      <td>1.81</td>\n",
              "      <td>2.12</td>\n",
              "      <td>1.87</td>\n",
              "      <td>2.06</td>\n",
              "      <td>1.82</td>\n",
              "      <td>1.95</td>\n",
              "      <td>3.80</td>\n",
              "      <td>3.80</td>\n",
              "      <td>2.00</td>\n",
              "      <td>3.60</td>\n",
              "      <td>3.50</td>\n",
              "      <td>1.97</td>\n",
              "      <td>3.70</td>\n",
              "      <td>3.65</td>\n",
              "      <td>1.99</td>\n",
              "      <td>3.75</td>\n",
              "      <td>3.84</td>\n",
              "      <td>1.95</td>\n",
              "      <td>3.6</td>\n",
              "      <td>3.70</td>\n",
              "      <td>1.93</td>\n",
              "      <td>3.60</td>\n",
              "      <td>3.70</td>\n",
              "      <td>2.05</td>\n",
              "      <td>3.88</td>\n",
              "      <td>3.95</td>\n",
              "      <td>1.99</td>\n",
              "      <td>3.71</td>\n",
              "      <td>3.75</td>\n",
              "      <td>1.72</td>\n",
              "      <td>2.10</td>\n",
              "      <td>1.76</td>\n",
              "      <td>2.17</td>\n",
              "      <td>1.81</td>\n",
              "      <td>2.23</td>\n",
              "      <td>1.74</td>\n",
              "      <td>2.13</td>\n",
              "      <td>-0.50</td>\n",
              "      <td>1.97</td>\n",
              "      <td>1.93</td>\n",
              "      <td>1.99</td>\n",
              "      <td>1.89</td>\n",
              "      <td>2.03</td>\n",
              "      <td>1.97</td>\n",
              "      <td>1.99</td>\n",
              "      <td>1.89</td>\n",
              "    </tr>\n",
              "    <tr>\n",
              "      <th>4</th>\n",
              "      <td>09/10/2022</td>\n",
              "      <td>E0</td>\n",
              "      <td>16:30</td>\n",
              "      <td>Arsenal</td>\n",
              "      <td>Liverpool</td>\n",
              "      <td>3</td>\n",
              "      <td>2</td>\n",
              "      <td>H</td>\n",
              "      <td>2</td>\n",
              "      <td>1</td>\n",
              "      <td>H</td>\n",
              "      <td>M Oliver</td>\n",
              "      <td>11</td>\n",
              "      <td>8</td>\n",
              "      <td>7</td>\n",
              "      <td>3</td>\n",
              "      <td>11</td>\n",
              "      <td>11</td>\n",
              "      <td>4</td>\n",
              "      <td>3</td>\n",
              "      <td>1</td>\n",
              "      <td>2</td>\n",
              "      <td>0</td>\n",
              "      <td>0</td>\n",
              "      <td>2.50</td>\n",
              "      <td>3.60</td>\n",
              "      <td>2.62</td>\n",
              "      <td>2.50</td>\n",
              "      <td>3.70</td>\n",
              "      <td>2.55</td>\n",
              "      <td>2.50</td>\n",
              "      <td>3.65</td>\n",
              "      <td>2.60</td>\n",
              "      <td>2.67</td>\n",
              "      <td>3.69</td>\n",
              "      <td>2.66</td>\n",
              "      <td>2.50</td>\n",
              "      <td>3.60</td>\n",
              "      <td>2.60</td>\n",
              "      <td>2.50</td>\n",
              "      <td>3.60</td>\n",
              "      <td>2.55</td>\n",
              "      <td>2.69</td>\n",
              "      <td>3.96</td>\n",
              "      <td>2.70</td>\n",
              "      <td>2.58</td>\n",
              "      <td>3.72</td>\n",
              "      <td>2.62</td>\n",
              "      <td>1.57</td>\n",
              "      <td>2.37</td>\n",
              "      <td>1.63</td>\n",
              "      <td>2.41</td>\n",
              "      <td>1.67</td>\n",
              "      <td>2.49</td>\n",
              "      <td>1.60</td>\n",
              "      <td>2.38</td>\n",
              "      <td>0.00</td>\n",
              "      <td>1.93</td>\n",
              "      <td>1.97</td>\n",
              "      <td>1.96</td>\n",
              "      <td>1.96</td>\n",
              "      <td>1.98</td>\n",
              "      <td>2.03</td>\n",
              "      <td>1.92</td>\n",
              "      <td>1.96</td>\n",
              "      <td>2.50</td>\n",
              "      <td>3.75</td>\n",
              "      <td>2.60</td>\n",
              "      <td>2.50</td>\n",
              "      <td>3.70</td>\n",
              "      <td>2.60</td>\n",
              "      <td>2.60</td>\n",
              "      <td>3.45</td>\n",
              "      <td>2.70</td>\n",
              "      <td>2.58</td>\n",
              "      <td>3.84</td>\n",
              "      <td>2.67</td>\n",
              "      <td>2.50</td>\n",
              "      <td>3.6</td>\n",
              "      <td>2.60</td>\n",
              "      <td>2.45</td>\n",
              "      <td>3.60</td>\n",
              "      <td>2.60</td>\n",
              "      <td>2.63</td>\n",
              "      <td>3.86</td>\n",
              "      <td>2.80</td>\n",
              "      <td>2.53</td>\n",
              "      <td>3.75</td>\n",
              "      <td>2.67</td>\n",
              "      <td>1.53</td>\n",
              "      <td>2.50</td>\n",
              "      <td>1.58</td>\n",
              "      <td>2.53</td>\n",
              "      <td>1.58</td>\n",
              "      <td>2.66</td>\n",
              "      <td>1.54</td>\n",
              "      <td>2.51</td>\n",
              "      <td>0.00</td>\n",
              "      <td>1.91</td>\n",
              "      <td>1.99</td>\n",
              "      <td>1.93</td>\n",
              "      <td>1.99</td>\n",
              "      <td>1.96</td>\n",
              "      <td>2.03</td>\n",
              "      <td>1.89</td>\n",
              "      <td>1.98</td>\n",
              "    </tr>\n",
              "    <tr>\n",
              "      <th>5</th>\n",
              "      <td>30/10/2022</td>\n",
              "      <td>E0</td>\n",
              "      <td>14:00</td>\n",
              "      <td>Arsenal</td>\n",
              "      <td>Nott'm Forest</td>\n",
              "      <td>5</td>\n",
              "      <td>0</td>\n",
              "      <td>H</td>\n",
              "      <td>1</td>\n",
              "      <td>0</td>\n",
              "      <td>H</td>\n",
              "      <td>S Hooper</td>\n",
              "      <td>24</td>\n",
              "      <td>5</td>\n",
              "      <td>10</td>\n",
              "      <td>2</td>\n",
              "      <td>9</td>\n",
              "      <td>8</td>\n",
              "      <td>9</td>\n",
              "      <td>4</td>\n",
              "      <td>0</td>\n",
              "      <td>1</td>\n",
              "      <td>0</td>\n",
              "      <td>0</td>\n",
              "      <td>1.20</td>\n",
              "      <td>7.00</td>\n",
              "      <td>12.00</td>\n",
              "      <td>1.20</td>\n",
              "      <td>6.75</td>\n",
              "      <td>14.50</td>\n",
              "      <td>1.20</td>\n",
              "      <td>6.75</td>\n",
              "      <td>13.00</td>\n",
              "      <td>1.20</td>\n",
              "      <td>7.40</td>\n",
              "      <td>16.85</td>\n",
              "      <td>1.20</td>\n",
              "      <td>6.50</td>\n",
              "      <td>15.00</td>\n",
              "      <td>1.18</td>\n",
              "      <td>6.50</td>\n",
              "      <td>15.00</td>\n",
              "      <td>1.24</td>\n",
              "      <td>7.50</td>\n",
              "      <td>17.00</td>\n",
              "      <td>1.20</td>\n",
              "      <td>6.96</td>\n",
              "      <td>14.82</td>\n",
              "      <td>1.50</td>\n",
              "      <td>2.62</td>\n",
              "      <td>1.51</td>\n",
              "      <td>2.68</td>\n",
              "      <td>1.53</td>\n",
              "      <td>2.68</td>\n",
              "      <td>1.50</td>\n",
              "      <td>2.57</td>\n",
              "      <td>-2.00</td>\n",
              "      <td>2.04</td>\n",
              "      <td>1.86</td>\n",
              "      <td>2.02</td>\n",
              "      <td>1.89</td>\n",
              "      <td>2.06</td>\n",
              "      <td>1.89</td>\n",
              "      <td>2.01</td>\n",
              "      <td>1.85</td>\n",
              "      <td>1.22</td>\n",
              "      <td>6.50</td>\n",
              "      <td>13.00</td>\n",
              "      <td>1.22</td>\n",
              "      <td>6.75</td>\n",
              "      <td>12.50</td>\n",
              "      <td>1.25</td>\n",
              "      <td>6.25</td>\n",
              "      <td>12.00</td>\n",
              "      <td>1.22</td>\n",
              "      <td>7.25</td>\n",
              "      <td>13.50</td>\n",
              "      <td>1.22</td>\n",
              "      <td>6.0</td>\n",
              "      <td>13.00</td>\n",
              "      <td>1.18</td>\n",
              "      <td>6.50</td>\n",
              "      <td>15.00</td>\n",
              "      <td>1.25</td>\n",
              "      <td>7.40</td>\n",
              "      <td>16.00</td>\n",
              "      <td>1.22</td>\n",
              "      <td>6.73</td>\n",
              "      <td>13.37</td>\n",
              "      <td>1.53</td>\n",
              "      <td>2.50</td>\n",
              "      <td>1.55</td>\n",
              "      <td>2.56</td>\n",
              "      <td>1.58</td>\n",
              "      <td>2.66</td>\n",
              "      <td>1.53</td>\n",
              "      <td>2.49</td>\n",
              "      <td>-1.75</td>\n",
              "      <td>1.84</td>\n",
              "      <td>2.06</td>\n",
              "      <td>1.85</td>\n",
              "      <td>2.06</td>\n",
              "      <td>1.87</td>\n",
              "      <td>2.11</td>\n",
              "      <td>1.84</td>\n",
              "      <td>2.04</td>\n",
              "    </tr>\n",
              "    <tr>\n",
              "      <th>6</th>\n",
              "      <td>26/12/2022</td>\n",
              "      <td>E0</td>\n",
              "      <td>20:00</td>\n",
              "      <td>Arsenal</td>\n",
              "      <td>West Ham</td>\n",
              "      <td>3</td>\n",
              "      <td>1</td>\n",
              "      <td>H</td>\n",
              "      <td>0</td>\n",
              "      <td>1</td>\n",
              "      <td>A</td>\n",
              "      <td>M Oliver</td>\n",
              "      <td>16</td>\n",
              "      <td>8</td>\n",
              "      <td>5</td>\n",
              "      <td>4</td>\n",
              "      <td>13</td>\n",
              "      <td>17</td>\n",
              "      <td>7</td>\n",
              "      <td>5</td>\n",
              "      <td>0</td>\n",
              "      <td>2</td>\n",
              "      <td>0</td>\n",
              "      <td>0</td>\n",
              "      <td>1.50</td>\n",
              "      <td>4.33</td>\n",
              "      <td>6.50</td>\n",
              "      <td>1.50</td>\n",
              "      <td>4.33</td>\n",
              "      <td>6.25</td>\n",
              "      <td>1.53</td>\n",
              "      <td>4.40</td>\n",
              "      <td>6.00</td>\n",
              "      <td>1.52</td>\n",
              "      <td>4.48</td>\n",
              "      <td>6.85</td>\n",
              "      <td>1.47</td>\n",
              "      <td>4.33</td>\n",
              "      <td>6.50</td>\n",
              "      <td>1.50</td>\n",
              "      <td>4.10</td>\n",
              "      <td>6.50</td>\n",
              "      <td>1.55</td>\n",
              "      <td>4.70</td>\n",
              "      <td>7.10</td>\n",
              "      <td>1.51</td>\n",
              "      <td>4.39</td>\n",
              "      <td>6.52</td>\n",
              "      <td>1.73</td>\n",
              "      <td>2.10</td>\n",
              "      <td>1.79</td>\n",
              "      <td>2.12</td>\n",
              "      <td>1.85</td>\n",
              "      <td>2.16</td>\n",
              "      <td>1.77</td>\n",
              "      <td>2.07</td>\n",
              "      <td>-1.00</td>\n",
              "      <td>1.87</td>\n",
              "      <td>2.03</td>\n",
              "      <td>1.90</td>\n",
              "      <td>2.03</td>\n",
              "      <td>1.93</td>\n",
              "      <td>2.06</td>\n",
              "      <td>1.87</td>\n",
              "      <td>2.01</td>\n",
              "      <td>1.53</td>\n",
              "      <td>4.20</td>\n",
              "      <td>6.00</td>\n",
              "      <td>1.55</td>\n",
              "      <td>4.20</td>\n",
              "      <td>5.75</td>\n",
              "      <td>1.60</td>\n",
              "      <td>4.10</td>\n",
              "      <td>5.75</td>\n",
              "      <td>1.57</td>\n",
              "      <td>4.30</td>\n",
              "      <td>6.43</td>\n",
              "      <td>1.52</td>\n",
              "      <td>4.0</td>\n",
              "      <td>6.50</td>\n",
              "      <td>1.53</td>\n",
              "      <td>4.00</td>\n",
              "      <td>6.00</td>\n",
              "      <td>1.60</td>\n",
              "      <td>4.60</td>\n",
              "      <td>6.85</td>\n",
              "      <td>1.55</td>\n",
              "      <td>4.29</td>\n",
              "      <td>6.27</td>\n",
              "      <td>1.90</td>\n",
              "      <td>2.00</td>\n",
              "      <td>1.88</td>\n",
              "      <td>2.02</td>\n",
              "      <td>2.02</td>\n",
              "      <td>2.15</td>\n",
              "      <td>1.84</td>\n",
              "      <td>2.00</td>\n",
              "      <td>-1.00</td>\n",
              "      <td>1.99</td>\n",
              "      <td>1.91</td>\n",
              "      <td>1.99</td>\n",
              "      <td>1.93</td>\n",
              "      <td>2.01</td>\n",
              "      <td>2.01</td>\n",
              "      <td>1.95</td>\n",
              "      <td>1.93</td>\n",
              "    </tr>\n",
              "    <tr>\n",
              "      <th>7</th>\n",
              "      <td>03/01/2023</td>\n",
              "      <td>E0</td>\n",
              "      <td>19:45</td>\n",
              "      <td>Arsenal</td>\n",
              "      <td>Newcastle</td>\n",
              "      <td>0</td>\n",
              "      <td>0</td>\n",
              "      <td>D</td>\n",
              "      <td>0</td>\n",
              "      <td>0</td>\n",
              "      <td>D</td>\n",
              "      <td>A Madley</td>\n",
              "      <td>17</td>\n",
              "      <td>8</td>\n",
              "      <td>4</td>\n",
              "      <td>1</td>\n",
              "      <td>10</td>\n",
              "      <td>16</td>\n",
              "      <td>5</td>\n",
              "      <td>5</td>\n",
              "      <td>4</td>\n",
              "      <td>4</td>\n",
              "      <td>0</td>\n",
              "      <td>0</td>\n",
              "      <td>1.80</td>\n",
              "      <td>3.80</td>\n",
              "      <td>4.33</td>\n",
              "      <td>1.80</td>\n",
              "      <td>3.60</td>\n",
              "      <td>4.40</td>\n",
              "      <td>1.83</td>\n",
              "      <td>3.75</td>\n",
              "      <td>4.20</td>\n",
              "      <td>1.83</td>\n",
              "      <td>3.95</td>\n",
              "      <td>4.45</td>\n",
              "      <td>1.78</td>\n",
              "      <td>3.70</td>\n",
              "      <td>4.40</td>\n",
              "      <td>1.75</td>\n",
              "      <td>3.70</td>\n",
              "      <td>4.40</td>\n",
              "      <td>1.85</td>\n",
              "      <td>3.99</td>\n",
              "      <td>4.75</td>\n",
              "      <td>1.82</td>\n",
              "      <td>3.83</td>\n",
              "      <td>4.39</td>\n",
              "      <td>1.80</td>\n",
              "      <td>2.00</td>\n",
              "      <td>1.83</td>\n",
              "      <td>2.08</td>\n",
              "      <td>1.88</td>\n",
              "      <td>2.12</td>\n",
              "      <td>1.80</td>\n",
              "      <td>2.04</td>\n",
              "      <td>-0.75</td>\n",
              "      <td>2.04</td>\n",
              "      <td>1.86</td>\n",
              "      <td>2.07</td>\n",
              "      <td>1.86</td>\n",
              "      <td>2.07</td>\n",
              "      <td>1.89</td>\n",
              "      <td>2.04</td>\n",
              "      <td>1.84</td>\n",
              "      <td>1.73</td>\n",
              "      <td>3.80</td>\n",
              "      <td>4.75</td>\n",
              "      <td>1.77</td>\n",
              "      <td>3.80</td>\n",
              "      <td>4.40</td>\n",
              "      <td>1.77</td>\n",
              "      <td>3.80</td>\n",
              "      <td>4.40</td>\n",
              "      <td>1.78</td>\n",
              "      <td>3.91</td>\n",
              "      <td>4.88</td>\n",
              "      <td>1.73</td>\n",
              "      <td>3.7</td>\n",
              "      <td>4.75</td>\n",
              "      <td>1.70</td>\n",
              "      <td>3.70</td>\n",
              "      <td>4.75</td>\n",
              "      <td>1.81</td>\n",
              "      <td>4.00</td>\n",
              "      <td>5.05</td>\n",
              "      <td>1.77</td>\n",
              "      <td>3.88</td>\n",
              "      <td>4.73</td>\n",
              "      <td>1.91</td>\n",
              "      <td>1.99</td>\n",
              "      <td>1.91</td>\n",
              "      <td>1.99</td>\n",
              "      <td>1.95</td>\n",
              "      <td>2.07</td>\n",
              "      <td>1.86</td>\n",
              "      <td>1.98</td>\n",
              "      <td>-0.75</td>\n",
              "      <td>2.00</td>\n",
              "      <td>1.93</td>\n",
              "      <td>2.00</td>\n",
              "      <td>1.93</td>\n",
              "      <td>2.01</td>\n",
              "      <td>1.96</td>\n",
              "      <td>1.97</td>\n",
              "      <td>1.91</td>\n",
              "    </tr>\n",
              "    <tr>\n",
              "      <th>8</th>\n",
              "      <td>22/01/2023</td>\n",
              "      <td>E0</td>\n",
              "      <td>16:30</td>\n",
              "      <td>Arsenal</td>\n",
              "      <td>Man United</td>\n",
              "      <td>3</td>\n",
              "      <td>2</td>\n",
              "      <td>H</td>\n",
              "      <td>1</td>\n",
              "      <td>1</td>\n",
              "      <td>D</td>\n",
              "      <td>A Taylor</td>\n",
              "      <td>25</td>\n",
              "      <td>6</td>\n",
              "      <td>5</td>\n",
              "      <td>4</td>\n",
              "      <td>8</td>\n",
              "      <td>9</td>\n",
              "      <td>12</td>\n",
              "      <td>4</td>\n",
              "      <td>1</td>\n",
              "      <td>2</td>\n",
              "      <td>0</td>\n",
              "      <td>0</td>\n",
              "      <td>1.80</td>\n",
              "      <td>3.80</td>\n",
              "      <td>4.20</td>\n",
              "      <td>1.87</td>\n",
              "      <td>3.70</td>\n",
              "      <td>4.00</td>\n",
              "      <td>1.85</td>\n",
              "      <td>3.80</td>\n",
              "      <td>4.00</td>\n",
              "      <td>1.88</td>\n",
              "      <td>3.92</td>\n",
              "      <td>4.19</td>\n",
              "      <td>1.88</td>\n",
              "      <td>3.60</td>\n",
              "      <td>4.00</td>\n",
              "      <td>1.83</td>\n",
              "      <td>3.75</td>\n",
              "      <td>3.90</td>\n",
              "      <td>1.91</td>\n",
              "      <td>4.10</td>\n",
              "      <td>4.35</td>\n",
              "      <td>1.86</td>\n",
              "      <td>3.86</td>\n",
              "      <td>4.08</td>\n",
              "      <td>1.73</td>\n",
              "      <td>2.10</td>\n",
              "      <td>1.71</td>\n",
              "      <td>2.25</td>\n",
              "      <td>1.74</td>\n",
              "      <td>2.26</td>\n",
              "      <td>1.70</td>\n",
              "      <td>2.17</td>\n",
              "      <td>-0.50</td>\n",
              "      <td>1.86</td>\n",
              "      <td>2.04</td>\n",
              "      <td>1.88</td>\n",
              "      <td>2.05</td>\n",
              "      <td>1.90</td>\n",
              "      <td>2.09</td>\n",
              "      <td>1.86</td>\n",
              "      <td>2.02</td>\n",
              "      <td>1.83</td>\n",
              "      <td>3.75</td>\n",
              "      <td>4.20</td>\n",
              "      <td>1.83</td>\n",
              "      <td>3.70</td>\n",
              "      <td>4.20</td>\n",
              "      <td>1.90</td>\n",
              "      <td>3.65</td>\n",
              "      <td>3.95</td>\n",
              "      <td>1.86</td>\n",
              "      <td>3.90</td>\n",
              "      <td>4.34</td>\n",
              "      <td>1.85</td>\n",
              "      <td>3.6</td>\n",
              "      <td>4.20</td>\n",
              "      <td>1.83</td>\n",
              "      <td>3.75</td>\n",
              "      <td>3.90</td>\n",
              "      <td>1.94</td>\n",
              "      <td>3.95</td>\n",
              "      <td>4.40</td>\n",
              "      <td>1.87</td>\n",
              "      <td>3.79</td>\n",
              "      <td>4.19</td>\n",
              "      <td>1.73</td>\n",
              "      <td>2.10</td>\n",
              "      <td>1.72</td>\n",
              "      <td>2.22</td>\n",
              "      <td>1.81</td>\n",
              "      <td>2.22</td>\n",
              "      <td>1.76</td>\n",
              "      <td>2.09</td>\n",
              "      <td>-0.50</td>\n",
              "      <td>1.85</td>\n",
              "      <td>2.08</td>\n",
              "      <td>1.86</td>\n",
              "      <td>2.07</td>\n",
              "      <td>1.91</td>\n",
              "      <td>2.08</td>\n",
              "      <td>1.86</td>\n",
              "      <td>2.02</td>\n",
              "    </tr>\n",
              "    <tr>\n",
              "      <th>9</th>\n",
              "      <td>11/02/2023</td>\n",
              "      <td>E0</td>\n",
              "      <td>15:00</td>\n",
              "      <td>Arsenal</td>\n",
              "      <td>Brentford</td>\n",
              "      <td>1</td>\n",
              "      <td>1</td>\n",
              "      <td>D</td>\n",
              "      <td>0</td>\n",
              "      <td>0</td>\n",
              "      <td>D</td>\n",
              "      <td>P Bankes</td>\n",
              "      <td>23</td>\n",
              "      <td>9</td>\n",
              "      <td>7</td>\n",
              "      <td>2</td>\n",
              "      <td>9</td>\n",
              "      <td>9</td>\n",
              "      <td>7</td>\n",
              "      <td>4</td>\n",
              "      <td>0</td>\n",
              "      <td>2</td>\n",
              "      <td>0</td>\n",
              "      <td>0</td>\n",
              "      <td>1.44</td>\n",
              "      <td>4.75</td>\n",
              "      <td>7.00</td>\n",
              "      <td>1.43</td>\n",
              "      <td>4.50</td>\n",
              "      <td>7.50</td>\n",
              "      <td>1.45</td>\n",
              "      <td>4.60</td>\n",
              "      <td>7.00</td>\n",
              "      <td>1.47</td>\n",
              "      <td>4.77</td>\n",
              "      <td>7.32</td>\n",
              "      <td>1.42</td>\n",
              "      <td>4.50</td>\n",
              "      <td>7.50</td>\n",
              "      <td>1.40</td>\n",
              "      <td>4.50</td>\n",
              "      <td>7.50</td>\n",
              "      <td>1.49</td>\n",
              "      <td>4.90</td>\n",
              "      <td>8.00</td>\n",
              "      <td>1.45</td>\n",
              "      <td>4.72</td>\n",
              "      <td>7.52</td>\n",
              "      <td>1.73</td>\n",
              "      <td>2.10</td>\n",
              "      <td>1.76</td>\n",
              "      <td>2.18</td>\n",
              "      <td>1.78</td>\n",
              "      <td>2.21</td>\n",
              "      <td>1.73</td>\n",
              "      <td>2.14</td>\n",
              "      <td>-1.25</td>\n",
              "      <td>2.00</td>\n",
              "      <td>1.93</td>\n",
              "      <td>2.01</td>\n",
              "      <td>1.91</td>\n",
              "      <td>2.02</td>\n",
              "      <td>1.95</td>\n",
              "      <td>1.97</td>\n",
              "      <td>1.91</td>\n",
              "      <td>1.50</td>\n",
              "      <td>4.33</td>\n",
              "      <td>6.50</td>\n",
              "      <td>1.51</td>\n",
              "      <td>4.20</td>\n",
              "      <td>6.50</td>\n",
              "      <td>1.50</td>\n",
              "      <td>4.40</td>\n",
              "      <td>6.50</td>\n",
              "      <td>1.58</td>\n",
              "      <td>4.25</td>\n",
              "      <td>6.35</td>\n",
              "      <td>1.50</td>\n",
              "      <td>4.2</td>\n",
              "      <td>6.50</td>\n",
              "      <td>1.45</td>\n",
              "      <td>4.10</td>\n",
              "      <td>7.00</td>\n",
              "      <td>1.58</td>\n",
              "      <td>4.50</td>\n",
              "      <td>7.00</td>\n",
              "      <td>1.54</td>\n",
              "      <td>4.27</td>\n",
              "      <td>6.59</td>\n",
              "      <td>1.73</td>\n",
              "      <td>2.10</td>\n",
              "      <td>1.88</td>\n",
              "      <td>2.03</td>\n",
              "      <td>1.90</td>\n",
              "      <td>2.15</td>\n",
              "      <td>1.81</td>\n",
              "      <td>2.04</td>\n",
              "      <td>-1.00</td>\n",
              "      <td>1.84</td>\n",
              "      <td>2.09</td>\n",
              "      <td>1.91</td>\n",
              "      <td>2.01</td>\n",
              "      <td>1.91</td>\n",
              "      <td>2.09</td>\n",
              "      <td>1.86</td>\n",
              "      <td>2.02</td>\n",
              "    </tr>\n",
              "    <tr>\n",
              "      <th>10</th>\n",
              "      <td>15/02/2023</td>\n",
              "      <td>E0</td>\n",
              "      <td>19:30</td>\n",
              "      <td>Arsenal</td>\n",
              "      <td>Man City</td>\n",
              "      <td>1</td>\n",
              "      <td>3</td>\n",
              "      <td>A</td>\n",
              "      <td>1</td>\n",
              "      <td>1</td>\n",
              "      <td>D</td>\n",
              "      <td>A Taylor</td>\n",
              "      <td>10</td>\n",
              "      <td>9</td>\n",
              "      <td>1</td>\n",
              "      <td>6</td>\n",
              "      <td>11</td>\n",
              "      <td>15</td>\n",
              "      <td>1</td>\n",
              "      <td>3</td>\n",
              "      <td>2</td>\n",
              "      <td>3</td>\n",
              "      <td>0</td>\n",
              "      <td>0</td>\n",
              "      <td>2.90</td>\n",
              "      <td>3.50</td>\n",
              "      <td>2.35</td>\n",
              "      <td>2.85</td>\n",
              "      <td>3.40</td>\n",
              "      <td>2.40</td>\n",
              "      <td>2.90</td>\n",
              "      <td>3.30</td>\n",
              "      <td>2.45</td>\n",
              "      <td>2.95</td>\n",
              "      <td>3.60</td>\n",
              "      <td>2.46</td>\n",
              "      <td>2.88</td>\n",
              "      <td>3.40</td>\n",
              "      <td>2.40</td>\n",
              "      <td>2.88</td>\n",
              "      <td>3.30</td>\n",
              "      <td>2.30</td>\n",
              "      <td>3.04</td>\n",
              "      <td>3.65</td>\n",
              "      <td>2.51</td>\n",
              "      <td>2.93</td>\n",
              "      <td>3.51</td>\n",
              "      <td>2.42</td>\n",
              "      <td>1.88</td>\n",
              "      <td>2.02</td>\n",
              "      <td>1.89</td>\n",
              "      <td>2.02</td>\n",
              "      <td>1.94</td>\n",
              "      <td>2.05</td>\n",
              "      <td>1.85</td>\n",
              "      <td>1.99</td>\n",
              "      <td>0.25</td>\n",
              "      <td>1.83</td>\n",
              "      <td>2.10</td>\n",
              "      <td>1.81</td>\n",
              "      <td>2.13</td>\n",
              "      <td>1.85</td>\n",
              "      <td>2.13</td>\n",
              "      <td>1.81</td>\n",
              "      <td>2.08</td>\n",
              "      <td>3.20</td>\n",
              "      <td>3.40</td>\n",
              "      <td>2.25</td>\n",
              "      <td>3.10</td>\n",
              "      <td>3.30</td>\n",
              "      <td>2.25</td>\n",
              "      <td>3.05</td>\n",
              "      <td>3.40</td>\n",
              "      <td>2.30</td>\n",
              "      <td>3.36</td>\n",
              "      <td>3.52</td>\n",
              "      <td>2.27</td>\n",
              "      <td>3.30</td>\n",
              "      <td>3.2</td>\n",
              "      <td>2.25</td>\n",
              "      <td>3.10</td>\n",
              "      <td>3.25</td>\n",
              "      <td>2.20</td>\n",
              "      <td>3.58</td>\n",
              "      <td>3.64</td>\n",
              "      <td>2.38</td>\n",
              "      <td>3.23</td>\n",
              "      <td>3.43</td>\n",
              "      <td>2.29</td>\n",
              "      <td>1.93</td>\n",
              "      <td>1.97</td>\n",
              "      <td>1.92</td>\n",
              "      <td>1.98</td>\n",
              "      <td>2.02</td>\n",
              "      <td>2.03</td>\n",
              "      <td>1.93</td>\n",
              "      <td>1.92</td>\n",
              "      <td>0.25</td>\n",
              "      <td>1.94</td>\n",
              "      <td>1.99</td>\n",
              "      <td>1.97</td>\n",
              "      <td>1.95</td>\n",
              "      <td>1.97</td>\n",
              "      <td>2.02</td>\n",
              "      <td>1.91</td>\n",
              "      <td>1.96</td>\n",
              "    </tr>\n",
              "    <tr>\n",
              "      <th>11</th>\n",
              "      <td>01/03/2023</td>\n",
              "      <td>E0</td>\n",
              "      <td>19:45</td>\n",
              "      <td>Arsenal</td>\n",
              "      <td>Everton</td>\n",
              "      <td>4</td>\n",
              "      <td>0</td>\n",
              "      <td>H</td>\n",
              "      <td>2</td>\n",
              "      <td>0</td>\n",
              "      <td>H</td>\n",
              "      <td>M Oliver</td>\n",
              "      <td>15</td>\n",
              "      <td>8</td>\n",
              "      <td>5</td>\n",
              "      <td>5</td>\n",
              "      <td>5</td>\n",
              "      <td>12</td>\n",
              "      <td>5</td>\n",
              "      <td>1</td>\n",
              "      <td>0</td>\n",
              "      <td>2</td>\n",
              "      <td>0</td>\n",
              "      <td>0</td>\n",
              "      <td>1.36</td>\n",
              "      <td>4.75</td>\n",
              "      <td>10.00</td>\n",
              "      <td>1.34</td>\n",
              "      <td>5.00</td>\n",
              "      <td>9.25</td>\n",
              "      <td>1.35</td>\n",
              "      <td>5.00</td>\n",
              "      <td>8.75</td>\n",
              "      <td>1.38</td>\n",
              "      <td>5.01</td>\n",
              "      <td>9.10</td>\n",
              "      <td>1.32</td>\n",
              "      <td>5.00</td>\n",
              "      <td>9.50</td>\n",
              "      <td>1.30</td>\n",
              "      <td>4.60</td>\n",
              "      <td>9.50</td>\n",
              "      <td>1.40</td>\n",
              "      <td>5.40</td>\n",
              "      <td>10.00</td>\n",
              "      <td>1.36</td>\n",
              "      <td>5.04</td>\n",
              "      <td>9.33</td>\n",
              "      <td>1.85</td>\n",
              "      <td>2.05</td>\n",
              "      <td>1.86</td>\n",
              "      <td>2.04</td>\n",
              "      <td>1.88</td>\n",
              "      <td>2.08</td>\n",
              "      <td>1.82</td>\n",
              "      <td>2.02</td>\n",
              "      <td>-1.25</td>\n",
              "      <td>1.83</td>\n",
              "      <td>2.07</td>\n",
              "      <td>1.84</td>\n",
              "      <td>2.08</td>\n",
              "      <td>1.86</td>\n",
              "      <td>2.14</td>\n",
              "      <td>1.82</td>\n",
              "      <td>2.07</td>\n",
              "      <td>1.30</td>\n",
              "      <td>5.00</td>\n",
              "      <td>11.00</td>\n",
              "      <td>1.31</td>\n",
              "      <td>5.25</td>\n",
              "      <td>11.00</td>\n",
              "      <td>1.33</td>\n",
              "      <td>5.25</td>\n",
              "      <td>10.00</td>\n",
              "      <td>1.34</td>\n",
              "      <td>5.21</td>\n",
              "      <td>10.65</td>\n",
              "      <td>1.29</td>\n",
              "      <td>5.0</td>\n",
              "      <td>12.00</td>\n",
              "      <td>1.25</td>\n",
              "      <td>5.00</td>\n",
              "      <td>11.50</td>\n",
              "      <td>1.36</td>\n",
              "      <td>5.40</td>\n",
              "      <td>12.30</td>\n",
              "      <td>1.32</td>\n",
              "      <td>5.20</td>\n",
              "      <td>11.22</td>\n",
              "      <td>1.90</td>\n",
              "      <td>2.00</td>\n",
              "      <td>1.85</td>\n",
              "      <td>2.07</td>\n",
              "      <td>1.90</td>\n",
              "      <td>2.10</td>\n",
              "      <td>1.84</td>\n",
              "      <td>2.00</td>\n",
              "      <td>-1.50</td>\n",
              "      <td>2.01</td>\n",
              "      <td>1.92</td>\n",
              "      <td>1.98</td>\n",
              "      <td>1.94</td>\n",
              "      <td>2.01</td>\n",
              "      <td>1.98</td>\n",
              "      <td>1.96</td>\n",
              "      <td>1.92</td>\n",
              "    </tr>\n",
              "    <tr>\n",
              "      <th>12</th>\n",
              "      <td>04/03/2023</td>\n",
              "      <td>E0</td>\n",
              "      <td>15:00</td>\n",
              "      <td>Arsenal</td>\n",
              "      <td>Bournemouth</td>\n",
              "      <td>3</td>\n",
              "      <td>2</td>\n",
              "      <td>H</td>\n",
              "      <td>0</td>\n",
              "      <td>1</td>\n",
              "      <td>A</td>\n",
              "      <td>C Kavanagh</td>\n",
              "      <td>31</td>\n",
              "      <td>4</td>\n",
              "      <td>9</td>\n",
              "      <td>4</td>\n",
              "      <td>6</td>\n",
              "      <td>8</td>\n",
              "      <td>17</td>\n",
              "      <td>1</td>\n",
              "      <td>0</td>\n",
              "      <td>2</td>\n",
              "      <td>0</td>\n",
              "      <td>0</td>\n",
              "      <td>1.22</td>\n",
              "      <td>7.00</td>\n",
              "      <td>12.00</td>\n",
              "      <td>1.21</td>\n",
              "      <td>6.50</td>\n",
              "      <td>14.00</td>\n",
              "      <td>1.22</td>\n",
              "      <td>6.75</td>\n",
              "      <td>14.00</td>\n",
              "      <td>1.22</td>\n",
              "      <td>6.83</td>\n",
              "      <td>13.69</td>\n",
              "      <td>1.20</td>\n",
              "      <td>6.50</td>\n",
              "      <td>13.00</td>\n",
              "      <td>1.17</td>\n",
              "      <td>6.00</td>\n",
              "      <td>15.00</td>\n",
              "      <td>1.24</td>\n",
              "      <td>7.30</td>\n",
              "      <td>15.00</td>\n",
              "      <td>1.22</td>\n",
              "      <td>6.82</td>\n",
              "      <td>13.83</td>\n",
              "      <td>1.57</td>\n",
              "      <td>2.38</td>\n",
              "      <td>1.58</td>\n",
              "      <td>2.47</td>\n",
              "      <td>1.64</td>\n",
              "      <td>2.52</td>\n",
              "      <td>1.58</td>\n",
              "      <td>2.41</td>\n",
              "      <td>-1.75</td>\n",
              "      <td>1.75</td>\n",
              "      <td>2.05</td>\n",
              "      <td>1.83</td>\n",
              "      <td>2.07</td>\n",
              "      <td>1.89</td>\n",
              "      <td>2.14</td>\n",
              "      <td>1.82</td>\n",
              "      <td>2.06</td>\n",
              "      <td>1.20</td>\n",
              "      <td>6.50</td>\n",
              "      <td>12.00</td>\n",
              "      <td>1.22</td>\n",
              "      <td>6.50</td>\n",
              "      <td>13.00</td>\n",
              "      <td>1.22</td>\n",
              "      <td>6.50</td>\n",
              "      <td>13.00</td>\n",
              "      <td>1.23</td>\n",
              "      <td>6.75</td>\n",
              "      <td>14.00</td>\n",
              "      <td>1.20</td>\n",
              "      <td>6.5</td>\n",
              "      <td>13.00</td>\n",
              "      <td>1.17</td>\n",
              "      <td>6.50</td>\n",
              "      <td>13.00</td>\n",
              "      <td>1.25</td>\n",
              "      <td>7.20</td>\n",
              "      <td>16.56</td>\n",
              "      <td>1.22</td>\n",
              "      <td>6.78</td>\n",
              "      <td>13.69</td>\n",
              "      <td>1.53</td>\n",
              "      <td>2.50</td>\n",
              "      <td>1.57</td>\n",
              "      <td>2.48</td>\n",
              "      <td>1.60</td>\n",
              "      <td>2.58</td>\n",
              "      <td>1.54</td>\n",
              "      <td>2.49</td>\n",
              "      <td>-2.00</td>\n",
              "      <td>2.02</td>\n",
              "      <td>1.77</td>\n",
              "      <td>2.14</td>\n",
              "      <td>1.78</td>\n",
              "      <td>2.15</td>\n",
              "      <td>1.94</td>\n",
              "      <td>2.08</td>\n",
              "      <td>1.81</td>\n",
              "    </tr>\n",
              "    <tr>\n",
              "      <th>13</th>\n",
              "      <td>19/03/2023</td>\n",
              "      <td>E0</td>\n",
              "      <td>14:00</td>\n",
              "      <td>Arsenal</td>\n",
              "      <td>Crystal Palace</td>\n",
              "      <td>4</td>\n",
              "      <td>1</td>\n",
              "      <td>H</td>\n",
              "      <td>2</td>\n",
              "      <td>0</td>\n",
              "      <td>H</td>\n",
              "      <td>S Attwell</td>\n",
              "      <td>15</td>\n",
              "      <td>8</td>\n",
              "      <td>5</td>\n",
              "      <td>4</td>\n",
              "      <td>8</td>\n",
              "      <td>10</td>\n",
              "      <td>5</td>\n",
              "      <td>4</td>\n",
              "      <td>0</td>\n",
              "      <td>1</td>\n",
              "      <td>0</td>\n",
              "      <td>0</td>\n",
              "      <td>1.25</td>\n",
              "      <td>5.50</td>\n",
              "      <td>15.00</td>\n",
              "      <td>1.26</td>\n",
              "      <td>5.75</td>\n",
              "      <td>12.00</td>\n",
              "      <td>1.25</td>\n",
              "      <td>5.75</td>\n",
              "      <td>12.00</td>\n",
              "      <td>1.26</td>\n",
              "      <td>6.02</td>\n",
              "      <td>12.73</td>\n",
              "      <td>1.24</td>\n",
              "      <td>5.50</td>\n",
              "      <td>15.00</td>\n",
              "      <td>1.22</td>\n",
              "      <td>5.75</td>\n",
              "      <td>13.00</td>\n",
              "      <td>1.29</td>\n",
              "      <td>6.42</td>\n",
              "      <td>15.50</td>\n",
              "      <td>1.26</td>\n",
              "      <td>5.93</td>\n",
              "      <td>12.83</td>\n",
              "      <td>1.73</td>\n",
              "      <td>2.10</td>\n",
              "      <td>1.71</td>\n",
              "      <td>2.20</td>\n",
              "      <td>1.79</td>\n",
              "      <td>2.25</td>\n",
              "      <td>1.73</td>\n",
              "      <td>2.14</td>\n",
              "      <td>-1.50</td>\n",
              "      <td>1.77</td>\n",
              "      <td>2.02</td>\n",
              "      <td>1.81</td>\n",
              "      <td>2.08</td>\n",
              "      <td>1.86</td>\n",
              "      <td>2.15</td>\n",
              "      <td>1.81</td>\n",
              "      <td>2.07</td>\n",
              "      <td>1.25</td>\n",
              "      <td>5.50</td>\n",
              "      <td>11.00</td>\n",
              "      <td>1.27</td>\n",
              "      <td>5.75</td>\n",
              "      <td>11.00</td>\n",
              "      <td>1.27</td>\n",
              "      <td>5.75</td>\n",
              "      <td>12.00</td>\n",
              "      <td>1.27</td>\n",
              "      <td>6.12</td>\n",
              "      <td>12.21</td>\n",
              "      <td>1.25</td>\n",
              "      <td>5.5</td>\n",
              "      <td>13.00</td>\n",
              "      <td>1.22</td>\n",
              "      <td>5.75</td>\n",
              "      <td>13.00</td>\n",
              "      <td>1.31</td>\n",
              "      <td>6.39</td>\n",
              "      <td>14.00</td>\n",
              "      <td>1.26</td>\n",
              "      <td>5.86</td>\n",
              "      <td>12.05</td>\n",
              "      <td>1.67</td>\n",
              "      <td>2.20</td>\n",
              "      <td>1.72</td>\n",
              "      <td>2.20</td>\n",
              "      <td>1.77</td>\n",
              "      <td>2.34</td>\n",
              "      <td>1.68</td>\n",
              "      <td>2.19</td>\n",
              "      <td>-1.50</td>\n",
              "      <td>1.77</td>\n",
              "      <td>2.02</td>\n",
              "      <td>1.83</td>\n",
              "      <td>2.07</td>\n",
              "      <td>1.90</td>\n",
              "      <td>2.14</td>\n",
              "      <td>1.81</td>\n",
              "      <td>2.07</td>\n",
              "    </tr>\n",
              "    <tr>\n",
              "      <th>14</th>\n",
              "      <td>01/04/2023</td>\n",
              "      <td>E0</td>\n",
              "      <td>15:00</td>\n",
              "      <td>Arsenal</td>\n",
              "      <td>Leeds</td>\n",
              "      <td>4</td>\n",
              "      <td>1</td>\n",
              "      <td>H</td>\n",
              "      <td>1</td>\n",
              "      <td>0</td>\n",
              "      <td>H</td>\n",
              "      <td>D England</td>\n",
              "      <td>13</td>\n",
              "      <td>7</td>\n",
              "      <td>6</td>\n",
              "      <td>5</td>\n",
              "      <td>11</td>\n",
              "      <td>13</td>\n",
              "      <td>4</td>\n",
              "      <td>3</td>\n",
              "      <td>0</td>\n",
              "      <td>2</td>\n",
              "      <td>0</td>\n",
              "      <td>0</td>\n",
              "      <td>1.29</td>\n",
              "      <td>6.00</td>\n",
              "      <td>9.00</td>\n",
              "      <td>1.29</td>\n",
              "      <td>5.75</td>\n",
              "      <td>10.00</td>\n",
              "      <td>1.30</td>\n",
              "      <td>5.75</td>\n",
              "      <td>10.00</td>\n",
              "      <td>1.29</td>\n",
              "      <td>5.97</td>\n",
              "      <td>10.92</td>\n",
              "      <td>1.27</td>\n",
              "      <td>5.50</td>\n",
              "      <td>11.00</td>\n",
              "      <td>1.25</td>\n",
              "      <td>5.75</td>\n",
              "      <td>11.00</td>\n",
              "      <td>1.31</td>\n",
              "      <td>6.25</td>\n",
              "      <td>12.00</td>\n",
              "      <td>1.29</td>\n",
              "      <td>5.84</td>\n",
              "      <td>10.48</td>\n",
              "      <td>1.53</td>\n",
              "      <td>2.50</td>\n",
              "      <td>1.55</td>\n",
              "      <td>2.58</td>\n",
              "      <td>1.57</td>\n",
              "      <td>2.58</td>\n",
              "      <td>1.53</td>\n",
              "      <td>2.51</td>\n",
              "      <td>-1.50</td>\n",
              "      <td>1.84</td>\n",
              "      <td>2.06</td>\n",
              "      <td>1.85</td>\n",
              "      <td>2.06</td>\n",
              "      <td>1.88</td>\n",
              "      <td>2.08</td>\n",
              "      <td>1.83</td>\n",
              "      <td>2.04</td>\n",
              "      <td>1.25</td>\n",
              "      <td>6.50</td>\n",
              "      <td>9.50</td>\n",
              "      <td>1.27</td>\n",
              "      <td>6.00</td>\n",
              "      <td>10.50</td>\n",
              "      <td>1.30</td>\n",
              "      <td>5.75</td>\n",
              "      <td>10.00</td>\n",
              "      <td>1.27</td>\n",
              "      <td>6.75</td>\n",
              "      <td>10.50</td>\n",
              "      <td>1.24</td>\n",
              "      <td>6.0</td>\n",
              "      <td>11.00</td>\n",
              "      <td>1.25</td>\n",
              "      <td>6.00</td>\n",
              "      <td>12.00</td>\n",
              "      <td>1.32</td>\n",
              "      <td>6.75</td>\n",
              "      <td>12.50</td>\n",
              "      <td>1.27</td>\n",
              "      <td>6.30</td>\n",
              "      <td>10.67</td>\n",
              "      <td>1.44</td>\n",
              "      <td>2.75</td>\n",
              "      <td>1.45</td>\n",
              "      <td>2.83</td>\n",
              "      <td>1.57</td>\n",
              "      <td>2.83</td>\n",
              "      <td>1.47</td>\n",
              "      <td>2.68</td>\n",
              "      <td>-1.75</td>\n",
              "      <td>1.98</td>\n",
              "      <td>1.92</td>\n",
              "      <td>1.99</td>\n",
              "      <td>1.92</td>\n",
              "      <td>2.08</td>\n",
              "      <td>1.97</td>\n",
              "      <td>1.95</td>\n",
              "      <td>1.90</td>\n",
              "    </tr>\n",
              "    <tr>\n",
              "      <th>15</th>\n",
              "      <td>21/04/2023</td>\n",
              "      <td>E0</td>\n",
              "      <td>20:00</td>\n",
              "      <td>Arsenal</td>\n",
              "      <td>Southampton</td>\n",
              "      <td>3</td>\n",
              "      <td>3</td>\n",
              "      <td>D</td>\n",
              "      <td>1</td>\n",
              "      <td>2</td>\n",
              "      <td>A</td>\n",
              "      <td>S Hooper</td>\n",
              "      <td>25</td>\n",
              "      <td>8</td>\n",
              "      <td>6</td>\n",
              "      <td>6</td>\n",
              "      <td>10</td>\n",
              "      <td>14</td>\n",
              "      <td>7</td>\n",
              "      <td>2</td>\n",
              "      <td>1</td>\n",
              "      <td>5</td>\n",
              "      <td>0</td>\n",
              "      <td>0</td>\n",
              "      <td>1.20</td>\n",
              "      <td>7.00</td>\n",
              "      <td>13.00</td>\n",
              "      <td>1.20</td>\n",
              "      <td>7.00</td>\n",
              "      <td>14.00</td>\n",
              "      <td>1.22</td>\n",
              "      <td>6.75</td>\n",
              "      <td>13.00</td>\n",
              "      <td>1.21</td>\n",
              "      <td>7.62</td>\n",
              "      <td>14.32</td>\n",
              "      <td>1.18</td>\n",
              "      <td>7.00</td>\n",
              "      <td>15.00</td>\n",
              "      <td>1.18</td>\n",
              "      <td>7.00</td>\n",
              "      <td>17.00</td>\n",
              "      <td>1.23</td>\n",
              "      <td>7.90</td>\n",
              "      <td>17.00</td>\n",
              "      <td>1.20</td>\n",
              "      <td>7.18</td>\n",
              "      <td>14.72</td>\n",
              "      <td>1.50</td>\n",
              "      <td>2.63</td>\n",
              "      <td>1.53</td>\n",
              "      <td>2.60</td>\n",
              "      <td>1.55</td>\n",
              "      <td>2.70</td>\n",
              "      <td>1.51</td>\n",
              "      <td>2.58</td>\n",
              "      <td>-2.00</td>\n",
              "      <td>2.05</td>\n",
              "      <td>1.88</td>\n",
              "      <td>2.06</td>\n",
              "      <td>1.86</td>\n",
              "      <td>2.08</td>\n",
              "      <td>1.95</td>\n",
              "      <td>2.00</td>\n",
              "      <td>1.86</td>\n",
              "      <td>1.20</td>\n",
              "      <td>7.00</td>\n",
              "      <td>12.00</td>\n",
              "      <td>1.22</td>\n",
              "      <td>6.75</td>\n",
              "      <td>12.50</td>\n",
              "      <td>1.22</td>\n",
              "      <td>6.50</td>\n",
              "      <td>13.00</td>\n",
              "      <td>1.22</td>\n",
              "      <td>7.26</td>\n",
              "      <td>14.16</td>\n",
              "      <td>1.20</td>\n",
              "      <td>6.5</td>\n",
              "      <td>13.00</td>\n",
              "      <td>1.20</td>\n",
              "      <td>7.00</td>\n",
              "      <td>13.00</td>\n",
              "      <td>1.23</td>\n",
              "      <td>7.70</td>\n",
              "      <td>16.00</td>\n",
              "      <td>1.21</td>\n",
              "      <td>7.08</td>\n",
              "      <td>13.90</td>\n",
              "      <td>1.53</td>\n",
              "      <td>2.50</td>\n",
              "      <td>1.57</td>\n",
              "      <td>2.52</td>\n",
              "      <td>1.57</td>\n",
              "      <td>2.69</td>\n",
              "      <td>1.53</td>\n",
              "      <td>2.54</td>\n",
              "      <td>-2.00</td>\n",
              "      <td>2.10</td>\n",
              "      <td>1.83</td>\n",
              "      <td>2.13</td>\n",
              "      <td>1.79</td>\n",
              "      <td>2.17</td>\n",
              "      <td>1.95</td>\n",
              "      <td>2.05</td>\n",
              "      <td>1.82</td>\n",
              "    </tr>\n",
              "    <tr>\n",
              "      <th>16</th>\n",
              "      <td>02/05/2023</td>\n",
              "      <td>E0</td>\n",
              "      <td>20:00</td>\n",
              "      <td>Arsenal</td>\n",
              "      <td>Chelsea</td>\n",
              "      <td>3</td>\n",
              "      <td>1</td>\n",
              "      <td>H</td>\n",
              "      <td>3</td>\n",
              "      <td>0</td>\n",
              "      <td>H</td>\n",
              "      <td>R Jones</td>\n",
              "      <td>16</td>\n",
              "      <td>7</td>\n",
              "      <td>10</td>\n",
              "      <td>4</td>\n",
              "      <td>10</td>\n",
              "      <td>10</td>\n",
              "      <td>7</td>\n",
              "      <td>2</td>\n",
              "      <td>0</td>\n",
              "      <td>2</td>\n",
              "      <td>0</td>\n",
              "      <td>0</td>\n",
              "      <td>1.60</td>\n",
              "      <td>4.00</td>\n",
              "      <td>5.50</td>\n",
              "      <td>1.60</td>\n",
              "      <td>4.10</td>\n",
              "      <td>5.50</td>\n",
              "      <td>1.60</td>\n",
              "      <td>4.20</td>\n",
              "      <td>5.50</td>\n",
              "      <td>1.59</td>\n",
              "      <td>4.32</td>\n",
              "      <td>5.96</td>\n",
              "      <td>1.57</td>\n",
              "      <td>4.00</td>\n",
              "      <td>5.80</td>\n",
              "      <td>1.55</td>\n",
              "      <td>4.20</td>\n",
              "      <td>6.00</td>\n",
              "      <td>1.64</td>\n",
              "      <td>4.40</td>\n",
              "      <td>6.10</td>\n",
              "      <td>1.59</td>\n",
              "      <td>4.22</td>\n",
              "      <td>5.75</td>\n",
              "      <td>1.73</td>\n",
              "      <td>2.10</td>\n",
              "      <td>1.78</td>\n",
              "      <td>2.14</td>\n",
              "      <td>1.82</td>\n",
              "      <td>2.17</td>\n",
              "      <td>1.75</td>\n",
              "      <td>2.10</td>\n",
              "      <td>-1.00</td>\n",
              "      <td>2.01</td>\n",
              "      <td>1.92</td>\n",
              "      <td>2.00</td>\n",
              "      <td>1.93</td>\n",
              "      <td>2.03</td>\n",
              "      <td>1.93</td>\n",
              "      <td>1.98</td>\n",
              "      <td>1.89</td>\n",
              "      <td>1.57</td>\n",
              "      <td>4.33</td>\n",
              "      <td>5.50</td>\n",
              "      <td>1.60</td>\n",
              "      <td>4.10</td>\n",
              "      <td>5.50</td>\n",
              "      <td>1.60</td>\n",
              "      <td>4.30</td>\n",
              "      <td>5.25</td>\n",
              "      <td>1.63</td>\n",
              "      <td>4.17</td>\n",
              "      <td>5.71</td>\n",
              "      <td>1.57</td>\n",
              "      <td>4.2</td>\n",
              "      <td>5.50</td>\n",
              "      <td>1.60</td>\n",
              "      <td>4.00</td>\n",
              "      <td>5.75</td>\n",
              "      <td>1.66</td>\n",
              "      <td>4.50</td>\n",
              "      <td>5.90</td>\n",
              "      <td>1.61</td>\n",
              "      <td>4.23</td>\n",
              "      <td>5.54</td>\n",
              "      <td>1.67</td>\n",
              "      <td>2.20</td>\n",
              "      <td>1.81</td>\n",
              "      <td>2.09</td>\n",
              "      <td>1.88</td>\n",
              "      <td>2.37</td>\n",
              "      <td>1.72</td>\n",
              "      <td>2.15</td>\n",
              "      <td>-1.00</td>\n",
              "      <td>2.06</td>\n",
              "      <td>1.87</td>\n",
              "      <td>2.09</td>\n",
              "      <td>1.85</td>\n",
              "      <td>2.17</td>\n",
              "      <td>1.95</td>\n",
              "      <td>2.01</td>\n",
              "      <td>1.86</td>\n",
              "    </tr>\n",
              "    <tr>\n",
              "      <th>17</th>\n",
              "      <td>14/05/2023</td>\n",
              "      <td>E0</td>\n",
              "      <td>16:30</td>\n",
              "      <td>Arsenal</td>\n",
              "      <td>Brighton</td>\n",
              "      <td>0</td>\n",
              "      <td>3</td>\n",
              "      <td>A</td>\n",
              "      <td>0</td>\n",
              "      <td>0</td>\n",
              "      <td>D</td>\n",
              "      <td>A Madley</td>\n",
              "      <td>14</td>\n",
              "      <td>12</td>\n",
              "      <td>2</td>\n",
              "      <td>6</td>\n",
              "      <td>13</td>\n",
              "      <td>17</td>\n",
              "      <td>5</td>\n",
              "      <td>2</td>\n",
              "      <td>1</td>\n",
              "      <td>2</td>\n",
              "      <td>0</td>\n",
              "      <td>0</td>\n",
              "      <td>1.73</td>\n",
              "      <td>4.20</td>\n",
              "      <td>4.20</td>\n",
              "      <td>1.77</td>\n",
              "      <td>4.00</td>\n",
              "      <td>4.10</td>\n",
              "      <td>1.75</td>\n",
              "      <td>4.00</td>\n",
              "      <td>4.30</td>\n",
              "      <td>1.78</td>\n",
              "      <td>4.36</td>\n",
              "      <td>4.21</td>\n",
              "      <td>1.73</td>\n",
              "      <td>4.00</td>\n",
              "      <td>4.33</td>\n",
              "      <td>1.73</td>\n",
              "      <td>4.00</td>\n",
              "      <td>4.20</td>\n",
              "      <td>1.81</td>\n",
              "      <td>4.50</td>\n",
              "      <td>4.35</td>\n",
              "      <td>1.77</td>\n",
              "      <td>4.19</td>\n",
              "      <td>4.21</td>\n",
              "      <td>1.53</td>\n",
              "      <td>2.50</td>\n",
              "      <td>1.53</td>\n",
              "      <td>2.62</td>\n",
              "      <td>1.56</td>\n",
              "      <td>2.63</td>\n",
              "      <td>1.53</td>\n",
              "      <td>2.51</td>\n",
              "      <td>-0.75</td>\n",
              "      <td>1.98</td>\n",
              "      <td>1.92</td>\n",
              "      <td>1.98</td>\n",
              "      <td>1.93</td>\n",
              "      <td>2.01</td>\n",
              "      <td>1.95</td>\n",
              "      <td>1.95</td>\n",
              "      <td>1.89</td>\n",
              "      <td>1.75</td>\n",
              "      <td>4.20</td>\n",
              "      <td>4.00</td>\n",
              "      <td>1.72</td>\n",
              "      <td>4.20</td>\n",
              "      <td>4.20</td>\n",
              "      <td>1.73</td>\n",
              "      <td>4.10</td>\n",
              "      <td>4.10</td>\n",
              "      <td>1.74</td>\n",
              "      <td>4.39</td>\n",
              "      <td>4.48</td>\n",
              "      <td>1.70</td>\n",
              "      <td>4.0</td>\n",
              "      <td>4.50</td>\n",
              "      <td>1.70</td>\n",
              "      <td>4.20</td>\n",
              "      <td>4.40</td>\n",
              "      <td>1.80</td>\n",
              "      <td>4.45</td>\n",
              "      <td>4.62</td>\n",
              "      <td>1.73</td>\n",
              "      <td>4.28</td>\n",
              "      <td>4.36</td>\n",
              "      <td>1.44</td>\n",
              "      <td>2.75</td>\n",
              "      <td>1.48</td>\n",
              "      <td>2.74</td>\n",
              "      <td>1.51</td>\n",
              "      <td>2.93</td>\n",
              "      <td>1.47</td>\n",
              "      <td>2.70</td>\n",
              "      <td>-0.75</td>\n",
              "      <td>1.94</td>\n",
              "      <td>1.99</td>\n",
              "      <td>1.93</td>\n",
              "      <td>2.00</td>\n",
              "      <td>2.00</td>\n",
              "      <td>2.09</td>\n",
              "      <td>1.90</td>\n",
              "      <td>1.95</td>\n",
              "    </tr>\n",
              "    <tr>\n",
              "      <th>18</th>\n",
              "      <td>28/05/2023</td>\n",
              "      <td>E0</td>\n",
              "      <td>16:30</td>\n",
              "      <td>Arsenal</td>\n",
              "      <td>Wolves</td>\n",
              "      <td>5</td>\n",
              "      <td>0</td>\n",
              "      <td>H</td>\n",
              "      <td>3</td>\n",
              "      <td>0</td>\n",
              "      <td>H</td>\n",
              "      <td>A Marriner</td>\n",
              "      <td>14</td>\n",
              "      <td>6</td>\n",
              "      <td>8</td>\n",
              "      <td>0</td>\n",
              "      <td>8</td>\n",
              "      <td>11</td>\n",
              "      <td>8</td>\n",
              "      <td>4</td>\n",
              "      <td>0</td>\n",
              "      <td>0</td>\n",
              "      <td>0</td>\n",
              "      <td>0</td>\n",
              "      <td>1.36</td>\n",
              "      <td>5.25</td>\n",
              "      <td>8.00</td>\n",
              "      <td>1.37</td>\n",
              "      <td>5.25</td>\n",
              "      <td>7.75</td>\n",
              "      <td>1.43</td>\n",
              "      <td>4.60</td>\n",
              "      <td>7.75</td>\n",
              "      <td>1.38</td>\n",
              "      <td>5.51</td>\n",
              "      <td>7.66</td>\n",
              "      <td>1.30</td>\n",
              "      <td>4.75</td>\n",
              "      <td>7.00</td>\n",
              "      <td>1.33</td>\n",
              "      <td>5.25</td>\n",
              "      <td>8.00</td>\n",
              "      <td>1.43</td>\n",
              "      <td>5.70</td>\n",
              "      <td>8.50</td>\n",
              "      <td>1.37</td>\n",
              "      <td>5.33</td>\n",
              "      <td>7.87</td>\n",
              "      <td>1.44</td>\n",
              "      <td>2.75</td>\n",
              "      <td>1.47</td>\n",
              "      <td>2.73</td>\n",
              "      <td>1.50</td>\n",
              "      <td>2.80</td>\n",
              "      <td>1.46</td>\n",
              "      <td>2.71</td>\n",
              "      <td>-1.50</td>\n",
              "      <td>2.01</td>\n",
              "      <td>1.89</td>\n",
              "      <td>2.02</td>\n",
              "      <td>1.88</td>\n",
              "      <td>2.10</td>\n",
              "      <td>1.93</td>\n",
              "      <td>1.99</td>\n",
              "      <td>1.87</td>\n",
              "      <td>1.29</td>\n",
              "      <td>6.00</td>\n",
              "      <td>10.00</td>\n",
              "      <td>1.28</td>\n",
              "      <td>6.00</td>\n",
              "      <td>9.50</td>\n",
              "      <td>1.30</td>\n",
              "      <td>5.75</td>\n",
              "      <td>9.50</td>\n",
              "      <td>1.28</td>\n",
              "      <td>6.28</td>\n",
              "      <td>9.77</td>\n",
              "      <td>1.25</td>\n",
              "      <td>5.0</td>\n",
              "      <td>8.00</td>\n",
              "      <td>1.25</td>\n",
              "      <td>6.00</td>\n",
              "      <td>12.00</td>\n",
              "      <td>1.33</td>\n",
              "      <td>6.60</td>\n",
              "      <td>12.00</td>\n",
              "      <td>1.29</td>\n",
              "      <td>6.18</td>\n",
              "      <td>9.86</td>\n",
              "      <td>1.36</td>\n",
              "      <td>3.20</td>\n",
              "      <td>1.37</td>\n",
              "      <td>3.14</td>\n",
              "      <td>1.41</td>\n",
              "      <td>3.25</td>\n",
              "      <td>1.38</td>\n",
              "      <td>3.09</td>\n",
              "      <td>-1.75</td>\n",
              "      <td>1.93</td>\n",
              "      <td>1.97</td>\n",
              "      <td>1.96</td>\n",
              "      <td>1.93</td>\n",
              "      <td>2.02</td>\n",
              "      <td>2.02</td>\n",
              "      <td>1.93</td>\n",
              "      <td>1.92</td>\n",
              "    </tr>\n",
              "  </tbody>\n",
              "</table>\n",
              "</div>"
            ],
            "text/plain": [
              "          Date Div   Time HomeTeam        AwayTeam  FTHG  FTAG FTR  HTHG  \\\n",
              "0   13/08/2022  E0  15:00  Arsenal       Leicester     4     2   H     2   \n",
              "1   27/08/2022  E0  17:30  Arsenal          Fulham     2     1   H     0   \n",
              "2   31/08/2022  E0  19:30  Arsenal     Aston Villa     2     1   H     1   \n",
              "3   01/10/2022  E0  12:30  Arsenal       Tottenham     3     1   H     1   \n",
              "4   09/10/2022  E0  16:30  Arsenal       Liverpool     3     2   H     2   \n",
              "5   30/10/2022  E0  14:00  Arsenal   Nott'm Forest     5     0   H     1   \n",
              "6   26/12/2022  E0  20:00  Arsenal        West Ham     3     1   H     0   \n",
              "7   03/01/2023  E0  19:45  Arsenal       Newcastle     0     0   D     0   \n",
              "8   22/01/2023  E0  16:30  Arsenal      Man United     3     2   H     1   \n",
              "9   11/02/2023  E0  15:00  Arsenal       Brentford     1     1   D     0   \n",
              "10  15/02/2023  E0  19:30  Arsenal        Man City     1     3   A     1   \n",
              "11  01/03/2023  E0  19:45  Arsenal         Everton     4     0   H     2   \n",
              "12  04/03/2023  E0  15:00  Arsenal     Bournemouth     3     2   H     0   \n",
              "13  19/03/2023  E0  14:00  Arsenal  Crystal Palace     4     1   H     2   \n",
              "14  01/04/2023  E0  15:00  Arsenal           Leeds     4     1   H     1   \n",
              "15  21/04/2023  E0  20:00  Arsenal     Southampton     3     3   D     1   \n",
              "16  02/05/2023  E0  20:00  Arsenal         Chelsea     3     1   H     3   \n",
              "17  14/05/2023  E0  16:30  Arsenal        Brighton     0     3   A     0   \n",
              "18  28/05/2023  E0  16:30  Arsenal          Wolves     5     0   H     3   \n",
              "\n",
              "    HTAG HTR     Referee  HS  AS  HST  AST  HF  AF  HC  AC  HY  AY  HR  AR  \\\n",
              "0      0   H   D England  19   6    7    2  15   9   6   2   1   1   0   0   \n",
              "1      0   D   J Gillett  22  11    8    3   6  12   9   2   2   3   0   0   \n",
              "2      0   H     R Jones  22   4    9    3  10  14  10   3   2   3   0   0   \n",
              "3      1   D    A Taylor  22   7    9    3  10  10   5   2   2   1   0   1   \n",
              "4      1   H    M Oliver  11   8    7    3  11  11   4   3   1   2   0   0   \n",
              "5      0   H    S Hooper  24   5   10    2   9   8   9   4   0   1   0   0   \n",
              "6      1   A    M Oliver  16   8    5    4  13  17   7   5   0   2   0   0   \n",
              "7      0   D    A Madley  17   8    4    1  10  16   5   5   4   4   0   0   \n",
              "8      1   D    A Taylor  25   6    5    4   8   9  12   4   1   2   0   0   \n",
              "9      0   D    P Bankes  23   9    7    2   9   9   7   4   0   2   0   0   \n",
              "10     1   D    A Taylor  10   9    1    6  11  15   1   3   2   3   0   0   \n",
              "11     0   H    M Oliver  15   8    5    5   5  12   5   1   0   2   0   0   \n",
              "12     1   A  C Kavanagh  31   4    9    4   6   8  17   1   0   2   0   0   \n",
              "13     0   H   S Attwell  15   8    5    4   8  10   5   4   0   1   0   0   \n",
              "14     0   H   D England  13   7    6    5  11  13   4   3   0   2   0   0   \n",
              "15     2   A    S Hooper  25   8    6    6  10  14   7   2   1   5   0   0   \n",
              "16     0   H     R Jones  16   7   10    4  10  10   7   2   0   2   0   0   \n",
              "17     0   D    A Madley  14  12    2    6  13  17   5   2   1   2   0   0   \n",
              "18     0   H  A Marriner  14   6    8    0   8  11   8   4   0   0   0   0   \n",
              "\n",
              "    B365H  B365D  B365A   BWH   BWD    BWA   IWH   IWD    IWA   PSH   PSD  \\\n",
              "0    1.53   4.33   5.75  1.52  4.40   6.00  1.53  4.40   5.75  1.58  4.34   \n",
              "1    1.30   5.75   9.00  1.30  5.75   9.25  1.35  5.25   8.25  1.33  5.83   \n",
              "2    1.45   4.50   6.00  1.46  4.50   7.00  1.47  4.60   6.75  1.50  4.67   \n",
              "3    2.05   3.75   3.30  2.05  3.70   3.40  2.10  3.70   3.30  2.13  3.65   \n",
              "4    2.50   3.60   2.62  2.50  3.70   2.55  2.50  3.65   2.60  2.67  3.69   \n",
              "5    1.20   7.00  12.00  1.20  6.75  14.50  1.20  6.75  13.00  1.20  7.40   \n",
              "6    1.50   4.33   6.50  1.50  4.33   6.25  1.53  4.40   6.00  1.52  4.48   \n",
              "7    1.80   3.80   4.33  1.80  3.60   4.40  1.83  3.75   4.20  1.83  3.95   \n",
              "8    1.80   3.80   4.20  1.87  3.70   4.00  1.85  3.80   4.00  1.88  3.92   \n",
              "9    1.44   4.75   7.00  1.43  4.50   7.50  1.45  4.60   7.00  1.47  4.77   \n",
              "10   2.90   3.50   2.35  2.85  3.40   2.40  2.90  3.30   2.45  2.95  3.60   \n",
              "11   1.36   4.75  10.00  1.34  5.00   9.25  1.35  5.00   8.75  1.38  5.01   \n",
              "12   1.22   7.00  12.00  1.21  6.50  14.00  1.22  6.75  14.00  1.22  6.83   \n",
              "13   1.25   5.50  15.00  1.26  5.75  12.00  1.25  5.75  12.00  1.26  6.02   \n",
              "14   1.29   6.00   9.00  1.29  5.75  10.00  1.30  5.75  10.00  1.29  5.97   \n",
              "15   1.20   7.00  13.00  1.20  7.00  14.00  1.22  6.75  13.00  1.21  7.62   \n",
              "16   1.60   4.00   5.50  1.60  4.10   5.50  1.60  4.20   5.50  1.59  4.32   \n",
              "17   1.73   4.20   4.20  1.77  4.00   4.10  1.75  4.00   4.30  1.78  4.36   \n",
              "18   1.36   5.25   8.00  1.37  5.25   7.75  1.43  4.60   7.75  1.38  5.51   \n",
              "\n",
              "      PSA   WHH   WHD    WHA   VCH   VCD    VCA  MaxH  MaxD   MaxA  AvgH  \\\n",
              "0    6.22  1.53  4.20   5.80  1.50  4.20   6.00  1.60  4.65   6.42  1.55   \n",
              "1    9.75  1.29  5.50   9.50  1.29  5.50  10.00  1.36  6.10  10.00  1.32   \n",
              "2    6.97  1.44  4.40   7.00  1.40  4.40   7.50  1.50  4.80   7.50  1.47   \n",
              "3    3.57  2.05  3.50   3.50  2.00  3.60   3.50  2.15  3.85   3.65  2.08   \n",
              "4    2.66  2.50  3.60   2.60  2.50  3.60   2.55  2.69  3.96   2.70  2.58   \n",
              "5   16.85  1.20  6.50  15.00  1.18  6.50  15.00  1.24  7.50  17.00  1.20   \n",
              "6    6.85  1.47  4.33   6.50  1.50  4.10   6.50  1.55  4.70   7.10  1.51   \n",
              "7    4.45  1.78  3.70   4.40  1.75  3.70   4.40  1.85  3.99   4.75  1.82   \n",
              "8    4.19  1.88  3.60   4.00  1.83  3.75   3.90  1.91  4.10   4.35  1.86   \n",
              "9    7.32  1.42  4.50   7.50  1.40  4.50   7.50  1.49  4.90   8.00  1.45   \n",
              "10   2.46  2.88  3.40   2.40  2.88  3.30   2.30  3.04  3.65   2.51  2.93   \n",
              "11   9.10  1.32  5.00   9.50  1.30  4.60   9.50  1.40  5.40  10.00  1.36   \n",
              "12  13.69  1.20  6.50  13.00  1.17  6.00  15.00  1.24  7.30  15.00  1.22   \n",
              "13  12.73  1.24  5.50  15.00  1.22  5.75  13.00  1.29  6.42  15.50  1.26   \n",
              "14  10.92  1.27  5.50  11.00  1.25  5.75  11.00  1.31  6.25  12.00  1.29   \n",
              "15  14.32  1.18  7.00  15.00  1.18  7.00  17.00  1.23  7.90  17.00  1.20   \n",
              "16   5.96  1.57  4.00   5.80  1.55  4.20   6.00  1.64  4.40   6.10  1.59   \n",
              "17   4.21  1.73  4.00   4.33  1.73  4.00   4.20  1.81  4.50   4.35  1.77   \n",
              "18   7.66  1.30  4.75   7.00  1.33  5.25   8.00  1.43  5.70   8.50  1.37   \n",
              "\n",
              "    AvgD   AvgA  B365>2.5  B365<2.5  P>2.5  P<2.5  Max>2.5  Max<2.5  Avg>2.5  \\\n",
              "0   4.37   6.04      1.66      2.20   1.71   2.25     1.76     2.30     1.69   \n",
              "1   5.77   9.44      1.50      2.62   1.52   2.66     1.54     2.75     1.49   \n",
              "2   4.63   7.00      1.72      2.10   1.78   2.15     1.82     2.17     1.75   \n",
              "3   3.70   3.48      1.72      2.10   1.76   2.18     1.77     2.28     1.71   \n",
              "4   3.72   2.62      1.57      2.37   1.63   2.41     1.67     2.49     1.60   \n",
              "5   6.96  14.82      1.50      2.62   1.51   2.68     1.53     2.68     1.50   \n",
              "6   4.39   6.52      1.73      2.10   1.79   2.12     1.85     2.16     1.77   \n",
              "7   3.83   4.39      1.80      2.00   1.83   2.08     1.88     2.12     1.80   \n",
              "8   3.86   4.08      1.73      2.10   1.71   2.25     1.74     2.26     1.70   \n",
              "9   4.72   7.52      1.73      2.10   1.76   2.18     1.78     2.21     1.73   \n",
              "10  3.51   2.42      1.88      2.02   1.89   2.02     1.94     2.05     1.85   \n",
              "11  5.04   9.33      1.85      2.05   1.86   2.04     1.88     2.08     1.82   \n",
              "12  6.82  13.83      1.57      2.38   1.58   2.47     1.64     2.52     1.58   \n",
              "13  5.93  12.83      1.73      2.10   1.71   2.20     1.79     2.25     1.73   \n",
              "14  5.84  10.48      1.53      2.50   1.55   2.58     1.57     2.58     1.53   \n",
              "15  7.18  14.72      1.50      2.63   1.53   2.60     1.55     2.70     1.51   \n",
              "16  4.22   5.75      1.73      2.10   1.78   2.14     1.82     2.17     1.75   \n",
              "17  4.19   4.21      1.53      2.50   1.53   2.62     1.56     2.63     1.53   \n",
              "18  5.33   7.87      1.44      2.75   1.47   2.73     1.50     2.80     1.46   \n",
              "\n",
              "    Avg<2.5   AHh  B365AHH  B365AHA  PAHH  PAHA  MaxAHH  MaxAHA  AvgAHH  \\\n",
              "0      2.21 -1.00     1.92     1.98  1.96  1.96    1.98    2.04    1.91   \n",
              "1      2.62 -1.50     1.87     2.03  1.88  2.05    1.91    2.07    1.86   \n",
              "2      2.11 -1.25     2.06     1.84  2.12  1.83    2.12    1.88    2.04   \n",
              "3      2.16 -0.50     2.06     1.84  2.12  1.81    2.12    1.87    2.06   \n",
              "4      2.38  0.00     1.93     1.97  1.96  1.96    1.98    2.03    1.92   \n",
              "5      2.57 -2.00     2.04     1.86  2.02  1.89    2.06    1.89    2.01   \n",
              "6      2.07 -1.00     1.87     2.03  1.90  2.03    1.93    2.06    1.87   \n",
              "7      2.04 -0.75     2.04     1.86  2.07  1.86    2.07    1.89    2.04   \n",
              "8      2.17 -0.50     1.86     2.04  1.88  2.05    1.90    2.09    1.86   \n",
              "9      2.14 -1.25     2.00     1.93  2.01  1.91    2.02    1.95    1.97   \n",
              "10     1.99  0.25     1.83     2.10  1.81  2.13    1.85    2.13    1.81   \n",
              "11     2.02 -1.25     1.83     2.07  1.84  2.08    1.86    2.14    1.82   \n",
              "12     2.41 -1.75     1.75     2.05  1.83  2.07    1.89    2.14    1.82   \n",
              "13     2.14 -1.50     1.77     2.02  1.81  2.08    1.86    2.15    1.81   \n",
              "14     2.51 -1.50     1.84     2.06  1.85  2.06    1.88    2.08    1.83   \n",
              "15     2.58 -2.00     2.05     1.88  2.06  1.86    2.08    1.95    2.00   \n",
              "16     2.10 -1.00     2.01     1.92  2.00  1.93    2.03    1.93    1.98   \n",
              "17     2.51 -0.75     1.98     1.92  1.98  1.93    2.01    1.95    1.95   \n",
              "18     2.71 -1.50     2.01     1.89  2.02  1.88    2.10    1.93    1.99   \n",
              "\n",
              "    AvgAHA  B365CH  B365CD  B365CA  BWCH  BWCD   BWCA  IWCH  IWCD   IWCA  \\\n",
              "0     1.96    1.55    4.33    5.50  1.57  4.33   5.50  1.53  4.20   6.25   \n",
              "1     2.01    1.40    5.50    6.50  1.39  5.00   7.25  1.40  5.50   7.00   \n",
              "2     1.84    1.50    4.50    6.00  1.53  4.20   6.00  1.53  4.40   5.75   \n",
              "3     1.82    1.95    3.80    3.80  2.00  3.60   3.50  1.97  3.70   3.65   \n",
              "4     1.96    2.50    3.75    2.60  2.50  3.70   2.60  2.60  3.45   2.70   \n",
              "5     1.85    1.22    6.50   13.00  1.22  6.75  12.50  1.25  6.25  12.00   \n",
              "6     2.01    1.53    4.20    6.00  1.55  4.20   5.75  1.60  4.10   5.75   \n",
              "7     1.84    1.73    3.80    4.75  1.77  3.80   4.40  1.77  3.80   4.40   \n",
              "8     2.02    1.83    3.75    4.20  1.83  3.70   4.20  1.90  3.65   3.95   \n",
              "9     1.91    1.50    4.33    6.50  1.51  4.20   6.50  1.50  4.40   6.50   \n",
              "10    2.08    3.20    3.40    2.25  3.10  3.30   2.25  3.05  3.40   2.30   \n",
              "11    2.07    1.30    5.00   11.00  1.31  5.25  11.00  1.33  5.25  10.00   \n",
              "12    2.06    1.20    6.50   12.00  1.22  6.50  13.00  1.22  6.50  13.00   \n",
              "13    2.07    1.25    5.50   11.00  1.27  5.75  11.00  1.27  5.75  12.00   \n",
              "14    2.04    1.25    6.50    9.50  1.27  6.00  10.50  1.30  5.75  10.00   \n",
              "15    1.86    1.20    7.00   12.00  1.22  6.75  12.50  1.22  6.50  13.00   \n",
              "16    1.89    1.57    4.33    5.50  1.60  4.10   5.50  1.60  4.30   5.25   \n",
              "17    1.89    1.75    4.20    4.00  1.72  4.20   4.20  1.73  4.10   4.10   \n",
              "18    1.87    1.29    6.00   10.00  1.28  6.00   9.50  1.30  5.75   9.50   \n",
              "\n",
              "    PSCH  PSCD   PSCA  WHCH  WHCD   WHCA  VCCH  VCCD   VCCA  MaxCH  MaxCD  \\\n",
              "0   1.58  4.42   5.97  1.55   4.2   5.80  1.55  4.40   6.00   1.60   4.70   \n",
              "1   1.42  5.35   7.50  1.36   5.0   8.00  1.36  5.25   8.50   1.43   5.80   \n",
              "2   1.55  4.57   6.27  1.52   4.2   6.00  1.53  4.50   6.00   1.59   4.60   \n",
              "3   1.99  3.75   3.84  1.95   3.6   3.70  1.93  3.60   3.70   2.05   3.88   \n",
              "4   2.58  3.84   2.67  2.50   3.6   2.60  2.45  3.60   2.60   2.63   3.86   \n",
              "5   1.22  7.25  13.50  1.22   6.0  13.00  1.18  6.50  15.00   1.25   7.40   \n",
              "6   1.57  4.30   6.43  1.52   4.0   6.50  1.53  4.00   6.00   1.60   4.60   \n",
              "7   1.78  3.91   4.88  1.73   3.7   4.75  1.70  3.70   4.75   1.81   4.00   \n",
              "8   1.86  3.90   4.34  1.85   3.6   4.20  1.83  3.75   3.90   1.94   3.95   \n",
              "9   1.58  4.25   6.35  1.50   4.2   6.50  1.45  4.10   7.00   1.58   4.50   \n",
              "10  3.36  3.52   2.27  3.30   3.2   2.25  3.10  3.25   2.20   3.58   3.64   \n",
              "11  1.34  5.21  10.65  1.29   5.0  12.00  1.25  5.00  11.50   1.36   5.40   \n",
              "12  1.23  6.75  14.00  1.20   6.5  13.00  1.17  6.50  13.00   1.25   7.20   \n",
              "13  1.27  6.12  12.21  1.25   5.5  13.00  1.22  5.75  13.00   1.31   6.39   \n",
              "14  1.27  6.75  10.50  1.24   6.0  11.00  1.25  6.00  12.00   1.32   6.75   \n",
              "15  1.22  7.26  14.16  1.20   6.5  13.00  1.20  7.00  13.00   1.23   7.70   \n",
              "16  1.63  4.17   5.71  1.57   4.2   5.50  1.60  4.00   5.75   1.66   4.50   \n",
              "17  1.74  4.39   4.48  1.70   4.0   4.50  1.70  4.20   4.40   1.80   4.45   \n",
              "18  1.28  6.28   9.77  1.25   5.0   8.00  1.25  6.00  12.00   1.33   6.60   \n",
              "\n",
              "    MaxCA  AvgCH  AvgCD  AvgCA  B365C>2.5  B365C<2.5  PC>2.5  PC<2.5  \\\n",
              "0    6.25   1.57   4.40   5.89       1.66       2.20    1.73    2.22   \n",
              "1    9.50   1.39   5.32   7.66       1.53       2.50    1.57    2.54   \n",
              "2    6.70   1.54   4.46   6.08       1.66       2.20    1.71    2.24   \n",
              "3    3.95   1.99   3.71   3.75       1.72       2.10    1.76    2.17   \n",
              "4    2.80   2.53   3.75   2.67       1.53       2.50    1.58    2.53   \n",
              "5   16.00   1.22   6.73  13.37       1.53       2.50    1.55    2.56   \n",
              "6    6.85   1.55   4.29   6.27       1.90       2.00    1.88    2.02   \n",
              "7    5.05   1.77   3.88   4.73       1.91       1.99    1.91    1.99   \n",
              "8    4.40   1.87   3.79   4.19       1.73       2.10    1.72    2.22   \n",
              "9    7.00   1.54   4.27   6.59       1.73       2.10    1.88    2.03   \n",
              "10   2.38   3.23   3.43   2.29       1.93       1.97    1.92    1.98   \n",
              "11  12.30   1.32   5.20  11.22       1.90       2.00    1.85    2.07   \n",
              "12  16.56   1.22   6.78  13.69       1.53       2.50    1.57    2.48   \n",
              "13  14.00   1.26   5.86  12.05       1.67       2.20    1.72    2.20   \n",
              "14  12.50   1.27   6.30  10.67       1.44       2.75    1.45    2.83   \n",
              "15  16.00   1.21   7.08  13.90       1.53       2.50    1.57    2.52   \n",
              "16   5.90   1.61   4.23   5.54       1.67       2.20    1.81    2.09   \n",
              "17   4.62   1.73   4.28   4.36       1.44       2.75    1.48    2.74   \n",
              "18  12.00   1.29   6.18   9.86       1.36       3.20    1.37    3.14   \n",
              "\n",
              "    MaxC>2.5  MaxC<2.5  AvgC>2.5  AvgC<2.5  AHCh  B365CAHH  B365CAHA  PCAHH  \\\n",
              "0       1.76      2.34      1.68      2.22 -1.00      1.98      1.92   1.96   \n",
              "1       1.59      2.66      1.54      2.50 -1.50      2.02      1.77   2.15   \n",
              "2       1.75      2.29      1.68      2.22 -1.00      1.90      2.00   1.91   \n",
              "3       1.81      2.23      1.74      2.13 -0.50      1.97      1.93   1.99   \n",
              "4       1.58      2.66      1.54      2.51  0.00      1.91      1.99   1.93   \n",
              "5       1.58      2.66      1.53      2.49 -1.75      1.84      2.06   1.85   \n",
              "6       2.02      2.15      1.84      2.00 -1.00      1.99      1.91   1.99   \n",
              "7       1.95      2.07      1.86      1.98 -0.75      2.00      1.93   2.00   \n",
              "8       1.81      2.22      1.76      2.09 -0.50      1.85      2.08   1.86   \n",
              "9       1.90      2.15      1.81      2.04 -1.00      1.84      2.09   1.91   \n",
              "10      2.02      2.03      1.93      1.92  0.25      1.94      1.99   1.97   \n",
              "11      1.90      2.10      1.84      2.00 -1.50      2.01      1.92   1.98   \n",
              "12      1.60      2.58      1.54      2.49 -2.00      2.02      1.77   2.14   \n",
              "13      1.77      2.34      1.68      2.19 -1.50      1.77      2.02   1.83   \n",
              "14      1.57      2.83      1.47      2.68 -1.75      1.98      1.92   1.99   \n",
              "15      1.57      2.69      1.53      2.54 -2.00      2.10      1.83   2.13   \n",
              "16      1.88      2.37      1.72      2.15 -1.00      2.06      1.87   2.09   \n",
              "17      1.51      2.93      1.47      2.70 -0.75      1.94      1.99   1.93   \n",
              "18      1.41      3.25      1.38      3.09 -1.75      1.93      1.97   1.96   \n",
              "\n",
              "    PCAHA  MaxCAHH  MaxCAHA  AvgCAHH  AvgCAHA  \n",
              "0    1.96     1.99     2.00     1.94     1.94  \n",
              "1    1.79     2.15     2.04     2.03     1.84  \n",
              "2    2.02     1.98     2.05     1.88     1.98  \n",
              "3    1.89     2.03     1.97     1.99     1.89  \n",
              "4    1.99     1.96     2.03     1.89     1.98  \n",
              "5    2.06     1.87     2.11     1.84     2.04  \n",
              "6    1.93     2.01     2.01     1.95     1.93  \n",
              "7    1.93     2.01     1.96     1.97     1.91  \n",
              "8    2.07     1.91     2.08     1.86     2.02  \n",
              "9    2.01     1.91     2.09     1.86     2.02  \n",
              "10   1.95     1.97     2.02     1.91     1.96  \n",
              "11   1.94     2.01     1.98     1.96     1.92  \n",
              "12   1.78     2.15     1.94     2.08     1.81  \n",
              "13   2.07     1.90     2.14     1.81     2.07  \n",
              "14   1.92     2.08     1.97     1.95     1.90  \n",
              "15   1.79     2.17     1.95     2.05     1.82  \n",
              "16   1.85     2.17     1.95     2.01     1.86  \n",
              "17   2.00     2.00     2.09     1.90     1.95  \n",
              "18   1.93     2.02     2.02     1.93     1.92  "
            ]
          },
          "metadata": {},
          "output_type": "display_data"
        },
        {
          "data": {
            "text/html": [
              "<div>\n",
              "<style scoped>\n",
              "    .dataframe tbody tr th:only-of-type {\n",
              "        vertical-align: middle;\n",
              "    }\n",
              "\n",
              "    .dataframe tbody tr th {\n",
              "        vertical-align: top;\n",
              "    }\n",
              "\n",
              "    .dataframe thead th {\n",
              "        text-align: right;\n",
              "    }\n",
              "</style>\n",
              "<table border=\"1\" class=\"dataframe\">\n",
              "  <thead>\n",
              "    <tr style=\"text-align: right;\">\n",
              "      <th></th>\n",
              "      <th>Date</th>\n",
              "      <th>Div</th>\n",
              "      <th>Time</th>\n",
              "      <th>HomeTeam</th>\n",
              "      <th>AwayTeam</th>\n",
              "      <th>FTHG</th>\n",
              "      <th>FTAG</th>\n",
              "      <th>FTR</th>\n",
              "      <th>HTHG</th>\n",
              "      <th>HTAG</th>\n",
              "      <th>HTR</th>\n",
              "      <th>Referee</th>\n",
              "      <th>HS</th>\n",
              "      <th>AS</th>\n",
              "      <th>HST</th>\n",
              "      <th>AST</th>\n",
              "      <th>HF</th>\n",
              "      <th>AF</th>\n",
              "      <th>HC</th>\n",
              "      <th>AC</th>\n",
              "      <th>HY</th>\n",
              "      <th>AY</th>\n",
              "      <th>HR</th>\n",
              "      <th>AR</th>\n",
              "      <th>B365H</th>\n",
              "      <th>B365D</th>\n",
              "      <th>B365A</th>\n",
              "      <th>BWH</th>\n",
              "      <th>BWD</th>\n",
              "      <th>BWA</th>\n",
              "      <th>IWH</th>\n",
              "      <th>IWD</th>\n",
              "      <th>IWA</th>\n",
              "      <th>PSH</th>\n",
              "      <th>PSD</th>\n",
              "      <th>PSA</th>\n",
              "      <th>WHH</th>\n",
              "      <th>WHD</th>\n",
              "      <th>WHA</th>\n",
              "      <th>VCH</th>\n",
              "      <th>VCD</th>\n",
              "      <th>VCA</th>\n",
              "      <th>MaxH</th>\n",
              "      <th>MaxD</th>\n",
              "      <th>MaxA</th>\n",
              "      <th>AvgH</th>\n",
              "      <th>AvgD</th>\n",
              "      <th>AvgA</th>\n",
              "      <th>B365&gt;2.5</th>\n",
              "      <th>B365&lt;2.5</th>\n",
              "      <th>P&gt;2.5</th>\n",
              "      <th>P&lt;2.5</th>\n",
              "      <th>Max&gt;2.5</th>\n",
              "      <th>Max&lt;2.5</th>\n",
              "      <th>Avg&gt;2.5</th>\n",
              "      <th>Avg&lt;2.5</th>\n",
              "      <th>AHh</th>\n",
              "      <th>B365AHH</th>\n",
              "      <th>B365AHA</th>\n",
              "      <th>PAHH</th>\n",
              "      <th>PAHA</th>\n",
              "      <th>MaxAHH</th>\n",
              "      <th>MaxAHA</th>\n",
              "      <th>AvgAHH</th>\n",
              "      <th>AvgAHA</th>\n",
              "      <th>B365CH</th>\n",
              "      <th>B365CD</th>\n",
              "      <th>B365CA</th>\n",
              "      <th>BWCH</th>\n",
              "      <th>BWCD</th>\n",
              "      <th>BWCA</th>\n",
              "      <th>IWCH</th>\n",
              "      <th>IWCD</th>\n",
              "      <th>IWCA</th>\n",
              "      <th>PSCH</th>\n",
              "      <th>PSCD</th>\n",
              "      <th>PSCA</th>\n",
              "      <th>WHCH</th>\n",
              "      <th>WHCD</th>\n",
              "      <th>WHCA</th>\n",
              "      <th>VCCH</th>\n",
              "      <th>VCCD</th>\n",
              "      <th>VCCA</th>\n",
              "      <th>MaxCH</th>\n",
              "      <th>MaxCD</th>\n",
              "      <th>MaxCA</th>\n",
              "      <th>AvgCH</th>\n",
              "      <th>AvgCD</th>\n",
              "      <th>AvgCA</th>\n",
              "      <th>B365C&gt;2.5</th>\n",
              "      <th>B365C&lt;2.5</th>\n",
              "      <th>PC&gt;2.5</th>\n",
              "      <th>PC&lt;2.5</th>\n",
              "      <th>MaxC&gt;2.5</th>\n",
              "      <th>MaxC&lt;2.5</th>\n",
              "      <th>AvgC&gt;2.5</th>\n",
              "      <th>AvgC&lt;2.5</th>\n",
              "      <th>AHCh</th>\n",
              "      <th>B365CAHH</th>\n",
              "      <th>B365CAHA</th>\n",
              "      <th>PCAHH</th>\n",
              "      <th>PCAHA</th>\n",
              "      <th>MaxCAHH</th>\n",
              "      <th>MaxCAHA</th>\n",
              "      <th>AvgCAHH</th>\n",
              "      <th>AvgCAHA</th>\n",
              "    </tr>\n",
              "  </thead>\n",
              "  <tbody>\n",
              "    <tr>\n",
              "      <th>0</th>\n",
              "      <td>05/08/2022</td>\n",
              "      <td>E0</td>\n",
              "      <td>20:00</td>\n",
              "      <td>Crystal Palace</td>\n",
              "      <td>Arsenal</td>\n",
              "      <td>0</td>\n",
              "      <td>2</td>\n",
              "      <td>A</td>\n",
              "      <td>0</td>\n",
              "      <td>1</td>\n",
              "      <td>A</td>\n",
              "      <td>A Taylor</td>\n",
              "      <td>10</td>\n",
              "      <td>10</td>\n",
              "      <td>2</td>\n",
              "      <td>2</td>\n",
              "      <td>16</td>\n",
              "      <td>11</td>\n",
              "      <td>3</td>\n",
              "      <td>5</td>\n",
              "      <td>1</td>\n",
              "      <td>2</td>\n",
              "      <td>0</td>\n",
              "      <td>0</td>\n",
              "      <td>4.20</td>\n",
              "      <td>3.60</td>\n",
              "      <td>1.85</td>\n",
              "      <td>4.33</td>\n",
              "      <td>3.50</td>\n",
              "      <td>1.87</td>\n",
              "      <td>4.30</td>\n",
              "      <td>3.55</td>\n",
              "      <td>1.85</td>\n",
              "      <td>4.50</td>\n",
              "      <td>3.65</td>\n",
              "      <td>1.89</td>\n",
              "      <td>4.40</td>\n",
              "      <td>3.50</td>\n",
              "      <td>1.83</td>\n",
              "      <td>4.60</td>\n",
              "      <td>3.5</td>\n",
              "      <td>1.87</td>\n",
              "      <td>4.60</td>\n",
              "      <td>3.78</td>\n",
              "      <td>1.95</td>\n",
              "      <td>4.39</td>\n",
              "      <td>3.59</td>\n",
              "      <td>1.88</td>\n",
              "      <td>2.10</td>\n",
              "      <td>1.72</td>\n",
              "      <td>2.14</td>\n",
              "      <td>1.78</td>\n",
              "      <td>2.19</td>\n",
              "      <td>1.91</td>\n",
              "      <td>2.09</td>\n",
              "      <td>1.76</td>\n",
              "      <td>0.50</td>\n",
              "      <td>2.04</td>\n",
              "      <td>1.89</td>\n",
              "      <td>2.03</td>\n",
              "      <td>1.89</td>\n",
              "      <td>2.06</td>\n",
              "      <td>1.91</td>\n",
              "      <td>2.01</td>\n",
              "      <td>1.87</td>\n",
              "      <td>4.50</td>\n",
              "      <td>3.60</td>\n",
              "      <td>1.80</td>\n",
              "      <td>4.50</td>\n",
              "      <td>3.50</td>\n",
              "      <td>1.83</td>\n",
              "      <td>4.40</td>\n",
              "      <td>3.55</td>\n",
              "      <td>1.85</td>\n",
              "      <td>4.58</td>\n",
              "      <td>3.63</td>\n",
              "      <td>1.88</td>\n",
              "      <td>4.80</td>\n",
              "      <td>3.40</td>\n",
              "      <td>1.78</td>\n",
              "      <td>4.75</td>\n",
              "      <td>3.50</td>\n",
              "      <td>1.85</td>\n",
              "      <td>5.01</td>\n",
              "      <td>3.70</td>\n",
              "      <td>1.91</td>\n",
              "      <td>4.56</td>\n",
              "      <td>3.57</td>\n",
              "      <td>1.85</td>\n",
              "      <td>2.10</td>\n",
              "      <td>1.72</td>\n",
              "      <td>2.14</td>\n",
              "      <td>1.78</td>\n",
              "      <td>2.19</td>\n",
              "      <td>1.91</td>\n",
              "      <td>2.08</td>\n",
              "      <td>1.76</td>\n",
              "      <td>0.50</td>\n",
              "      <td>2.09</td>\n",
              "      <td>1.84</td>\n",
              "      <td>2.04</td>\n",
              "      <td>1.88</td>\n",
              "      <td>2.09</td>\n",
              "      <td>1.88</td>\n",
              "      <td>2.03</td>\n",
              "      <td>1.85</td>\n",
              "    </tr>\n",
              "    <tr>\n",
              "      <th>1</th>\n",
              "      <td>20/08/2022</td>\n",
              "      <td>E0</td>\n",
              "      <td>17:30</td>\n",
              "      <td>Bournemouth</td>\n",
              "      <td>Arsenal</td>\n",
              "      <td>0</td>\n",
              "      <td>3</td>\n",
              "      <td>A</td>\n",
              "      <td>0</td>\n",
              "      <td>2</td>\n",
              "      <td>A</td>\n",
              "      <td>C Pawson</td>\n",
              "      <td>6</td>\n",
              "      <td>14</td>\n",
              "      <td>1</td>\n",
              "      <td>6</td>\n",
              "      <td>12</td>\n",
              "      <td>10</td>\n",
              "      <td>3</td>\n",
              "      <td>4</td>\n",
              "      <td>2</td>\n",
              "      <td>1</td>\n",
              "      <td>0</td>\n",
              "      <td>0</td>\n",
              "      <td>8.00</td>\n",
              "      <td>4.75</td>\n",
              "      <td>1.40</td>\n",
              "      <td>7.25</td>\n",
              "      <td>4.60</td>\n",
              "      <td>1.42</td>\n",
              "      <td>7.25</td>\n",
              "      <td>4.70</td>\n",
              "      <td>1.43</td>\n",
              "      <td>7.55</td>\n",
              "      <td>4.80</td>\n",
              "      <td>1.46</td>\n",
              "      <td>8.00</td>\n",
              "      <td>4.50</td>\n",
              "      <td>1.40</td>\n",
              "      <td>8.00</td>\n",
              "      <td>4.4</td>\n",
              "      <td>1.40</td>\n",
              "      <td>8.01</td>\n",
              "      <td>4.90</td>\n",
              "      <td>1.47</td>\n",
              "      <td>7.65</td>\n",
              "      <td>4.70</td>\n",
              "      <td>1.43</td>\n",
              "      <td>1.72</td>\n",
              "      <td>2.10</td>\n",
              "      <td>1.81</td>\n",
              "      <td>2.10</td>\n",
              "      <td>1.82</td>\n",
              "      <td>2.14</td>\n",
              "      <td>1.76</td>\n",
              "      <td>2.09</td>\n",
              "      <td>1.25</td>\n",
              "      <td>1.91</td>\n",
              "      <td>1.99</td>\n",
              "      <td>1.92</td>\n",
              "      <td>2.01</td>\n",
              "      <td>1.96</td>\n",
              "      <td>2.03</td>\n",
              "      <td>1.90</td>\n",
              "      <td>1.97</td>\n",
              "      <td>7.50</td>\n",
              "      <td>4.75</td>\n",
              "      <td>1.40</td>\n",
              "      <td>7.00</td>\n",
              "      <td>4.50</td>\n",
              "      <td>1.44</td>\n",
              "      <td>7.00</td>\n",
              "      <td>4.60</td>\n",
              "      <td>1.45</td>\n",
              "      <td>7.26</td>\n",
              "      <td>4.82</td>\n",
              "      <td>1.47</td>\n",
              "      <td>8.00</td>\n",
              "      <td>4.50</td>\n",
              "      <td>1.40</td>\n",
              "      <td>8.50</td>\n",
              "      <td>4.80</td>\n",
              "      <td>1.40</td>\n",
              "      <td>8.50</td>\n",
              "      <td>4.90</td>\n",
              "      <td>1.48</td>\n",
              "      <td>7.54</td>\n",
              "      <td>4.72</td>\n",
              "      <td>1.44</td>\n",
              "      <td>1.72</td>\n",
              "      <td>2.10</td>\n",
              "      <td>1.81</td>\n",
              "      <td>2.10</td>\n",
              "      <td>1.90</td>\n",
              "      <td>2.12</td>\n",
              "      <td>1.78</td>\n",
              "      <td>2.07</td>\n",
              "      <td>1.25</td>\n",
              "      <td>1.90</td>\n",
              "      <td>2.00</td>\n",
              "      <td>1.88</td>\n",
              "      <td>2.05</td>\n",
              "      <td>1.93</td>\n",
              "      <td>2.05</td>\n",
              "      <td>1.88</td>\n",
              "      <td>1.99</td>\n",
              "    </tr>\n",
              "    <tr>\n",
              "      <th>2</th>\n",
              "      <td>04/09/2022</td>\n",
              "      <td>E0</td>\n",
              "      <td>16:30</td>\n",
              "      <td>Man United</td>\n",
              "      <td>Arsenal</td>\n",
              "      <td>3</td>\n",
              "      <td>1</td>\n",
              "      <td>H</td>\n",
              "      <td>1</td>\n",
              "      <td>0</td>\n",
              "      <td>H</td>\n",
              "      <td>P Tierney</td>\n",
              "      <td>10</td>\n",
              "      <td>16</td>\n",
              "      <td>6</td>\n",
              "      <td>3</td>\n",
              "      <td>13</td>\n",
              "      <td>9</td>\n",
              "      <td>2</td>\n",
              "      <td>5</td>\n",
              "      <td>3</td>\n",
              "      <td>3</td>\n",
              "      <td>0</td>\n",
              "      <td>0</td>\n",
              "      <td>2.50</td>\n",
              "      <td>3.50</td>\n",
              "      <td>2.70</td>\n",
              "      <td>2.55</td>\n",
              "      <td>3.50</td>\n",
              "      <td>2.55</td>\n",
              "      <td>2.55</td>\n",
              "      <td>3.55</td>\n",
              "      <td>2.65</td>\n",
              "      <td>2.70</td>\n",
              "      <td>3.58</td>\n",
              "      <td>2.68</td>\n",
              "      <td>2.50</td>\n",
              "      <td>3.50</td>\n",
              "      <td>2.70</td>\n",
              "      <td>2.50</td>\n",
              "      <td>3.5</td>\n",
              "      <td>2.60</td>\n",
              "      <td>2.70</td>\n",
              "      <td>3.74</td>\n",
              "      <td>2.78</td>\n",
              "      <td>2.61</td>\n",
              "      <td>3.55</td>\n",
              "      <td>2.67</td>\n",
              "      <td>1.66</td>\n",
              "      <td>2.20</td>\n",
              "      <td>1.73</td>\n",
              "      <td>2.22</td>\n",
              "      <td>1.77</td>\n",
              "      <td>2.28</td>\n",
              "      <td>1.70</td>\n",
              "      <td>2.18</td>\n",
              "      <td>0.00</td>\n",
              "      <td>1.90</td>\n",
              "      <td>2.00</td>\n",
              "      <td>1.97</td>\n",
              "      <td>1.95</td>\n",
              "      <td>1.98</td>\n",
              "      <td>2.01</td>\n",
              "      <td>1.91</td>\n",
              "      <td>1.97</td>\n",
              "      <td>2.60</td>\n",
              "      <td>3.50</td>\n",
              "      <td>2.60</td>\n",
              "      <td>2.60</td>\n",
              "      <td>3.40</td>\n",
              "      <td>2.60</td>\n",
              "      <td>2.65</td>\n",
              "      <td>3.40</td>\n",
              "      <td>2.65</td>\n",
              "      <td>2.71</td>\n",
              "      <td>3.56</td>\n",
              "      <td>2.69</td>\n",
              "      <td>2.60</td>\n",
              "      <td>3.40</td>\n",
              "      <td>2.62</td>\n",
              "      <td>2.63</td>\n",
              "      <td>3.50</td>\n",
              "      <td>2.70</td>\n",
              "      <td>2.78</td>\n",
              "      <td>3.65</td>\n",
              "      <td>2.75</td>\n",
              "      <td>2.66</td>\n",
              "      <td>3.49</td>\n",
              "      <td>2.67</td>\n",
              "      <td>1.72</td>\n",
              "      <td>2.10</td>\n",
              "      <td>1.76</td>\n",
              "      <td>2.18</td>\n",
              "      <td>1.82</td>\n",
              "      <td>2.25</td>\n",
              "      <td>1.74</td>\n",
              "      <td>2.13</td>\n",
              "      <td>0.00</td>\n",
              "      <td>1.92</td>\n",
              "      <td>1.98</td>\n",
              "      <td>1.97</td>\n",
              "      <td>1.95</td>\n",
              "      <td>1.97</td>\n",
              "      <td>2.03</td>\n",
              "      <td>1.94</td>\n",
              "      <td>1.94</td>\n",
              "    </tr>\n",
              "    <tr>\n",
              "      <th>3</th>\n",
              "      <td>18/09/2022</td>\n",
              "      <td>E0</td>\n",
              "      <td>12:00</td>\n",
              "      <td>Brentford</td>\n",
              "      <td>Arsenal</td>\n",
              "      <td>0</td>\n",
              "      <td>3</td>\n",
              "      <td>A</td>\n",
              "      <td>0</td>\n",
              "      <td>2</td>\n",
              "      <td>A</td>\n",
              "      <td>D Coote</td>\n",
              "      <td>5</td>\n",
              "      <td>13</td>\n",
              "      <td>2</td>\n",
              "      <td>7</td>\n",
              "      <td>10</td>\n",
              "      <td>10</td>\n",
              "      <td>3</td>\n",
              "      <td>3</td>\n",
              "      <td>0</td>\n",
              "      <td>2</td>\n",
              "      <td>0</td>\n",
              "      <td>0</td>\n",
              "      <td>4.20</td>\n",
              "      <td>3.80</td>\n",
              "      <td>1.80</td>\n",
              "      <td>4.20</td>\n",
              "      <td>3.75</td>\n",
              "      <td>1.82</td>\n",
              "      <td>4.20</td>\n",
              "      <td>3.85</td>\n",
              "      <td>1.80</td>\n",
              "      <td>4.46</td>\n",
              "      <td>3.98</td>\n",
              "      <td>1.83</td>\n",
              "      <td>4.20</td>\n",
              "      <td>3.80</td>\n",
              "      <td>1.78</td>\n",
              "      <td>4.33</td>\n",
              "      <td>3.8</td>\n",
              "      <td>1.75</td>\n",
              "      <td>4.50</td>\n",
              "      <td>4.05</td>\n",
              "      <td>1.86</td>\n",
              "      <td>4.30</td>\n",
              "      <td>3.91</td>\n",
              "      <td>1.81</td>\n",
              "      <td>1.66</td>\n",
              "      <td>2.20</td>\n",
              "      <td>1.72</td>\n",
              "      <td>2.24</td>\n",
              "      <td>1.72</td>\n",
              "      <td>2.28</td>\n",
              "      <td>1.68</td>\n",
              "      <td>2.21</td>\n",
              "      <td>0.75</td>\n",
              "      <td>1.85</td>\n",
              "      <td>2.05</td>\n",
              "      <td>1.88</td>\n",
              "      <td>2.05</td>\n",
              "      <td>1.90</td>\n",
              "      <td>2.07</td>\n",
              "      <td>1.84</td>\n",
              "      <td>2.04</td>\n",
              "      <td>4.50</td>\n",
              "      <td>3.80</td>\n",
              "      <td>1.75</td>\n",
              "      <td>4.33</td>\n",
              "      <td>3.90</td>\n",
              "      <td>1.77</td>\n",
              "      <td>4.30</td>\n",
              "      <td>3.85</td>\n",
              "      <td>1.80</td>\n",
              "      <td>4.50</td>\n",
              "      <td>3.85</td>\n",
              "      <td>1.85</td>\n",
              "      <td>4.60</td>\n",
              "      <td>3.70</td>\n",
              "      <td>1.75</td>\n",
              "      <td>4.40</td>\n",
              "      <td>3.70</td>\n",
              "      <td>1.75</td>\n",
              "      <td>4.96</td>\n",
              "      <td>4.10</td>\n",
              "      <td>1.86</td>\n",
              "      <td>4.48</td>\n",
              "      <td>3.89</td>\n",
              "      <td>1.80</td>\n",
              "      <td>1.72</td>\n",
              "      <td>2.10</td>\n",
              "      <td>1.79</td>\n",
              "      <td>2.13</td>\n",
              "      <td>1.81</td>\n",
              "      <td>2.17</td>\n",
              "      <td>1.77</td>\n",
              "      <td>2.09</td>\n",
              "      <td>0.75</td>\n",
              "      <td>1.83</td>\n",
              "      <td>2.07</td>\n",
              "      <td>1.84</td>\n",
              "      <td>2.08</td>\n",
              "      <td>1.99</td>\n",
              "      <td>2.12</td>\n",
              "      <td>1.86</td>\n",
              "      <td>2.02</td>\n",
              "    </tr>\n",
              "    <tr>\n",
              "      <th>4</th>\n",
              "      <td>16/10/2022</td>\n",
              "      <td>E0</td>\n",
              "      <td>14:00</td>\n",
              "      <td>Leeds</td>\n",
              "      <td>Arsenal</td>\n",
              "      <td>0</td>\n",
              "      <td>1</td>\n",
              "      <td>A</td>\n",
              "      <td>0</td>\n",
              "      <td>1</td>\n",
              "      <td>A</td>\n",
              "      <td>C Kavanagh</td>\n",
              "      <td>16</td>\n",
              "      <td>9</td>\n",
              "      <td>4</td>\n",
              "      <td>4</td>\n",
              "      <td>10</td>\n",
              "      <td>11</td>\n",
              "      <td>6</td>\n",
              "      <td>3</td>\n",
              "      <td>0</td>\n",
              "      <td>2</td>\n",
              "      <td>0</td>\n",
              "      <td>0</td>\n",
              "      <td>6.00</td>\n",
              "      <td>4.20</td>\n",
              "      <td>1.55</td>\n",
              "      <td>5.50</td>\n",
              "      <td>4.40</td>\n",
              "      <td>1.55</td>\n",
              "      <td>5.75</td>\n",
              "      <td>4.40</td>\n",
              "      <td>1.55</td>\n",
              "      <td>6.23</td>\n",
              "      <td>4.49</td>\n",
              "      <td>1.56</td>\n",
              "      <td>5.50</td>\n",
              "      <td>4.20</td>\n",
              "      <td>1.57</td>\n",
              "      <td>5.75</td>\n",
              "      <td>4.2</td>\n",
              "      <td>1.53</td>\n",
              "      <td>6.30</td>\n",
              "      <td>4.60</td>\n",
              "      <td>1.60</td>\n",
              "      <td>5.83</td>\n",
              "      <td>4.41</td>\n",
              "      <td>1.56</td>\n",
              "      <td>1.61</td>\n",
              "      <td>2.30</td>\n",
              "      <td>1.65</td>\n",
              "      <td>2.37</td>\n",
              "      <td>1.67</td>\n",
              "      <td>2.41</td>\n",
              "      <td>1.62</td>\n",
              "      <td>2.31</td>\n",
              "      <td>1.00</td>\n",
              "      <td>1.98</td>\n",
              "      <td>1.92</td>\n",
              "      <td>2.01</td>\n",
              "      <td>1.92</td>\n",
              "      <td>2.01</td>\n",
              "      <td>1.96</td>\n",
              "      <td>1.95</td>\n",
              "      <td>1.92</td>\n",
              "      <td>5.00</td>\n",
              "      <td>4.00</td>\n",
              "      <td>1.66</td>\n",
              "      <td>4.80</td>\n",
              "      <td>4.20</td>\n",
              "      <td>1.65</td>\n",
              "      <td>4.90</td>\n",
              "      <td>4.30</td>\n",
              "      <td>1.63</td>\n",
              "      <td>4.97</td>\n",
              "      <td>4.22</td>\n",
              "      <td>1.70</td>\n",
              "      <td>5.25</td>\n",
              "      <td>4.00</td>\n",
              "      <td>1.62</td>\n",
              "      <td>5.00</td>\n",
              "      <td>4.10</td>\n",
              "      <td>1.60</td>\n",
              "      <td>5.73</td>\n",
              "      <td>4.50</td>\n",
              "      <td>1.70</td>\n",
              "      <td>5.11</td>\n",
              "      <td>4.27</td>\n",
              "      <td>1.64</td>\n",
              "      <td>1.61</td>\n",
              "      <td>2.30</td>\n",
              "      <td>1.64</td>\n",
              "      <td>2.39</td>\n",
              "      <td>1.64</td>\n",
              "      <td>2.53</td>\n",
              "      <td>1.59</td>\n",
              "      <td>2.38</td>\n",
              "      <td>0.75</td>\n",
              "      <td>2.02</td>\n",
              "      <td>1.88</td>\n",
              "      <td>2.04</td>\n",
              "      <td>1.89</td>\n",
              "      <td>2.13</td>\n",
              "      <td>1.93</td>\n",
              "      <td>2.07</td>\n",
              "      <td>1.81</td>\n",
              "    </tr>\n",
              "    <tr>\n",
              "      <th>5</th>\n",
              "      <td>23/10/2022</td>\n",
              "      <td>E0</td>\n",
              "      <td>14:00</td>\n",
              "      <td>Southampton</td>\n",
              "      <td>Arsenal</td>\n",
              "      <td>1</td>\n",
              "      <td>1</td>\n",
              "      <td>D</td>\n",
              "      <td>0</td>\n",
              "      <td>1</td>\n",
              "      <td>A</td>\n",
              "      <td>R Jones</td>\n",
              "      <td>10</td>\n",
              "      <td>12</td>\n",
              "      <td>3</td>\n",
              "      <td>3</td>\n",
              "      <td>11</td>\n",
              "      <td>8</td>\n",
              "      <td>9</td>\n",
              "      <td>4</td>\n",
              "      <td>2</td>\n",
              "      <td>1</td>\n",
              "      <td>0</td>\n",
              "      <td>0</td>\n",
              "      <td>6.00</td>\n",
              "      <td>4.00</td>\n",
              "      <td>1.57</td>\n",
              "      <td>5.25</td>\n",
              "      <td>4.20</td>\n",
              "      <td>1.58</td>\n",
              "      <td>5.50</td>\n",
              "      <td>4.30</td>\n",
              "      <td>1.57</td>\n",
              "      <td>6.20</td>\n",
              "      <td>4.31</td>\n",
              "      <td>1.58</td>\n",
              "      <td>5.50</td>\n",
              "      <td>4.00</td>\n",
              "      <td>1.60</td>\n",
              "      <td>5.75</td>\n",
              "      <td>4.1</td>\n",
              "      <td>1.53</td>\n",
              "      <td>6.30</td>\n",
              "      <td>4.50</td>\n",
              "      <td>1.60</td>\n",
              "      <td>5.78</td>\n",
              "      <td>4.27</td>\n",
              "      <td>1.58</td>\n",
              "      <td>1.66</td>\n",
              "      <td>2.20</td>\n",
              "      <td>1.75</td>\n",
              "      <td>2.20</td>\n",
              "      <td>1.75</td>\n",
              "      <td>2.29</td>\n",
              "      <td>1.67</td>\n",
              "      <td>2.22</td>\n",
              "      <td>1.00</td>\n",
              "      <td>1.93</td>\n",
              "      <td>1.97</td>\n",
              "      <td>1.95</td>\n",
              "      <td>1.97</td>\n",
              "      <td>1.95</td>\n",
              "      <td>2.00</td>\n",
              "      <td>1.90</td>\n",
              "      <td>1.96</td>\n",
              "      <td>6.50</td>\n",
              "      <td>4.33</td>\n",
              "      <td>1.45</td>\n",
              "      <td>6.25</td>\n",
              "      <td>4.50</td>\n",
              "      <td>1.49</td>\n",
              "      <td>6.75</td>\n",
              "      <td>4.40</td>\n",
              "      <td>1.50</td>\n",
              "      <td>7.07</td>\n",
              "      <td>4.79</td>\n",
              "      <td>1.48</td>\n",
              "      <td>7.00</td>\n",
              "      <td>4.40</td>\n",
              "      <td>1.44</td>\n",
              "      <td>7.00</td>\n",
              "      <td>4.33</td>\n",
              "      <td>1.44</td>\n",
              "      <td>7.30</td>\n",
              "      <td>4.90</td>\n",
              "      <td>1.51</td>\n",
              "      <td>6.83</td>\n",
              "      <td>4.65</td>\n",
              "      <td>1.48</td>\n",
              "      <td>1.66</td>\n",
              "      <td>2.20</td>\n",
              "      <td>1.70</td>\n",
              "      <td>2.27</td>\n",
              "      <td>1.72</td>\n",
              "      <td>2.34</td>\n",
              "      <td>1.66</td>\n",
              "      <td>2.24</td>\n",
              "      <td>1.25</td>\n",
              "      <td>1.83</td>\n",
              "      <td>2.07</td>\n",
              "      <td>1.88</td>\n",
              "      <td>2.05</td>\n",
              "      <td>1.88</td>\n",
              "      <td>2.13</td>\n",
              "      <td>1.84</td>\n",
              "      <td>2.04</td>\n",
              "    </tr>\n",
              "    <tr>\n",
              "      <th>6</th>\n",
              "      <td>06/11/2022</td>\n",
              "      <td>E0</td>\n",
              "      <td>12:00</td>\n",
              "      <td>Chelsea</td>\n",
              "      <td>Arsenal</td>\n",
              "      <td>0</td>\n",
              "      <td>1</td>\n",
              "      <td>A</td>\n",
              "      <td>0</td>\n",
              "      <td>0</td>\n",
              "      <td>D</td>\n",
              "      <td>M Oliver</td>\n",
              "      <td>5</td>\n",
              "      <td>14</td>\n",
              "      <td>1</td>\n",
              "      <td>2</td>\n",
              "      <td>20</td>\n",
              "      <td>13</td>\n",
              "      <td>4</td>\n",
              "      <td>6</td>\n",
              "      <td>5</td>\n",
              "      <td>2</td>\n",
              "      <td>0</td>\n",
              "      <td>0</td>\n",
              "      <td>2.55</td>\n",
              "      <td>3.40</td>\n",
              "      <td>2.70</td>\n",
              "      <td>2.55</td>\n",
              "      <td>3.40</td>\n",
              "      <td>2.70</td>\n",
              "      <td>2.65</td>\n",
              "      <td>3.45</td>\n",
              "      <td>2.60</td>\n",
              "      <td>2.72</td>\n",
              "      <td>3.50</td>\n",
              "      <td>2.71</td>\n",
              "      <td>2.60</td>\n",
              "      <td>3.25</td>\n",
              "      <td>2.70</td>\n",
              "      <td>2.60</td>\n",
              "      <td>3.3</td>\n",
              "      <td>2.63</td>\n",
              "      <td>2.72</td>\n",
              "      <td>3.54</td>\n",
              "      <td>2.85</td>\n",
              "      <td>2.64</td>\n",
              "      <td>3.42</td>\n",
              "      <td>2.70</td>\n",
              "      <td>1.93</td>\n",
              "      <td>1.97</td>\n",
              "      <td>1.93</td>\n",
              "      <td>1.98</td>\n",
              "      <td>1.97</td>\n",
              "      <td>2.02</td>\n",
              "      <td>1.89</td>\n",
              "      <td>1.94</td>\n",
              "      <td>0.00</td>\n",
              "      <td>1.93</td>\n",
              "      <td>1.97</td>\n",
              "      <td>1.96</td>\n",
              "      <td>1.96</td>\n",
              "      <td>1.96</td>\n",
              "      <td>2.03</td>\n",
              "      <td>1.92</td>\n",
              "      <td>1.95</td>\n",
              "      <td>2.62</td>\n",
              "      <td>3.40</td>\n",
              "      <td>2.60</td>\n",
              "      <td>2.75</td>\n",
              "      <td>3.25</td>\n",
              "      <td>2.55</td>\n",
              "      <td>2.70</td>\n",
              "      <td>3.40</td>\n",
              "      <td>2.60</td>\n",
              "      <td>2.71</td>\n",
              "      <td>3.48</td>\n",
              "      <td>2.69</td>\n",
              "      <td>2.75</td>\n",
              "      <td>3.25</td>\n",
              "      <td>2.55</td>\n",
              "      <td>2.63</td>\n",
              "      <td>3.30</td>\n",
              "      <td>2.60</td>\n",
              "      <td>2.93</td>\n",
              "      <td>3.49</td>\n",
              "      <td>2.75</td>\n",
              "      <td>2.74</td>\n",
              "      <td>3.39</td>\n",
              "      <td>2.64</td>\n",
              "      <td>1.94</td>\n",
              "      <td>1.96</td>\n",
              "      <td>1.95</td>\n",
              "      <td>1.95</td>\n",
              "      <td>2.01</td>\n",
              "      <td>2.03</td>\n",
              "      <td>1.91</td>\n",
              "      <td>1.92</td>\n",
              "      <td>0.00</td>\n",
              "      <td>1.95</td>\n",
              "      <td>1.95</td>\n",
              "      <td>1.99</td>\n",
              "      <td>1.93</td>\n",
              "      <td>2.02</td>\n",
              "      <td>1.98</td>\n",
              "      <td>1.96</td>\n",
              "      <td>1.91</td>\n",
              "    </tr>\n",
              "    <tr>\n",
              "      <th>7</th>\n",
              "      <td>12/11/2022</td>\n",
              "      <td>E0</td>\n",
              "      <td>19:45</td>\n",
              "      <td>Wolves</td>\n",
              "      <td>Arsenal</td>\n",
              "      <td>0</td>\n",
              "      <td>2</td>\n",
              "      <td>A</td>\n",
              "      <td>0</td>\n",
              "      <td>0</td>\n",
              "      <td>D</td>\n",
              "      <td>S Attwell</td>\n",
              "      <td>11</td>\n",
              "      <td>14</td>\n",
              "      <td>2</td>\n",
              "      <td>4</td>\n",
              "      <td>5</td>\n",
              "      <td>6</td>\n",
              "      <td>6</td>\n",
              "      <td>4</td>\n",
              "      <td>3</td>\n",
              "      <td>2</td>\n",
              "      <td>0</td>\n",
              "      <td>0</td>\n",
              "      <td>6.00</td>\n",
              "      <td>4.20</td>\n",
              "      <td>1.55</td>\n",
              "      <td>5.75</td>\n",
              "      <td>4.20</td>\n",
              "      <td>1.55</td>\n",
              "      <td>6.00</td>\n",
              "      <td>4.30</td>\n",
              "      <td>1.55</td>\n",
              "      <td>6.50</td>\n",
              "      <td>4.30</td>\n",
              "      <td>1.56</td>\n",
              "      <td>6.00</td>\n",
              "      <td>4.20</td>\n",
              "      <td>1.53</td>\n",
              "      <td>6.00</td>\n",
              "      <td>4.1</td>\n",
              "      <td>1.50</td>\n",
              "      <td>6.50</td>\n",
              "      <td>4.44</td>\n",
              "      <td>1.59</td>\n",
              "      <td>6.15</td>\n",
              "      <td>4.26</td>\n",
              "      <td>1.55</td>\n",
              "      <td>1.80</td>\n",
              "      <td>2.00</td>\n",
              "      <td>1.83</td>\n",
              "      <td>2.08</td>\n",
              "      <td>1.84</td>\n",
              "      <td>2.13</td>\n",
              "      <td>1.78</td>\n",
              "      <td>2.05</td>\n",
              "      <td>1.00</td>\n",
              "      <td>1.95</td>\n",
              "      <td>1.95</td>\n",
              "      <td>1.95</td>\n",
              "      <td>1.96</td>\n",
              "      <td>1.99</td>\n",
              "      <td>2.00</td>\n",
              "      <td>1.93</td>\n",
              "      <td>1.93</td>\n",
              "      <td>6.50</td>\n",
              "      <td>4.00</td>\n",
              "      <td>1.53</td>\n",
              "      <td>6.00</td>\n",
              "      <td>4.10</td>\n",
              "      <td>1.55</td>\n",
              "      <td>6.00</td>\n",
              "      <td>4.00</td>\n",
              "      <td>1.57</td>\n",
              "      <td>6.54</td>\n",
              "      <td>4.22</td>\n",
              "      <td>1.57</td>\n",
              "      <td>6.50</td>\n",
              "      <td>3.90</td>\n",
              "      <td>1.53</td>\n",
              "      <td>6.50</td>\n",
              "      <td>4.00</td>\n",
              "      <td>1.50</td>\n",
              "      <td>7.16</td>\n",
              "      <td>4.30</td>\n",
              "      <td>1.59</td>\n",
              "      <td>6.34</td>\n",
              "      <td>4.15</td>\n",
              "      <td>1.55</td>\n",
              "      <td>1.92</td>\n",
              "      <td>1.98</td>\n",
              "      <td>1.93</td>\n",
              "      <td>1.97</td>\n",
              "      <td>1.97</td>\n",
              "      <td>2.10</td>\n",
              "      <td>1.90</td>\n",
              "      <td>1.93</td>\n",
              "      <td>1.00</td>\n",
              "      <td>1.93</td>\n",
              "      <td>1.97</td>\n",
              "      <td>1.94</td>\n",
              "      <td>1.98</td>\n",
              "      <td>2.07</td>\n",
              "      <td>1.99</td>\n",
              "      <td>1.92</td>\n",
              "      <td>1.95</td>\n",
              "    </tr>\n",
              "    <tr>\n",
              "      <th>8</th>\n",
              "      <td>31/12/2022</td>\n",
              "      <td>E0</td>\n",
              "      <td>17:30</td>\n",
              "      <td>Brighton</td>\n",
              "      <td>Arsenal</td>\n",
              "      <td>2</td>\n",
              "      <td>4</td>\n",
              "      <td>A</td>\n",
              "      <td>0</td>\n",
              "      <td>2</td>\n",
              "      <td>A</td>\n",
              "      <td>A Taylor</td>\n",
              "      <td>9</td>\n",
              "      <td>14</td>\n",
              "      <td>5</td>\n",
              "      <td>7</td>\n",
              "      <td>7</td>\n",
              "      <td>11</td>\n",
              "      <td>7</td>\n",
              "      <td>4</td>\n",
              "      <td>3</td>\n",
              "      <td>3</td>\n",
              "      <td>0</td>\n",
              "      <td>0</td>\n",
              "      <td>3.40</td>\n",
              "      <td>3.50</td>\n",
              "      <td>2.10</td>\n",
              "      <td>3.40</td>\n",
              "      <td>3.50</td>\n",
              "      <td>2.10</td>\n",
              "      <td>3.40</td>\n",
              "      <td>3.45</td>\n",
              "      <td>2.15</td>\n",
              "      <td>3.60</td>\n",
              "      <td>3.62</td>\n",
              "      <td>2.13</td>\n",
              "      <td>3.40</td>\n",
              "      <td>3.50</td>\n",
              "      <td>2.10</td>\n",
              "      <td>3.40</td>\n",
              "      <td>3.4</td>\n",
              "      <td>2.10</td>\n",
              "      <td>3.60</td>\n",
              "      <td>3.72</td>\n",
              "      <td>2.17</td>\n",
              "      <td>3.46</td>\n",
              "      <td>3.56</td>\n",
              "      <td>2.12</td>\n",
              "      <td>1.89</td>\n",
              "      <td>2.04</td>\n",
              "      <td>1.89</td>\n",
              "      <td>2.02</td>\n",
              "      <td>1.91</td>\n",
              "      <td>2.08</td>\n",
              "      <td>1.84</td>\n",
              "      <td>2.00</td>\n",
              "      <td>0.25</td>\n",
              "      <td>2.06</td>\n",
              "      <td>1.87</td>\n",
              "      <td>2.09</td>\n",
              "      <td>1.85</td>\n",
              "      <td>2.09</td>\n",
              "      <td>1.90</td>\n",
              "      <td>2.04</td>\n",
              "      <td>1.83</td>\n",
              "      <td>4.20</td>\n",
              "      <td>3.75</td>\n",
              "      <td>1.85</td>\n",
              "      <td>4.10</td>\n",
              "      <td>3.50</td>\n",
              "      <td>1.88</td>\n",
              "      <td>4.20</td>\n",
              "      <td>3.60</td>\n",
              "      <td>1.90</td>\n",
              "      <td>4.47</td>\n",
              "      <td>3.77</td>\n",
              "      <td>1.87</td>\n",
              "      <td>4.40</td>\n",
              "      <td>3.70</td>\n",
              "      <td>1.78</td>\n",
              "      <td>4.20</td>\n",
              "      <td>3.50</td>\n",
              "      <td>1.83</td>\n",
              "      <td>4.78</td>\n",
              "      <td>3.98</td>\n",
              "      <td>1.95</td>\n",
              "      <td>4.29</td>\n",
              "      <td>3.67</td>\n",
              "      <td>1.88</td>\n",
              "      <td>1.89</td>\n",
              "      <td>2.01</td>\n",
              "      <td>1.93</td>\n",
              "      <td>1.98</td>\n",
              "      <td>1.96</td>\n",
              "      <td>2.09</td>\n",
              "      <td>1.89</td>\n",
              "      <td>1.94</td>\n",
              "      <td>0.50</td>\n",
              "      <td>2.06</td>\n",
              "      <td>1.87</td>\n",
              "      <td>2.06</td>\n",
              "      <td>1.87</td>\n",
              "      <td>2.07</td>\n",
              "      <td>1.94</td>\n",
              "      <td>2.00</td>\n",
              "      <td>1.88</td>\n",
              "    </tr>\n",
              "    <tr>\n",
              "      <th>9</th>\n",
              "      <td>15/01/2023</td>\n",
              "      <td>E0</td>\n",
              "      <td>16:30</td>\n",
              "      <td>Tottenham</td>\n",
              "      <td>Arsenal</td>\n",
              "      <td>0</td>\n",
              "      <td>2</td>\n",
              "      <td>A</td>\n",
              "      <td>0</td>\n",
              "      <td>2</td>\n",
              "      <td>A</td>\n",
              "      <td>C Pawson</td>\n",
              "      <td>17</td>\n",
              "      <td>14</td>\n",
              "      <td>7</td>\n",
              "      <td>5</td>\n",
              "      <td>16</td>\n",
              "      <td>15</td>\n",
              "      <td>4</td>\n",
              "      <td>3</td>\n",
              "      <td>4</td>\n",
              "      <td>2</td>\n",
              "      <td>0</td>\n",
              "      <td>0</td>\n",
              "      <td>3.10</td>\n",
              "      <td>3.60</td>\n",
              "      <td>2.20</td>\n",
              "      <td>3.30</td>\n",
              "      <td>3.60</td>\n",
              "      <td>2.10</td>\n",
              "      <td>3.20</td>\n",
              "      <td>3.55</td>\n",
              "      <td>2.20</td>\n",
              "      <td>3.34</td>\n",
              "      <td>3.71</td>\n",
              "      <td>2.21</td>\n",
              "      <td>3.25</td>\n",
              "      <td>3.50</td>\n",
              "      <td>2.15</td>\n",
              "      <td>3.20</td>\n",
              "      <td>3.4</td>\n",
              "      <td>2.15</td>\n",
              "      <td>3.38</td>\n",
              "      <td>3.85</td>\n",
              "      <td>2.24</td>\n",
              "      <td>3.24</td>\n",
              "      <td>3.63</td>\n",
              "      <td>2.18</td>\n",
              "      <td>1.80</td>\n",
              "      <td>2.00</td>\n",
              "      <td>1.83</td>\n",
              "      <td>2.07</td>\n",
              "      <td>1.85</td>\n",
              "      <td>2.11</td>\n",
              "      <td>1.79</td>\n",
              "      <td>2.04</td>\n",
              "      <td>0.25</td>\n",
              "      <td>1.99</td>\n",
              "      <td>1.91</td>\n",
              "      <td>2.01</td>\n",
              "      <td>1.92</td>\n",
              "      <td>2.01</td>\n",
              "      <td>1.94</td>\n",
              "      <td>1.97</td>\n",
              "      <td>1.89</td>\n",
              "      <td>3.25</td>\n",
              "      <td>3.50</td>\n",
              "      <td>2.20</td>\n",
              "      <td>3.30</td>\n",
              "      <td>3.40</td>\n",
              "      <td>2.15</td>\n",
              "      <td>3.30</td>\n",
              "      <td>3.40</td>\n",
              "      <td>2.25</td>\n",
              "      <td>3.40</td>\n",
              "      <td>3.59</td>\n",
              "      <td>2.22</td>\n",
              "      <td>3.40</td>\n",
              "      <td>3.40</td>\n",
              "      <td>2.10</td>\n",
              "      <td>3.30</td>\n",
              "      <td>3.30</td>\n",
              "      <td>2.15</td>\n",
              "      <td>3.67</td>\n",
              "      <td>3.60</td>\n",
              "      <td>2.26</td>\n",
              "      <td>3.38</td>\n",
              "      <td>3.49</td>\n",
              "      <td>2.20</td>\n",
              "      <td>1.96</td>\n",
              "      <td>1.94</td>\n",
              "      <td>1.95</td>\n",
              "      <td>1.95</td>\n",
              "      <td>2.03</td>\n",
              "      <td>2.05</td>\n",
              "      <td>1.93</td>\n",
              "      <td>1.90</td>\n",
              "      <td>0.25</td>\n",
              "      <td>2.00</td>\n",
              "      <td>1.93</td>\n",
              "      <td>2.00</td>\n",
              "      <td>1.93</td>\n",
              "      <td>2.01</td>\n",
              "      <td>1.95</td>\n",
              "      <td>1.98</td>\n",
              "      <td>1.90</td>\n",
              "    </tr>\n",
              "    <tr>\n",
              "      <th>10</th>\n",
              "      <td>04/02/2023</td>\n",
              "      <td>E0</td>\n",
              "      <td>12:30</td>\n",
              "      <td>Everton</td>\n",
              "      <td>Arsenal</td>\n",
              "      <td>1</td>\n",
              "      <td>0</td>\n",
              "      <td>H</td>\n",
              "      <td>0</td>\n",
              "      <td>0</td>\n",
              "      <td>D</td>\n",
              "      <td>D Coote</td>\n",
              "      <td>12</td>\n",
              "      <td>15</td>\n",
              "      <td>4</td>\n",
              "      <td>3</td>\n",
              "      <td>13</td>\n",
              "      <td>8</td>\n",
              "      <td>7</td>\n",
              "      <td>5</td>\n",
              "      <td>4</td>\n",
              "      <td>1</td>\n",
              "      <td>0</td>\n",
              "      <td>0</td>\n",
              "      <td>8.50</td>\n",
              "      <td>4.50</td>\n",
              "      <td>1.40</td>\n",
              "      <td>7.50</td>\n",
              "      <td>4.75</td>\n",
              "      <td>1.41</td>\n",
              "      <td>7.75</td>\n",
              "      <td>4.70</td>\n",
              "      <td>1.40</td>\n",
              "      <td>8.93</td>\n",
              "      <td>4.84</td>\n",
              "      <td>1.41</td>\n",
              "      <td>8.00</td>\n",
              "      <td>4.50</td>\n",
              "      <td>1.40</td>\n",
              "      <td>8.50</td>\n",
              "      <td>4.6</td>\n",
              "      <td>1.36</td>\n",
              "      <td>8.93</td>\n",
              "      <td>5.00</td>\n",
              "      <td>1.45</td>\n",
              "      <td>8.22</td>\n",
              "      <td>4.75</td>\n",
              "      <td>1.41</td>\n",
              "      <td>1.87</td>\n",
              "      <td>2.03</td>\n",
              "      <td>1.87</td>\n",
              "      <td>2.05</td>\n",
              "      <td>1.90</td>\n",
              "      <td>2.06</td>\n",
              "      <td>1.84</td>\n",
              "      <td>1.99</td>\n",
              "      <td>1.25</td>\n",
              "      <td>1.99</td>\n",
              "      <td>1.94</td>\n",
              "      <td>1.99</td>\n",
              "      <td>1.93</td>\n",
              "      <td>2.00</td>\n",
              "      <td>1.98</td>\n",
              "      <td>1.93</td>\n",
              "      <td>1.94</td>\n",
              "      <td>8.50</td>\n",
              "      <td>4.20</td>\n",
              "      <td>1.44</td>\n",
              "      <td>7.25</td>\n",
              "      <td>4.20</td>\n",
              "      <td>1.47</td>\n",
              "      <td>7.25</td>\n",
              "      <td>4.30</td>\n",
              "      <td>1.47</td>\n",
              "      <td>8.00</td>\n",
              "      <td>4.28</td>\n",
              "      <td>1.50</td>\n",
              "      <td>7.50</td>\n",
              "      <td>4.20</td>\n",
              "      <td>1.44</td>\n",
              "      <td>7.50</td>\n",
              "      <td>4.10</td>\n",
              "      <td>1.44</td>\n",
              "      <td>9.29</td>\n",
              "      <td>4.45</td>\n",
              "      <td>1.50</td>\n",
              "      <td>7.82</td>\n",
              "      <td>4.31</td>\n",
              "      <td>1.47</td>\n",
              "      <td>2.07</td>\n",
              "      <td>1.83</td>\n",
              "      <td>2.06</td>\n",
              "      <td>1.85</td>\n",
              "      <td>2.09</td>\n",
              "      <td>1.95</td>\n",
              "      <td>2.01</td>\n",
              "      <td>1.84</td>\n",
              "      <td>1.00</td>\n",
              "      <td>2.09</td>\n",
              "      <td>1.84</td>\n",
              "      <td>2.08</td>\n",
              "      <td>1.85</td>\n",
              "      <td>2.17</td>\n",
              "      <td>1.85</td>\n",
              "      <td>2.09</td>\n",
              "      <td>1.79</td>\n",
              "    </tr>\n",
              "    <tr>\n",
              "      <th>11</th>\n",
              "      <td>18/02/2023</td>\n",
              "      <td>E0</td>\n",
              "      <td>12:30</td>\n",
              "      <td>Aston Villa</td>\n",
              "      <td>Arsenal</td>\n",
              "      <td>2</td>\n",
              "      <td>4</td>\n",
              "      <td>A</td>\n",
              "      <td>2</td>\n",
              "      <td>1</td>\n",
              "      <td>H</td>\n",
              "      <td>S Hooper</td>\n",
              "      <td>7</td>\n",
              "      <td>20</td>\n",
              "      <td>5</td>\n",
              "      <td>5</td>\n",
              "      <td>13</td>\n",
              "      <td>4</td>\n",
              "      <td>2</td>\n",
              "      <td>9</td>\n",
              "      <td>2</td>\n",
              "      <td>1</td>\n",
              "      <td>0</td>\n",
              "      <td>0</td>\n",
              "      <td>4.50</td>\n",
              "      <td>3.60</td>\n",
              "      <td>1.50</td>\n",
              "      <td>4.50</td>\n",
              "      <td>3.60</td>\n",
              "      <td>1.78</td>\n",
              "      <td>4.30</td>\n",
              "      <td>3.60</td>\n",
              "      <td>1.85</td>\n",
              "      <td>4.54</td>\n",
              "      <td>3.80</td>\n",
              "      <td>1.85</td>\n",
              "      <td>4.33</td>\n",
              "      <td>3.60</td>\n",
              "      <td>1.80</td>\n",
              "      <td>4.33</td>\n",
              "      <td>3.4</td>\n",
              "      <td>1.80</td>\n",
              "      <td>4.60</td>\n",
              "      <td>3.86</td>\n",
              "      <td>1.87</td>\n",
              "      <td>4.43</td>\n",
              "      <td>3.71</td>\n",
              "      <td>1.84</td>\n",
              "      <td>2.02</td>\n",
              "      <td>1.88</td>\n",
              "      <td>2.01</td>\n",
              "      <td>1.89</td>\n",
              "      <td>2.06</td>\n",
              "      <td>1.91</td>\n",
              "      <td>1.98</td>\n",
              "      <td>1.86</td>\n",
              "      <td>0.50</td>\n",
              "      <td>2.06</td>\n",
              "      <td>1.84</td>\n",
              "      <td>2.09</td>\n",
              "      <td>1.85</td>\n",
              "      <td>2.12</td>\n",
              "      <td>1.88</td>\n",
              "      <td>2.04</td>\n",
              "      <td>1.85</td>\n",
              "      <td>4.20</td>\n",
              "      <td>3.60</td>\n",
              "      <td>1.91</td>\n",
              "      <td>4.10</td>\n",
              "      <td>3.60</td>\n",
              "      <td>1.85</td>\n",
              "      <td>4.30</td>\n",
              "      <td>3.60</td>\n",
              "      <td>1.85</td>\n",
              "      <td>4.24</td>\n",
              "      <td>3.63</td>\n",
              "      <td>1.95</td>\n",
              "      <td>4.40</td>\n",
              "      <td>3.50</td>\n",
              "      <td>1.83</td>\n",
              "      <td>4.10</td>\n",
              "      <td>3.40</td>\n",
              "      <td>1.83</td>\n",
              "      <td>4.81</td>\n",
              "      <td>3.80</td>\n",
              "      <td>1.95</td>\n",
              "      <td>4.36</td>\n",
              "      <td>3.66</td>\n",
              "      <td>1.87</td>\n",
              "      <td>1.99</td>\n",
              "      <td>1.91</td>\n",
              "      <td>1.98</td>\n",
              "      <td>1.93</td>\n",
              "      <td>2.01</td>\n",
              "      <td>2.09</td>\n",
              "      <td>1.93</td>\n",
              "      <td>1.91</td>\n",
              "      <td>0.50</td>\n",
              "      <td>1.98</td>\n",
              "      <td>1.92</td>\n",
              "      <td>1.97</td>\n",
              "      <td>1.95</td>\n",
              "      <td>2.08</td>\n",
              "      <td>1.95</td>\n",
              "      <td>2.02</td>\n",
              "      <td>1.87</td>\n",
              "    </tr>\n",
              "    <tr>\n",
              "      <th>12</th>\n",
              "      <td>25/02/2023</td>\n",
              "      <td>E0</td>\n",
              "      <td>15:00</td>\n",
              "      <td>Leicester</td>\n",
              "      <td>Arsenal</td>\n",
              "      <td>0</td>\n",
              "      <td>1</td>\n",
              "      <td>A</td>\n",
              "      <td>0</td>\n",
              "      <td>0</td>\n",
              "      <td>D</td>\n",
              "      <td>C Pawson</td>\n",
              "      <td>1</td>\n",
              "      <td>10</td>\n",
              "      <td>0</td>\n",
              "      <td>2</td>\n",
              "      <td>14</td>\n",
              "      <td>9</td>\n",
              "      <td>0</td>\n",
              "      <td>8</td>\n",
              "      <td>0</td>\n",
              "      <td>1</td>\n",
              "      <td>0</td>\n",
              "      <td>0</td>\n",
              "      <td>4.75</td>\n",
              "      <td>4.00</td>\n",
              "      <td>1.70</td>\n",
              "      <td>4.60</td>\n",
              "      <td>4.00</td>\n",
              "      <td>1.70</td>\n",
              "      <td>4.60</td>\n",
              "      <td>4.10</td>\n",
              "      <td>1.70</td>\n",
              "      <td>4.93</td>\n",
              "      <td>4.15</td>\n",
              "      <td>1.72</td>\n",
              "      <td>4.60</td>\n",
              "      <td>3.90</td>\n",
              "      <td>1.70</td>\n",
              "      <td>4.60</td>\n",
              "      <td>3.8</td>\n",
              "      <td>1.65</td>\n",
              "      <td>5.00</td>\n",
              "      <td>4.30</td>\n",
              "      <td>1.74</td>\n",
              "      <td>4.73</td>\n",
              "      <td>4.09</td>\n",
              "      <td>1.71</td>\n",
              "      <td>1.67</td>\n",
              "      <td>2.20</td>\n",
              "      <td>1.70</td>\n",
              "      <td>2.27</td>\n",
              "      <td>1.71</td>\n",
              "      <td>2.30</td>\n",
              "      <td>1.67</td>\n",
              "      <td>2.23</td>\n",
              "      <td>0.75</td>\n",
              "      <td>2.02</td>\n",
              "      <td>1.91</td>\n",
              "      <td>2.01</td>\n",
              "      <td>1.92</td>\n",
              "      <td>2.03</td>\n",
              "      <td>1.94</td>\n",
              "      <td>1.98</td>\n",
              "      <td>1.90</td>\n",
              "      <td>6.00</td>\n",
              "      <td>4.20</td>\n",
              "      <td>1.55</td>\n",
              "      <td>5.50</td>\n",
              "      <td>4.20</td>\n",
              "      <td>1.57</td>\n",
              "      <td>5.75</td>\n",
              "      <td>4.30</td>\n",
              "      <td>1.57</td>\n",
              "      <td>6.02</td>\n",
              "      <td>4.31</td>\n",
              "      <td>1.60</td>\n",
              "      <td>5.50</td>\n",
              "      <td>4.20</td>\n",
              "      <td>1.57</td>\n",
              "      <td>5.75</td>\n",
              "      <td>4.00</td>\n",
              "      <td>1.50</td>\n",
              "      <td>6.50</td>\n",
              "      <td>4.45</td>\n",
              "      <td>1.62</td>\n",
              "      <td>5.84</td>\n",
              "      <td>4.29</td>\n",
              "      <td>1.58</td>\n",
              "      <td>1.73</td>\n",
              "      <td>2.10</td>\n",
              "      <td>1.74</td>\n",
              "      <td>2.20</td>\n",
              "      <td>1.77</td>\n",
              "      <td>2.30</td>\n",
              "      <td>1.70</td>\n",
              "      <td>2.19</td>\n",
              "      <td>1.00</td>\n",
              "      <td>1.96</td>\n",
              "      <td>1.97</td>\n",
              "      <td>1.94</td>\n",
              "      <td>1.98</td>\n",
              "      <td>2.00</td>\n",
              "      <td>2.00</td>\n",
              "      <td>1.93</td>\n",
              "      <td>1.95</td>\n",
              "    </tr>\n",
              "    <tr>\n",
              "      <th>13</th>\n",
              "      <td>12/03/2023</td>\n",
              "      <td>E0</td>\n",
              "      <td>14:00</td>\n",
              "      <td>Fulham</td>\n",
              "      <td>Arsenal</td>\n",
              "      <td>0</td>\n",
              "      <td>3</td>\n",
              "      <td>A</td>\n",
              "      <td>0</td>\n",
              "      <td>3</td>\n",
              "      <td>A</td>\n",
              "      <td>D Coote</td>\n",
              "      <td>12</td>\n",
              "      <td>15</td>\n",
              "      <td>2</td>\n",
              "      <td>7</td>\n",
              "      <td>10</td>\n",
              "      <td>9</td>\n",
              "      <td>4</td>\n",
              "      <td>8</td>\n",
              "      <td>0</td>\n",
              "      <td>1</td>\n",
              "      <td>0</td>\n",
              "      <td>0</td>\n",
              "      <td>6.00</td>\n",
              "      <td>4.00</td>\n",
              "      <td>1.57</td>\n",
              "      <td>5.50</td>\n",
              "      <td>4.10</td>\n",
              "      <td>1.60</td>\n",
              "      <td>5.50</td>\n",
              "      <td>4.10</td>\n",
              "      <td>1.60</td>\n",
              "      <td>6.02</td>\n",
              "      <td>4.23</td>\n",
              "      <td>1.59</td>\n",
              "      <td>5.80</td>\n",
              "      <td>4.00</td>\n",
              "      <td>1.57</td>\n",
              "      <td>5.75</td>\n",
              "      <td>3.9</td>\n",
              "      <td>1.53</td>\n",
              "      <td>6.20</td>\n",
              "      <td>4.33</td>\n",
              "      <td>1.63</td>\n",
              "      <td>5.74</td>\n",
              "      <td>4.17</td>\n",
              "      <td>1.59</td>\n",
              "      <td>1.85</td>\n",
              "      <td>2.08</td>\n",
              "      <td>1.85</td>\n",
              "      <td>2.05</td>\n",
              "      <td>1.87</td>\n",
              "      <td>2.09</td>\n",
              "      <td>1.81</td>\n",
              "      <td>2.02</td>\n",
              "      <td>1.00</td>\n",
              "      <td>1.88</td>\n",
              "      <td>2.05</td>\n",
              "      <td>1.88</td>\n",
              "      <td>2.02</td>\n",
              "      <td>1.90</td>\n",
              "      <td>2.06</td>\n",
              "      <td>1.86</td>\n",
              "      <td>2.02</td>\n",
              "      <td>7.50</td>\n",
              "      <td>4.75</td>\n",
              "      <td>1.40</td>\n",
              "      <td>7.25</td>\n",
              "      <td>4.60</td>\n",
              "      <td>1.43</td>\n",
              "      <td>7.25</td>\n",
              "      <td>4.50</td>\n",
              "      <td>1.45</td>\n",
              "      <td>7.83</td>\n",
              "      <td>4.90</td>\n",
              "      <td>1.43</td>\n",
              "      <td>8.00</td>\n",
              "      <td>4.50</td>\n",
              "      <td>1.40</td>\n",
              "      <td>7.50</td>\n",
              "      <td>4.33</td>\n",
              "      <td>1.40</td>\n",
              "      <td>8.25</td>\n",
              "      <td>4.90</td>\n",
              "      <td>1.48</td>\n",
              "      <td>7.64</td>\n",
              "      <td>4.69</td>\n",
              "      <td>1.43</td>\n",
              "      <td>1.73</td>\n",
              "      <td>2.10</td>\n",
              "      <td>1.76</td>\n",
              "      <td>2.17</td>\n",
              "      <td>1.84</td>\n",
              "      <td>2.23</td>\n",
              "      <td>1.76</td>\n",
              "      <td>2.10</td>\n",
              "      <td>1.25</td>\n",
              "      <td>1.97</td>\n",
              "      <td>1.96</td>\n",
              "      <td>1.96</td>\n",
              "      <td>1.96</td>\n",
              "      <td>1.97</td>\n",
              "      <td>2.05</td>\n",
              "      <td>1.90</td>\n",
              "      <td>1.97</td>\n",
              "    </tr>\n",
              "    <tr>\n",
              "      <th>14</th>\n",
              "      <td>09/04/2023</td>\n",
              "      <td>E0</td>\n",
              "      <td>16:30</td>\n",
              "      <td>Liverpool</td>\n",
              "      <td>Arsenal</td>\n",
              "      <td>2</td>\n",
              "      <td>2</td>\n",
              "      <td>D</td>\n",
              "      <td>1</td>\n",
              "      <td>2</td>\n",
              "      <td>A</td>\n",
              "      <td>P Tierney</td>\n",
              "      <td>21</td>\n",
              "      <td>9</td>\n",
              "      <td>6</td>\n",
              "      <td>5</td>\n",
              "      <td>11</td>\n",
              "      <td>11</td>\n",
              "      <td>5</td>\n",
              "      <td>4</td>\n",
              "      <td>4</td>\n",
              "      <td>4</td>\n",
              "      <td>0</td>\n",
              "      <td>0</td>\n",
              "      <td>2.88</td>\n",
              "      <td>3.60</td>\n",
              "      <td>2.38</td>\n",
              "      <td>2.70</td>\n",
              "      <td>3.70</td>\n",
              "      <td>2.40</td>\n",
              "      <td>2.75</td>\n",
              "      <td>3.65</td>\n",
              "      <td>2.45</td>\n",
              "      <td>2.82</td>\n",
              "      <td>3.81</td>\n",
              "      <td>2.44</td>\n",
              "      <td>2.70</td>\n",
              "      <td>3.60</td>\n",
              "      <td>2.40</td>\n",
              "      <td>2.75</td>\n",
              "      <td>3.6</td>\n",
              "      <td>2.38</td>\n",
              "      <td>2.95</td>\n",
              "      <td>3.88</td>\n",
              "      <td>2.50</td>\n",
              "      <td>2.79</td>\n",
              "      <td>3.69</td>\n",
              "      <td>2.41</td>\n",
              "      <td>1.62</td>\n",
              "      <td>2.30</td>\n",
              "      <td>1.67</td>\n",
              "      <td>2.31</td>\n",
              "      <td>1.71</td>\n",
              "      <td>2.39</td>\n",
              "      <td>1.64</td>\n",
              "      <td>2.28</td>\n",
              "      <td>0.25</td>\n",
              "      <td>1.81</td>\n",
              "      <td>2.09</td>\n",
              "      <td>1.79</td>\n",
              "      <td>2.12</td>\n",
              "      <td>1.84</td>\n",
              "      <td>2.14</td>\n",
              "      <td>1.79</td>\n",
              "      <td>2.08</td>\n",
              "      <td>2.70</td>\n",
              "      <td>3.50</td>\n",
              "      <td>2.50</td>\n",
              "      <td>2.65</td>\n",
              "      <td>3.50</td>\n",
              "      <td>2.55</td>\n",
              "      <td>2.65</td>\n",
              "      <td>3.50</td>\n",
              "      <td>2.55</td>\n",
              "      <td>2.80</td>\n",
              "      <td>3.71</td>\n",
              "      <td>2.51</td>\n",
              "      <td>2.80</td>\n",
              "      <td>3.40</td>\n",
              "      <td>2.45</td>\n",
              "      <td>2.70</td>\n",
              "      <td>3.50</td>\n",
              "      <td>2.50</td>\n",
              "      <td>2.81</td>\n",
              "      <td>3.78</td>\n",
              "      <td>2.64</td>\n",
              "      <td>2.72</td>\n",
              "      <td>3.60</td>\n",
              "      <td>2.55</td>\n",
              "      <td>1.67</td>\n",
              "      <td>2.20</td>\n",
              "      <td>1.70</td>\n",
              "      <td>2.26</td>\n",
              "      <td>1.76</td>\n",
              "      <td>2.37</td>\n",
              "      <td>1.70</td>\n",
              "      <td>2.19</td>\n",
              "      <td>0.00</td>\n",
              "      <td>2.08</td>\n",
              "      <td>1.85</td>\n",
              "      <td>2.07</td>\n",
              "      <td>1.85</td>\n",
              "      <td>2.11</td>\n",
              "      <td>1.93</td>\n",
              "      <td>2.01</td>\n",
              "      <td>1.87</td>\n",
              "    </tr>\n",
              "    <tr>\n",
              "      <th>15</th>\n",
              "      <td>16/04/2023</td>\n",
              "      <td>E0</td>\n",
              "      <td>14:00</td>\n",
              "      <td>West Ham</td>\n",
              "      <td>Arsenal</td>\n",
              "      <td>2</td>\n",
              "      <td>2</td>\n",
              "      <td>D</td>\n",
              "      <td>1</td>\n",
              "      <td>2</td>\n",
              "      <td>A</td>\n",
              "      <td>D Coote</td>\n",
              "      <td>16</td>\n",
              "      <td>11</td>\n",
              "      <td>3</td>\n",
              "      <td>5</td>\n",
              "      <td>11</td>\n",
              "      <td>8</td>\n",
              "      <td>7</td>\n",
              "      <td>2</td>\n",
              "      <td>1</td>\n",
              "      <td>2</td>\n",
              "      <td>0</td>\n",
              "      <td>0</td>\n",
              "      <td>6.00</td>\n",
              "      <td>4.20</td>\n",
              "      <td>1.55</td>\n",
              "      <td>5.75</td>\n",
              "      <td>4.10</td>\n",
              "      <td>1.57</td>\n",
              "      <td>5.75</td>\n",
              "      <td>4.20</td>\n",
              "      <td>1.57</td>\n",
              "      <td>6.14</td>\n",
              "      <td>4.29</td>\n",
              "      <td>1.57</td>\n",
              "      <td>5.80</td>\n",
              "      <td>4.00</td>\n",
              "      <td>1.57</td>\n",
              "      <td>6.00</td>\n",
              "      <td>4.1</td>\n",
              "      <td>1.53</td>\n",
              "      <td>6.20</td>\n",
              "      <td>4.40</td>\n",
              "      <td>1.61</td>\n",
              "      <td>5.92</td>\n",
              "      <td>4.22</td>\n",
              "      <td>1.57</td>\n",
              "      <td>1.80</td>\n",
              "      <td>2.00</td>\n",
              "      <td>1.83</td>\n",
              "      <td>2.06</td>\n",
              "      <td>1.86</td>\n",
              "      <td>2.11</td>\n",
              "      <td>1.80</td>\n",
              "      <td>2.04</td>\n",
              "      <td>1.00</td>\n",
              "      <td>1.92</td>\n",
              "      <td>1.98</td>\n",
              "      <td>1.92</td>\n",
              "      <td>1.99</td>\n",
              "      <td>1.96</td>\n",
              "      <td>2.04</td>\n",
              "      <td>1.89</td>\n",
              "      <td>1.97</td>\n",
              "      <td>5.25</td>\n",
              "      <td>4.20</td>\n",
              "      <td>1.62</td>\n",
              "      <td>5.50</td>\n",
              "      <td>4.10</td>\n",
              "      <td>1.58</td>\n",
              "      <td>5.50</td>\n",
              "      <td>4.10</td>\n",
              "      <td>1.63</td>\n",
              "      <td>5.72</td>\n",
              "      <td>4.30</td>\n",
              "      <td>1.61</td>\n",
              "      <td>5.80</td>\n",
              "      <td>4.00</td>\n",
              "      <td>1.57</td>\n",
              "      <td>6.00</td>\n",
              "      <td>4.10</td>\n",
              "      <td>1.57</td>\n",
              "      <td>6.20</td>\n",
              "      <td>4.40</td>\n",
              "      <td>1.66</td>\n",
              "      <td>5.58</td>\n",
              "      <td>4.20</td>\n",
              "      <td>1.61</td>\n",
              "      <td>1.73</td>\n",
              "      <td>2.10</td>\n",
              "      <td>1.78</td>\n",
              "      <td>2.15</td>\n",
              "      <td>1.81</td>\n",
              "      <td>2.29</td>\n",
              "      <td>1.74</td>\n",
              "      <td>2.12</td>\n",
              "      <td>1.00</td>\n",
              "      <td>1.89</td>\n",
              "      <td>2.04</td>\n",
              "      <td>1.88</td>\n",
              "      <td>2.05</td>\n",
              "      <td>1.97</td>\n",
              "      <td>2.11</td>\n",
              "      <td>1.85</td>\n",
              "      <td>2.03</td>\n",
              "    </tr>\n",
              "    <tr>\n",
              "      <th>16</th>\n",
              "      <td>26/04/2023</td>\n",
              "      <td>E0</td>\n",
              "      <td>20:00</td>\n",
              "      <td>Man City</td>\n",
              "      <td>Arsenal</td>\n",
              "      <td>4</td>\n",
              "      <td>1</td>\n",
              "      <td>H</td>\n",
              "      <td>2</td>\n",
              "      <td>0</td>\n",
              "      <td>H</td>\n",
              "      <td>M Oliver</td>\n",
              "      <td>14</td>\n",
              "      <td>8</td>\n",
              "      <td>9</td>\n",
              "      <td>2</td>\n",
              "      <td>13</td>\n",
              "      <td>13</td>\n",
              "      <td>1</td>\n",
              "      <td>3</td>\n",
              "      <td>3</td>\n",
              "      <td>1</td>\n",
              "      <td>0</td>\n",
              "      <td>0</td>\n",
              "      <td>1.55</td>\n",
              "      <td>4.50</td>\n",
              "      <td>5.25</td>\n",
              "      <td>1.55</td>\n",
              "      <td>4.40</td>\n",
              "      <td>5.50</td>\n",
              "      <td>1.55</td>\n",
              "      <td>4.50</td>\n",
              "      <td>5.50</td>\n",
              "      <td>1.57</td>\n",
              "      <td>4.52</td>\n",
              "      <td>5.71</td>\n",
              "      <td>1.52</td>\n",
              "      <td>4.33</td>\n",
              "      <td>5.80</td>\n",
              "      <td>1.53</td>\n",
              "      <td>4.2</td>\n",
              "      <td>5.75</td>\n",
              "      <td>1.61</td>\n",
              "      <td>4.80</td>\n",
              "      <td>6.40</td>\n",
              "      <td>1.56</td>\n",
              "      <td>4.49</td>\n",
              "      <td>5.70</td>\n",
              "      <td>1.62</td>\n",
              "      <td>2.30</td>\n",
              "      <td>1.64</td>\n",
              "      <td>2.37</td>\n",
              "      <td>1.67</td>\n",
              "      <td>2.49</td>\n",
              "      <td>1.60</td>\n",
              "      <td>2.35</td>\n",
              "      <td>-1.00</td>\n",
              "      <td>1.93</td>\n",
              "      <td>1.97</td>\n",
              "      <td>1.96</td>\n",
              "      <td>1.94</td>\n",
              "      <td>1.99</td>\n",
              "      <td>2.08</td>\n",
              "      <td>1.90</td>\n",
              "      <td>1.96</td>\n",
              "      <td>1.62</td>\n",
              "      <td>4.00</td>\n",
              "      <td>5.25</td>\n",
              "      <td>1.63</td>\n",
              "      <td>4.10</td>\n",
              "      <td>5.00</td>\n",
              "      <td>1.55</td>\n",
              "      <td>4.50</td>\n",
              "      <td>5.50</td>\n",
              "      <td>1.68</td>\n",
              "      <td>4.17</td>\n",
              "      <td>5.20</td>\n",
              "      <td>1.63</td>\n",
              "      <td>3.90</td>\n",
              "      <td>5.25</td>\n",
              "      <td>1.65</td>\n",
              "      <td>3.90</td>\n",
              "      <td>5.25</td>\n",
              "      <td>1.74</td>\n",
              "      <td>4.50</td>\n",
              "      <td>5.60</td>\n",
              "      <td>1.66</td>\n",
              "      <td>4.16</td>\n",
              "      <td>5.16</td>\n",
              "      <td>1.73</td>\n",
              "      <td>2.10</td>\n",
              "      <td>1.78</td>\n",
              "      <td>2.14</td>\n",
              "      <td>1.83</td>\n",
              "      <td>2.45</td>\n",
              "      <td>1.72</td>\n",
              "      <td>2.15</td>\n",
              "      <td>-0.75</td>\n",
              "      <td>1.86</td>\n",
              "      <td>2.04</td>\n",
              "      <td>1.87</td>\n",
              "      <td>2.06</td>\n",
              "      <td>1.90</td>\n",
              "      <td>2.15</td>\n",
              "      <td>1.83</td>\n",
              "      <td>2.04</td>\n",
              "    </tr>\n",
              "    <tr>\n",
              "      <th>17</th>\n",
              "      <td>07/05/2023</td>\n",
              "      <td>E0</td>\n",
              "      <td>16:30</td>\n",
              "      <td>Newcastle</td>\n",
              "      <td>Arsenal</td>\n",
              "      <td>0</td>\n",
              "      <td>2</td>\n",
              "      <td>A</td>\n",
              "      <td>0</td>\n",
              "      <td>1</td>\n",
              "      <td>A</td>\n",
              "      <td>C Kavanagh</td>\n",
              "      <td>12</td>\n",
              "      <td>10</td>\n",
              "      <td>5</td>\n",
              "      <td>6</td>\n",
              "      <td>16</td>\n",
              "      <td>12</td>\n",
              "      <td>9</td>\n",
              "      <td>4</td>\n",
              "      <td>2</td>\n",
              "      <td>1</td>\n",
              "      <td>0</td>\n",
              "      <td>0</td>\n",
              "      <td>2.45</td>\n",
              "      <td>3.75</td>\n",
              "      <td>2.63</td>\n",
              "      <td>2.50</td>\n",
              "      <td>3.60</td>\n",
              "      <td>2.60</td>\n",
              "      <td>2.40</td>\n",
              "      <td>3.65</td>\n",
              "      <td>2.80</td>\n",
              "      <td>2.51</td>\n",
              "      <td>3.80</td>\n",
              "      <td>2.73</td>\n",
              "      <td>2.50</td>\n",
              "      <td>3.60</td>\n",
              "      <td>2.62</td>\n",
              "      <td>2.45</td>\n",
              "      <td>3.5</td>\n",
              "      <td>2.70</td>\n",
              "      <td>2.60</td>\n",
              "      <td>3.94</td>\n",
              "      <td>2.85</td>\n",
              "      <td>2.49</td>\n",
              "      <td>3.73</td>\n",
              "      <td>2.71</td>\n",
              "      <td>1.62</td>\n",
              "      <td>2.30</td>\n",
              "      <td>1.65</td>\n",
              "      <td>2.34</td>\n",
              "      <td>1.70</td>\n",
              "      <td>2.41</td>\n",
              "      <td>1.64</td>\n",
              "      <td>2.29</td>\n",
              "      <td>0.00</td>\n",
              "      <td>1.85</td>\n",
              "      <td>2.05</td>\n",
              "      <td>1.87</td>\n",
              "      <td>2.04</td>\n",
              "      <td>1.90</td>\n",
              "      <td>2.10</td>\n",
              "      <td>1.84</td>\n",
              "      <td>2.04</td>\n",
              "      <td>2.25</td>\n",
              "      <td>3.80</td>\n",
              "      <td>2.90</td>\n",
              "      <td>2.25</td>\n",
              "      <td>3.70</td>\n",
              "      <td>2.90</td>\n",
              "      <td>2.40</td>\n",
              "      <td>3.75</td>\n",
              "      <td>2.80</td>\n",
              "      <td>2.32</td>\n",
              "      <td>3.77</td>\n",
              "      <td>3.07</td>\n",
              "      <td>2.35</td>\n",
              "      <td>3.60</td>\n",
              "      <td>2.80</td>\n",
              "      <td>2.25</td>\n",
              "      <td>3.60</td>\n",
              "      <td>3.10</td>\n",
              "      <td>2.51</td>\n",
              "      <td>3.88</td>\n",
              "      <td>3.14</td>\n",
              "      <td>2.31</td>\n",
              "      <td>3.74</td>\n",
              "      <td>2.97</td>\n",
              "      <td>1.67</td>\n",
              "      <td>2.20</td>\n",
              "      <td>1.69</td>\n",
              "      <td>2.28</td>\n",
              "      <td>1.72</td>\n",
              "      <td>2.45</td>\n",
              "      <td>1.63</td>\n",
              "      <td>2.31</td>\n",
              "      <td>-0.25</td>\n",
              "      <td>1.98</td>\n",
              "      <td>1.92</td>\n",
              "      <td>2.02</td>\n",
              "      <td>1.91</td>\n",
              "      <td>2.10</td>\n",
              "      <td>1.96</td>\n",
              "      <td>2.00</td>\n",
              "      <td>1.87</td>\n",
              "    </tr>\n",
              "    <tr>\n",
              "      <th>18</th>\n",
              "      <td>20/05/2023</td>\n",
              "      <td>E0</td>\n",
              "      <td>17:30</td>\n",
              "      <td>Nott'm Forest</td>\n",
              "      <td>Arsenal</td>\n",
              "      <td>1</td>\n",
              "      <td>0</td>\n",
              "      <td>H</td>\n",
              "      <td>1</td>\n",
              "      <td>0</td>\n",
              "      <td>H</td>\n",
              "      <td>A Taylor</td>\n",
              "      <td>6</td>\n",
              "      <td>11</td>\n",
              "      <td>2</td>\n",
              "      <td>3</td>\n",
              "      <td>11</td>\n",
              "      <td>12</td>\n",
              "      <td>3</td>\n",
              "      <td>6</td>\n",
              "      <td>3</td>\n",
              "      <td>2</td>\n",
              "      <td>0</td>\n",
              "      <td>0</td>\n",
              "      <td>5.25</td>\n",
              "      <td>4.33</td>\n",
              "      <td>1.57</td>\n",
              "      <td>5.25</td>\n",
              "      <td>4.40</td>\n",
              "      <td>1.57</td>\n",
              "      <td>4.40</td>\n",
              "      <td>4.30</td>\n",
              "      <td>1.70</td>\n",
              "      <td>5.37</td>\n",
              "      <td>4.47</td>\n",
              "      <td>1.61</td>\n",
              "      <td>5.50</td>\n",
              "      <td>4.33</td>\n",
              "      <td>1.55</td>\n",
              "      <td>5.50</td>\n",
              "      <td>4.2</td>\n",
              "      <td>1.55</td>\n",
              "      <td>5.60</td>\n",
              "      <td>4.60</td>\n",
              "      <td>1.70</td>\n",
              "      <td>5.37</td>\n",
              "      <td>4.45</td>\n",
              "      <td>1.59</td>\n",
              "      <td>1.57</td>\n",
              "      <td>2.38</td>\n",
              "      <td>1.61</td>\n",
              "      <td>2.42</td>\n",
              "      <td>1.64</td>\n",
              "      <td>2.51</td>\n",
              "      <td>1.57</td>\n",
              "      <td>2.41</td>\n",
              "      <td>1.00</td>\n",
              "      <td>1.91</td>\n",
              "      <td>1.99</td>\n",
              "      <td>1.93</td>\n",
              "      <td>1.98</td>\n",
              "      <td>1.95</td>\n",
              "      <td>2.10</td>\n",
              "      <td>1.90</td>\n",
              "      <td>1.96</td>\n",
              "      <td>5.00</td>\n",
              "      <td>4.20</td>\n",
              "      <td>1.62</td>\n",
              "      <td>5.25</td>\n",
              "      <td>4.00</td>\n",
              "      <td>1.62</td>\n",
              "      <td>4.70</td>\n",
              "      <td>4.20</td>\n",
              "      <td>1.67</td>\n",
              "      <td>5.28</td>\n",
              "      <td>4.23</td>\n",
              "      <td>1.66</td>\n",
              "      <td>5.25</td>\n",
              "      <td>4.00</td>\n",
              "      <td>1.62</td>\n",
              "      <td>5.50</td>\n",
              "      <td>4.00</td>\n",
              "      <td>1.62</td>\n",
              "      <td>5.60</td>\n",
              "      <td>4.33</td>\n",
              "      <td>1.68</td>\n",
              "      <td>5.26</td>\n",
              "      <td>4.18</td>\n",
              "      <td>1.64</td>\n",
              "      <td>1.73</td>\n",
              "      <td>2.10</td>\n",
              "      <td>1.76</td>\n",
              "      <td>2.17</td>\n",
              "      <td>1.83</td>\n",
              "      <td>2.29</td>\n",
              "      <td>1.74</td>\n",
              "      <td>2.13</td>\n",
              "      <td>1.00</td>\n",
              "      <td>1.75</td>\n",
              "      <td>2.05</td>\n",
              "      <td>1.81</td>\n",
              "      <td>2.13</td>\n",
              "      <td>1.87</td>\n",
              "      <td>2.20</td>\n",
              "      <td>1.79</td>\n",
              "      <td>2.09</td>\n",
              "    </tr>\n",
              "  </tbody>\n",
              "</table>\n",
              "</div>"
            ],
            "text/plain": [
              "          Date Div   Time        HomeTeam AwayTeam  FTHG  FTAG FTR  HTHG  \\\n",
              "0   05/08/2022  E0  20:00  Crystal Palace  Arsenal     0     2   A     0   \n",
              "1   20/08/2022  E0  17:30     Bournemouth  Arsenal     0     3   A     0   \n",
              "2   04/09/2022  E0  16:30      Man United  Arsenal     3     1   H     1   \n",
              "3   18/09/2022  E0  12:00       Brentford  Arsenal     0     3   A     0   \n",
              "4   16/10/2022  E0  14:00           Leeds  Arsenal     0     1   A     0   \n",
              "5   23/10/2022  E0  14:00     Southampton  Arsenal     1     1   D     0   \n",
              "6   06/11/2022  E0  12:00         Chelsea  Arsenal     0     1   A     0   \n",
              "7   12/11/2022  E0  19:45          Wolves  Arsenal     0     2   A     0   \n",
              "8   31/12/2022  E0  17:30        Brighton  Arsenal     2     4   A     0   \n",
              "9   15/01/2023  E0  16:30       Tottenham  Arsenal     0     2   A     0   \n",
              "10  04/02/2023  E0  12:30         Everton  Arsenal     1     0   H     0   \n",
              "11  18/02/2023  E0  12:30     Aston Villa  Arsenal     2     4   A     2   \n",
              "12  25/02/2023  E0  15:00       Leicester  Arsenal     0     1   A     0   \n",
              "13  12/03/2023  E0  14:00          Fulham  Arsenal     0     3   A     0   \n",
              "14  09/04/2023  E0  16:30       Liverpool  Arsenal     2     2   D     1   \n",
              "15  16/04/2023  E0  14:00        West Ham  Arsenal     2     2   D     1   \n",
              "16  26/04/2023  E0  20:00        Man City  Arsenal     4     1   H     2   \n",
              "17  07/05/2023  E0  16:30       Newcastle  Arsenal     0     2   A     0   \n",
              "18  20/05/2023  E0  17:30   Nott'm Forest  Arsenal     1     0   H     1   \n",
              "\n",
              "    HTAG HTR     Referee  HS  AS  HST  AST  HF  AF  HC  AC  HY  AY  HR  AR  \\\n",
              "0      1   A    A Taylor  10  10    2    2  16  11   3   5   1   2   0   0   \n",
              "1      2   A    C Pawson   6  14    1    6  12  10   3   4   2   1   0   0   \n",
              "2      0   H   P Tierney  10  16    6    3  13   9   2   5   3   3   0   0   \n",
              "3      2   A     D Coote   5  13    2    7  10  10   3   3   0   2   0   0   \n",
              "4      1   A  C Kavanagh  16   9    4    4  10  11   6   3   0   2   0   0   \n",
              "5      1   A     R Jones  10  12    3    3  11   8   9   4   2   1   0   0   \n",
              "6      0   D    M Oliver   5  14    1    2  20  13   4   6   5   2   0   0   \n",
              "7      0   D   S Attwell  11  14    2    4   5   6   6   4   3   2   0   0   \n",
              "8      2   A    A Taylor   9  14    5    7   7  11   7   4   3   3   0   0   \n",
              "9      2   A    C Pawson  17  14    7    5  16  15   4   3   4   2   0   0   \n",
              "10     0   D     D Coote  12  15    4    3  13   8   7   5   4   1   0   0   \n",
              "11     1   H    S Hooper   7  20    5    5  13   4   2   9   2   1   0   0   \n",
              "12     0   D    C Pawson   1  10    0    2  14   9   0   8   0   1   0   0   \n",
              "13     3   A     D Coote  12  15    2    7  10   9   4   8   0   1   0   0   \n",
              "14     2   A   P Tierney  21   9    6    5  11  11   5   4   4   4   0   0   \n",
              "15     2   A     D Coote  16  11    3    5  11   8   7   2   1   2   0   0   \n",
              "16     0   H    M Oliver  14   8    9    2  13  13   1   3   3   1   0   0   \n",
              "17     1   A  C Kavanagh  12  10    5    6  16  12   9   4   2   1   0   0   \n",
              "18     0   H    A Taylor   6  11    2    3  11  12   3   6   3   2   0   0   \n",
              "\n",
              "    B365H  B365D  B365A   BWH   BWD   BWA   IWH   IWD   IWA   PSH   PSD   PSA  \\\n",
              "0    4.20   3.60   1.85  4.33  3.50  1.87  4.30  3.55  1.85  4.50  3.65  1.89   \n",
              "1    8.00   4.75   1.40  7.25  4.60  1.42  7.25  4.70  1.43  7.55  4.80  1.46   \n",
              "2    2.50   3.50   2.70  2.55  3.50  2.55  2.55  3.55  2.65  2.70  3.58  2.68   \n",
              "3    4.20   3.80   1.80  4.20  3.75  1.82  4.20  3.85  1.80  4.46  3.98  1.83   \n",
              "4    6.00   4.20   1.55  5.50  4.40  1.55  5.75  4.40  1.55  6.23  4.49  1.56   \n",
              "5    6.00   4.00   1.57  5.25  4.20  1.58  5.50  4.30  1.57  6.20  4.31  1.58   \n",
              "6    2.55   3.40   2.70  2.55  3.40  2.70  2.65  3.45  2.60  2.72  3.50  2.71   \n",
              "7    6.00   4.20   1.55  5.75  4.20  1.55  6.00  4.30  1.55  6.50  4.30  1.56   \n",
              "8    3.40   3.50   2.10  3.40  3.50  2.10  3.40  3.45  2.15  3.60  3.62  2.13   \n",
              "9    3.10   3.60   2.20  3.30  3.60  2.10  3.20  3.55  2.20  3.34  3.71  2.21   \n",
              "10   8.50   4.50   1.40  7.50  4.75  1.41  7.75  4.70  1.40  8.93  4.84  1.41   \n",
              "11   4.50   3.60   1.50  4.50  3.60  1.78  4.30  3.60  1.85  4.54  3.80  1.85   \n",
              "12   4.75   4.00   1.70  4.60  4.00  1.70  4.60  4.10  1.70  4.93  4.15  1.72   \n",
              "13   6.00   4.00   1.57  5.50  4.10  1.60  5.50  4.10  1.60  6.02  4.23  1.59   \n",
              "14   2.88   3.60   2.38  2.70  3.70  2.40  2.75  3.65  2.45  2.82  3.81  2.44   \n",
              "15   6.00   4.20   1.55  5.75  4.10  1.57  5.75  4.20  1.57  6.14  4.29  1.57   \n",
              "16   1.55   4.50   5.25  1.55  4.40  5.50  1.55  4.50  5.50  1.57  4.52  5.71   \n",
              "17   2.45   3.75   2.63  2.50  3.60  2.60  2.40  3.65  2.80  2.51  3.80  2.73   \n",
              "18   5.25   4.33   1.57  5.25  4.40  1.57  4.40  4.30  1.70  5.37  4.47  1.61   \n",
              "\n",
              "     WHH   WHD   WHA   VCH  VCD   VCA  MaxH  MaxD  MaxA  AvgH  AvgD  AvgA  \\\n",
              "0   4.40  3.50  1.83  4.60  3.5  1.87  4.60  3.78  1.95  4.39  3.59  1.88   \n",
              "1   8.00  4.50  1.40  8.00  4.4  1.40  8.01  4.90  1.47  7.65  4.70  1.43   \n",
              "2   2.50  3.50  2.70  2.50  3.5  2.60  2.70  3.74  2.78  2.61  3.55  2.67   \n",
              "3   4.20  3.80  1.78  4.33  3.8  1.75  4.50  4.05  1.86  4.30  3.91  1.81   \n",
              "4   5.50  4.20  1.57  5.75  4.2  1.53  6.30  4.60  1.60  5.83  4.41  1.56   \n",
              "5   5.50  4.00  1.60  5.75  4.1  1.53  6.30  4.50  1.60  5.78  4.27  1.58   \n",
              "6   2.60  3.25  2.70  2.60  3.3  2.63  2.72  3.54  2.85  2.64  3.42  2.70   \n",
              "7   6.00  4.20  1.53  6.00  4.1  1.50  6.50  4.44  1.59  6.15  4.26  1.55   \n",
              "8   3.40  3.50  2.10  3.40  3.4  2.10  3.60  3.72  2.17  3.46  3.56  2.12   \n",
              "9   3.25  3.50  2.15  3.20  3.4  2.15  3.38  3.85  2.24  3.24  3.63  2.18   \n",
              "10  8.00  4.50  1.40  8.50  4.6  1.36  8.93  5.00  1.45  8.22  4.75  1.41   \n",
              "11  4.33  3.60  1.80  4.33  3.4  1.80  4.60  3.86  1.87  4.43  3.71  1.84   \n",
              "12  4.60  3.90  1.70  4.60  3.8  1.65  5.00  4.30  1.74  4.73  4.09  1.71   \n",
              "13  5.80  4.00  1.57  5.75  3.9  1.53  6.20  4.33  1.63  5.74  4.17  1.59   \n",
              "14  2.70  3.60  2.40  2.75  3.6  2.38  2.95  3.88  2.50  2.79  3.69  2.41   \n",
              "15  5.80  4.00  1.57  6.00  4.1  1.53  6.20  4.40  1.61  5.92  4.22  1.57   \n",
              "16  1.52  4.33  5.80  1.53  4.2  5.75  1.61  4.80  6.40  1.56  4.49  5.70   \n",
              "17  2.50  3.60  2.62  2.45  3.5  2.70  2.60  3.94  2.85  2.49  3.73  2.71   \n",
              "18  5.50  4.33  1.55  5.50  4.2  1.55  5.60  4.60  1.70  5.37  4.45  1.59   \n",
              "\n",
              "    B365>2.5  B365<2.5  P>2.5  P<2.5  Max>2.5  Max<2.5  Avg>2.5  Avg<2.5  \\\n",
              "0       2.10      1.72   2.14   1.78     2.19     1.91     2.09     1.76   \n",
              "1       1.72      2.10   1.81   2.10     1.82     2.14     1.76     2.09   \n",
              "2       1.66      2.20   1.73   2.22     1.77     2.28     1.70     2.18   \n",
              "3       1.66      2.20   1.72   2.24     1.72     2.28     1.68     2.21   \n",
              "4       1.61      2.30   1.65   2.37     1.67     2.41     1.62     2.31   \n",
              "5       1.66      2.20   1.75   2.20     1.75     2.29     1.67     2.22   \n",
              "6       1.93      1.97   1.93   1.98     1.97     2.02     1.89     1.94   \n",
              "7       1.80      2.00   1.83   2.08     1.84     2.13     1.78     2.05   \n",
              "8       1.89      2.04   1.89   2.02     1.91     2.08     1.84     2.00   \n",
              "9       1.80      2.00   1.83   2.07     1.85     2.11     1.79     2.04   \n",
              "10      1.87      2.03   1.87   2.05     1.90     2.06     1.84     1.99   \n",
              "11      2.02      1.88   2.01   1.89     2.06     1.91     1.98     1.86   \n",
              "12      1.67      2.20   1.70   2.27     1.71     2.30     1.67     2.23   \n",
              "13      1.85      2.08   1.85   2.05     1.87     2.09     1.81     2.02   \n",
              "14      1.62      2.30   1.67   2.31     1.71     2.39     1.64     2.28   \n",
              "15      1.80      2.00   1.83   2.06     1.86     2.11     1.80     2.04   \n",
              "16      1.62      2.30   1.64   2.37     1.67     2.49     1.60     2.35   \n",
              "17      1.62      2.30   1.65   2.34     1.70     2.41     1.64     2.29   \n",
              "18      1.57      2.38   1.61   2.42     1.64     2.51     1.57     2.41   \n",
              "\n",
              "     AHh  B365AHH  B365AHA  PAHH  PAHA  MaxAHH  MaxAHA  AvgAHH  AvgAHA  \\\n",
              "0   0.50     2.04     1.89  2.03  1.89    2.06    1.91    2.01    1.87   \n",
              "1   1.25     1.91     1.99  1.92  2.01    1.96    2.03    1.90    1.97   \n",
              "2   0.00     1.90     2.00  1.97  1.95    1.98    2.01    1.91    1.97   \n",
              "3   0.75     1.85     2.05  1.88  2.05    1.90    2.07    1.84    2.04   \n",
              "4   1.00     1.98     1.92  2.01  1.92    2.01    1.96    1.95    1.92   \n",
              "5   1.00     1.93     1.97  1.95  1.97    1.95    2.00    1.90    1.96   \n",
              "6   0.00     1.93     1.97  1.96  1.96    1.96    2.03    1.92    1.95   \n",
              "7   1.00     1.95     1.95  1.95  1.96    1.99    2.00    1.93    1.93   \n",
              "8   0.25     2.06     1.87  2.09  1.85    2.09    1.90    2.04    1.83   \n",
              "9   0.25     1.99     1.91  2.01  1.92    2.01    1.94    1.97    1.89   \n",
              "10  1.25     1.99     1.94  1.99  1.93    2.00    1.98    1.93    1.94   \n",
              "11  0.50     2.06     1.84  2.09  1.85    2.12    1.88    2.04    1.85   \n",
              "12  0.75     2.02     1.91  2.01  1.92    2.03    1.94    1.98    1.90   \n",
              "13  1.00     1.88     2.05  1.88  2.02    1.90    2.06    1.86    2.02   \n",
              "14  0.25     1.81     2.09  1.79  2.12    1.84    2.14    1.79    2.08   \n",
              "15  1.00     1.92     1.98  1.92  1.99    1.96    2.04    1.89    1.97   \n",
              "16 -1.00     1.93     1.97  1.96  1.94    1.99    2.08    1.90    1.96   \n",
              "17  0.00     1.85     2.05  1.87  2.04    1.90    2.10    1.84    2.04   \n",
              "18  1.00     1.91     1.99  1.93  1.98    1.95    2.10    1.90    1.96   \n",
              "\n",
              "    B365CH  B365CD  B365CA  BWCH  BWCD  BWCA  IWCH  IWCD  IWCA  PSCH  PSCD  \\\n",
              "0     4.50    3.60    1.80  4.50  3.50  1.83  4.40  3.55  1.85  4.58  3.63   \n",
              "1     7.50    4.75    1.40  7.00  4.50  1.44  7.00  4.60  1.45  7.26  4.82   \n",
              "2     2.60    3.50    2.60  2.60  3.40  2.60  2.65  3.40  2.65  2.71  3.56   \n",
              "3     4.50    3.80    1.75  4.33  3.90  1.77  4.30  3.85  1.80  4.50  3.85   \n",
              "4     5.00    4.00    1.66  4.80  4.20  1.65  4.90  4.30  1.63  4.97  4.22   \n",
              "5     6.50    4.33    1.45  6.25  4.50  1.49  6.75  4.40  1.50  7.07  4.79   \n",
              "6     2.62    3.40    2.60  2.75  3.25  2.55  2.70  3.40  2.60  2.71  3.48   \n",
              "7     6.50    4.00    1.53  6.00  4.10  1.55  6.00  4.00  1.57  6.54  4.22   \n",
              "8     4.20    3.75    1.85  4.10  3.50  1.88  4.20  3.60  1.90  4.47  3.77   \n",
              "9     3.25    3.50    2.20  3.30  3.40  2.15  3.30  3.40  2.25  3.40  3.59   \n",
              "10    8.50    4.20    1.44  7.25  4.20  1.47  7.25  4.30  1.47  8.00  4.28   \n",
              "11    4.20    3.60    1.91  4.10  3.60  1.85  4.30  3.60  1.85  4.24  3.63   \n",
              "12    6.00    4.20    1.55  5.50  4.20  1.57  5.75  4.30  1.57  6.02  4.31   \n",
              "13    7.50    4.75    1.40  7.25  4.60  1.43  7.25  4.50  1.45  7.83  4.90   \n",
              "14    2.70    3.50    2.50  2.65  3.50  2.55  2.65  3.50  2.55  2.80  3.71   \n",
              "15    5.25    4.20    1.62  5.50  4.10  1.58  5.50  4.10  1.63  5.72  4.30   \n",
              "16    1.62    4.00    5.25  1.63  4.10  5.00  1.55  4.50  5.50  1.68  4.17   \n",
              "17    2.25    3.80    2.90  2.25  3.70  2.90  2.40  3.75  2.80  2.32  3.77   \n",
              "18    5.00    4.20    1.62  5.25  4.00  1.62  4.70  4.20  1.67  5.28  4.23   \n",
              "\n",
              "    PSCA  WHCH  WHCD  WHCA  VCCH  VCCD  VCCA  MaxCH  MaxCD  MaxCA  AvgCH  \\\n",
              "0   1.88  4.80  3.40  1.78  4.75  3.50  1.85   5.01   3.70   1.91   4.56   \n",
              "1   1.47  8.00  4.50  1.40  8.50  4.80  1.40   8.50   4.90   1.48   7.54   \n",
              "2   2.69  2.60  3.40  2.62  2.63  3.50  2.70   2.78   3.65   2.75   2.66   \n",
              "3   1.85  4.60  3.70  1.75  4.40  3.70  1.75   4.96   4.10   1.86   4.48   \n",
              "4   1.70  5.25  4.00  1.62  5.00  4.10  1.60   5.73   4.50   1.70   5.11   \n",
              "5   1.48  7.00  4.40  1.44  7.00  4.33  1.44   7.30   4.90   1.51   6.83   \n",
              "6   2.69  2.75  3.25  2.55  2.63  3.30  2.60   2.93   3.49   2.75   2.74   \n",
              "7   1.57  6.50  3.90  1.53  6.50  4.00  1.50   7.16   4.30   1.59   6.34   \n",
              "8   1.87  4.40  3.70  1.78  4.20  3.50  1.83   4.78   3.98   1.95   4.29   \n",
              "9   2.22  3.40  3.40  2.10  3.30  3.30  2.15   3.67   3.60   2.26   3.38   \n",
              "10  1.50  7.50  4.20  1.44  7.50  4.10  1.44   9.29   4.45   1.50   7.82   \n",
              "11  1.95  4.40  3.50  1.83  4.10  3.40  1.83   4.81   3.80   1.95   4.36   \n",
              "12  1.60  5.50  4.20  1.57  5.75  4.00  1.50   6.50   4.45   1.62   5.84   \n",
              "13  1.43  8.00  4.50  1.40  7.50  4.33  1.40   8.25   4.90   1.48   7.64   \n",
              "14  2.51  2.80  3.40  2.45  2.70  3.50  2.50   2.81   3.78   2.64   2.72   \n",
              "15  1.61  5.80  4.00  1.57  6.00  4.10  1.57   6.20   4.40   1.66   5.58   \n",
              "16  5.20  1.63  3.90  5.25  1.65  3.90  5.25   1.74   4.50   5.60   1.66   \n",
              "17  3.07  2.35  3.60  2.80  2.25  3.60  3.10   2.51   3.88   3.14   2.31   \n",
              "18  1.66  5.25  4.00  1.62  5.50  4.00  1.62   5.60   4.33   1.68   5.26   \n",
              "\n",
              "    AvgCD  AvgCA  B365C>2.5  B365C<2.5  PC>2.5  PC<2.5  MaxC>2.5  MaxC<2.5  \\\n",
              "0    3.57   1.85       2.10       1.72    2.14    1.78      2.19      1.91   \n",
              "1    4.72   1.44       1.72       2.10    1.81    2.10      1.90      2.12   \n",
              "2    3.49   2.67       1.72       2.10    1.76    2.18      1.82      2.25   \n",
              "3    3.89   1.80       1.72       2.10    1.79    2.13      1.81      2.17   \n",
              "4    4.27   1.64       1.61       2.30    1.64    2.39      1.64      2.53   \n",
              "5    4.65   1.48       1.66       2.20    1.70    2.27      1.72      2.34   \n",
              "6    3.39   2.64       1.94       1.96    1.95    1.95      2.01      2.03   \n",
              "7    4.15   1.55       1.92       1.98    1.93    1.97      1.97      2.10   \n",
              "8    3.67   1.88       1.89       2.01    1.93    1.98      1.96      2.09   \n",
              "9    3.49   2.20       1.96       1.94    1.95    1.95      2.03      2.05   \n",
              "10   4.31   1.47       2.07       1.83    2.06    1.85      2.09      1.95   \n",
              "11   3.66   1.87       1.99       1.91    1.98    1.93      2.01      2.09   \n",
              "12   4.29   1.58       1.73       2.10    1.74    2.20      1.77      2.30   \n",
              "13   4.69   1.43       1.73       2.10    1.76    2.17      1.84      2.23   \n",
              "14   3.60   2.55       1.67       2.20    1.70    2.26      1.76      2.37   \n",
              "15   4.20   1.61       1.73       2.10    1.78    2.15      1.81      2.29   \n",
              "16   4.16   5.16       1.73       2.10    1.78    2.14      1.83      2.45   \n",
              "17   3.74   2.97       1.67       2.20    1.69    2.28      1.72      2.45   \n",
              "18   4.18   1.64       1.73       2.10    1.76    2.17      1.83      2.29   \n",
              "\n",
              "    AvgC>2.5  AvgC<2.5  AHCh  B365CAHH  B365CAHA  PCAHH  PCAHA  MaxCAHH  \\\n",
              "0       2.08      1.76  0.50      2.09      1.84   2.04   1.88     2.09   \n",
              "1       1.78      2.07  1.25      1.90      2.00   1.88   2.05     1.93   \n",
              "2       1.74      2.13  0.00      1.92      1.98   1.97   1.95     1.97   \n",
              "3       1.77      2.09  0.75      1.83      2.07   1.84   2.08     1.99   \n",
              "4       1.59      2.38  0.75      2.02      1.88   2.04   1.89     2.13   \n",
              "5       1.66      2.24  1.25      1.83      2.07   1.88   2.05     1.88   \n",
              "6       1.91      1.92  0.00      1.95      1.95   1.99   1.93     2.02   \n",
              "7       1.90      1.93  1.00      1.93      1.97   1.94   1.98     2.07   \n",
              "8       1.89      1.94  0.50      2.06      1.87   2.06   1.87     2.07   \n",
              "9       1.93      1.90  0.25      2.00      1.93   2.00   1.93     2.01   \n",
              "10      2.01      1.84  1.00      2.09      1.84   2.08   1.85     2.17   \n",
              "11      1.93      1.91  0.50      1.98      1.92   1.97   1.95     2.08   \n",
              "12      1.70      2.19  1.00      1.96      1.97   1.94   1.98     2.00   \n",
              "13      1.76      2.10  1.25      1.97      1.96   1.96   1.96     1.97   \n",
              "14      1.70      2.19  0.00      2.08      1.85   2.07   1.85     2.11   \n",
              "15      1.74      2.12  1.00      1.89      2.04   1.88   2.05     1.97   \n",
              "16      1.72      2.15 -0.75      1.86      2.04   1.87   2.06     1.90   \n",
              "17      1.63      2.31 -0.25      1.98      1.92   2.02   1.91     2.10   \n",
              "18      1.74      2.13  1.00      1.75      2.05   1.81   2.13     1.87   \n",
              "\n",
              "    MaxCAHA  AvgCAHH  AvgCAHA  \n",
              "0      1.88     2.03     1.85  \n",
              "1      2.05     1.88     1.99  \n",
              "2      2.03     1.94     1.94  \n",
              "3      2.12     1.86     2.02  \n",
              "4      1.93     2.07     1.81  \n",
              "5      2.13     1.84     2.04  \n",
              "6      1.98     1.96     1.91  \n",
              "7      1.99     1.92     1.95  \n",
              "8      1.94     2.00     1.88  \n",
              "9      1.95     1.98     1.90  \n",
              "10     1.85     2.09     1.79  \n",
              "11     1.95     2.02     1.87  \n",
              "12     2.00     1.93     1.95  \n",
              "13     2.05     1.90     1.97  \n",
              "14     1.93     2.01     1.87  \n",
              "15     2.11     1.85     2.03  \n",
              "16     2.15     1.83     2.04  \n",
              "17     1.96     2.00     1.87  \n",
              "18     2.20     1.79     2.09  "
            ]
          },
          "metadata": {},
          "output_type": "display_data"
        }
      ],
      "source": [
        "display(home_df,away_df)"
      ]
    },
    {
      "cell_type": "code",
      "execution_count": 52,
      "id": "95c65093",
      "metadata": {
        "id": "95c65093"
      },
      "outputs": [],
      "source": [
        "df_combined = pd.concat([away_df,home_df]).sort_index()\n",
        "df_combined.reset_index(inplace=True)\n",
        "df_combined['Datetime'] = pd.to_datetime(df_combined['Date'] + ' ' + df_combined['Time'],format='%d/%m/%Y %H:%M')\n",
        "df_combined['location'] = df_combined['HomeTeam'].apply(lambda x: 'H' if x == 'Arsenal' else 'A')\n",
        "\n",
        "# extract specific columns into a new DataFrame using loc\n",
        "a_df = df_combined.loc[:,[ 'Datetime', 'location']]\n",
        "a_df = a_df.sort_values('Datetime')\n",
        "selected_columns = ['FTHG',\t'FTAG',\t'FTR','HTHG','HTAG','HTR','HS','AS','HST','AST','HF','AF','HC','AC','HY','AY','HR','AR']\n",
        "a_df[selected_columns]  = df_combined.loc[:,selected_columns]\n",
        "\n",
        "# Create a lambda function to determine the outcome and opponent for Arsenal\n",
        "get_outcome = lambda x: 'W' if (x['location'] == 'H' and x['FTR'] == 'H') or (x['location'] == 'A' and x['FTR'] == 'A') else ('D' if x['FTR'] == 'D' else 'L')\n",
        "get_opponent = lambda x: x['AwayTeam'] if (x['location'] == 'H') else x['HomeTeam']\n",
        "\n",
        "# Apply the lambda function to create the 'FTR_AFC' column only in the 'Arsenal' DataFrame\n",
        "a_df['FTR_AFC'] = a_df.apply(get_outcome, axis=1)\n",
        "a_df['opponent'] = df_combined.apply(get_opponent, axis = 1)\n",
        "# Define a mapping for points based on outcomes and masks for WDL\n",
        "points_mapping = {'W': 3, 'L': 0, 'D': 1}\n",
        "won_mask = a_df['FTR_AFC'] == 'W'\n",
        "drawn_mask = a_df['FTR_AFC'] == 'D'\n",
        "lost_mask = a_df['FTR_AFC'] == 'L'\n",
        "home_mask = a_df['location'] == 'H'\n",
        "away_mask = a_df['location'] == 'A'\n",
        "arsenal_mask = a_df['location'].str.contains('A')\n",
        "# Add a new column for cumulative points\n",
        "a_df['points'] = a_df['FTR_AFC'].map(points_mapping).cumsum()\n",
        "a_df['W'] = won_mask.cumsum()\n",
        "a_df['D'] = drawn_mask.cumsum()\n",
        "a_df['L'] = lost_mask.cumsum()\n",
        "# Adding match week\n",
        "a_df['Match Week'] = a_df.index + 1"
      ]
    },
    {
      "cell_type": "code",
      "execution_count": 53,
      "id": "948a4204",
      "metadata": {
        "id": "948a4204"
      },
      "outputs": [],
      "source": [
        "# Update 'GF' 'GA' column based on home/away\n",
        "a_df.loc[a_df['location'] == 'H', 'GF'] = a_df['FTHG']\n",
        "a_df.loc[a_df['location'] != 'H', 'GF'] = a_df['FTAG']\n",
        "a_df.loc[a_df['location'] == 'A', 'GA'] = a_df['FTHG']\n",
        "a_df.loc[a_df['location'] != 'A', 'GA'] = a_df['FTAG']\n",
        "# Calculate the cumulative sum of 'GF' 'GA' 'DIFF' column\n",
        "a_df['GF'] = a_df['GF'].cumsum()\n",
        "a_df['GA'] = a_df['GA'].cumsum()\n",
        "a_df['DIFF'] = a_df['GF'] - a_df['GA']\n",
        "#Corners Stats based on home/away\n",
        "a_df.loc[a_df['location'] == 'H', 'Corners Taken PG'] = a_df['HC']\n",
        "a_df.loc[a_df['location'] != 'H', 'Corners Taken PG'] = a_df['AC']\n",
        "a_df.loc[a_df['location'] == 'A', 'Corners Against PG'] = a_df['HC']\n",
        "a_df.loc[a_df['location'] != 'A', 'Corners Against PG'] = a_df['AC']\n",
        "# Calculate the cumulative sum of corner stats\n",
        "a_df['Corners Taken'] = a_df['Corners Taken PG'].cumsum()\n",
        "a_df['Corners Against'] = a_df['Corners Against PG'].cumsum()\n",
        "#Shotting Stats based on home/away\n",
        "a_df.loc[a_df['location'] == 'H', 'Shots Taken'] = a_df['HS']\n",
        "a_df.loc[a_df['location'] != 'H', 'Shots Taken'] = a_df['AS']\n",
        "a_df.loc[a_df['location'] == 'H', 'STPG'] = a_df['HS']\n",
        "a_df.loc[a_df['location'] != 'H', 'STPG'] = a_df['AS']\n",
        "a_df.loc[a_df['location'] == 'A', 'Shots Against'] = a_df['HS']\n",
        "a_df.loc[a_df['location'] != 'A', 'Shots Against'] = a_df['AS']\n",
        "a_df.loc[a_df['location'] == 'A', 'SAPG'] = a_df['HS']\n",
        "a_df.loc[a_df['location'] != 'A', 'SAPG'] = a_df['AS']\n",
        "a_df.loc[a_df['location'] == 'H', 'Shots On Target'] = a_df['HST']\n",
        "a_df.loc[a_df['location'] != 'H', 'Shots On Target'] = a_df['AST']\n",
        "a_df.loc[a_df['location'] == 'H', 'SOTPG'] = a_df['HST']\n",
        "a_df.loc[a_df['location'] != 'H', 'SOTPG'] = a_df['AST']\n",
        "a_df.loc[a_df['location'] == 'A', 'Shots Against on Target'] = a_df['HST']\n",
        "a_df.loc[a_df['location'] != 'A', 'Shots Against on Target'] = a_df['AST']\n",
        "a_df.loc[a_df['location'] == 'A', 'SAOTPG'] = a_df['HST']\n",
        "a_df.loc[a_df['location'] != 'A', 'SAOTPG'] = a_df['AST']\n",
        "\n",
        "columns_to_convert = ['STPG', 'SAPG', 'SOTPG', 'SAOTPG']\n",
        "\n",
        "for column in columns_to_convert:\n",
        "    a_df[column] = a_df[column].astype(int)\n",
        "\n",
        "# Calculate the cumulative sum of shooting stats\n",
        "a_df['Shots Taken'] = a_df['Shots Taken'].cumsum().astype(int)\n",
        "a_df['Shots Against'] = a_df['Shots Against'].cumsum().astype(int)\n",
        "a_df['Shots On Target'] = a_df['Shots On Target'].cumsum().astype(int)\n",
        "a_df['Shots Against on Target'] = a_df['Shots Against on Target'].cumsum().astype(int)\n",
        "a_df['pct of SOT'] = (a_df['Shots On Target']/a_df['Shots Taken']).round(5)\n",
        "a_df['Month'] = a_df['Datetime'].dt.strftime('%B %Y')\n",
        "\n",
        "\n",
        "# Dropping useless data\n",
        "columns_to_drop = ['FTHG','FTAG', 'FTR','HTHG','HTAG', 'HTR', 'HS', 'AS', 'HST', 'AST', 'HF', 'AF', 'HC', 'AC', 'HY', 'AY', 'HR', 'AR']\n",
        "a_df.drop(columns_to_drop, axis=1, inplace=True)\n"
      ]
    },
    {
      "cell_type": "code",
      "execution_count": 54,
      "id": "554067a5",
      "metadata": {
        "colab": {
          "base_uri": "https://localhost:8080/",
          "height": 1000
        },
        "id": "554067a5",
        "outputId": "3ae635ca-dbac-4f34-951c-e273e3884558"
      },
      "outputs": [
        {
          "data": {
            "text/html": [
              "<div>\n",
              "<style scoped>\n",
              "    .dataframe tbody tr th:only-of-type {\n",
              "        vertical-align: middle;\n",
              "    }\n",
              "\n",
              "    .dataframe tbody tr th {\n",
              "        vertical-align: top;\n",
              "    }\n",
              "\n",
              "    .dataframe thead th {\n",
              "        text-align: right;\n",
              "    }\n",
              "</style>\n",
              "<table border=\"1\" class=\"dataframe\">\n",
              "  <thead>\n",
              "    <tr style=\"text-align: right;\">\n",
              "      <th></th>\n",
              "      <th>Datetime</th>\n",
              "      <th>location</th>\n",
              "      <th>FTR_AFC</th>\n",
              "      <th>opponent</th>\n",
              "      <th>points</th>\n",
              "      <th>W</th>\n",
              "      <th>D</th>\n",
              "      <th>L</th>\n",
              "      <th>Match Week</th>\n",
              "      <th>GF</th>\n",
              "      <th>GA</th>\n",
              "      <th>DIFF</th>\n",
              "      <th>Corners Taken PG</th>\n",
              "      <th>Corners Against PG</th>\n",
              "      <th>Corners Taken</th>\n",
              "      <th>Corners Against</th>\n",
              "      <th>Shots Taken</th>\n",
              "      <th>STPG</th>\n",
              "      <th>Shots Against</th>\n",
              "      <th>SAPG</th>\n",
              "      <th>Shots On Target</th>\n",
              "      <th>SOTPG</th>\n",
              "      <th>Shots Against on Target</th>\n",
              "      <th>SAOTPG</th>\n",
              "      <th>pct of SOT</th>\n",
              "      <th>Month</th>\n",
              "    </tr>\n",
              "  </thead>\n",
              "  <tbody>\n",
              "    <tr>\n",
              "      <th>0</th>\n",
              "      <td>2022-08-05 20:00:00</td>\n",
              "      <td>A</td>\n",
              "      <td>W</td>\n",
              "      <td>Crystal Palace</td>\n",
              "      <td>3</td>\n",
              "      <td>1</td>\n",
              "      <td>0</td>\n",
              "      <td>0</td>\n",
              "      <td>1</td>\n",
              "      <td>2.0</td>\n",
              "      <td>0.0</td>\n",
              "      <td>2.0</td>\n",
              "      <td>5.0</td>\n",
              "      <td>3.0</td>\n",
              "      <td>5.0</td>\n",
              "      <td>3.0</td>\n",
              "      <td>10</td>\n",
              "      <td>10</td>\n",
              "      <td>10</td>\n",
              "      <td>10</td>\n",
              "      <td>2</td>\n",
              "      <td>2</td>\n",
              "      <td>2</td>\n",
              "      <td>2</td>\n",
              "      <td>0.20000</td>\n",
              "      <td>August 2022</td>\n",
              "    </tr>\n",
              "    <tr>\n",
              "      <th>1</th>\n",
              "      <td>2022-08-13 15:00:00</td>\n",
              "      <td>H</td>\n",
              "      <td>W</td>\n",
              "      <td>Leicester</td>\n",
              "      <td>6</td>\n",
              "      <td>2</td>\n",
              "      <td>0</td>\n",
              "      <td>0</td>\n",
              "      <td>2</td>\n",
              "      <td>6.0</td>\n",
              "      <td>2.0</td>\n",
              "      <td>4.0</td>\n",
              "      <td>6.0</td>\n",
              "      <td>2.0</td>\n",
              "      <td>11.0</td>\n",
              "      <td>5.0</td>\n",
              "      <td>29</td>\n",
              "      <td>19</td>\n",
              "      <td>16</td>\n",
              "      <td>6</td>\n",
              "      <td>9</td>\n",
              "      <td>7</td>\n",
              "      <td>4</td>\n",
              "      <td>2</td>\n",
              "      <td>0.31034</td>\n",
              "      <td>August 2022</td>\n",
              "    </tr>\n",
              "    <tr>\n",
              "      <th>2</th>\n",
              "      <td>2022-08-20 17:30:00</td>\n",
              "      <td>A</td>\n",
              "      <td>W</td>\n",
              "      <td>Bournemouth</td>\n",
              "      <td>9</td>\n",
              "      <td>3</td>\n",
              "      <td>0</td>\n",
              "      <td>0</td>\n",
              "      <td>3</td>\n",
              "      <td>9.0</td>\n",
              "      <td>2.0</td>\n",
              "      <td>7.0</td>\n",
              "      <td>4.0</td>\n",
              "      <td>3.0</td>\n",
              "      <td>15.0</td>\n",
              "      <td>8.0</td>\n",
              "      <td>43</td>\n",
              "      <td>14</td>\n",
              "      <td>22</td>\n",
              "      <td>6</td>\n",
              "      <td>15</td>\n",
              "      <td>6</td>\n",
              "      <td>5</td>\n",
              "      <td>1</td>\n",
              "      <td>0.34884</td>\n",
              "      <td>August 2022</td>\n",
              "    </tr>\n",
              "    <tr>\n",
              "      <th>3</th>\n",
              "      <td>2022-08-27 17:30:00</td>\n",
              "      <td>H</td>\n",
              "      <td>W</td>\n",
              "      <td>Fulham</td>\n",
              "      <td>12</td>\n",
              "      <td>4</td>\n",
              "      <td>0</td>\n",
              "      <td>0</td>\n",
              "      <td>4</td>\n",
              "      <td>11.0</td>\n",
              "      <td>3.0</td>\n",
              "      <td>8.0</td>\n",
              "      <td>9.0</td>\n",
              "      <td>2.0</td>\n",
              "      <td>24.0</td>\n",
              "      <td>10.0</td>\n",
              "      <td>65</td>\n",
              "      <td>22</td>\n",
              "      <td>33</td>\n",
              "      <td>11</td>\n",
              "      <td>23</td>\n",
              "      <td>8</td>\n",
              "      <td>8</td>\n",
              "      <td>3</td>\n",
              "      <td>0.35385</td>\n",
              "      <td>August 2022</td>\n",
              "    </tr>\n",
              "    <tr>\n",
              "      <th>5</th>\n",
              "      <td>2022-08-31 19:30:00</td>\n",
              "      <td>H</td>\n",
              "      <td>W</td>\n",
              "      <td>Aston Villa</td>\n",
              "      <td>15</td>\n",
              "      <td>5</td>\n",
              "      <td>0</td>\n",
              "      <td>0</td>\n",
              "      <td>6</td>\n",
              "      <td>13.0</td>\n",
              "      <td>4.0</td>\n",
              "      <td>9.0</td>\n",
              "      <td>10.0</td>\n",
              "      <td>3.0</td>\n",
              "      <td>34.0</td>\n",
              "      <td>13.0</td>\n",
              "      <td>87</td>\n",
              "      <td>22</td>\n",
              "      <td>37</td>\n",
              "      <td>4</td>\n",
              "      <td>32</td>\n",
              "      <td>9</td>\n",
              "      <td>11</td>\n",
              "      <td>3</td>\n",
              "      <td>0.36782</td>\n",
              "      <td>August 2022</td>\n",
              "    </tr>\n",
              "    <tr>\n",
              "      <th>4</th>\n",
              "      <td>2022-09-04 16:30:00</td>\n",
              "      <td>A</td>\n",
              "      <td>L</td>\n",
              "      <td>Man United</td>\n",
              "      <td>15</td>\n",
              "      <td>5</td>\n",
              "      <td>0</td>\n",
              "      <td>1</td>\n",
              "      <td>5</td>\n",
              "      <td>14.0</td>\n",
              "      <td>7.0</td>\n",
              "      <td>7.0</td>\n",
              "      <td>5.0</td>\n",
              "      <td>2.0</td>\n",
              "      <td>39.0</td>\n",
              "      <td>15.0</td>\n",
              "      <td>103</td>\n",
              "      <td>16</td>\n",
              "      <td>47</td>\n",
              "      <td>10</td>\n",
              "      <td>35</td>\n",
              "      <td>3</td>\n",
              "      <td>17</td>\n",
              "      <td>6</td>\n",
              "      <td>0.33981</td>\n",
              "      <td>September 2022</td>\n",
              "    </tr>\n",
              "    <tr>\n",
              "      <th>6</th>\n",
              "      <td>2022-09-18 12:00:00</td>\n",
              "      <td>A</td>\n",
              "      <td>W</td>\n",
              "      <td>Brentford</td>\n",
              "      <td>18</td>\n",
              "      <td>6</td>\n",
              "      <td>0</td>\n",
              "      <td>1</td>\n",
              "      <td>7</td>\n",
              "      <td>17.0</td>\n",
              "      <td>7.0</td>\n",
              "      <td>10.0</td>\n",
              "      <td>3.0</td>\n",
              "      <td>3.0</td>\n",
              "      <td>42.0</td>\n",
              "      <td>18.0</td>\n",
              "      <td>116</td>\n",
              "      <td>13</td>\n",
              "      <td>52</td>\n",
              "      <td>5</td>\n",
              "      <td>42</td>\n",
              "      <td>7</td>\n",
              "      <td>19</td>\n",
              "      <td>2</td>\n",
              "      <td>0.36207</td>\n",
              "      <td>September 2022</td>\n",
              "    </tr>\n",
              "    <tr>\n",
              "      <th>7</th>\n",
              "      <td>2022-10-01 12:30:00</td>\n",
              "      <td>H</td>\n",
              "      <td>W</td>\n",
              "      <td>Tottenham</td>\n",
              "      <td>21</td>\n",
              "      <td>7</td>\n",
              "      <td>0</td>\n",
              "      <td>1</td>\n",
              "      <td>8</td>\n",
              "      <td>20.0</td>\n",
              "      <td>8.0</td>\n",
              "      <td>12.0</td>\n",
              "      <td>5.0</td>\n",
              "      <td>2.0</td>\n",
              "      <td>47.0</td>\n",
              "      <td>20.0</td>\n",
              "      <td>138</td>\n",
              "      <td>22</td>\n",
              "      <td>59</td>\n",
              "      <td>7</td>\n",
              "      <td>51</td>\n",
              "      <td>9</td>\n",
              "      <td>22</td>\n",
              "      <td>3</td>\n",
              "      <td>0.36957</td>\n",
              "      <td>October 2022</td>\n",
              "    </tr>\n",
              "    <tr>\n",
              "      <th>8</th>\n",
              "      <td>2022-10-09 16:30:00</td>\n",
              "      <td>H</td>\n",
              "      <td>W</td>\n",
              "      <td>Liverpool</td>\n",
              "      <td>24</td>\n",
              "      <td>8</td>\n",
              "      <td>0</td>\n",
              "      <td>1</td>\n",
              "      <td>9</td>\n",
              "      <td>23.0</td>\n",
              "      <td>10.0</td>\n",
              "      <td>13.0</td>\n",
              "      <td>4.0</td>\n",
              "      <td>3.0</td>\n",
              "      <td>51.0</td>\n",
              "      <td>23.0</td>\n",
              "      <td>149</td>\n",
              "      <td>11</td>\n",
              "      <td>67</td>\n",
              "      <td>8</td>\n",
              "      <td>58</td>\n",
              "      <td>7</td>\n",
              "      <td>25</td>\n",
              "      <td>3</td>\n",
              "      <td>0.38926</td>\n",
              "      <td>October 2022</td>\n",
              "    </tr>\n",
              "    <tr>\n",
              "      <th>9</th>\n",
              "      <td>2022-10-16 14:00:00</td>\n",
              "      <td>A</td>\n",
              "      <td>W</td>\n",
              "      <td>Leeds</td>\n",
              "      <td>27</td>\n",
              "      <td>9</td>\n",
              "      <td>0</td>\n",
              "      <td>1</td>\n",
              "      <td>10</td>\n",
              "      <td>24.0</td>\n",
              "      <td>10.0</td>\n",
              "      <td>14.0</td>\n",
              "      <td>3.0</td>\n",
              "      <td>6.0</td>\n",
              "      <td>54.0</td>\n",
              "      <td>29.0</td>\n",
              "      <td>158</td>\n",
              "      <td>9</td>\n",
              "      <td>83</td>\n",
              "      <td>16</td>\n",
              "      <td>62</td>\n",
              "      <td>4</td>\n",
              "      <td>29</td>\n",
              "      <td>4</td>\n",
              "      <td>0.39241</td>\n",
              "      <td>October 2022</td>\n",
              "    </tr>\n",
              "    <tr>\n",
              "      <th>11</th>\n",
              "      <td>2022-10-23 14:00:00</td>\n",
              "      <td>A</td>\n",
              "      <td>D</td>\n",
              "      <td>Southampton</td>\n",
              "      <td>28</td>\n",
              "      <td>9</td>\n",
              "      <td>1</td>\n",
              "      <td>1</td>\n",
              "      <td>12</td>\n",
              "      <td>25.0</td>\n",
              "      <td>11.0</td>\n",
              "      <td>14.0</td>\n",
              "      <td>4.0</td>\n",
              "      <td>9.0</td>\n",
              "      <td>58.0</td>\n",
              "      <td>38.0</td>\n",
              "      <td>170</td>\n",
              "      <td>12</td>\n",
              "      <td>93</td>\n",
              "      <td>10</td>\n",
              "      <td>65</td>\n",
              "      <td>3</td>\n",
              "      <td>32</td>\n",
              "      <td>3</td>\n",
              "      <td>0.38235</td>\n",
              "      <td>October 2022</td>\n",
              "    </tr>\n",
              "    <tr>\n",
              "      <th>10</th>\n",
              "      <td>2022-10-30 14:00:00</td>\n",
              "      <td>H</td>\n",
              "      <td>W</td>\n",
              "      <td>Nott'm Forest</td>\n",
              "      <td>31</td>\n",
              "      <td>10</td>\n",
              "      <td>1</td>\n",
              "      <td>1</td>\n",
              "      <td>11</td>\n",
              "      <td>30.0</td>\n",
              "      <td>11.0</td>\n",
              "      <td>19.0</td>\n",
              "      <td>9.0</td>\n",
              "      <td>4.0</td>\n",
              "      <td>67.0</td>\n",
              "      <td>42.0</td>\n",
              "      <td>194</td>\n",
              "      <td>24</td>\n",
              "      <td>98</td>\n",
              "      <td>5</td>\n",
              "      <td>75</td>\n",
              "      <td>10</td>\n",
              "      <td>34</td>\n",
              "      <td>2</td>\n",
              "      <td>0.38660</td>\n",
              "      <td>October 2022</td>\n",
              "    </tr>\n",
              "    <tr>\n",
              "      <th>13</th>\n",
              "      <td>2022-11-06 12:00:00</td>\n",
              "      <td>A</td>\n",
              "      <td>W</td>\n",
              "      <td>Chelsea</td>\n",
              "      <td>34</td>\n",
              "      <td>11</td>\n",
              "      <td>1</td>\n",
              "      <td>1</td>\n",
              "      <td>14</td>\n",
              "      <td>31.0</td>\n",
              "      <td>11.0</td>\n",
              "      <td>20.0</td>\n",
              "      <td>6.0</td>\n",
              "      <td>4.0</td>\n",
              "      <td>73.0</td>\n",
              "      <td>46.0</td>\n",
              "      <td>208</td>\n",
              "      <td>14</td>\n",
              "      <td>103</td>\n",
              "      <td>5</td>\n",
              "      <td>77</td>\n",
              "      <td>2</td>\n",
              "      <td>35</td>\n",
              "      <td>1</td>\n",
              "      <td>0.37019</td>\n",
              "      <td>November 2022</td>\n",
              "    </tr>\n",
              "    <tr>\n",
              "      <th>14</th>\n",
              "      <td>2022-11-12 19:45:00</td>\n",
              "      <td>A</td>\n",
              "      <td>W</td>\n",
              "      <td>Wolves</td>\n",
              "      <td>37</td>\n",
              "      <td>12</td>\n",
              "      <td>1</td>\n",
              "      <td>1</td>\n",
              "      <td>15</td>\n",
              "      <td>33.0</td>\n",
              "      <td>11.0</td>\n",
              "      <td>22.0</td>\n",
              "      <td>4.0</td>\n",
              "      <td>6.0</td>\n",
              "      <td>77.0</td>\n",
              "      <td>52.0</td>\n",
              "      <td>222</td>\n",
              "      <td>14</td>\n",
              "      <td>114</td>\n",
              "      <td>11</td>\n",
              "      <td>81</td>\n",
              "      <td>4</td>\n",
              "      <td>37</td>\n",
              "      <td>2</td>\n",
              "      <td>0.36486</td>\n",
              "      <td>November 2022</td>\n",
              "    </tr>\n",
              "    <tr>\n",
              "      <th>12</th>\n",
              "      <td>2022-12-26 20:00:00</td>\n",
              "      <td>H</td>\n",
              "      <td>W</td>\n",
              "      <td>West Ham</td>\n",
              "      <td>40</td>\n",
              "      <td>13</td>\n",
              "      <td>1</td>\n",
              "      <td>1</td>\n",
              "      <td>13</td>\n",
              "      <td>36.0</td>\n",
              "      <td>12.0</td>\n",
              "      <td>24.0</td>\n",
              "      <td>7.0</td>\n",
              "      <td>5.0</td>\n",
              "      <td>84.0</td>\n",
              "      <td>57.0</td>\n",
              "      <td>238</td>\n",
              "      <td>16</td>\n",
              "      <td>122</td>\n",
              "      <td>8</td>\n",
              "      <td>86</td>\n",
              "      <td>5</td>\n",
              "      <td>41</td>\n",
              "      <td>4</td>\n",
              "      <td>0.36134</td>\n",
              "      <td>December 2022</td>\n",
              "    </tr>\n",
              "    <tr>\n",
              "      <th>17</th>\n",
              "      <td>2022-12-31 17:30:00</td>\n",
              "      <td>A</td>\n",
              "      <td>W</td>\n",
              "      <td>Brighton</td>\n",
              "      <td>43</td>\n",
              "      <td>14</td>\n",
              "      <td>1</td>\n",
              "      <td>1</td>\n",
              "      <td>18</td>\n",
              "      <td>40.0</td>\n",
              "      <td>14.0</td>\n",
              "      <td>26.0</td>\n",
              "      <td>4.0</td>\n",
              "      <td>7.0</td>\n",
              "      <td>88.0</td>\n",
              "      <td>64.0</td>\n",
              "      <td>252</td>\n",
              "      <td>14</td>\n",
              "      <td>131</td>\n",
              "      <td>9</td>\n",
              "      <td>93</td>\n",
              "      <td>7</td>\n",
              "      <td>46</td>\n",
              "      <td>5</td>\n",
              "      <td>0.36905</td>\n",
              "      <td>December 2022</td>\n",
              "    </tr>\n",
              "    <tr>\n",
              "      <th>15</th>\n",
              "      <td>2023-01-03 19:45:00</td>\n",
              "      <td>H</td>\n",
              "      <td>D</td>\n",
              "      <td>Newcastle</td>\n",
              "      <td>44</td>\n",
              "      <td>14</td>\n",
              "      <td>2</td>\n",
              "      <td>1</td>\n",
              "      <td>16</td>\n",
              "      <td>40.0</td>\n",
              "      <td>14.0</td>\n",
              "      <td>26.0</td>\n",
              "      <td>5.0</td>\n",
              "      <td>5.0</td>\n",
              "      <td>93.0</td>\n",
              "      <td>69.0</td>\n",
              "      <td>269</td>\n",
              "      <td>17</td>\n",
              "      <td>139</td>\n",
              "      <td>8</td>\n",
              "      <td>97</td>\n",
              "      <td>4</td>\n",
              "      <td>47</td>\n",
              "      <td>1</td>\n",
              "      <td>0.36059</td>\n",
              "      <td>January 2023</td>\n",
              "    </tr>\n",
              "    <tr>\n",
              "      <th>18</th>\n",
              "      <td>2023-01-15 16:30:00</td>\n",
              "      <td>A</td>\n",
              "      <td>W</td>\n",
              "      <td>Tottenham</td>\n",
              "      <td>47</td>\n",
              "      <td>15</td>\n",
              "      <td>2</td>\n",
              "      <td>1</td>\n",
              "      <td>19</td>\n",
              "      <td>42.0</td>\n",
              "      <td>14.0</td>\n",
              "      <td>28.0</td>\n",
              "      <td>3.0</td>\n",
              "      <td>4.0</td>\n",
              "      <td>96.0</td>\n",
              "      <td>73.0</td>\n",
              "      <td>283</td>\n",
              "      <td>14</td>\n",
              "      <td>156</td>\n",
              "      <td>17</td>\n",
              "      <td>102</td>\n",
              "      <td>5</td>\n",
              "      <td>54</td>\n",
              "      <td>7</td>\n",
              "      <td>0.36042</td>\n",
              "      <td>January 2023</td>\n",
              "    </tr>\n",
              "    <tr>\n",
              "      <th>16</th>\n",
              "      <td>2023-01-22 16:30:00</td>\n",
              "      <td>H</td>\n",
              "      <td>W</td>\n",
              "      <td>Man United</td>\n",
              "      <td>50</td>\n",
              "      <td>16</td>\n",
              "      <td>2</td>\n",
              "      <td>1</td>\n",
              "      <td>17</td>\n",
              "      <td>45.0</td>\n",
              "      <td>16.0</td>\n",
              "      <td>29.0</td>\n",
              "      <td>12.0</td>\n",
              "      <td>4.0</td>\n",
              "      <td>108.0</td>\n",
              "      <td>77.0</td>\n",
              "      <td>308</td>\n",
              "      <td>25</td>\n",
              "      <td>162</td>\n",
              "      <td>6</td>\n",
              "      <td>107</td>\n",
              "      <td>5</td>\n",
              "      <td>58</td>\n",
              "      <td>4</td>\n",
              "      <td>0.34740</td>\n",
              "      <td>January 2023</td>\n",
              "    </tr>\n",
              "    <tr>\n",
              "      <th>20</th>\n",
              "      <td>2023-02-04 12:30:00</td>\n",
              "      <td>A</td>\n",
              "      <td>L</td>\n",
              "      <td>Everton</td>\n",
              "      <td>50</td>\n",
              "      <td>16</td>\n",
              "      <td>2</td>\n",
              "      <td>2</td>\n",
              "      <td>21</td>\n",
              "      <td>45.0</td>\n",
              "      <td>17.0</td>\n",
              "      <td>28.0</td>\n",
              "      <td>5.0</td>\n",
              "      <td>7.0</td>\n",
              "      <td>113.0</td>\n",
              "      <td>84.0</td>\n",
              "      <td>323</td>\n",
              "      <td>15</td>\n",
              "      <td>174</td>\n",
              "      <td>12</td>\n",
              "      <td>110</td>\n",
              "      <td>3</td>\n",
              "      <td>62</td>\n",
              "      <td>4</td>\n",
              "      <td>0.34056</td>\n",
              "      <td>February 2023</td>\n",
              "    </tr>\n",
              "    <tr>\n",
              "      <th>19</th>\n",
              "      <td>2023-02-11 15:00:00</td>\n",
              "      <td>H</td>\n",
              "      <td>D</td>\n",
              "      <td>Brentford</td>\n",
              "      <td>51</td>\n",
              "      <td>16</td>\n",
              "      <td>3</td>\n",
              "      <td>2</td>\n",
              "      <td>20</td>\n",
              "      <td>46.0</td>\n",
              "      <td>18.0</td>\n",
              "      <td>28.0</td>\n",
              "      <td>7.0</td>\n",
              "      <td>4.0</td>\n",
              "      <td>120.0</td>\n",
              "      <td>88.0</td>\n",
              "      <td>346</td>\n",
              "      <td>23</td>\n",
              "      <td>183</td>\n",
              "      <td>9</td>\n",
              "      <td>117</td>\n",
              "      <td>7</td>\n",
              "      <td>64</td>\n",
              "      <td>2</td>\n",
              "      <td>0.33815</td>\n",
              "      <td>February 2023</td>\n",
              "    </tr>\n",
              "    <tr>\n",
              "      <th>21</th>\n",
              "      <td>2023-02-15 19:30:00</td>\n",
              "      <td>H</td>\n",
              "      <td>L</td>\n",
              "      <td>Man City</td>\n",
              "      <td>51</td>\n",
              "      <td>16</td>\n",
              "      <td>3</td>\n",
              "      <td>3</td>\n",
              "      <td>22</td>\n",
              "      <td>47.0</td>\n",
              "      <td>21.0</td>\n",
              "      <td>26.0</td>\n",
              "      <td>1.0</td>\n",
              "      <td>3.0</td>\n",
              "      <td>121.0</td>\n",
              "      <td>91.0</td>\n",
              "      <td>356</td>\n",
              "      <td>10</td>\n",
              "      <td>192</td>\n",
              "      <td>9</td>\n",
              "      <td>118</td>\n",
              "      <td>1</td>\n",
              "      <td>70</td>\n",
              "      <td>6</td>\n",
              "      <td>0.33146</td>\n",
              "      <td>February 2023</td>\n",
              "    </tr>\n",
              "    <tr>\n",
              "      <th>23</th>\n",
              "      <td>2023-02-18 12:30:00</td>\n",
              "      <td>A</td>\n",
              "      <td>W</td>\n",
              "      <td>Aston Villa</td>\n",
              "      <td>54</td>\n",
              "      <td>17</td>\n",
              "      <td>3</td>\n",
              "      <td>3</td>\n",
              "      <td>24</td>\n",
              "      <td>51.0</td>\n",
              "      <td>23.0</td>\n",
              "      <td>28.0</td>\n",
              "      <td>9.0</td>\n",
              "      <td>2.0</td>\n",
              "      <td>130.0</td>\n",
              "      <td>93.0</td>\n",
              "      <td>376</td>\n",
              "      <td>20</td>\n",
              "      <td>199</td>\n",
              "      <td>7</td>\n",
              "      <td>123</td>\n",
              "      <td>5</td>\n",
              "      <td>75</td>\n",
              "      <td>5</td>\n",
              "      <td>0.32713</td>\n",
              "      <td>February 2023</td>\n",
              "    </tr>\n",
              "    <tr>\n",
              "      <th>25</th>\n",
              "      <td>2023-02-25 15:00:00</td>\n",
              "      <td>A</td>\n",
              "      <td>W</td>\n",
              "      <td>Leicester</td>\n",
              "      <td>57</td>\n",
              "      <td>18</td>\n",
              "      <td>3</td>\n",
              "      <td>3</td>\n",
              "      <td>26</td>\n",
              "      <td>52.0</td>\n",
              "      <td>23.0</td>\n",
              "      <td>29.0</td>\n",
              "      <td>8.0</td>\n",
              "      <td>0.0</td>\n",
              "      <td>138.0</td>\n",
              "      <td>93.0</td>\n",
              "      <td>386</td>\n",
              "      <td>10</td>\n",
              "      <td>200</td>\n",
              "      <td>1</td>\n",
              "      <td>125</td>\n",
              "      <td>2</td>\n",
              "      <td>75</td>\n",
              "      <td>0</td>\n",
              "      <td>0.32383</td>\n",
              "      <td>February 2023</td>\n",
              "    </tr>\n",
              "    <tr>\n",
              "      <th>22</th>\n",
              "      <td>2023-03-01 19:45:00</td>\n",
              "      <td>H</td>\n",
              "      <td>W</td>\n",
              "      <td>Everton</td>\n",
              "      <td>60</td>\n",
              "      <td>19</td>\n",
              "      <td>3</td>\n",
              "      <td>3</td>\n",
              "      <td>23</td>\n",
              "      <td>56.0</td>\n",
              "      <td>23.0</td>\n",
              "      <td>33.0</td>\n",
              "      <td>5.0</td>\n",
              "      <td>1.0</td>\n",
              "      <td>143.0</td>\n",
              "      <td>94.0</td>\n",
              "      <td>401</td>\n",
              "      <td>15</td>\n",
              "      <td>208</td>\n",
              "      <td>8</td>\n",
              "      <td>130</td>\n",
              "      <td>5</td>\n",
              "      <td>80</td>\n",
              "      <td>5</td>\n",
              "      <td>0.32419</td>\n",
              "      <td>March 2023</td>\n",
              "    </tr>\n",
              "    <tr>\n",
              "      <th>24</th>\n",
              "      <td>2023-03-04 15:00:00</td>\n",
              "      <td>H</td>\n",
              "      <td>W</td>\n",
              "      <td>Bournemouth</td>\n",
              "      <td>63</td>\n",
              "      <td>20</td>\n",
              "      <td>3</td>\n",
              "      <td>3</td>\n",
              "      <td>25</td>\n",
              "      <td>59.0</td>\n",
              "      <td>25.0</td>\n",
              "      <td>34.0</td>\n",
              "      <td>17.0</td>\n",
              "      <td>1.0</td>\n",
              "      <td>160.0</td>\n",
              "      <td>95.0</td>\n",
              "      <td>432</td>\n",
              "      <td>31</td>\n",
              "      <td>212</td>\n",
              "      <td>4</td>\n",
              "      <td>139</td>\n",
              "      <td>9</td>\n",
              "      <td>84</td>\n",
              "      <td>4</td>\n",
              "      <td>0.32176</td>\n",
              "      <td>March 2023</td>\n",
              "    </tr>\n",
              "    <tr>\n",
              "      <th>26</th>\n",
              "      <td>2023-03-12 14:00:00</td>\n",
              "      <td>A</td>\n",
              "      <td>W</td>\n",
              "      <td>Fulham</td>\n",
              "      <td>66</td>\n",
              "      <td>21</td>\n",
              "      <td>3</td>\n",
              "      <td>3</td>\n",
              "      <td>27</td>\n",
              "      <td>62.0</td>\n",
              "      <td>25.0</td>\n",
              "      <td>37.0</td>\n",
              "      <td>8.0</td>\n",
              "      <td>4.0</td>\n",
              "      <td>168.0</td>\n",
              "      <td>99.0</td>\n",
              "      <td>447</td>\n",
              "      <td>15</td>\n",
              "      <td>224</td>\n",
              "      <td>12</td>\n",
              "      <td>146</td>\n",
              "      <td>7</td>\n",
              "      <td>86</td>\n",
              "      <td>2</td>\n",
              "      <td>0.32662</td>\n",
              "      <td>March 2023</td>\n",
              "    </tr>\n",
              "    <tr>\n",
              "      <th>27</th>\n",
              "      <td>2023-03-19 14:00:00</td>\n",
              "      <td>H</td>\n",
              "      <td>W</td>\n",
              "      <td>Crystal Palace</td>\n",
              "      <td>69</td>\n",
              "      <td>22</td>\n",
              "      <td>3</td>\n",
              "      <td>3</td>\n",
              "      <td>28</td>\n",
              "      <td>66.0</td>\n",
              "      <td>26.0</td>\n",
              "      <td>40.0</td>\n",
              "      <td>5.0</td>\n",
              "      <td>4.0</td>\n",
              "      <td>173.0</td>\n",
              "      <td>103.0</td>\n",
              "      <td>462</td>\n",
              "      <td>15</td>\n",
              "      <td>232</td>\n",
              "      <td>8</td>\n",
              "      <td>151</td>\n",
              "      <td>5</td>\n",
              "      <td>90</td>\n",
              "      <td>4</td>\n",
              "      <td>0.32684</td>\n",
              "      <td>March 2023</td>\n",
              "    </tr>\n",
              "    <tr>\n",
              "      <th>28</th>\n",
              "      <td>2023-04-01 15:00:00</td>\n",
              "      <td>H</td>\n",
              "      <td>W</td>\n",
              "      <td>Leeds</td>\n",
              "      <td>72</td>\n",
              "      <td>23</td>\n",
              "      <td>3</td>\n",
              "      <td>3</td>\n",
              "      <td>29</td>\n",
              "      <td>70.0</td>\n",
              "      <td>27.0</td>\n",
              "      <td>43.0</td>\n",
              "      <td>4.0</td>\n",
              "      <td>3.0</td>\n",
              "      <td>177.0</td>\n",
              "      <td>106.0</td>\n",
              "      <td>475</td>\n",
              "      <td>13</td>\n",
              "      <td>239</td>\n",
              "      <td>7</td>\n",
              "      <td>157</td>\n",
              "      <td>6</td>\n",
              "      <td>95</td>\n",
              "      <td>5</td>\n",
              "      <td>0.33053</td>\n",
              "      <td>April 2023</td>\n",
              "    </tr>\n",
              "    <tr>\n",
              "      <th>29</th>\n",
              "      <td>2023-04-09 16:30:00</td>\n",
              "      <td>A</td>\n",
              "      <td>D</td>\n",
              "      <td>Liverpool</td>\n",
              "      <td>73</td>\n",
              "      <td>23</td>\n",
              "      <td>4</td>\n",
              "      <td>3</td>\n",
              "      <td>30</td>\n",
              "      <td>72.0</td>\n",
              "      <td>29.0</td>\n",
              "      <td>43.0</td>\n",
              "      <td>4.0</td>\n",
              "      <td>5.0</td>\n",
              "      <td>181.0</td>\n",
              "      <td>111.0</td>\n",
              "      <td>484</td>\n",
              "      <td>9</td>\n",
              "      <td>260</td>\n",
              "      <td>21</td>\n",
              "      <td>162</td>\n",
              "      <td>5</td>\n",
              "      <td>101</td>\n",
              "      <td>6</td>\n",
              "      <td>0.33471</td>\n",
              "      <td>April 2023</td>\n",
              "    </tr>\n",
              "    <tr>\n",
              "      <th>31</th>\n",
              "      <td>2023-04-16 14:00:00</td>\n",
              "      <td>A</td>\n",
              "      <td>D</td>\n",
              "      <td>West Ham</td>\n",
              "      <td>74</td>\n",
              "      <td>23</td>\n",
              "      <td>5</td>\n",
              "      <td>3</td>\n",
              "      <td>32</td>\n",
              "      <td>74.0</td>\n",
              "      <td>31.0</td>\n",
              "      <td>43.0</td>\n",
              "      <td>2.0</td>\n",
              "      <td>7.0</td>\n",
              "      <td>183.0</td>\n",
              "      <td>118.0</td>\n",
              "      <td>495</td>\n",
              "      <td>11</td>\n",
              "      <td>276</td>\n",
              "      <td>16</td>\n",
              "      <td>167</td>\n",
              "      <td>5</td>\n",
              "      <td>104</td>\n",
              "      <td>3</td>\n",
              "      <td>0.33737</td>\n",
              "      <td>April 2023</td>\n",
              "    </tr>\n",
              "    <tr>\n",
              "      <th>30</th>\n",
              "      <td>2023-04-21 20:00:00</td>\n",
              "      <td>H</td>\n",
              "      <td>D</td>\n",
              "      <td>Southampton</td>\n",
              "      <td>75</td>\n",
              "      <td>23</td>\n",
              "      <td>6</td>\n",
              "      <td>3</td>\n",
              "      <td>31</td>\n",
              "      <td>77.0</td>\n",
              "      <td>34.0</td>\n",
              "      <td>43.0</td>\n",
              "      <td>7.0</td>\n",
              "      <td>2.0</td>\n",
              "      <td>190.0</td>\n",
              "      <td>120.0</td>\n",
              "      <td>520</td>\n",
              "      <td>25</td>\n",
              "      <td>284</td>\n",
              "      <td>8</td>\n",
              "      <td>173</td>\n",
              "      <td>6</td>\n",
              "      <td>110</td>\n",
              "      <td>6</td>\n",
              "      <td>0.33269</td>\n",
              "      <td>April 2023</td>\n",
              "    </tr>\n",
              "    <tr>\n",
              "      <th>33</th>\n",
              "      <td>2023-04-26 20:00:00</td>\n",
              "      <td>A</td>\n",
              "      <td>L</td>\n",
              "      <td>Man City</td>\n",
              "      <td>75</td>\n",
              "      <td>23</td>\n",
              "      <td>6</td>\n",
              "      <td>4</td>\n",
              "      <td>34</td>\n",
              "      <td>78.0</td>\n",
              "      <td>38.0</td>\n",
              "      <td>40.0</td>\n",
              "      <td>3.0</td>\n",
              "      <td>1.0</td>\n",
              "      <td>193.0</td>\n",
              "      <td>121.0</td>\n",
              "      <td>528</td>\n",
              "      <td>8</td>\n",
              "      <td>298</td>\n",
              "      <td>14</td>\n",
              "      <td>175</td>\n",
              "      <td>2</td>\n",
              "      <td>119</td>\n",
              "      <td>9</td>\n",
              "      <td>0.33144</td>\n",
              "      <td>April 2023</td>\n",
              "    </tr>\n",
              "    <tr>\n",
              "      <th>32</th>\n",
              "      <td>2023-05-02 20:00:00</td>\n",
              "      <td>H</td>\n",
              "      <td>W</td>\n",
              "      <td>Chelsea</td>\n",
              "      <td>78</td>\n",
              "      <td>24</td>\n",
              "      <td>6</td>\n",
              "      <td>4</td>\n",
              "      <td>33</td>\n",
              "      <td>81.0</td>\n",
              "      <td>39.0</td>\n",
              "      <td>42.0</td>\n",
              "      <td>7.0</td>\n",
              "      <td>2.0</td>\n",
              "      <td>200.0</td>\n",
              "      <td>123.0</td>\n",
              "      <td>544</td>\n",
              "      <td>16</td>\n",
              "      <td>305</td>\n",
              "      <td>7</td>\n",
              "      <td>185</td>\n",
              "      <td>10</td>\n",
              "      <td>123</td>\n",
              "      <td>4</td>\n",
              "      <td>0.34007</td>\n",
              "      <td>May 2023</td>\n",
              "    </tr>\n",
              "    <tr>\n",
              "      <th>35</th>\n",
              "      <td>2023-05-07 16:30:00</td>\n",
              "      <td>A</td>\n",
              "      <td>W</td>\n",
              "      <td>Newcastle</td>\n",
              "      <td>81</td>\n",
              "      <td>25</td>\n",
              "      <td>6</td>\n",
              "      <td>4</td>\n",
              "      <td>36</td>\n",
              "      <td>83.0</td>\n",
              "      <td>39.0</td>\n",
              "      <td>44.0</td>\n",
              "      <td>4.0</td>\n",
              "      <td>9.0</td>\n",
              "      <td>204.0</td>\n",
              "      <td>132.0</td>\n",
              "      <td>554</td>\n",
              "      <td>10</td>\n",
              "      <td>317</td>\n",
              "      <td>12</td>\n",
              "      <td>191</td>\n",
              "      <td>6</td>\n",
              "      <td>128</td>\n",
              "      <td>5</td>\n",
              "      <td>0.34477</td>\n",
              "      <td>May 2023</td>\n",
              "    </tr>\n",
              "    <tr>\n",
              "      <th>34</th>\n",
              "      <td>2023-05-14 16:30:00</td>\n",
              "      <td>H</td>\n",
              "      <td>L</td>\n",
              "      <td>Brighton</td>\n",
              "      <td>81</td>\n",
              "      <td>25</td>\n",
              "      <td>6</td>\n",
              "      <td>5</td>\n",
              "      <td>35</td>\n",
              "      <td>83.0</td>\n",
              "      <td>42.0</td>\n",
              "      <td>41.0</td>\n",
              "      <td>5.0</td>\n",
              "      <td>2.0</td>\n",
              "      <td>209.0</td>\n",
              "      <td>134.0</td>\n",
              "      <td>568</td>\n",
              "      <td>14</td>\n",
              "      <td>329</td>\n",
              "      <td>12</td>\n",
              "      <td>193</td>\n",
              "      <td>2</td>\n",
              "      <td>134</td>\n",
              "      <td>6</td>\n",
              "      <td>0.33979</td>\n",
              "      <td>May 2023</td>\n",
              "    </tr>\n",
              "    <tr>\n",
              "      <th>36</th>\n",
              "      <td>2023-05-20 17:30:00</td>\n",
              "      <td>A</td>\n",
              "      <td>L</td>\n",
              "      <td>Nott'm Forest</td>\n",
              "      <td>81</td>\n",
              "      <td>25</td>\n",
              "      <td>6</td>\n",
              "      <td>6</td>\n",
              "      <td>37</td>\n",
              "      <td>83.0</td>\n",
              "      <td>43.0</td>\n",
              "      <td>40.0</td>\n",
              "      <td>6.0</td>\n",
              "      <td>3.0</td>\n",
              "      <td>215.0</td>\n",
              "      <td>137.0</td>\n",
              "      <td>579</td>\n",
              "      <td>11</td>\n",
              "      <td>335</td>\n",
              "      <td>6</td>\n",
              "      <td>196</td>\n",
              "      <td>3</td>\n",
              "      <td>136</td>\n",
              "      <td>2</td>\n",
              "      <td>0.33851</td>\n",
              "      <td>May 2023</td>\n",
              "    </tr>\n",
              "    <tr>\n",
              "      <th>37</th>\n",
              "      <td>2023-05-28 16:30:00</td>\n",
              "      <td>H</td>\n",
              "      <td>W</td>\n",
              "      <td>Wolves</td>\n",
              "      <td>84</td>\n",
              "      <td>26</td>\n",
              "      <td>6</td>\n",
              "      <td>6</td>\n",
              "      <td>38</td>\n",
              "      <td>88.0</td>\n",
              "      <td>43.0</td>\n",
              "      <td>45.0</td>\n",
              "      <td>8.0</td>\n",
              "      <td>4.0</td>\n",
              "      <td>223.0</td>\n",
              "      <td>141.0</td>\n",
              "      <td>593</td>\n",
              "      <td>14</td>\n",
              "      <td>341</td>\n",
              "      <td>6</td>\n",
              "      <td>204</td>\n",
              "      <td>8</td>\n",
              "      <td>136</td>\n",
              "      <td>0</td>\n",
              "      <td>0.34401</td>\n",
              "      <td>May 2023</td>\n",
              "    </tr>\n",
              "  </tbody>\n",
              "</table>\n",
              "</div>"
            ],
            "text/plain": [
              "              Datetime location FTR_AFC        opponent  points   W  D  L  \\\n",
              "0  2022-08-05 20:00:00        A       W  Crystal Palace       3   1  0  0   \n",
              "1  2022-08-13 15:00:00        H       W       Leicester       6   2  0  0   \n",
              "2  2022-08-20 17:30:00        A       W     Bournemouth       9   3  0  0   \n",
              "3  2022-08-27 17:30:00        H       W          Fulham      12   4  0  0   \n",
              "5  2022-08-31 19:30:00        H       W     Aston Villa      15   5  0  0   \n",
              "4  2022-09-04 16:30:00        A       L      Man United      15   5  0  1   \n",
              "6  2022-09-18 12:00:00        A       W       Brentford      18   6  0  1   \n",
              "7  2022-10-01 12:30:00        H       W       Tottenham      21   7  0  1   \n",
              "8  2022-10-09 16:30:00        H       W       Liverpool      24   8  0  1   \n",
              "9  2022-10-16 14:00:00        A       W           Leeds      27   9  0  1   \n",
              "11 2022-10-23 14:00:00        A       D     Southampton      28   9  1  1   \n",
              "10 2022-10-30 14:00:00        H       W   Nott'm Forest      31  10  1  1   \n",
              "13 2022-11-06 12:00:00        A       W         Chelsea      34  11  1  1   \n",
              "14 2022-11-12 19:45:00        A       W          Wolves      37  12  1  1   \n",
              "12 2022-12-26 20:00:00        H       W        West Ham      40  13  1  1   \n",
              "17 2022-12-31 17:30:00        A       W        Brighton      43  14  1  1   \n",
              "15 2023-01-03 19:45:00        H       D       Newcastle      44  14  2  1   \n",
              "18 2023-01-15 16:30:00        A       W       Tottenham      47  15  2  1   \n",
              "16 2023-01-22 16:30:00        H       W      Man United      50  16  2  1   \n",
              "20 2023-02-04 12:30:00        A       L         Everton      50  16  2  2   \n",
              "19 2023-02-11 15:00:00        H       D       Brentford      51  16  3  2   \n",
              "21 2023-02-15 19:30:00        H       L        Man City      51  16  3  3   \n",
              "23 2023-02-18 12:30:00        A       W     Aston Villa      54  17  3  3   \n",
              "25 2023-02-25 15:00:00        A       W       Leicester      57  18  3  3   \n",
              "22 2023-03-01 19:45:00        H       W         Everton      60  19  3  3   \n",
              "24 2023-03-04 15:00:00        H       W     Bournemouth      63  20  3  3   \n",
              "26 2023-03-12 14:00:00        A       W          Fulham      66  21  3  3   \n",
              "27 2023-03-19 14:00:00        H       W  Crystal Palace      69  22  3  3   \n",
              "28 2023-04-01 15:00:00        H       W           Leeds      72  23  3  3   \n",
              "29 2023-04-09 16:30:00        A       D       Liverpool      73  23  4  3   \n",
              "31 2023-04-16 14:00:00        A       D        West Ham      74  23  5  3   \n",
              "30 2023-04-21 20:00:00        H       D     Southampton      75  23  6  3   \n",
              "33 2023-04-26 20:00:00        A       L        Man City      75  23  6  4   \n",
              "32 2023-05-02 20:00:00        H       W         Chelsea      78  24  6  4   \n",
              "35 2023-05-07 16:30:00        A       W       Newcastle      81  25  6  4   \n",
              "34 2023-05-14 16:30:00        H       L        Brighton      81  25  6  5   \n",
              "36 2023-05-20 17:30:00        A       L   Nott'm Forest      81  25  6  6   \n",
              "37 2023-05-28 16:30:00        H       W          Wolves      84  26  6  6   \n",
              "\n",
              "    Match Week    GF    GA  DIFF  Corners Taken PG  Corners Against PG  \\\n",
              "0            1   2.0   0.0   2.0               5.0                 3.0   \n",
              "1            2   6.0   2.0   4.0               6.0                 2.0   \n",
              "2            3   9.0   2.0   7.0               4.0                 3.0   \n",
              "3            4  11.0   3.0   8.0               9.0                 2.0   \n",
              "5            6  13.0   4.0   9.0              10.0                 3.0   \n",
              "4            5  14.0   7.0   7.0               5.0                 2.0   \n",
              "6            7  17.0   7.0  10.0               3.0                 3.0   \n",
              "7            8  20.0   8.0  12.0               5.0                 2.0   \n",
              "8            9  23.0  10.0  13.0               4.0                 3.0   \n",
              "9           10  24.0  10.0  14.0               3.0                 6.0   \n",
              "11          12  25.0  11.0  14.0               4.0                 9.0   \n",
              "10          11  30.0  11.0  19.0               9.0                 4.0   \n",
              "13          14  31.0  11.0  20.0               6.0                 4.0   \n",
              "14          15  33.0  11.0  22.0               4.0                 6.0   \n",
              "12          13  36.0  12.0  24.0               7.0                 5.0   \n",
              "17          18  40.0  14.0  26.0               4.0                 7.0   \n",
              "15          16  40.0  14.0  26.0               5.0                 5.0   \n",
              "18          19  42.0  14.0  28.0               3.0                 4.0   \n",
              "16          17  45.0  16.0  29.0              12.0                 4.0   \n",
              "20          21  45.0  17.0  28.0               5.0                 7.0   \n",
              "19          20  46.0  18.0  28.0               7.0                 4.0   \n",
              "21          22  47.0  21.0  26.0               1.0                 3.0   \n",
              "23          24  51.0  23.0  28.0               9.0                 2.0   \n",
              "25          26  52.0  23.0  29.0               8.0                 0.0   \n",
              "22          23  56.0  23.0  33.0               5.0                 1.0   \n",
              "24          25  59.0  25.0  34.0              17.0                 1.0   \n",
              "26          27  62.0  25.0  37.0               8.0                 4.0   \n",
              "27          28  66.0  26.0  40.0               5.0                 4.0   \n",
              "28          29  70.0  27.0  43.0               4.0                 3.0   \n",
              "29          30  72.0  29.0  43.0               4.0                 5.0   \n",
              "31          32  74.0  31.0  43.0               2.0                 7.0   \n",
              "30          31  77.0  34.0  43.0               7.0                 2.0   \n",
              "33          34  78.0  38.0  40.0               3.0                 1.0   \n",
              "32          33  81.0  39.0  42.0               7.0                 2.0   \n",
              "35          36  83.0  39.0  44.0               4.0                 9.0   \n",
              "34          35  83.0  42.0  41.0               5.0                 2.0   \n",
              "36          37  83.0  43.0  40.0               6.0                 3.0   \n",
              "37          38  88.0  43.0  45.0               8.0                 4.0   \n",
              "\n",
              "    Corners Taken  Corners Against  Shots Taken  STPG  Shots Against  SAPG  \\\n",
              "0             5.0              3.0           10    10             10    10   \n",
              "1            11.0              5.0           29    19             16     6   \n",
              "2            15.0              8.0           43    14             22     6   \n",
              "3            24.0             10.0           65    22             33    11   \n",
              "5            34.0             13.0           87    22             37     4   \n",
              "4            39.0             15.0          103    16             47    10   \n",
              "6            42.0             18.0          116    13             52     5   \n",
              "7            47.0             20.0          138    22             59     7   \n",
              "8            51.0             23.0          149    11             67     8   \n",
              "9            54.0             29.0          158     9             83    16   \n",
              "11           58.0             38.0          170    12             93    10   \n",
              "10           67.0             42.0          194    24             98     5   \n",
              "13           73.0             46.0          208    14            103     5   \n",
              "14           77.0             52.0          222    14            114    11   \n",
              "12           84.0             57.0          238    16            122     8   \n",
              "17           88.0             64.0          252    14            131     9   \n",
              "15           93.0             69.0          269    17            139     8   \n",
              "18           96.0             73.0          283    14            156    17   \n",
              "16          108.0             77.0          308    25            162     6   \n",
              "20          113.0             84.0          323    15            174    12   \n",
              "19          120.0             88.0          346    23            183     9   \n",
              "21          121.0             91.0          356    10            192     9   \n",
              "23          130.0             93.0          376    20            199     7   \n",
              "25          138.0             93.0          386    10            200     1   \n",
              "22          143.0             94.0          401    15            208     8   \n",
              "24          160.0             95.0          432    31            212     4   \n",
              "26          168.0             99.0          447    15            224    12   \n",
              "27          173.0            103.0          462    15            232     8   \n",
              "28          177.0            106.0          475    13            239     7   \n",
              "29          181.0            111.0          484     9            260    21   \n",
              "31          183.0            118.0          495    11            276    16   \n",
              "30          190.0            120.0          520    25            284     8   \n",
              "33          193.0            121.0          528     8            298    14   \n",
              "32          200.0            123.0          544    16            305     7   \n",
              "35          204.0            132.0          554    10            317    12   \n",
              "34          209.0            134.0          568    14            329    12   \n",
              "36          215.0            137.0          579    11            335     6   \n",
              "37          223.0            141.0          593    14            341     6   \n",
              "\n",
              "    Shots On Target  SOTPG  Shots Against on Target  SAOTPG  pct of SOT  \\\n",
              "0                 2      2                        2       2     0.20000   \n",
              "1                 9      7                        4       2     0.31034   \n",
              "2                15      6                        5       1     0.34884   \n",
              "3                23      8                        8       3     0.35385   \n",
              "5                32      9                       11       3     0.36782   \n",
              "4                35      3                       17       6     0.33981   \n",
              "6                42      7                       19       2     0.36207   \n",
              "7                51      9                       22       3     0.36957   \n",
              "8                58      7                       25       3     0.38926   \n",
              "9                62      4                       29       4     0.39241   \n",
              "11               65      3                       32       3     0.38235   \n",
              "10               75     10                       34       2     0.38660   \n",
              "13               77      2                       35       1     0.37019   \n",
              "14               81      4                       37       2     0.36486   \n",
              "12               86      5                       41       4     0.36134   \n",
              "17               93      7                       46       5     0.36905   \n",
              "15               97      4                       47       1     0.36059   \n",
              "18              102      5                       54       7     0.36042   \n",
              "16              107      5                       58       4     0.34740   \n",
              "20              110      3                       62       4     0.34056   \n",
              "19              117      7                       64       2     0.33815   \n",
              "21              118      1                       70       6     0.33146   \n",
              "23              123      5                       75       5     0.32713   \n",
              "25              125      2                       75       0     0.32383   \n",
              "22              130      5                       80       5     0.32419   \n",
              "24              139      9                       84       4     0.32176   \n",
              "26              146      7                       86       2     0.32662   \n",
              "27              151      5                       90       4     0.32684   \n",
              "28              157      6                       95       5     0.33053   \n",
              "29              162      5                      101       6     0.33471   \n",
              "31              167      5                      104       3     0.33737   \n",
              "30              173      6                      110       6     0.33269   \n",
              "33              175      2                      119       9     0.33144   \n",
              "32              185     10                      123       4     0.34007   \n",
              "35              191      6                      128       5     0.34477   \n",
              "34              193      2                      134       6     0.33979   \n",
              "36              196      3                      136       2     0.33851   \n",
              "37              204      8                      136       0     0.34401   \n",
              "\n",
              "             Month  \n",
              "0      August 2022  \n",
              "1      August 2022  \n",
              "2      August 2022  \n",
              "3      August 2022  \n",
              "5      August 2022  \n",
              "4   September 2022  \n",
              "6   September 2022  \n",
              "7     October 2022  \n",
              "8     October 2022  \n",
              "9     October 2022  \n",
              "11    October 2022  \n",
              "10    October 2022  \n",
              "13   November 2022  \n",
              "14   November 2022  \n",
              "12   December 2022  \n",
              "17   December 2022  \n",
              "15    January 2023  \n",
              "18    January 2023  \n",
              "16    January 2023  \n",
              "20   February 2023  \n",
              "19   February 2023  \n",
              "21   February 2023  \n",
              "23   February 2023  \n",
              "25   February 2023  \n",
              "22      March 2023  \n",
              "24      March 2023  \n",
              "26      March 2023  \n",
              "27      March 2023  \n",
              "28      April 2023  \n",
              "29      April 2023  \n",
              "31      April 2023  \n",
              "30      April 2023  \n",
              "33      April 2023  \n",
              "32        May 2023  \n",
              "35        May 2023  \n",
              "34        May 2023  \n",
              "36        May 2023  \n",
              "37        May 2023  "
            ]
          },
          "metadata": {},
          "output_type": "display_data"
        }
      ],
      "source": [
        "display(a_df)"
      ]
    },
    {
      "cell_type": "markdown",
      "id": "a78f8dc0",
      "metadata": {},
      "source": [
        "Data Visualization"
      ]
    },
    {
      "cell_type": "code",
      "execution_count": 55,
      "id": "b6689293",
      "metadata": {
        "colab": {
          "base_uri": "https://localhost:8080/",
          "height": 542
        },
        "id": "b6689293",
        "outputId": "36dd74f0-ee0f-4fc7-f603-2950b6ab8ff5"
      },
      "outputs": [
        {
          "data": {
            "application/vnd.plotly.v1+json": {
              "config": {
                "plotlyServerURL": "https://plot.ly"
              },
              "data": [
                {
                  "name": "% Shots on Target",
                  "type": "scatter",
                  "x": [
                    "2022-08-05T20:00:00",
                    "2022-08-13T15:00:00",
                    "2022-08-20T17:30:00",
                    "2022-08-27T17:30:00",
                    "2022-08-31T19:30:00",
                    "2022-09-04T16:30:00",
                    "2022-09-18T12:00:00",
                    "2022-10-01T12:30:00",
                    "2022-10-09T16:30:00",
                    "2022-10-16T14:00:00",
                    "2022-10-23T14:00:00",
                    "2022-10-30T14:00:00",
                    "2022-11-06T12:00:00",
                    "2022-11-12T19:45:00",
                    "2022-12-26T20:00:00",
                    "2022-12-31T17:30:00",
                    "2023-01-03T19:45:00",
                    "2023-01-15T16:30:00",
                    "2023-01-22T16:30:00",
                    "2023-02-04T12:30:00",
                    "2023-02-11T15:00:00",
                    "2023-02-15T19:30:00",
                    "2023-02-18T12:30:00",
                    "2023-02-25T15:00:00",
                    "2023-03-01T19:45:00",
                    "2023-03-04T15:00:00",
                    "2023-03-12T14:00:00",
                    "2023-03-19T14:00:00",
                    "2023-04-01T15:00:00",
                    "2023-04-09T16:30:00",
                    "2023-04-16T14:00:00",
                    "2023-04-21T20:00:00",
                    "2023-04-26T20:00:00",
                    "2023-05-02T20:00:00",
                    "2023-05-07T16:30:00",
                    "2023-05-14T16:30:00",
                    "2023-05-20T17:30:00",
                    "2023-05-28T16:30:00"
                  ],
                  "y": [
                    0.2,
                    0.31034,
                    0.34884,
                    0.35385,
                    0.36782,
                    0.33981,
                    0.36207,
                    0.36957,
                    0.38926,
                    0.39241,
                    0.38235,
                    0.3866,
                    0.37019,
                    0.36486,
                    0.36134,
                    0.36905,
                    0.36059,
                    0.36042,
                    0.3474,
                    0.34056,
                    0.33815,
                    0.33146,
                    0.32713,
                    0.32383,
                    0.32419,
                    0.32176,
                    0.32662,
                    0.32684,
                    0.33053,
                    0.33471,
                    0.33737,
                    0.33269,
                    0.33144,
                    0.34007,
                    0.34477,
                    0.33979,
                    0.33851,
                    0.34401
                  ]
                },
                {
                  "name": "Shots Per Game",
                  "type": "scatter",
                  "x": [
                    "2022-08-05T20:00:00",
                    "2022-08-13T15:00:00",
                    "2022-08-20T17:30:00",
                    "2022-08-27T17:30:00",
                    "2022-08-31T19:30:00",
                    "2022-09-04T16:30:00",
                    "2022-09-18T12:00:00",
                    "2022-10-01T12:30:00",
                    "2022-10-09T16:30:00",
                    "2022-10-16T14:00:00",
                    "2022-10-23T14:00:00",
                    "2022-10-30T14:00:00",
                    "2022-11-06T12:00:00",
                    "2022-11-12T19:45:00",
                    "2022-12-26T20:00:00",
                    "2022-12-31T17:30:00",
                    "2023-01-03T19:45:00",
                    "2023-01-15T16:30:00",
                    "2023-01-22T16:30:00",
                    "2023-02-04T12:30:00",
                    "2023-02-11T15:00:00",
                    "2023-02-15T19:30:00",
                    "2023-02-18T12:30:00",
                    "2023-02-25T15:00:00",
                    "2023-03-01T19:45:00",
                    "2023-03-04T15:00:00",
                    "2023-03-12T14:00:00",
                    "2023-03-19T14:00:00",
                    "2023-04-01T15:00:00",
                    "2023-04-09T16:30:00",
                    "2023-04-16T14:00:00",
                    "2023-04-21T20:00:00",
                    "2023-04-26T20:00:00",
                    "2023-05-02T20:00:00",
                    "2023-05-07T16:30:00",
                    "2023-05-14T16:30:00",
                    "2023-05-20T17:30:00",
                    "2023-05-28T16:30:00"
                  ],
                  "y": [
                    10,
                    19,
                    14,
                    22,
                    22,
                    16,
                    13,
                    22,
                    11,
                    9,
                    12,
                    24,
                    14,
                    14,
                    16,
                    14,
                    17,
                    14,
                    25,
                    15,
                    23,
                    10,
                    20,
                    10,
                    15,
                    31,
                    15,
                    15,
                    13,
                    9,
                    11,
                    25,
                    8,
                    16,
                    10,
                    14,
                    11,
                    14
                  ],
                  "yaxis": "y3"
                },
                {
                  "name": "Shots on Target Per Game",
                  "type": "scatter",
                  "x": [
                    "2022-08-05T20:00:00",
                    "2022-08-13T15:00:00",
                    "2022-08-20T17:30:00",
                    "2022-08-27T17:30:00",
                    "2022-08-31T19:30:00",
                    "2022-09-04T16:30:00",
                    "2022-09-18T12:00:00",
                    "2022-10-01T12:30:00",
                    "2022-10-09T16:30:00",
                    "2022-10-16T14:00:00",
                    "2022-10-23T14:00:00",
                    "2022-10-30T14:00:00",
                    "2022-11-06T12:00:00",
                    "2022-11-12T19:45:00",
                    "2022-12-26T20:00:00",
                    "2022-12-31T17:30:00",
                    "2023-01-03T19:45:00",
                    "2023-01-15T16:30:00",
                    "2023-01-22T16:30:00",
                    "2023-02-04T12:30:00",
                    "2023-02-11T15:00:00",
                    "2023-02-15T19:30:00",
                    "2023-02-18T12:30:00",
                    "2023-02-25T15:00:00",
                    "2023-03-01T19:45:00",
                    "2023-03-04T15:00:00",
                    "2023-03-12T14:00:00",
                    "2023-03-19T14:00:00",
                    "2023-04-01T15:00:00",
                    "2023-04-09T16:30:00",
                    "2023-04-16T14:00:00",
                    "2023-04-21T20:00:00",
                    "2023-04-26T20:00:00",
                    "2023-05-02T20:00:00",
                    "2023-05-07T16:30:00",
                    "2023-05-14T16:30:00",
                    "2023-05-20T17:30:00",
                    "2023-05-28T16:30:00"
                  ],
                  "y": [
                    2,
                    7,
                    6,
                    8,
                    9,
                    3,
                    7,
                    9,
                    7,
                    4,
                    3,
                    10,
                    2,
                    4,
                    5,
                    7,
                    4,
                    5,
                    5,
                    3,
                    7,
                    1,
                    5,
                    2,
                    5,
                    9,
                    7,
                    5,
                    6,
                    5,
                    5,
                    6,
                    2,
                    10,
                    6,
                    2,
                    3,
                    8
                  ],
                  "yaxis": "y3"
                }
              ],
              "layout": {
                "font": {
                  "color": "#7785ac",
                  "family": "arial",
                  "size": 15
                },
                "hoverlabel": {
                  "namelength": -1
                },
                "hovermode": "x unified",
                "paper_bgcolor": "#360568",
                "plot_bgcolor": "#5b2a86",
                "template": {
                  "data": {
                    "bar": [
                      {
                        "error_x": {
                          "color": "#2a3f5f"
                        },
                        "error_y": {
                          "color": "#2a3f5f"
                        },
                        "marker": {
                          "line": {
                            "color": "#E5ECF6",
                            "width": 0.5
                          },
                          "pattern": {
                            "fillmode": "overlay",
                            "size": 10,
                            "solidity": 0.2
                          }
                        },
                        "type": "bar"
                      }
                    ],
                    "barpolar": [
                      {
                        "marker": {
                          "line": {
                            "color": "#E5ECF6",
                            "width": 0.5
                          },
                          "pattern": {
                            "fillmode": "overlay",
                            "size": 10,
                            "solidity": 0.2
                          }
                        },
                        "type": "barpolar"
                      }
                    ],
                    "carpet": [
                      {
                        "aaxis": {
                          "endlinecolor": "#2a3f5f",
                          "gridcolor": "white",
                          "linecolor": "white",
                          "minorgridcolor": "white",
                          "startlinecolor": "#2a3f5f"
                        },
                        "baxis": {
                          "endlinecolor": "#2a3f5f",
                          "gridcolor": "white",
                          "linecolor": "white",
                          "minorgridcolor": "white",
                          "startlinecolor": "#2a3f5f"
                        },
                        "type": "carpet"
                      }
                    ],
                    "choropleth": [
                      {
                        "colorbar": {
                          "outlinewidth": 0,
                          "ticks": ""
                        },
                        "type": "choropleth"
                      }
                    ],
                    "contour": [
                      {
                        "colorbar": {
                          "outlinewidth": 0,
                          "ticks": ""
                        },
                        "colorscale": [
                          [
                            0,
                            "#0d0887"
                          ],
                          [
                            0.1111111111111111,
                            "#46039f"
                          ],
                          [
                            0.2222222222222222,
                            "#7201a8"
                          ],
                          [
                            0.3333333333333333,
                            "#9c179e"
                          ],
                          [
                            0.4444444444444444,
                            "#bd3786"
                          ],
                          [
                            0.5555555555555556,
                            "#d8576b"
                          ],
                          [
                            0.6666666666666666,
                            "#ed7953"
                          ],
                          [
                            0.7777777777777778,
                            "#fb9f3a"
                          ],
                          [
                            0.8888888888888888,
                            "#fdca26"
                          ],
                          [
                            1,
                            "#f0f921"
                          ]
                        ],
                        "type": "contour"
                      }
                    ],
                    "contourcarpet": [
                      {
                        "colorbar": {
                          "outlinewidth": 0,
                          "ticks": ""
                        },
                        "type": "contourcarpet"
                      }
                    ],
                    "heatmap": [
                      {
                        "colorbar": {
                          "outlinewidth": 0,
                          "ticks": ""
                        },
                        "colorscale": [
                          [
                            0,
                            "#0d0887"
                          ],
                          [
                            0.1111111111111111,
                            "#46039f"
                          ],
                          [
                            0.2222222222222222,
                            "#7201a8"
                          ],
                          [
                            0.3333333333333333,
                            "#9c179e"
                          ],
                          [
                            0.4444444444444444,
                            "#bd3786"
                          ],
                          [
                            0.5555555555555556,
                            "#d8576b"
                          ],
                          [
                            0.6666666666666666,
                            "#ed7953"
                          ],
                          [
                            0.7777777777777778,
                            "#fb9f3a"
                          ],
                          [
                            0.8888888888888888,
                            "#fdca26"
                          ],
                          [
                            1,
                            "#f0f921"
                          ]
                        ],
                        "type": "heatmap"
                      }
                    ],
                    "heatmapgl": [
                      {
                        "colorbar": {
                          "outlinewidth": 0,
                          "ticks": ""
                        },
                        "colorscale": [
                          [
                            0,
                            "#0d0887"
                          ],
                          [
                            0.1111111111111111,
                            "#46039f"
                          ],
                          [
                            0.2222222222222222,
                            "#7201a8"
                          ],
                          [
                            0.3333333333333333,
                            "#9c179e"
                          ],
                          [
                            0.4444444444444444,
                            "#bd3786"
                          ],
                          [
                            0.5555555555555556,
                            "#d8576b"
                          ],
                          [
                            0.6666666666666666,
                            "#ed7953"
                          ],
                          [
                            0.7777777777777778,
                            "#fb9f3a"
                          ],
                          [
                            0.8888888888888888,
                            "#fdca26"
                          ],
                          [
                            1,
                            "#f0f921"
                          ]
                        ],
                        "type": "heatmapgl"
                      }
                    ],
                    "histogram": [
                      {
                        "marker": {
                          "pattern": {
                            "fillmode": "overlay",
                            "size": 10,
                            "solidity": 0.2
                          }
                        },
                        "type": "histogram"
                      }
                    ],
                    "histogram2d": [
                      {
                        "colorbar": {
                          "outlinewidth": 0,
                          "ticks": ""
                        },
                        "colorscale": [
                          [
                            0,
                            "#0d0887"
                          ],
                          [
                            0.1111111111111111,
                            "#46039f"
                          ],
                          [
                            0.2222222222222222,
                            "#7201a8"
                          ],
                          [
                            0.3333333333333333,
                            "#9c179e"
                          ],
                          [
                            0.4444444444444444,
                            "#bd3786"
                          ],
                          [
                            0.5555555555555556,
                            "#d8576b"
                          ],
                          [
                            0.6666666666666666,
                            "#ed7953"
                          ],
                          [
                            0.7777777777777778,
                            "#fb9f3a"
                          ],
                          [
                            0.8888888888888888,
                            "#fdca26"
                          ],
                          [
                            1,
                            "#f0f921"
                          ]
                        ],
                        "type": "histogram2d"
                      }
                    ],
                    "histogram2dcontour": [
                      {
                        "colorbar": {
                          "outlinewidth": 0,
                          "ticks": ""
                        },
                        "colorscale": [
                          [
                            0,
                            "#0d0887"
                          ],
                          [
                            0.1111111111111111,
                            "#46039f"
                          ],
                          [
                            0.2222222222222222,
                            "#7201a8"
                          ],
                          [
                            0.3333333333333333,
                            "#9c179e"
                          ],
                          [
                            0.4444444444444444,
                            "#bd3786"
                          ],
                          [
                            0.5555555555555556,
                            "#d8576b"
                          ],
                          [
                            0.6666666666666666,
                            "#ed7953"
                          ],
                          [
                            0.7777777777777778,
                            "#fb9f3a"
                          ],
                          [
                            0.8888888888888888,
                            "#fdca26"
                          ],
                          [
                            1,
                            "#f0f921"
                          ]
                        ],
                        "type": "histogram2dcontour"
                      }
                    ],
                    "mesh3d": [
                      {
                        "colorbar": {
                          "outlinewidth": 0,
                          "ticks": ""
                        },
                        "type": "mesh3d"
                      }
                    ],
                    "parcoords": [
                      {
                        "line": {
                          "colorbar": {
                            "outlinewidth": 0,
                            "ticks": ""
                          }
                        },
                        "type": "parcoords"
                      }
                    ],
                    "pie": [
                      {
                        "automargin": true,
                        "type": "pie"
                      }
                    ],
                    "scatter": [
                      {
                        "marker": {
                          "colorbar": {
                            "outlinewidth": 0,
                            "ticks": ""
                          }
                        },
                        "type": "scatter"
                      }
                    ],
                    "scatter3d": [
                      {
                        "line": {
                          "colorbar": {
                            "outlinewidth": 0,
                            "ticks": ""
                          }
                        },
                        "marker": {
                          "colorbar": {
                            "outlinewidth": 0,
                            "ticks": ""
                          }
                        },
                        "type": "scatter3d"
                      }
                    ],
                    "scattercarpet": [
                      {
                        "marker": {
                          "colorbar": {
                            "outlinewidth": 0,
                            "ticks": ""
                          }
                        },
                        "type": "scattercarpet"
                      }
                    ],
                    "scattergeo": [
                      {
                        "marker": {
                          "colorbar": {
                            "outlinewidth": 0,
                            "ticks": ""
                          }
                        },
                        "type": "scattergeo"
                      }
                    ],
                    "scattergl": [
                      {
                        "marker": {
                          "colorbar": {
                            "outlinewidth": 0,
                            "ticks": ""
                          }
                        },
                        "type": "scattergl"
                      }
                    ],
                    "scattermapbox": [
                      {
                        "marker": {
                          "colorbar": {
                            "outlinewidth": 0,
                            "ticks": ""
                          }
                        },
                        "type": "scattermapbox"
                      }
                    ],
                    "scatterpolar": [
                      {
                        "marker": {
                          "colorbar": {
                            "outlinewidth": 0,
                            "ticks": ""
                          }
                        },
                        "type": "scatterpolar"
                      }
                    ],
                    "scatterpolargl": [
                      {
                        "marker": {
                          "colorbar": {
                            "outlinewidth": 0,
                            "ticks": ""
                          }
                        },
                        "type": "scatterpolargl"
                      }
                    ],
                    "scatterternary": [
                      {
                        "marker": {
                          "colorbar": {
                            "outlinewidth": 0,
                            "ticks": ""
                          }
                        },
                        "type": "scatterternary"
                      }
                    ],
                    "surface": [
                      {
                        "colorbar": {
                          "outlinewidth": 0,
                          "ticks": ""
                        },
                        "colorscale": [
                          [
                            0,
                            "#0d0887"
                          ],
                          [
                            0.1111111111111111,
                            "#46039f"
                          ],
                          [
                            0.2222222222222222,
                            "#7201a8"
                          ],
                          [
                            0.3333333333333333,
                            "#9c179e"
                          ],
                          [
                            0.4444444444444444,
                            "#bd3786"
                          ],
                          [
                            0.5555555555555556,
                            "#d8576b"
                          ],
                          [
                            0.6666666666666666,
                            "#ed7953"
                          ],
                          [
                            0.7777777777777778,
                            "#fb9f3a"
                          ],
                          [
                            0.8888888888888888,
                            "#fdca26"
                          ],
                          [
                            1,
                            "#f0f921"
                          ]
                        ],
                        "type": "surface"
                      }
                    ],
                    "table": [
                      {
                        "cells": {
                          "fill": {
                            "color": "#EBF0F8"
                          },
                          "line": {
                            "color": "white"
                          }
                        },
                        "header": {
                          "fill": {
                            "color": "#C8D4E3"
                          },
                          "line": {
                            "color": "white"
                          }
                        },
                        "type": "table"
                      }
                    ]
                  },
                  "layout": {
                    "annotationdefaults": {
                      "arrowcolor": "#2a3f5f",
                      "arrowhead": 0,
                      "arrowwidth": 1
                    },
                    "autotypenumbers": "strict",
                    "coloraxis": {
                      "colorbar": {
                        "outlinewidth": 0,
                        "ticks": ""
                      }
                    },
                    "colorscale": {
                      "diverging": [
                        [
                          0,
                          "#8e0152"
                        ],
                        [
                          0.1,
                          "#c51b7d"
                        ],
                        [
                          0.2,
                          "#de77ae"
                        ],
                        [
                          0.3,
                          "#f1b6da"
                        ],
                        [
                          0.4,
                          "#fde0ef"
                        ],
                        [
                          0.5,
                          "#f7f7f7"
                        ],
                        [
                          0.6,
                          "#e6f5d0"
                        ],
                        [
                          0.7,
                          "#b8e186"
                        ],
                        [
                          0.8,
                          "#7fbc41"
                        ],
                        [
                          0.9,
                          "#4d9221"
                        ],
                        [
                          1,
                          "#276419"
                        ]
                      ],
                      "sequential": [
                        [
                          0,
                          "#0d0887"
                        ],
                        [
                          0.1111111111111111,
                          "#46039f"
                        ],
                        [
                          0.2222222222222222,
                          "#7201a8"
                        ],
                        [
                          0.3333333333333333,
                          "#9c179e"
                        ],
                        [
                          0.4444444444444444,
                          "#bd3786"
                        ],
                        [
                          0.5555555555555556,
                          "#d8576b"
                        ],
                        [
                          0.6666666666666666,
                          "#ed7953"
                        ],
                        [
                          0.7777777777777778,
                          "#fb9f3a"
                        ],
                        [
                          0.8888888888888888,
                          "#fdca26"
                        ],
                        [
                          1,
                          "#f0f921"
                        ]
                      ],
                      "sequentialminus": [
                        [
                          0,
                          "#0d0887"
                        ],
                        [
                          0.1111111111111111,
                          "#46039f"
                        ],
                        [
                          0.2222222222222222,
                          "#7201a8"
                        ],
                        [
                          0.3333333333333333,
                          "#9c179e"
                        ],
                        [
                          0.4444444444444444,
                          "#bd3786"
                        ],
                        [
                          0.5555555555555556,
                          "#d8576b"
                        ],
                        [
                          0.6666666666666666,
                          "#ed7953"
                        ],
                        [
                          0.7777777777777778,
                          "#fb9f3a"
                        ],
                        [
                          0.8888888888888888,
                          "#fdca26"
                        ],
                        [
                          1,
                          "#f0f921"
                        ]
                      ]
                    },
                    "colorway": [
                      "#636efa",
                      "#EF553B",
                      "#00cc96",
                      "#ab63fa",
                      "#FFA15A",
                      "#19d3f3",
                      "#FF6692",
                      "#B6E880",
                      "#FF97FF",
                      "#FECB52"
                    ],
                    "font": {
                      "color": "#2a3f5f"
                    },
                    "geo": {
                      "bgcolor": "white",
                      "lakecolor": "white",
                      "landcolor": "#E5ECF6",
                      "showlakes": true,
                      "showland": true,
                      "subunitcolor": "white"
                    },
                    "hoverlabel": {
                      "align": "left"
                    },
                    "hovermode": "closest",
                    "mapbox": {
                      "style": "light"
                    },
                    "paper_bgcolor": "white",
                    "plot_bgcolor": "#E5ECF6",
                    "polar": {
                      "angularaxis": {
                        "gridcolor": "white",
                        "linecolor": "white",
                        "ticks": ""
                      },
                      "bgcolor": "#E5ECF6",
                      "radialaxis": {
                        "gridcolor": "white",
                        "linecolor": "white",
                        "ticks": ""
                      }
                    },
                    "scene": {
                      "xaxis": {
                        "backgroundcolor": "#E5ECF6",
                        "gridcolor": "white",
                        "gridwidth": 2,
                        "linecolor": "white",
                        "showbackground": true,
                        "ticks": "",
                        "zerolinecolor": "white"
                      },
                      "yaxis": {
                        "backgroundcolor": "#E5ECF6",
                        "gridcolor": "white",
                        "gridwidth": 2,
                        "linecolor": "white",
                        "showbackground": true,
                        "ticks": "",
                        "zerolinecolor": "white"
                      },
                      "zaxis": {
                        "backgroundcolor": "#E5ECF6",
                        "gridcolor": "white",
                        "gridwidth": 2,
                        "linecolor": "white",
                        "showbackground": true,
                        "ticks": "",
                        "zerolinecolor": "white"
                      }
                    },
                    "shapedefaults": {
                      "line": {
                        "color": "#2a3f5f"
                      }
                    },
                    "ternary": {
                      "aaxis": {
                        "gridcolor": "white",
                        "linecolor": "white",
                        "ticks": ""
                      },
                      "baxis": {
                        "gridcolor": "white",
                        "linecolor": "white",
                        "ticks": ""
                      },
                      "bgcolor": "#E5ECF6",
                      "caxis": {
                        "gridcolor": "white",
                        "linecolor": "white",
                        "ticks": ""
                      }
                    },
                    "title": {
                      "x": 0.05
                    },
                    "xaxis": {
                      "automargin": true,
                      "gridcolor": "white",
                      "linecolor": "white",
                      "ticks": "",
                      "title": {
                        "standoff": 15
                      },
                      "zerolinecolor": "white",
                      "zerolinewidth": 2
                    },
                    "yaxis": {
                      "automargin": true,
                      "gridcolor": "white",
                      "linecolor": "white",
                      "ticks": "",
                      "title": {
                        "standoff": 15
                      },
                      "zerolinecolor": "white",
                      "zerolinewidth": 2
                    }
                  }
                },
                "title": {
                  "font": {
                    "size": 30
                  },
                  "text": "Percentage of Shots/Shots On Target"
                },
                "xaxis": {
                  "gridcolor": "#413543",
                  "showgrid": false,
                  "zeroline": false
                },
                "yaxis": {
                  "gridcolor": "#413543",
                  "tickfont": {
                    "color": "#1f77b4"
                  },
                  "title": {
                    "font": {
                      "color": "#1f77b4"
                    }
                  },
                  "zeroline": false
                },
                "yaxis2": {
                  "anchor": "free",
                  "gridcolor": "#413543",
                  "overlaying": "y",
                  "position": 0.15,
                  "side": "right",
                  "tickfont": {
                    "color": "#ff7f0e"
                  },
                  "title": {
                    "font": {
                      "color": "#ff7f0e"
                    }
                  },
                  "zeroline": false
                },
                "yaxis3": {
                  "anchor": "x",
                  "gridcolor": "#413543",
                  "overlaying": "y",
                  "side": "right",
                  "tickfont": {
                    "color": "#d62728"
                  },
                  "title": {
                    "font": {
                      "color": "#d62728"
                    }
                  },
                  "zeroline": false
                }
              }
            }
          },
          "metadata": {},
          "output_type": "display_data"
        }
      ],
      "source": [
        "# Assuming your DataFrame is called 'df' with columns 'datetime' and 'data'\n",
        "\n",
        "fig = go.Figure()\n",
        "fig.add_trace(\n",
        "    go.Scatter(x=a_df['Datetime'], y=a_df['pct of SOT'], name=\"% Shots on Target\")\n",
        ")\n",
        "\n",
        "fig.add_trace(\n",
        "    go.Scatter(x=a_df['Datetime'], y=a_df['STPG'], name=\"Shots Per Game\",yaxis=\"y3\")\n",
        "\n",
        ")\n",
        "fig.add_trace(go.Scatter(x=a_df['Datetime'],y=a_df['SOTPG'],name=\"Shots on Target Per Game\",yaxis=\"y3\"))\n",
        "# Customize the plot \n",
        "fig.update_yaxes(gridcolor='#413543',zeroline=False)\n",
        "fig.update_xaxes(gridcolor='#413543',zeroline=False)\n",
        "fig.update_layout(paper_bgcolor='#360568',plot_bgcolor='#5b2a86',font_color='#7785ac',font_size=15, font_family='arial')\n",
        "fig.update_layout(\n",
        "    title=dict(text=\"Percentage of Shots/Shots On Target\", font=dict(size=30)),\n",
        "    hovermode=\"x unified\",\n",
        "    hoverlabel_namelength = -1\n",
        ")\n",
        "fig.update_xaxes(showgrid=False)\n",
        "fig.update_layout( yaxis=dict(\n",
        "        titlefont=dict(\n",
        "            color=\"#1f77b4\"\n",
        "        ),\n",
        "        tickfont=dict(\n",
        "            color=\"#1f77b4\"\n",
        "        ),\n",
        "        gridcolor='#413543'\n",
        "    ),\n",
        "    yaxis2=dict(\n",
        "        titlefont=dict(\n",
        "            color=\"#ff7f0e\"\n",
        "        ),\n",
        "        tickfont=dict(\n",
        "            color=\"#ff7f0e\"\n",
        "        ),\n",
        "        anchor=\"free\",\n",
        "        overlaying=\"y\",\n",
        "        side=\"right\",\n",
        "        position=0.15,\n",
        "        gridcolor='#413543',\n",
        "        zeroline=False\n",
        "    ),\n",
        "    yaxis3=dict(\n",
        "        titlefont=dict(\n",
        "            color=\"#d62728\"\n",
        "        ),\n",
        "        tickfont=dict(\n",
        "            color=\"#d62728\"\n",
        "        ),\n",
        "        anchor=\"x\",\n",
        "        overlaying=\"y\",\n",
        "        side=\"right\",\n",
        "        gridcolor='#413543',\n",
        "        zeroline=False\n",
        "    ),)\n",
        "# Display the plot\n",
        "fig.show()"
      ]
    },
    {
      "cell_type": "code",
      "execution_count": 56,
      "id": "24FRO_PCEQ2m",
      "metadata": {
        "colab": {
          "base_uri": "https://localhost:8080/",
          "height": 542
        },
        "id": "24FRO_PCEQ2m",
        "outputId": "f6787287-d8dc-4948-bcfe-8db8dc59a779"
      },
      "outputs": [
        {
          "data": {
            "application/vnd.plotly.v1+json": {
              "config": {
                "plotlyServerURL": "https://plot.ly"
              },
              "data": [
                {
                  "marker": {
                    "color": "#a5e6ba",
                    "line": {
                      "width": 0
                    }
                  },
                  "name": "Shot Taken",
                  "type": "bar",
                  "x": [
                    "2022-08-05T20:00:00",
                    "2022-08-13T15:00:00",
                    "2022-08-20T17:30:00",
                    "2022-08-27T17:30:00",
                    "2022-08-31T19:30:00",
                    "2022-09-04T16:30:00",
                    "2022-09-18T12:00:00",
                    "2022-10-01T12:30:00",
                    "2022-10-09T16:30:00",
                    "2022-10-16T14:00:00",
                    "2022-10-23T14:00:00",
                    "2022-10-30T14:00:00",
                    "2022-11-06T12:00:00",
                    "2022-11-12T19:45:00",
                    "2022-12-26T20:00:00",
                    "2022-12-31T17:30:00",
                    "2023-01-03T19:45:00",
                    "2023-01-15T16:30:00",
                    "2023-01-22T16:30:00",
                    "2023-02-04T12:30:00",
                    "2023-02-11T15:00:00",
                    "2023-02-15T19:30:00",
                    "2023-02-18T12:30:00",
                    "2023-02-25T15:00:00",
                    "2023-03-01T19:45:00",
                    "2023-03-04T15:00:00",
                    "2023-03-12T14:00:00",
                    "2023-03-19T14:00:00",
                    "2023-04-01T15:00:00",
                    "2023-04-09T16:30:00",
                    "2023-04-16T14:00:00",
                    "2023-04-21T20:00:00",
                    "2023-04-26T20:00:00",
                    "2023-05-02T20:00:00",
                    "2023-05-07T16:30:00",
                    "2023-05-14T16:30:00",
                    "2023-05-20T17:30:00",
                    "2023-05-28T16:30:00"
                  ],
                  "y": [
                    10,
                    19,
                    14,
                    22,
                    22,
                    16,
                    13,
                    22,
                    11,
                    9,
                    12,
                    24,
                    14,
                    14,
                    16,
                    14,
                    17,
                    14,
                    25,
                    15,
                    23,
                    10,
                    20,
                    10,
                    15,
                    31,
                    15,
                    15,
                    13,
                    9,
                    11,
                    25,
                    8,
                    16,
                    10,
                    14,
                    11,
                    14
                  ]
                },
                {
                  "customdata": [
                    [
                      "<br><br> Result: W<br> Opponent:Crystal Palace"
                    ],
                    [
                      "<br><br> Result: W<br> Opponent:Leicester"
                    ],
                    [
                      "<br><br> Result: W<br> Opponent:Bournemouth"
                    ],
                    [
                      "<br><br> Result: W<br> Opponent:Fulham"
                    ],
                    [
                      "<br><br> Result: W<br> Opponent:Aston Villa"
                    ],
                    [
                      "<br><br> Result: L<br> Opponent:Man United"
                    ],
                    [
                      "<br><br> Result: W<br> Opponent:Brentford"
                    ],
                    [
                      "<br><br> Result: W<br> Opponent:Tottenham"
                    ],
                    [
                      "<br><br> Result: W<br> Opponent:Liverpool"
                    ],
                    [
                      "<br><br> Result: W<br> Opponent:Leeds"
                    ],
                    [
                      "<br><br> Result: D<br> Opponent:Southampton"
                    ],
                    [
                      "<br><br> Result: W<br> Opponent:Nott'm Forest"
                    ],
                    [
                      "<br><br> Result: W<br> Opponent:Chelsea"
                    ],
                    [
                      "<br><br> Result: W<br> Opponent:Wolves"
                    ],
                    [
                      "<br><br> Result: W<br> Opponent:West Ham"
                    ],
                    [
                      "<br><br> Result: W<br> Opponent:Brighton"
                    ],
                    [
                      "<br><br> Result: D<br> Opponent:Newcastle"
                    ],
                    [
                      "<br><br> Result: W<br> Opponent:Tottenham"
                    ],
                    [
                      "<br><br> Result: W<br> Opponent:Man United"
                    ],
                    [
                      "<br><br> Result: L<br> Opponent:Everton"
                    ],
                    [
                      "<br><br> Result: D<br> Opponent:Brentford"
                    ],
                    [
                      "<br><br> Result: L<br> Opponent:Man City"
                    ],
                    [
                      "<br><br> Result: W<br> Opponent:Aston Villa"
                    ],
                    [
                      "<br><br> Result: W<br> Opponent:Leicester"
                    ],
                    [
                      "<br><br> Result: W<br> Opponent:Everton"
                    ],
                    [
                      "<br><br> Result: W<br> Opponent:Bournemouth"
                    ],
                    [
                      "<br><br> Result: W<br> Opponent:Fulham"
                    ],
                    [
                      "<br><br> Result: W<br> Opponent:Crystal Palace"
                    ],
                    [
                      "<br><br> Result: W<br> Opponent:Leeds"
                    ],
                    [
                      "<br><br> Result: D<br> Opponent:Liverpool"
                    ],
                    [
                      "<br><br> Result: D<br> Opponent:West Ham"
                    ],
                    [
                      "<br><br> Result: D<br> Opponent:Southampton"
                    ],
                    [
                      "<br><br> Result: L<br> Opponent:Man City"
                    ],
                    [
                      "<br><br> Result: W<br> Opponent:Chelsea"
                    ],
                    [
                      "<br><br> Result: W<br> Opponent:Newcastle"
                    ],
                    [
                      "<br><br> Result: L<br> Opponent:Brighton"
                    ],
                    [
                      "<br><br> Result: L<br> Opponent:Nott'm Forest"
                    ],
                    [
                      "<br><br> Result: W<br> Opponent:Wolves"
                    ]
                  ],
                  "hovertemplate": "%{y}%{customdata} ",
                  "marker": {
                    "color": "#009FBD",
                    "line": {
                      "width": 0
                    }
                  },
                  "name": "Shot Against",
                  "type": "bar",
                  "x": [
                    "2022-08-05T20:00:00",
                    "2022-08-13T15:00:00",
                    "2022-08-20T17:30:00",
                    "2022-08-27T17:30:00",
                    "2022-08-31T19:30:00",
                    "2022-09-04T16:30:00",
                    "2022-09-18T12:00:00",
                    "2022-10-01T12:30:00",
                    "2022-10-09T16:30:00",
                    "2022-10-16T14:00:00",
                    "2022-10-23T14:00:00",
                    "2022-10-30T14:00:00",
                    "2022-11-06T12:00:00",
                    "2022-11-12T19:45:00",
                    "2022-12-26T20:00:00",
                    "2022-12-31T17:30:00",
                    "2023-01-03T19:45:00",
                    "2023-01-15T16:30:00",
                    "2023-01-22T16:30:00",
                    "2023-02-04T12:30:00",
                    "2023-02-11T15:00:00",
                    "2023-02-15T19:30:00",
                    "2023-02-18T12:30:00",
                    "2023-02-25T15:00:00",
                    "2023-03-01T19:45:00",
                    "2023-03-04T15:00:00",
                    "2023-03-12T14:00:00",
                    "2023-03-19T14:00:00",
                    "2023-04-01T15:00:00",
                    "2023-04-09T16:30:00",
                    "2023-04-16T14:00:00",
                    "2023-04-21T20:00:00",
                    "2023-04-26T20:00:00",
                    "2023-05-02T20:00:00",
                    "2023-05-07T16:30:00",
                    "2023-05-14T16:30:00",
                    "2023-05-20T17:30:00",
                    "2023-05-28T16:30:00"
                  ],
                  "y": [
                    10,
                    6,
                    6,
                    11,
                    4,
                    10,
                    5,
                    7,
                    8,
                    16,
                    10,
                    5,
                    5,
                    11,
                    8,
                    9,
                    8,
                    17,
                    6,
                    12,
                    9,
                    9,
                    7,
                    1,
                    8,
                    4,
                    12,
                    8,
                    7,
                    21,
                    16,
                    8,
                    14,
                    7,
                    12,
                    12,
                    6,
                    6
                  ]
                },
                {
                  "marker": {
                    "color": "#b50d3c",
                    "line": {
                      "width": 0
                    }
                  },
                  "name": "STPG/SAPG",
                  "type": "scatter",
                  "x": [
                    "2022-08-05T20:00:00",
                    "2022-08-13T15:00:00",
                    "2022-08-20T17:30:00",
                    "2022-08-27T17:30:00",
                    "2022-08-31T19:30:00",
                    "2022-09-04T16:30:00",
                    "2022-09-18T12:00:00",
                    "2022-10-01T12:30:00",
                    "2022-10-09T16:30:00",
                    "2022-10-16T14:00:00",
                    "2022-10-23T14:00:00",
                    "2022-10-30T14:00:00",
                    "2022-11-06T12:00:00",
                    "2022-11-12T19:45:00",
                    "2022-12-26T20:00:00",
                    "2022-12-31T17:30:00",
                    "2023-01-03T19:45:00",
                    "2023-01-15T16:30:00",
                    "2023-01-22T16:30:00",
                    "2023-02-04T12:30:00",
                    "2023-02-11T15:00:00",
                    "2023-02-15T19:30:00",
                    "2023-02-18T12:30:00",
                    "2023-02-25T15:00:00",
                    "2023-03-01T19:45:00",
                    "2023-03-04T15:00:00",
                    "2023-03-12T14:00:00",
                    "2023-03-19T14:00:00",
                    "2023-04-01T15:00:00",
                    "2023-04-09T16:30:00",
                    "2023-04-16T14:00:00",
                    "2023-04-21T20:00:00",
                    "2023-04-26T20:00:00",
                    "2023-05-02T20:00:00",
                    "2023-05-07T16:30:00",
                    "2023-05-14T16:30:00",
                    "2023-05-20T17:30:00",
                    "2023-05-28T16:30:00"
                  ],
                  "y": [
                    1,
                    3.1666666666666665,
                    2.3333333333333335,
                    2,
                    5.5,
                    1.6,
                    2.6,
                    3.142857142857143,
                    1.375,
                    0.5625,
                    1.2,
                    4.8,
                    2.8,
                    1.2727272727272727,
                    2,
                    1.5555555555555556,
                    2.125,
                    0.8235294117647058,
                    4.166666666666667,
                    1.25,
                    2.5555555555555554,
                    1.1111111111111112,
                    2.857142857142857,
                    10,
                    1.875,
                    7.75,
                    1.25,
                    1.875,
                    1.8571428571428572,
                    0.42857142857142855,
                    0.6875,
                    3.125,
                    0.5714285714285714,
                    2.2857142857142856,
                    0.8333333333333334,
                    1.1666666666666667,
                    1.8333333333333333,
                    2.3333333333333335
                  ],
                  "yaxis": "y2"
                }
              ],
              "layout": {
                "barmode": "relative",
                "font": {
                  "color": "#7785ac",
                  "family": "arial",
                  "size": 15
                },
                "hovermode": "x unified",
                "paper_bgcolor": "#360568",
                "plot_bgcolor": "#5b2a86",
                "template": {
                  "data": {
                    "bar": [
                      {
                        "error_x": {
                          "color": "#2a3f5f"
                        },
                        "error_y": {
                          "color": "#2a3f5f"
                        },
                        "marker": {
                          "line": {
                            "color": "#E5ECF6",
                            "width": 0.5
                          },
                          "pattern": {
                            "fillmode": "overlay",
                            "size": 10,
                            "solidity": 0.2
                          }
                        },
                        "type": "bar"
                      }
                    ],
                    "barpolar": [
                      {
                        "marker": {
                          "line": {
                            "color": "#E5ECF6",
                            "width": 0.5
                          },
                          "pattern": {
                            "fillmode": "overlay",
                            "size": 10,
                            "solidity": 0.2
                          }
                        },
                        "type": "barpolar"
                      }
                    ],
                    "carpet": [
                      {
                        "aaxis": {
                          "endlinecolor": "#2a3f5f",
                          "gridcolor": "white",
                          "linecolor": "white",
                          "minorgridcolor": "white",
                          "startlinecolor": "#2a3f5f"
                        },
                        "baxis": {
                          "endlinecolor": "#2a3f5f",
                          "gridcolor": "white",
                          "linecolor": "white",
                          "minorgridcolor": "white",
                          "startlinecolor": "#2a3f5f"
                        },
                        "type": "carpet"
                      }
                    ],
                    "choropleth": [
                      {
                        "colorbar": {
                          "outlinewidth": 0,
                          "ticks": ""
                        },
                        "type": "choropleth"
                      }
                    ],
                    "contour": [
                      {
                        "colorbar": {
                          "outlinewidth": 0,
                          "ticks": ""
                        },
                        "colorscale": [
                          [
                            0,
                            "#0d0887"
                          ],
                          [
                            0.1111111111111111,
                            "#46039f"
                          ],
                          [
                            0.2222222222222222,
                            "#7201a8"
                          ],
                          [
                            0.3333333333333333,
                            "#9c179e"
                          ],
                          [
                            0.4444444444444444,
                            "#bd3786"
                          ],
                          [
                            0.5555555555555556,
                            "#d8576b"
                          ],
                          [
                            0.6666666666666666,
                            "#ed7953"
                          ],
                          [
                            0.7777777777777778,
                            "#fb9f3a"
                          ],
                          [
                            0.8888888888888888,
                            "#fdca26"
                          ],
                          [
                            1,
                            "#f0f921"
                          ]
                        ],
                        "type": "contour"
                      }
                    ],
                    "contourcarpet": [
                      {
                        "colorbar": {
                          "outlinewidth": 0,
                          "ticks": ""
                        },
                        "type": "contourcarpet"
                      }
                    ],
                    "heatmap": [
                      {
                        "colorbar": {
                          "outlinewidth": 0,
                          "ticks": ""
                        },
                        "colorscale": [
                          [
                            0,
                            "#0d0887"
                          ],
                          [
                            0.1111111111111111,
                            "#46039f"
                          ],
                          [
                            0.2222222222222222,
                            "#7201a8"
                          ],
                          [
                            0.3333333333333333,
                            "#9c179e"
                          ],
                          [
                            0.4444444444444444,
                            "#bd3786"
                          ],
                          [
                            0.5555555555555556,
                            "#d8576b"
                          ],
                          [
                            0.6666666666666666,
                            "#ed7953"
                          ],
                          [
                            0.7777777777777778,
                            "#fb9f3a"
                          ],
                          [
                            0.8888888888888888,
                            "#fdca26"
                          ],
                          [
                            1,
                            "#f0f921"
                          ]
                        ],
                        "type": "heatmap"
                      }
                    ],
                    "heatmapgl": [
                      {
                        "colorbar": {
                          "outlinewidth": 0,
                          "ticks": ""
                        },
                        "colorscale": [
                          [
                            0,
                            "#0d0887"
                          ],
                          [
                            0.1111111111111111,
                            "#46039f"
                          ],
                          [
                            0.2222222222222222,
                            "#7201a8"
                          ],
                          [
                            0.3333333333333333,
                            "#9c179e"
                          ],
                          [
                            0.4444444444444444,
                            "#bd3786"
                          ],
                          [
                            0.5555555555555556,
                            "#d8576b"
                          ],
                          [
                            0.6666666666666666,
                            "#ed7953"
                          ],
                          [
                            0.7777777777777778,
                            "#fb9f3a"
                          ],
                          [
                            0.8888888888888888,
                            "#fdca26"
                          ],
                          [
                            1,
                            "#f0f921"
                          ]
                        ],
                        "type": "heatmapgl"
                      }
                    ],
                    "histogram": [
                      {
                        "marker": {
                          "pattern": {
                            "fillmode": "overlay",
                            "size": 10,
                            "solidity": 0.2
                          }
                        },
                        "type": "histogram"
                      }
                    ],
                    "histogram2d": [
                      {
                        "colorbar": {
                          "outlinewidth": 0,
                          "ticks": ""
                        },
                        "colorscale": [
                          [
                            0,
                            "#0d0887"
                          ],
                          [
                            0.1111111111111111,
                            "#46039f"
                          ],
                          [
                            0.2222222222222222,
                            "#7201a8"
                          ],
                          [
                            0.3333333333333333,
                            "#9c179e"
                          ],
                          [
                            0.4444444444444444,
                            "#bd3786"
                          ],
                          [
                            0.5555555555555556,
                            "#d8576b"
                          ],
                          [
                            0.6666666666666666,
                            "#ed7953"
                          ],
                          [
                            0.7777777777777778,
                            "#fb9f3a"
                          ],
                          [
                            0.8888888888888888,
                            "#fdca26"
                          ],
                          [
                            1,
                            "#f0f921"
                          ]
                        ],
                        "type": "histogram2d"
                      }
                    ],
                    "histogram2dcontour": [
                      {
                        "colorbar": {
                          "outlinewidth": 0,
                          "ticks": ""
                        },
                        "colorscale": [
                          [
                            0,
                            "#0d0887"
                          ],
                          [
                            0.1111111111111111,
                            "#46039f"
                          ],
                          [
                            0.2222222222222222,
                            "#7201a8"
                          ],
                          [
                            0.3333333333333333,
                            "#9c179e"
                          ],
                          [
                            0.4444444444444444,
                            "#bd3786"
                          ],
                          [
                            0.5555555555555556,
                            "#d8576b"
                          ],
                          [
                            0.6666666666666666,
                            "#ed7953"
                          ],
                          [
                            0.7777777777777778,
                            "#fb9f3a"
                          ],
                          [
                            0.8888888888888888,
                            "#fdca26"
                          ],
                          [
                            1,
                            "#f0f921"
                          ]
                        ],
                        "type": "histogram2dcontour"
                      }
                    ],
                    "mesh3d": [
                      {
                        "colorbar": {
                          "outlinewidth": 0,
                          "ticks": ""
                        },
                        "type": "mesh3d"
                      }
                    ],
                    "parcoords": [
                      {
                        "line": {
                          "colorbar": {
                            "outlinewidth": 0,
                            "ticks": ""
                          }
                        },
                        "type": "parcoords"
                      }
                    ],
                    "pie": [
                      {
                        "automargin": true,
                        "type": "pie"
                      }
                    ],
                    "scatter": [
                      {
                        "marker": {
                          "colorbar": {
                            "outlinewidth": 0,
                            "ticks": ""
                          }
                        },
                        "type": "scatter"
                      }
                    ],
                    "scatter3d": [
                      {
                        "line": {
                          "colorbar": {
                            "outlinewidth": 0,
                            "ticks": ""
                          }
                        },
                        "marker": {
                          "colorbar": {
                            "outlinewidth": 0,
                            "ticks": ""
                          }
                        },
                        "type": "scatter3d"
                      }
                    ],
                    "scattercarpet": [
                      {
                        "marker": {
                          "colorbar": {
                            "outlinewidth": 0,
                            "ticks": ""
                          }
                        },
                        "type": "scattercarpet"
                      }
                    ],
                    "scattergeo": [
                      {
                        "marker": {
                          "colorbar": {
                            "outlinewidth": 0,
                            "ticks": ""
                          }
                        },
                        "type": "scattergeo"
                      }
                    ],
                    "scattergl": [
                      {
                        "marker": {
                          "colorbar": {
                            "outlinewidth": 0,
                            "ticks": ""
                          }
                        },
                        "type": "scattergl"
                      }
                    ],
                    "scattermapbox": [
                      {
                        "marker": {
                          "colorbar": {
                            "outlinewidth": 0,
                            "ticks": ""
                          }
                        },
                        "type": "scattermapbox"
                      }
                    ],
                    "scatterpolar": [
                      {
                        "marker": {
                          "colorbar": {
                            "outlinewidth": 0,
                            "ticks": ""
                          }
                        },
                        "type": "scatterpolar"
                      }
                    ],
                    "scatterpolargl": [
                      {
                        "marker": {
                          "colorbar": {
                            "outlinewidth": 0,
                            "ticks": ""
                          }
                        },
                        "type": "scatterpolargl"
                      }
                    ],
                    "scatterternary": [
                      {
                        "marker": {
                          "colorbar": {
                            "outlinewidth": 0,
                            "ticks": ""
                          }
                        },
                        "type": "scatterternary"
                      }
                    ],
                    "surface": [
                      {
                        "colorbar": {
                          "outlinewidth": 0,
                          "ticks": ""
                        },
                        "colorscale": [
                          [
                            0,
                            "#0d0887"
                          ],
                          [
                            0.1111111111111111,
                            "#46039f"
                          ],
                          [
                            0.2222222222222222,
                            "#7201a8"
                          ],
                          [
                            0.3333333333333333,
                            "#9c179e"
                          ],
                          [
                            0.4444444444444444,
                            "#bd3786"
                          ],
                          [
                            0.5555555555555556,
                            "#d8576b"
                          ],
                          [
                            0.6666666666666666,
                            "#ed7953"
                          ],
                          [
                            0.7777777777777778,
                            "#fb9f3a"
                          ],
                          [
                            0.8888888888888888,
                            "#fdca26"
                          ],
                          [
                            1,
                            "#f0f921"
                          ]
                        ],
                        "type": "surface"
                      }
                    ],
                    "table": [
                      {
                        "cells": {
                          "fill": {
                            "color": "#EBF0F8"
                          },
                          "line": {
                            "color": "white"
                          }
                        },
                        "header": {
                          "fill": {
                            "color": "#C8D4E3"
                          },
                          "line": {
                            "color": "white"
                          }
                        },
                        "type": "table"
                      }
                    ]
                  },
                  "layout": {
                    "annotationdefaults": {
                      "arrowcolor": "#2a3f5f",
                      "arrowhead": 0,
                      "arrowwidth": 1
                    },
                    "autotypenumbers": "strict",
                    "coloraxis": {
                      "colorbar": {
                        "outlinewidth": 0,
                        "ticks": ""
                      }
                    },
                    "colorscale": {
                      "diverging": [
                        [
                          0,
                          "#8e0152"
                        ],
                        [
                          0.1,
                          "#c51b7d"
                        ],
                        [
                          0.2,
                          "#de77ae"
                        ],
                        [
                          0.3,
                          "#f1b6da"
                        ],
                        [
                          0.4,
                          "#fde0ef"
                        ],
                        [
                          0.5,
                          "#f7f7f7"
                        ],
                        [
                          0.6,
                          "#e6f5d0"
                        ],
                        [
                          0.7,
                          "#b8e186"
                        ],
                        [
                          0.8,
                          "#7fbc41"
                        ],
                        [
                          0.9,
                          "#4d9221"
                        ],
                        [
                          1,
                          "#276419"
                        ]
                      ],
                      "sequential": [
                        [
                          0,
                          "#0d0887"
                        ],
                        [
                          0.1111111111111111,
                          "#46039f"
                        ],
                        [
                          0.2222222222222222,
                          "#7201a8"
                        ],
                        [
                          0.3333333333333333,
                          "#9c179e"
                        ],
                        [
                          0.4444444444444444,
                          "#bd3786"
                        ],
                        [
                          0.5555555555555556,
                          "#d8576b"
                        ],
                        [
                          0.6666666666666666,
                          "#ed7953"
                        ],
                        [
                          0.7777777777777778,
                          "#fb9f3a"
                        ],
                        [
                          0.8888888888888888,
                          "#fdca26"
                        ],
                        [
                          1,
                          "#f0f921"
                        ]
                      ],
                      "sequentialminus": [
                        [
                          0,
                          "#0d0887"
                        ],
                        [
                          0.1111111111111111,
                          "#46039f"
                        ],
                        [
                          0.2222222222222222,
                          "#7201a8"
                        ],
                        [
                          0.3333333333333333,
                          "#9c179e"
                        ],
                        [
                          0.4444444444444444,
                          "#bd3786"
                        ],
                        [
                          0.5555555555555556,
                          "#d8576b"
                        ],
                        [
                          0.6666666666666666,
                          "#ed7953"
                        ],
                        [
                          0.7777777777777778,
                          "#fb9f3a"
                        ],
                        [
                          0.8888888888888888,
                          "#fdca26"
                        ],
                        [
                          1,
                          "#f0f921"
                        ]
                      ]
                    },
                    "colorway": [
                      "#636efa",
                      "#EF553B",
                      "#00cc96",
                      "#ab63fa",
                      "#FFA15A",
                      "#19d3f3",
                      "#FF6692",
                      "#B6E880",
                      "#FF97FF",
                      "#FECB52"
                    ],
                    "font": {
                      "color": "#2a3f5f"
                    },
                    "geo": {
                      "bgcolor": "white",
                      "lakecolor": "white",
                      "landcolor": "#E5ECF6",
                      "showlakes": true,
                      "showland": true,
                      "subunitcolor": "white"
                    },
                    "hoverlabel": {
                      "align": "left"
                    },
                    "hovermode": "closest",
                    "mapbox": {
                      "style": "light"
                    },
                    "paper_bgcolor": "white",
                    "plot_bgcolor": "#E5ECF6",
                    "polar": {
                      "angularaxis": {
                        "gridcolor": "white",
                        "linecolor": "white",
                        "ticks": ""
                      },
                      "bgcolor": "#E5ECF6",
                      "radialaxis": {
                        "gridcolor": "white",
                        "linecolor": "white",
                        "ticks": ""
                      }
                    },
                    "scene": {
                      "xaxis": {
                        "backgroundcolor": "#E5ECF6",
                        "gridcolor": "white",
                        "gridwidth": 2,
                        "linecolor": "white",
                        "showbackground": true,
                        "ticks": "",
                        "zerolinecolor": "white"
                      },
                      "yaxis": {
                        "backgroundcolor": "#E5ECF6",
                        "gridcolor": "white",
                        "gridwidth": 2,
                        "linecolor": "white",
                        "showbackground": true,
                        "ticks": "",
                        "zerolinecolor": "white"
                      },
                      "zaxis": {
                        "backgroundcolor": "#E5ECF6",
                        "gridcolor": "white",
                        "gridwidth": 2,
                        "linecolor": "white",
                        "showbackground": true,
                        "ticks": "",
                        "zerolinecolor": "white"
                      }
                    },
                    "shapedefaults": {
                      "line": {
                        "color": "#2a3f5f"
                      }
                    },
                    "ternary": {
                      "aaxis": {
                        "gridcolor": "white",
                        "linecolor": "white",
                        "ticks": ""
                      },
                      "baxis": {
                        "gridcolor": "white",
                        "linecolor": "white",
                        "ticks": ""
                      },
                      "bgcolor": "#E5ECF6",
                      "caxis": {
                        "gridcolor": "white",
                        "linecolor": "white",
                        "ticks": ""
                      }
                    },
                    "title": {
                      "x": 0.05
                    },
                    "xaxis": {
                      "automargin": true,
                      "gridcolor": "white",
                      "linecolor": "white",
                      "ticks": "",
                      "title": {
                        "standoff": 15
                      },
                      "zerolinecolor": "white",
                      "zerolinewidth": 2
                    },
                    "yaxis": {
                      "automargin": true,
                      "gridcolor": "white",
                      "linecolor": "white",
                      "ticks": "",
                      "title": {
                        "standoff": 15
                      },
                      "zerolinecolor": "white",
                      "zerolinewidth": 2
                    }
                  }
                },
                "title": {
                  "font": {
                    "size": 30
                  },
                  "text": "Shot Taken/Shot Against per game"
                },
                "yaxis": {
                  "gridcolor": "#413543",
                  "zeroline": false
                },
                "yaxis2": {
                  "gridcolor": "#413543",
                  "overlaying": "y",
                  "side": "right",
                  "tickfont": {
                    "color": "#ff7f0e"
                  },
                  "title": {
                    "font": {
                      "color": "#ff7f0e"
                    }
                  },
                  "zeroline": false
                }
              }
            }
          },
          "metadata": {},
          "output_type": "display_data"
        }
      ],
      "source": [
        "\n",
        "fig = go.Figure()\n",
        "fig.add_trace(go.Bar(x=a_df['Datetime'], y=a_df['STPG'],\n",
        "                marker_color='#a5e6ba',\n",
        "                name = 'Shot Taken'\n",
        "                #customdata= [['<br> Result: ' + str(a_df.loc[i,'FTR_AFC'])+'<br> Opponent:'+ str(a_df.loc[i,'opponent'])]for i in a_df.index],\n",
        "                #hovertemplate='%{y}%{customdata} ')\n",
        "                ))\n",
        "fig.add_trace(go.Bar(x=a_df['Datetime'], y=a_df['SAPG'],\n",
        "                marker_color='#009FBD',\n",
        "                name = 'Shot Against',\n",
        "                customdata= [['<br><br> Result: ' + str(a_df.loc[i,'FTR_AFC'])+'<br> Opponent:'+ str(a_df.loc[i,'opponent'])]for i in a_df.index],\n",
        "                hovertemplate='%{y}%{customdata} ')\n",
        "                )\n",
        "fig.add_trace(\n",
        "    go.Scatter(x=a_df['Datetime'], y=a_df['STPG']/a_df['SAPG'], name=\"STPG/SAPG\",yaxis=\"y2\",marker_color='#b50d3c',)\n",
        ")\n",
        "fig.update_layout(yaxis2=dict(\n",
        "        titlefont=dict(\n",
        "            color=\"#ff7f0e\"\n",
        "        ),\n",
        "        tickfont=dict(\n",
        "            color=\"#ff7f0e\"\n",
        "        ),\n",
        "        overlaying=\"y\",\n",
        "        side=\"right\",\n",
        "        gridcolor='#413543',\n",
        "        zeroline=False\n",
        "    ))\n",
        "fig.update_layout(barmode='relative',title=dict(text=\"Shot Taken/Shot Against per game\", font=dict(size=30)),hovermode=\"x unified\")\n",
        "fig.update_traces(marker_line_width=0)\n",
        "fig.update_yaxes(gridcolor='#413543',zeroline=False)\n",
        "fig.update_layout(paper_bgcolor='#360568',plot_bgcolor='#5b2a86',font_color='#7785ac',font_size=15, font_family='arial')\n",
        "fig.show()"
      ]
    },
    {
      "cell_type": "code",
      "execution_count": 57,
      "id": "6572331f",
      "metadata": {
        "colab": {
          "base_uri": "https://localhost:8080/",
          "height": 542
        },
        "id": "6572331f",
        "outputId": "093cb527-489b-4ee6-c5d6-00dc31d4d50b"
      },
      "outputs": [
        {
          "data": {
            "application/vnd.plotly.v1+json": {
              "config": {
                "plotlyServerURL": "https://plot.ly"
              },
              "data": [
                {
                  "alignmentgroup": "True",
                  "boxpoints": "all",
                  "customdata": [
                    [
                      "Crystal Palace"
                    ],
                    [
                      "Leicester"
                    ],
                    [
                      "Bournemouth"
                    ],
                    [
                      "Fulham"
                    ],
                    [
                      "Aston Villa"
                    ],
                    [
                      "Man United"
                    ],
                    [
                      "Brentford"
                    ],
                    [
                      "Tottenham"
                    ],
                    [
                      "Liverpool"
                    ],
                    [
                      "Leeds"
                    ],
                    [
                      "Southampton"
                    ],
                    [
                      "Nott'm Forest"
                    ],
                    [
                      "Chelsea"
                    ],
                    [
                      "Wolves"
                    ],
                    [
                      "West Ham"
                    ],
                    [
                      "Brighton"
                    ],
                    [
                      "Newcastle"
                    ],
                    [
                      "Tottenham"
                    ],
                    [
                      "Man United"
                    ],
                    [
                      "Everton"
                    ],
                    [
                      "Brentford"
                    ],
                    [
                      "Man City"
                    ],
                    [
                      "Aston Villa"
                    ],
                    [
                      "Leicester"
                    ],
                    [
                      "Everton"
                    ],
                    [
                      "Bournemouth"
                    ],
                    [
                      "Fulham"
                    ],
                    [
                      "Crystal Palace"
                    ],
                    [
                      "Leeds"
                    ],
                    [
                      "Liverpool"
                    ],
                    [
                      "West Ham"
                    ],
                    [
                      "Southampton"
                    ],
                    [
                      "Man City"
                    ],
                    [
                      "Chelsea"
                    ],
                    [
                      "Newcastle"
                    ],
                    [
                      "Brighton"
                    ],
                    [
                      "Nott'm Forest"
                    ],
                    [
                      "Wolves"
                    ]
                  ],
                  "hovertemplate": "<b>%{hovertext}</b><br><br>Month =%{x}<br>Shots Taken =%{y}<br>opponent=%{customdata[0]}<extra></extra>",
                  "hovertext": [
                    "2022-08-05",
                    "2022-08-13",
                    "2022-08-20",
                    "2022-08-27",
                    "2022-08-31",
                    "2022-09-04",
                    "2022-09-18",
                    "2022-10-01",
                    "2022-10-09",
                    "2022-10-16",
                    "2022-10-23",
                    "2022-10-30",
                    "2022-11-06",
                    "2022-11-12",
                    "2022-12-26",
                    "2022-12-31",
                    "2023-01-03",
                    "2023-01-15",
                    "2023-01-22",
                    "2023-02-04",
                    "2023-02-11",
                    "2023-02-15",
                    "2023-02-18",
                    "2023-02-25",
                    "2023-03-01",
                    "2023-03-04",
                    "2023-03-12",
                    "2023-03-19",
                    "2023-04-01",
                    "2023-04-09",
                    "2023-04-16",
                    "2023-04-21",
                    "2023-04-26",
                    "2023-05-02",
                    "2023-05-07",
                    "2023-05-14",
                    "2023-05-20",
                    "2023-05-28"
                  ],
                  "legendgroup": "",
                  "marker": {
                    "color": "#636efa"
                  },
                  "name": "",
                  "notched": false,
                  "offsetgroup": "",
                  "orientation": "v",
                  "showlegend": false,
                  "type": "box",
                  "x": [
                    "August 2022",
                    "August 2022",
                    "August 2022",
                    "August 2022",
                    "August 2022",
                    "September 2022",
                    "September 2022",
                    "October 2022",
                    "October 2022",
                    "October 2022",
                    "October 2022",
                    "October 2022",
                    "November 2022",
                    "November 2022",
                    "December 2022",
                    "December 2022",
                    "January 2023",
                    "January 2023",
                    "January 2023",
                    "February 2023",
                    "February 2023",
                    "February 2023",
                    "February 2023",
                    "February 2023",
                    "March 2023",
                    "March 2023",
                    "March 2023",
                    "March 2023",
                    "April 2023",
                    "April 2023",
                    "April 2023",
                    "April 2023",
                    "April 2023",
                    "May 2023",
                    "May 2023",
                    "May 2023",
                    "May 2023",
                    "May 2023"
                  ],
                  "x0": " ",
                  "xaxis": "x",
                  "y": [
                    10,
                    19,
                    14,
                    22,
                    22,
                    16,
                    13,
                    22,
                    11,
                    9,
                    12,
                    24,
                    14,
                    14,
                    16,
                    14,
                    17,
                    14,
                    25,
                    15,
                    23,
                    10,
                    20,
                    10,
                    15,
                    31,
                    15,
                    15,
                    13,
                    9,
                    11,
                    25,
                    8,
                    16,
                    10,
                    14,
                    11,
                    14
                  ],
                  "y0": " ",
                  "yaxis": "y"
                }
              ],
              "layout": {
                "boxmode": "group",
                "font": {
                  "color": "#7785ac",
                  "family": "arial",
                  "size": 15
                },
                "hovermode": "x",
                "legend": {
                  "tracegroupgap": 0
                },
                "margin": {
                  "t": 60
                },
                "paper_bgcolor": "#360568",
                "plot_bgcolor": "#5b2a86",
                "template": {
                  "data": {
                    "bar": [
                      {
                        "error_x": {
                          "color": "#2a3f5f"
                        },
                        "error_y": {
                          "color": "#2a3f5f"
                        },
                        "marker": {
                          "line": {
                            "color": "#E5ECF6",
                            "width": 0.5
                          },
                          "pattern": {
                            "fillmode": "overlay",
                            "size": 10,
                            "solidity": 0.2
                          }
                        },
                        "type": "bar"
                      }
                    ],
                    "barpolar": [
                      {
                        "marker": {
                          "line": {
                            "color": "#E5ECF6",
                            "width": 0.5
                          },
                          "pattern": {
                            "fillmode": "overlay",
                            "size": 10,
                            "solidity": 0.2
                          }
                        },
                        "type": "barpolar"
                      }
                    ],
                    "carpet": [
                      {
                        "aaxis": {
                          "endlinecolor": "#2a3f5f",
                          "gridcolor": "white",
                          "linecolor": "white",
                          "minorgridcolor": "white",
                          "startlinecolor": "#2a3f5f"
                        },
                        "baxis": {
                          "endlinecolor": "#2a3f5f",
                          "gridcolor": "white",
                          "linecolor": "white",
                          "minorgridcolor": "white",
                          "startlinecolor": "#2a3f5f"
                        },
                        "type": "carpet"
                      }
                    ],
                    "choropleth": [
                      {
                        "colorbar": {
                          "outlinewidth": 0,
                          "ticks": ""
                        },
                        "type": "choropleth"
                      }
                    ],
                    "contour": [
                      {
                        "colorbar": {
                          "outlinewidth": 0,
                          "ticks": ""
                        },
                        "colorscale": [
                          [
                            0,
                            "#0d0887"
                          ],
                          [
                            0.1111111111111111,
                            "#46039f"
                          ],
                          [
                            0.2222222222222222,
                            "#7201a8"
                          ],
                          [
                            0.3333333333333333,
                            "#9c179e"
                          ],
                          [
                            0.4444444444444444,
                            "#bd3786"
                          ],
                          [
                            0.5555555555555556,
                            "#d8576b"
                          ],
                          [
                            0.6666666666666666,
                            "#ed7953"
                          ],
                          [
                            0.7777777777777778,
                            "#fb9f3a"
                          ],
                          [
                            0.8888888888888888,
                            "#fdca26"
                          ],
                          [
                            1,
                            "#f0f921"
                          ]
                        ],
                        "type": "contour"
                      }
                    ],
                    "contourcarpet": [
                      {
                        "colorbar": {
                          "outlinewidth": 0,
                          "ticks": ""
                        },
                        "type": "contourcarpet"
                      }
                    ],
                    "heatmap": [
                      {
                        "colorbar": {
                          "outlinewidth": 0,
                          "ticks": ""
                        },
                        "colorscale": [
                          [
                            0,
                            "#0d0887"
                          ],
                          [
                            0.1111111111111111,
                            "#46039f"
                          ],
                          [
                            0.2222222222222222,
                            "#7201a8"
                          ],
                          [
                            0.3333333333333333,
                            "#9c179e"
                          ],
                          [
                            0.4444444444444444,
                            "#bd3786"
                          ],
                          [
                            0.5555555555555556,
                            "#d8576b"
                          ],
                          [
                            0.6666666666666666,
                            "#ed7953"
                          ],
                          [
                            0.7777777777777778,
                            "#fb9f3a"
                          ],
                          [
                            0.8888888888888888,
                            "#fdca26"
                          ],
                          [
                            1,
                            "#f0f921"
                          ]
                        ],
                        "type": "heatmap"
                      }
                    ],
                    "heatmapgl": [
                      {
                        "colorbar": {
                          "outlinewidth": 0,
                          "ticks": ""
                        },
                        "colorscale": [
                          [
                            0,
                            "#0d0887"
                          ],
                          [
                            0.1111111111111111,
                            "#46039f"
                          ],
                          [
                            0.2222222222222222,
                            "#7201a8"
                          ],
                          [
                            0.3333333333333333,
                            "#9c179e"
                          ],
                          [
                            0.4444444444444444,
                            "#bd3786"
                          ],
                          [
                            0.5555555555555556,
                            "#d8576b"
                          ],
                          [
                            0.6666666666666666,
                            "#ed7953"
                          ],
                          [
                            0.7777777777777778,
                            "#fb9f3a"
                          ],
                          [
                            0.8888888888888888,
                            "#fdca26"
                          ],
                          [
                            1,
                            "#f0f921"
                          ]
                        ],
                        "type": "heatmapgl"
                      }
                    ],
                    "histogram": [
                      {
                        "marker": {
                          "pattern": {
                            "fillmode": "overlay",
                            "size": 10,
                            "solidity": 0.2
                          }
                        },
                        "type": "histogram"
                      }
                    ],
                    "histogram2d": [
                      {
                        "colorbar": {
                          "outlinewidth": 0,
                          "ticks": ""
                        },
                        "colorscale": [
                          [
                            0,
                            "#0d0887"
                          ],
                          [
                            0.1111111111111111,
                            "#46039f"
                          ],
                          [
                            0.2222222222222222,
                            "#7201a8"
                          ],
                          [
                            0.3333333333333333,
                            "#9c179e"
                          ],
                          [
                            0.4444444444444444,
                            "#bd3786"
                          ],
                          [
                            0.5555555555555556,
                            "#d8576b"
                          ],
                          [
                            0.6666666666666666,
                            "#ed7953"
                          ],
                          [
                            0.7777777777777778,
                            "#fb9f3a"
                          ],
                          [
                            0.8888888888888888,
                            "#fdca26"
                          ],
                          [
                            1,
                            "#f0f921"
                          ]
                        ],
                        "type": "histogram2d"
                      }
                    ],
                    "histogram2dcontour": [
                      {
                        "colorbar": {
                          "outlinewidth": 0,
                          "ticks": ""
                        },
                        "colorscale": [
                          [
                            0,
                            "#0d0887"
                          ],
                          [
                            0.1111111111111111,
                            "#46039f"
                          ],
                          [
                            0.2222222222222222,
                            "#7201a8"
                          ],
                          [
                            0.3333333333333333,
                            "#9c179e"
                          ],
                          [
                            0.4444444444444444,
                            "#bd3786"
                          ],
                          [
                            0.5555555555555556,
                            "#d8576b"
                          ],
                          [
                            0.6666666666666666,
                            "#ed7953"
                          ],
                          [
                            0.7777777777777778,
                            "#fb9f3a"
                          ],
                          [
                            0.8888888888888888,
                            "#fdca26"
                          ],
                          [
                            1,
                            "#f0f921"
                          ]
                        ],
                        "type": "histogram2dcontour"
                      }
                    ],
                    "mesh3d": [
                      {
                        "colorbar": {
                          "outlinewidth": 0,
                          "ticks": ""
                        },
                        "type": "mesh3d"
                      }
                    ],
                    "parcoords": [
                      {
                        "line": {
                          "colorbar": {
                            "outlinewidth": 0,
                            "ticks": ""
                          }
                        },
                        "type": "parcoords"
                      }
                    ],
                    "pie": [
                      {
                        "automargin": true,
                        "type": "pie"
                      }
                    ],
                    "scatter": [
                      {
                        "marker": {
                          "colorbar": {
                            "outlinewidth": 0,
                            "ticks": ""
                          }
                        },
                        "type": "scatter"
                      }
                    ],
                    "scatter3d": [
                      {
                        "line": {
                          "colorbar": {
                            "outlinewidth": 0,
                            "ticks": ""
                          }
                        },
                        "marker": {
                          "colorbar": {
                            "outlinewidth": 0,
                            "ticks": ""
                          }
                        },
                        "type": "scatter3d"
                      }
                    ],
                    "scattercarpet": [
                      {
                        "marker": {
                          "colorbar": {
                            "outlinewidth": 0,
                            "ticks": ""
                          }
                        },
                        "type": "scattercarpet"
                      }
                    ],
                    "scattergeo": [
                      {
                        "marker": {
                          "colorbar": {
                            "outlinewidth": 0,
                            "ticks": ""
                          }
                        },
                        "type": "scattergeo"
                      }
                    ],
                    "scattergl": [
                      {
                        "marker": {
                          "colorbar": {
                            "outlinewidth": 0,
                            "ticks": ""
                          }
                        },
                        "type": "scattergl"
                      }
                    ],
                    "scattermapbox": [
                      {
                        "marker": {
                          "colorbar": {
                            "outlinewidth": 0,
                            "ticks": ""
                          }
                        },
                        "type": "scattermapbox"
                      }
                    ],
                    "scatterpolar": [
                      {
                        "marker": {
                          "colorbar": {
                            "outlinewidth": 0,
                            "ticks": ""
                          }
                        },
                        "type": "scatterpolar"
                      }
                    ],
                    "scatterpolargl": [
                      {
                        "marker": {
                          "colorbar": {
                            "outlinewidth": 0,
                            "ticks": ""
                          }
                        },
                        "type": "scatterpolargl"
                      }
                    ],
                    "scatterternary": [
                      {
                        "marker": {
                          "colorbar": {
                            "outlinewidth": 0,
                            "ticks": ""
                          }
                        },
                        "type": "scatterternary"
                      }
                    ],
                    "surface": [
                      {
                        "colorbar": {
                          "outlinewidth": 0,
                          "ticks": ""
                        },
                        "colorscale": [
                          [
                            0,
                            "#0d0887"
                          ],
                          [
                            0.1111111111111111,
                            "#46039f"
                          ],
                          [
                            0.2222222222222222,
                            "#7201a8"
                          ],
                          [
                            0.3333333333333333,
                            "#9c179e"
                          ],
                          [
                            0.4444444444444444,
                            "#bd3786"
                          ],
                          [
                            0.5555555555555556,
                            "#d8576b"
                          ],
                          [
                            0.6666666666666666,
                            "#ed7953"
                          ],
                          [
                            0.7777777777777778,
                            "#fb9f3a"
                          ],
                          [
                            0.8888888888888888,
                            "#fdca26"
                          ],
                          [
                            1,
                            "#f0f921"
                          ]
                        ],
                        "type": "surface"
                      }
                    ],
                    "table": [
                      {
                        "cells": {
                          "fill": {
                            "color": "#EBF0F8"
                          },
                          "line": {
                            "color": "white"
                          }
                        },
                        "header": {
                          "fill": {
                            "color": "#C8D4E3"
                          },
                          "line": {
                            "color": "white"
                          }
                        },
                        "type": "table"
                      }
                    ]
                  },
                  "layout": {
                    "annotationdefaults": {
                      "arrowcolor": "#2a3f5f",
                      "arrowhead": 0,
                      "arrowwidth": 1
                    },
                    "autotypenumbers": "strict",
                    "coloraxis": {
                      "colorbar": {
                        "outlinewidth": 0,
                        "ticks": ""
                      }
                    },
                    "colorscale": {
                      "diverging": [
                        [
                          0,
                          "#8e0152"
                        ],
                        [
                          0.1,
                          "#c51b7d"
                        ],
                        [
                          0.2,
                          "#de77ae"
                        ],
                        [
                          0.3,
                          "#f1b6da"
                        ],
                        [
                          0.4,
                          "#fde0ef"
                        ],
                        [
                          0.5,
                          "#f7f7f7"
                        ],
                        [
                          0.6,
                          "#e6f5d0"
                        ],
                        [
                          0.7,
                          "#b8e186"
                        ],
                        [
                          0.8,
                          "#7fbc41"
                        ],
                        [
                          0.9,
                          "#4d9221"
                        ],
                        [
                          1,
                          "#276419"
                        ]
                      ],
                      "sequential": [
                        [
                          0,
                          "#0d0887"
                        ],
                        [
                          0.1111111111111111,
                          "#46039f"
                        ],
                        [
                          0.2222222222222222,
                          "#7201a8"
                        ],
                        [
                          0.3333333333333333,
                          "#9c179e"
                        ],
                        [
                          0.4444444444444444,
                          "#bd3786"
                        ],
                        [
                          0.5555555555555556,
                          "#d8576b"
                        ],
                        [
                          0.6666666666666666,
                          "#ed7953"
                        ],
                        [
                          0.7777777777777778,
                          "#fb9f3a"
                        ],
                        [
                          0.8888888888888888,
                          "#fdca26"
                        ],
                        [
                          1,
                          "#f0f921"
                        ]
                      ],
                      "sequentialminus": [
                        [
                          0,
                          "#0d0887"
                        ],
                        [
                          0.1111111111111111,
                          "#46039f"
                        ],
                        [
                          0.2222222222222222,
                          "#7201a8"
                        ],
                        [
                          0.3333333333333333,
                          "#9c179e"
                        ],
                        [
                          0.4444444444444444,
                          "#bd3786"
                        ],
                        [
                          0.5555555555555556,
                          "#d8576b"
                        ],
                        [
                          0.6666666666666666,
                          "#ed7953"
                        ],
                        [
                          0.7777777777777778,
                          "#fb9f3a"
                        ],
                        [
                          0.8888888888888888,
                          "#fdca26"
                        ],
                        [
                          1,
                          "#f0f921"
                        ]
                      ]
                    },
                    "colorway": [
                      "#636efa",
                      "#EF553B",
                      "#00cc96",
                      "#ab63fa",
                      "#FFA15A",
                      "#19d3f3",
                      "#FF6692",
                      "#B6E880",
                      "#FF97FF",
                      "#FECB52"
                    ],
                    "font": {
                      "color": "#2a3f5f"
                    },
                    "geo": {
                      "bgcolor": "white",
                      "lakecolor": "white",
                      "landcolor": "#E5ECF6",
                      "showlakes": true,
                      "showland": true,
                      "subunitcolor": "white"
                    },
                    "hoverlabel": {
                      "align": "left"
                    },
                    "hovermode": "closest",
                    "mapbox": {
                      "style": "light"
                    },
                    "paper_bgcolor": "white",
                    "plot_bgcolor": "#E5ECF6",
                    "polar": {
                      "angularaxis": {
                        "gridcolor": "white",
                        "linecolor": "white",
                        "ticks": ""
                      },
                      "bgcolor": "#E5ECF6",
                      "radialaxis": {
                        "gridcolor": "white",
                        "linecolor": "white",
                        "ticks": ""
                      }
                    },
                    "scene": {
                      "xaxis": {
                        "backgroundcolor": "#E5ECF6",
                        "gridcolor": "white",
                        "gridwidth": 2,
                        "linecolor": "white",
                        "showbackground": true,
                        "ticks": "",
                        "zerolinecolor": "white"
                      },
                      "yaxis": {
                        "backgroundcolor": "#E5ECF6",
                        "gridcolor": "white",
                        "gridwidth": 2,
                        "linecolor": "white",
                        "showbackground": true,
                        "ticks": "",
                        "zerolinecolor": "white"
                      },
                      "zaxis": {
                        "backgroundcolor": "#E5ECF6",
                        "gridcolor": "white",
                        "gridwidth": 2,
                        "linecolor": "white",
                        "showbackground": true,
                        "ticks": "",
                        "zerolinecolor": "white"
                      }
                    },
                    "shapedefaults": {
                      "line": {
                        "color": "#2a3f5f"
                      }
                    },
                    "ternary": {
                      "aaxis": {
                        "gridcolor": "white",
                        "linecolor": "white",
                        "ticks": ""
                      },
                      "baxis": {
                        "gridcolor": "white",
                        "linecolor": "white",
                        "ticks": ""
                      },
                      "bgcolor": "#E5ECF6",
                      "caxis": {
                        "gridcolor": "white",
                        "linecolor": "white",
                        "ticks": ""
                      }
                    },
                    "title": {
                      "x": 0.05
                    },
                    "xaxis": {
                      "automargin": true,
                      "gridcolor": "white",
                      "linecolor": "white",
                      "ticks": "",
                      "title": {
                        "standoff": 15
                      },
                      "zerolinecolor": "white",
                      "zerolinewidth": 2
                    },
                    "yaxis": {
                      "automargin": true,
                      "gridcolor": "white",
                      "linecolor": "white",
                      "ticks": "",
                      "title": {
                        "standoff": 15
                      },
                      "zerolinecolor": "white",
                      "zerolinewidth": 2
                    }
                  }
                },
                "title": {
                  "font": {
                    "size": 30
                  },
                  "text": "Shots per Month"
                },
                "xaxis": {
                  "anchor": "y",
                  "domain": [
                    0,
                    1
                  ],
                  "tickformat": "%B<br>%Y",
                  "title": {
                    "text": "Match Date"
                  }
                },
                "yaxis": {
                  "anchor": "x",
                  "domain": [
                    0,
                    1
                  ],
                  "gridcolor": "#413543",
                  "title": {
                    "text": "Number of Shots"
                  },
                  "zeroline": false
                }
              }
            }
          },
          "metadata": {},
          "output_type": "display_data"
        }
      ],
      "source": [
        "fig = px.box(a_df, x='Month', y='STPG',\n",
        "    points=\"all\",\n",
        "    hover_name=a_df['Datetime'].dt.date,\n",
        "    hover_data={'opponent': True},\n",
        "    labels={'Month': \"Month \",'STPG': \"Shots Taken \",\"FTR_AFC\": 'Result '}\n",
        "    )\n",
        "\n",
        "# Customize the plot\n",
        "fig.update_layout(\n",
        "    title=dict(text=\"Shots per Month\", font=dict(size=30)),\n",
        "    xaxis_title=\"Match Date\",\n",
        "    yaxis_title=\"Number of Shots\",\n",
        ")\n",
        "fig.update_yaxes(gridcolor='#413543',zeroline=False)\n",
        "fig.update_layout(paper_bgcolor='#360568',plot_bgcolor='#5b2a86',font_color='#7785ac',font_size=15, font_family='arial')\n",
        "fig.update_layout(hovermode=\"x\")\n",
        "fig.update_layout(\n",
        "    xaxis_tickformat = '%B<br>%Y'\n",
        ")\n",
        "\n",
        "# Display the plot\n",
        "fig.show()"
      ]
    },
    {
      "cell_type": "code",
      "execution_count": 58,
      "id": "b9790c63",
      "metadata": {
        "colab": {
          "base_uri": "https://localhost:8080/",
          "height": 542
        },
        "id": "b9790c63",
        "outputId": "7d8c1aa2-4d28-4da4-a46a-6dd2f6bfde42"
      },
      "outputs": [
        {
          "data": {
            "application/vnd.plotly.v1+json": {
              "config": {
                "plotlyServerURL": "https://plot.ly"
              },
              "data": [
                {
                  "alignmentgroup": "True",
                  "boxpoints": "all",
                  "customdata": [
                    [
                      "Crystal Palace"
                    ],
                    [
                      "Leicester"
                    ],
                    [
                      "Bournemouth"
                    ],
                    [
                      "Fulham"
                    ],
                    [
                      "Aston Villa"
                    ],
                    [
                      "Man United"
                    ],
                    [
                      "Brentford"
                    ],
                    [
                      "Tottenham"
                    ],
                    [
                      "Liverpool"
                    ],
                    [
                      "Leeds"
                    ],
                    [
                      "Southampton"
                    ],
                    [
                      "Nott'm Forest"
                    ],
                    [
                      "Chelsea"
                    ],
                    [
                      "Wolves"
                    ],
                    [
                      "West Ham"
                    ],
                    [
                      "Brighton"
                    ],
                    [
                      "Newcastle"
                    ],
                    [
                      "Tottenham"
                    ],
                    [
                      "Man United"
                    ],
                    [
                      "Everton"
                    ],
                    [
                      "Brentford"
                    ],
                    [
                      "Man City"
                    ],
                    [
                      "Aston Villa"
                    ],
                    [
                      "Leicester"
                    ],
                    [
                      "Everton"
                    ],
                    [
                      "Bournemouth"
                    ],
                    [
                      "Fulham"
                    ],
                    [
                      "Crystal Palace"
                    ],
                    [
                      "Leeds"
                    ],
                    [
                      "Liverpool"
                    ],
                    [
                      "West Ham"
                    ],
                    [
                      "Southampton"
                    ],
                    [
                      "Man City"
                    ],
                    [
                      "Chelsea"
                    ],
                    [
                      "Newcastle"
                    ],
                    [
                      "Brighton"
                    ],
                    [
                      "Nott'm Forest"
                    ],
                    [
                      "Wolves"
                    ]
                  ],
                  "hovertemplate": "<b>%{hovertext}</b><br><br>Month =%{x}<br>Shots on Target Taken =%{y}<br>opponent=%{customdata[0]}<extra></extra>",
                  "hovertext": [
                    "2022-08-05",
                    "2022-08-13",
                    "2022-08-20",
                    "2022-08-27",
                    "2022-08-31",
                    "2022-09-04",
                    "2022-09-18",
                    "2022-10-01",
                    "2022-10-09",
                    "2022-10-16",
                    "2022-10-23",
                    "2022-10-30",
                    "2022-11-06",
                    "2022-11-12",
                    "2022-12-26",
                    "2022-12-31",
                    "2023-01-03",
                    "2023-01-15",
                    "2023-01-22",
                    "2023-02-04",
                    "2023-02-11",
                    "2023-02-15",
                    "2023-02-18",
                    "2023-02-25",
                    "2023-03-01",
                    "2023-03-04",
                    "2023-03-12",
                    "2023-03-19",
                    "2023-04-01",
                    "2023-04-09",
                    "2023-04-16",
                    "2023-04-21",
                    "2023-04-26",
                    "2023-05-02",
                    "2023-05-07",
                    "2023-05-14",
                    "2023-05-20",
                    "2023-05-28"
                  ],
                  "legendgroup": "",
                  "marker": {
                    "color": "#636efa"
                  },
                  "name": "",
                  "notched": false,
                  "offsetgroup": "",
                  "orientation": "v",
                  "showlegend": false,
                  "type": "box",
                  "x": [
                    "August 2022",
                    "August 2022",
                    "August 2022",
                    "August 2022",
                    "August 2022",
                    "September 2022",
                    "September 2022",
                    "October 2022",
                    "October 2022",
                    "October 2022",
                    "October 2022",
                    "October 2022",
                    "November 2022",
                    "November 2022",
                    "December 2022",
                    "December 2022",
                    "January 2023",
                    "January 2023",
                    "January 2023",
                    "February 2023",
                    "February 2023",
                    "February 2023",
                    "February 2023",
                    "February 2023",
                    "March 2023",
                    "March 2023",
                    "March 2023",
                    "March 2023",
                    "April 2023",
                    "April 2023",
                    "April 2023",
                    "April 2023",
                    "April 2023",
                    "May 2023",
                    "May 2023",
                    "May 2023",
                    "May 2023",
                    "May 2023"
                  ],
                  "x0": " ",
                  "xaxis": "x",
                  "y": [
                    2,
                    7,
                    6,
                    8,
                    9,
                    3,
                    7,
                    9,
                    7,
                    4,
                    3,
                    10,
                    2,
                    4,
                    5,
                    7,
                    4,
                    5,
                    5,
                    3,
                    7,
                    1,
                    5,
                    2,
                    5,
                    9,
                    7,
                    5,
                    6,
                    5,
                    5,
                    6,
                    2,
                    10,
                    6,
                    2,
                    3,
                    8
                  ],
                  "y0": " ",
                  "yaxis": "y"
                }
              ],
              "layout": {
                "boxmode": "group",
                "font": {
                  "color": "#7785ac",
                  "family": "arial",
                  "size": 15
                },
                "hovermode": "x",
                "legend": {
                  "tracegroupgap": 0
                },
                "margin": {
                  "t": 60
                },
                "paper_bgcolor": "#360568",
                "plot_bgcolor": "#5b2a86",
                "template": {
                  "data": {
                    "bar": [
                      {
                        "error_x": {
                          "color": "#2a3f5f"
                        },
                        "error_y": {
                          "color": "#2a3f5f"
                        },
                        "marker": {
                          "line": {
                            "color": "#E5ECF6",
                            "width": 0.5
                          },
                          "pattern": {
                            "fillmode": "overlay",
                            "size": 10,
                            "solidity": 0.2
                          }
                        },
                        "type": "bar"
                      }
                    ],
                    "barpolar": [
                      {
                        "marker": {
                          "line": {
                            "color": "#E5ECF6",
                            "width": 0.5
                          },
                          "pattern": {
                            "fillmode": "overlay",
                            "size": 10,
                            "solidity": 0.2
                          }
                        },
                        "type": "barpolar"
                      }
                    ],
                    "carpet": [
                      {
                        "aaxis": {
                          "endlinecolor": "#2a3f5f",
                          "gridcolor": "white",
                          "linecolor": "white",
                          "minorgridcolor": "white",
                          "startlinecolor": "#2a3f5f"
                        },
                        "baxis": {
                          "endlinecolor": "#2a3f5f",
                          "gridcolor": "white",
                          "linecolor": "white",
                          "minorgridcolor": "white",
                          "startlinecolor": "#2a3f5f"
                        },
                        "type": "carpet"
                      }
                    ],
                    "choropleth": [
                      {
                        "colorbar": {
                          "outlinewidth": 0,
                          "ticks": ""
                        },
                        "type": "choropleth"
                      }
                    ],
                    "contour": [
                      {
                        "colorbar": {
                          "outlinewidth": 0,
                          "ticks": ""
                        },
                        "colorscale": [
                          [
                            0,
                            "#0d0887"
                          ],
                          [
                            0.1111111111111111,
                            "#46039f"
                          ],
                          [
                            0.2222222222222222,
                            "#7201a8"
                          ],
                          [
                            0.3333333333333333,
                            "#9c179e"
                          ],
                          [
                            0.4444444444444444,
                            "#bd3786"
                          ],
                          [
                            0.5555555555555556,
                            "#d8576b"
                          ],
                          [
                            0.6666666666666666,
                            "#ed7953"
                          ],
                          [
                            0.7777777777777778,
                            "#fb9f3a"
                          ],
                          [
                            0.8888888888888888,
                            "#fdca26"
                          ],
                          [
                            1,
                            "#f0f921"
                          ]
                        ],
                        "type": "contour"
                      }
                    ],
                    "contourcarpet": [
                      {
                        "colorbar": {
                          "outlinewidth": 0,
                          "ticks": ""
                        },
                        "type": "contourcarpet"
                      }
                    ],
                    "heatmap": [
                      {
                        "colorbar": {
                          "outlinewidth": 0,
                          "ticks": ""
                        },
                        "colorscale": [
                          [
                            0,
                            "#0d0887"
                          ],
                          [
                            0.1111111111111111,
                            "#46039f"
                          ],
                          [
                            0.2222222222222222,
                            "#7201a8"
                          ],
                          [
                            0.3333333333333333,
                            "#9c179e"
                          ],
                          [
                            0.4444444444444444,
                            "#bd3786"
                          ],
                          [
                            0.5555555555555556,
                            "#d8576b"
                          ],
                          [
                            0.6666666666666666,
                            "#ed7953"
                          ],
                          [
                            0.7777777777777778,
                            "#fb9f3a"
                          ],
                          [
                            0.8888888888888888,
                            "#fdca26"
                          ],
                          [
                            1,
                            "#f0f921"
                          ]
                        ],
                        "type": "heatmap"
                      }
                    ],
                    "heatmapgl": [
                      {
                        "colorbar": {
                          "outlinewidth": 0,
                          "ticks": ""
                        },
                        "colorscale": [
                          [
                            0,
                            "#0d0887"
                          ],
                          [
                            0.1111111111111111,
                            "#46039f"
                          ],
                          [
                            0.2222222222222222,
                            "#7201a8"
                          ],
                          [
                            0.3333333333333333,
                            "#9c179e"
                          ],
                          [
                            0.4444444444444444,
                            "#bd3786"
                          ],
                          [
                            0.5555555555555556,
                            "#d8576b"
                          ],
                          [
                            0.6666666666666666,
                            "#ed7953"
                          ],
                          [
                            0.7777777777777778,
                            "#fb9f3a"
                          ],
                          [
                            0.8888888888888888,
                            "#fdca26"
                          ],
                          [
                            1,
                            "#f0f921"
                          ]
                        ],
                        "type": "heatmapgl"
                      }
                    ],
                    "histogram": [
                      {
                        "marker": {
                          "pattern": {
                            "fillmode": "overlay",
                            "size": 10,
                            "solidity": 0.2
                          }
                        },
                        "type": "histogram"
                      }
                    ],
                    "histogram2d": [
                      {
                        "colorbar": {
                          "outlinewidth": 0,
                          "ticks": ""
                        },
                        "colorscale": [
                          [
                            0,
                            "#0d0887"
                          ],
                          [
                            0.1111111111111111,
                            "#46039f"
                          ],
                          [
                            0.2222222222222222,
                            "#7201a8"
                          ],
                          [
                            0.3333333333333333,
                            "#9c179e"
                          ],
                          [
                            0.4444444444444444,
                            "#bd3786"
                          ],
                          [
                            0.5555555555555556,
                            "#d8576b"
                          ],
                          [
                            0.6666666666666666,
                            "#ed7953"
                          ],
                          [
                            0.7777777777777778,
                            "#fb9f3a"
                          ],
                          [
                            0.8888888888888888,
                            "#fdca26"
                          ],
                          [
                            1,
                            "#f0f921"
                          ]
                        ],
                        "type": "histogram2d"
                      }
                    ],
                    "histogram2dcontour": [
                      {
                        "colorbar": {
                          "outlinewidth": 0,
                          "ticks": ""
                        },
                        "colorscale": [
                          [
                            0,
                            "#0d0887"
                          ],
                          [
                            0.1111111111111111,
                            "#46039f"
                          ],
                          [
                            0.2222222222222222,
                            "#7201a8"
                          ],
                          [
                            0.3333333333333333,
                            "#9c179e"
                          ],
                          [
                            0.4444444444444444,
                            "#bd3786"
                          ],
                          [
                            0.5555555555555556,
                            "#d8576b"
                          ],
                          [
                            0.6666666666666666,
                            "#ed7953"
                          ],
                          [
                            0.7777777777777778,
                            "#fb9f3a"
                          ],
                          [
                            0.8888888888888888,
                            "#fdca26"
                          ],
                          [
                            1,
                            "#f0f921"
                          ]
                        ],
                        "type": "histogram2dcontour"
                      }
                    ],
                    "mesh3d": [
                      {
                        "colorbar": {
                          "outlinewidth": 0,
                          "ticks": ""
                        },
                        "type": "mesh3d"
                      }
                    ],
                    "parcoords": [
                      {
                        "line": {
                          "colorbar": {
                            "outlinewidth": 0,
                            "ticks": ""
                          }
                        },
                        "type": "parcoords"
                      }
                    ],
                    "pie": [
                      {
                        "automargin": true,
                        "type": "pie"
                      }
                    ],
                    "scatter": [
                      {
                        "marker": {
                          "colorbar": {
                            "outlinewidth": 0,
                            "ticks": ""
                          }
                        },
                        "type": "scatter"
                      }
                    ],
                    "scatter3d": [
                      {
                        "line": {
                          "colorbar": {
                            "outlinewidth": 0,
                            "ticks": ""
                          }
                        },
                        "marker": {
                          "colorbar": {
                            "outlinewidth": 0,
                            "ticks": ""
                          }
                        },
                        "type": "scatter3d"
                      }
                    ],
                    "scattercarpet": [
                      {
                        "marker": {
                          "colorbar": {
                            "outlinewidth": 0,
                            "ticks": ""
                          }
                        },
                        "type": "scattercarpet"
                      }
                    ],
                    "scattergeo": [
                      {
                        "marker": {
                          "colorbar": {
                            "outlinewidth": 0,
                            "ticks": ""
                          }
                        },
                        "type": "scattergeo"
                      }
                    ],
                    "scattergl": [
                      {
                        "marker": {
                          "colorbar": {
                            "outlinewidth": 0,
                            "ticks": ""
                          }
                        },
                        "type": "scattergl"
                      }
                    ],
                    "scattermapbox": [
                      {
                        "marker": {
                          "colorbar": {
                            "outlinewidth": 0,
                            "ticks": ""
                          }
                        },
                        "type": "scattermapbox"
                      }
                    ],
                    "scatterpolar": [
                      {
                        "marker": {
                          "colorbar": {
                            "outlinewidth": 0,
                            "ticks": ""
                          }
                        },
                        "type": "scatterpolar"
                      }
                    ],
                    "scatterpolargl": [
                      {
                        "marker": {
                          "colorbar": {
                            "outlinewidth": 0,
                            "ticks": ""
                          }
                        },
                        "type": "scatterpolargl"
                      }
                    ],
                    "scatterternary": [
                      {
                        "marker": {
                          "colorbar": {
                            "outlinewidth": 0,
                            "ticks": ""
                          }
                        },
                        "type": "scatterternary"
                      }
                    ],
                    "surface": [
                      {
                        "colorbar": {
                          "outlinewidth": 0,
                          "ticks": ""
                        },
                        "colorscale": [
                          [
                            0,
                            "#0d0887"
                          ],
                          [
                            0.1111111111111111,
                            "#46039f"
                          ],
                          [
                            0.2222222222222222,
                            "#7201a8"
                          ],
                          [
                            0.3333333333333333,
                            "#9c179e"
                          ],
                          [
                            0.4444444444444444,
                            "#bd3786"
                          ],
                          [
                            0.5555555555555556,
                            "#d8576b"
                          ],
                          [
                            0.6666666666666666,
                            "#ed7953"
                          ],
                          [
                            0.7777777777777778,
                            "#fb9f3a"
                          ],
                          [
                            0.8888888888888888,
                            "#fdca26"
                          ],
                          [
                            1,
                            "#f0f921"
                          ]
                        ],
                        "type": "surface"
                      }
                    ],
                    "table": [
                      {
                        "cells": {
                          "fill": {
                            "color": "#EBF0F8"
                          },
                          "line": {
                            "color": "white"
                          }
                        },
                        "header": {
                          "fill": {
                            "color": "#C8D4E3"
                          },
                          "line": {
                            "color": "white"
                          }
                        },
                        "type": "table"
                      }
                    ]
                  },
                  "layout": {
                    "annotationdefaults": {
                      "arrowcolor": "#2a3f5f",
                      "arrowhead": 0,
                      "arrowwidth": 1
                    },
                    "autotypenumbers": "strict",
                    "coloraxis": {
                      "colorbar": {
                        "outlinewidth": 0,
                        "ticks": ""
                      }
                    },
                    "colorscale": {
                      "diverging": [
                        [
                          0,
                          "#8e0152"
                        ],
                        [
                          0.1,
                          "#c51b7d"
                        ],
                        [
                          0.2,
                          "#de77ae"
                        ],
                        [
                          0.3,
                          "#f1b6da"
                        ],
                        [
                          0.4,
                          "#fde0ef"
                        ],
                        [
                          0.5,
                          "#f7f7f7"
                        ],
                        [
                          0.6,
                          "#e6f5d0"
                        ],
                        [
                          0.7,
                          "#b8e186"
                        ],
                        [
                          0.8,
                          "#7fbc41"
                        ],
                        [
                          0.9,
                          "#4d9221"
                        ],
                        [
                          1,
                          "#276419"
                        ]
                      ],
                      "sequential": [
                        [
                          0,
                          "#0d0887"
                        ],
                        [
                          0.1111111111111111,
                          "#46039f"
                        ],
                        [
                          0.2222222222222222,
                          "#7201a8"
                        ],
                        [
                          0.3333333333333333,
                          "#9c179e"
                        ],
                        [
                          0.4444444444444444,
                          "#bd3786"
                        ],
                        [
                          0.5555555555555556,
                          "#d8576b"
                        ],
                        [
                          0.6666666666666666,
                          "#ed7953"
                        ],
                        [
                          0.7777777777777778,
                          "#fb9f3a"
                        ],
                        [
                          0.8888888888888888,
                          "#fdca26"
                        ],
                        [
                          1,
                          "#f0f921"
                        ]
                      ],
                      "sequentialminus": [
                        [
                          0,
                          "#0d0887"
                        ],
                        [
                          0.1111111111111111,
                          "#46039f"
                        ],
                        [
                          0.2222222222222222,
                          "#7201a8"
                        ],
                        [
                          0.3333333333333333,
                          "#9c179e"
                        ],
                        [
                          0.4444444444444444,
                          "#bd3786"
                        ],
                        [
                          0.5555555555555556,
                          "#d8576b"
                        ],
                        [
                          0.6666666666666666,
                          "#ed7953"
                        ],
                        [
                          0.7777777777777778,
                          "#fb9f3a"
                        ],
                        [
                          0.8888888888888888,
                          "#fdca26"
                        ],
                        [
                          1,
                          "#f0f921"
                        ]
                      ]
                    },
                    "colorway": [
                      "#636efa",
                      "#EF553B",
                      "#00cc96",
                      "#ab63fa",
                      "#FFA15A",
                      "#19d3f3",
                      "#FF6692",
                      "#B6E880",
                      "#FF97FF",
                      "#FECB52"
                    ],
                    "font": {
                      "color": "#2a3f5f"
                    },
                    "geo": {
                      "bgcolor": "white",
                      "lakecolor": "white",
                      "landcolor": "#E5ECF6",
                      "showlakes": true,
                      "showland": true,
                      "subunitcolor": "white"
                    },
                    "hoverlabel": {
                      "align": "left"
                    },
                    "hovermode": "closest",
                    "mapbox": {
                      "style": "light"
                    },
                    "paper_bgcolor": "white",
                    "plot_bgcolor": "#E5ECF6",
                    "polar": {
                      "angularaxis": {
                        "gridcolor": "white",
                        "linecolor": "white",
                        "ticks": ""
                      },
                      "bgcolor": "#E5ECF6",
                      "radialaxis": {
                        "gridcolor": "white",
                        "linecolor": "white",
                        "ticks": ""
                      }
                    },
                    "scene": {
                      "xaxis": {
                        "backgroundcolor": "#E5ECF6",
                        "gridcolor": "white",
                        "gridwidth": 2,
                        "linecolor": "white",
                        "showbackground": true,
                        "ticks": "",
                        "zerolinecolor": "white"
                      },
                      "yaxis": {
                        "backgroundcolor": "#E5ECF6",
                        "gridcolor": "white",
                        "gridwidth": 2,
                        "linecolor": "white",
                        "showbackground": true,
                        "ticks": "",
                        "zerolinecolor": "white"
                      },
                      "zaxis": {
                        "backgroundcolor": "#E5ECF6",
                        "gridcolor": "white",
                        "gridwidth": 2,
                        "linecolor": "white",
                        "showbackground": true,
                        "ticks": "",
                        "zerolinecolor": "white"
                      }
                    },
                    "shapedefaults": {
                      "line": {
                        "color": "#2a3f5f"
                      }
                    },
                    "ternary": {
                      "aaxis": {
                        "gridcolor": "white",
                        "linecolor": "white",
                        "ticks": ""
                      },
                      "baxis": {
                        "gridcolor": "white",
                        "linecolor": "white",
                        "ticks": ""
                      },
                      "bgcolor": "#E5ECF6",
                      "caxis": {
                        "gridcolor": "white",
                        "linecolor": "white",
                        "ticks": ""
                      }
                    },
                    "title": {
                      "x": 0.05
                    },
                    "xaxis": {
                      "automargin": true,
                      "gridcolor": "white",
                      "linecolor": "white",
                      "ticks": "",
                      "title": {
                        "standoff": 15
                      },
                      "zerolinecolor": "white",
                      "zerolinewidth": 2
                    },
                    "yaxis": {
                      "automargin": true,
                      "gridcolor": "white",
                      "linecolor": "white",
                      "ticks": "",
                      "title": {
                        "standoff": 15
                      },
                      "zerolinecolor": "white",
                      "zerolinewidth": 2
                    }
                  }
                },
                "title": {
                  "font": {
                    "size": 30
                  },
                  "text": "Shots on target per Month"
                },
                "xaxis": {
                  "anchor": "y",
                  "domain": [
                    0,
                    1
                  ],
                  "tickformat": "%B<br>%Y",
                  "title": {
                    "text": "Match Date"
                  }
                },
                "yaxis": {
                  "anchor": "x",
                  "domain": [
                    0,
                    1
                  ],
                  "gridcolor": "#413543",
                  "title": {
                    "text": "Number of Shots on Target"
                  },
                  "zeroline": false
                }
              }
            }
          },
          "metadata": {},
          "output_type": "display_data"
        }
      ],
      "source": [
        "fig = px.box(a_df, x='Month', y='SOTPG',\n",
        "    points=\"all\",\n",
        "    hover_name=a_df['Datetime'].dt.date,\n",
        "    hover_data={'opponent': True},\n",
        "    labels={'Month': \"Month \",'SOTPG': \"Shots on Target Taken \",\"FTR_AFC\": 'Result '}\n",
        "    )\n",
        "\n",
        "# Customize the plot\n",
        "fig.update_layout(\n",
        "    title=dict(text=\"Shots on target per Month\", font=dict(size=30)),\n",
        "    xaxis_title=\"Match Date\",\n",
        "    yaxis_title=\"Number of Shots on Target\",\n",
        ")\n",
        "fig.update_layout(hovermode=\"x\")\n",
        "fig.update_layout(\n",
        "    xaxis_tickformat = '%B<br>%Y'\n",
        ")\n",
        "fig.update_yaxes(gridcolor='#413543',zeroline=False)\n",
        "fig.update_layout(paper_bgcolor='#360568',plot_bgcolor='#5b2a86',font_color='#7785ac',font_size=15, font_family='arial')\n",
        "\n",
        "# Display the plot\n",
        "fig.show()"
      ]
    },
    {
      "cell_type": "code",
      "execution_count": 59,
      "id": "f6a40301",
      "metadata": {},
      "outputs": [
        {
          "data": {
            "application/vnd.plotly.v1+json": {
              "config": {
                "plotlyServerURL": "https://plot.ly"
              },
              "data": [
                {
                  "marker": {
                    "color": "#a5e6ba",
                    "line": {
                      "width": 0
                    }
                  },
                  "name": "Corners Taken",
                  "type": "bar",
                  "x": [
                    "2022-08-05T20:00:00",
                    "2022-08-13T15:00:00",
                    "2022-08-20T17:30:00",
                    "2022-08-27T17:30:00",
                    "2022-08-31T19:30:00",
                    "2022-09-04T16:30:00",
                    "2022-09-18T12:00:00",
                    "2022-10-01T12:30:00",
                    "2022-10-09T16:30:00",
                    "2022-10-16T14:00:00",
                    "2022-10-23T14:00:00",
                    "2022-10-30T14:00:00",
                    "2022-11-06T12:00:00",
                    "2022-11-12T19:45:00",
                    "2022-12-26T20:00:00",
                    "2022-12-31T17:30:00",
                    "2023-01-03T19:45:00",
                    "2023-01-15T16:30:00",
                    "2023-01-22T16:30:00",
                    "2023-02-04T12:30:00",
                    "2023-02-11T15:00:00",
                    "2023-02-15T19:30:00",
                    "2023-02-18T12:30:00",
                    "2023-02-25T15:00:00",
                    "2023-03-01T19:45:00",
                    "2023-03-04T15:00:00",
                    "2023-03-12T14:00:00",
                    "2023-03-19T14:00:00",
                    "2023-04-01T15:00:00",
                    "2023-04-09T16:30:00",
                    "2023-04-16T14:00:00",
                    "2023-04-21T20:00:00",
                    "2023-04-26T20:00:00",
                    "2023-05-02T20:00:00",
                    "2023-05-07T16:30:00",
                    "2023-05-14T16:30:00",
                    "2023-05-20T17:30:00",
                    "2023-05-28T16:30:00"
                  ],
                  "y": [
                    5,
                    6,
                    4,
                    9,
                    10,
                    5,
                    3,
                    5,
                    4,
                    3,
                    4,
                    9,
                    6,
                    4,
                    7,
                    4,
                    5,
                    3,
                    12,
                    5,
                    7,
                    1,
                    9,
                    8,
                    5,
                    17,
                    8,
                    5,
                    4,
                    4,
                    2,
                    7,
                    3,
                    7,
                    4,
                    5,
                    6,
                    8
                  ]
                },
                {
                  "customdata": [
                    [
                      "<br><br> Result: W<br> Opponent:Crystal Palace"
                    ],
                    [
                      "<br><br> Result: W<br> Opponent:Leicester"
                    ],
                    [
                      "<br><br> Result: W<br> Opponent:Bournemouth"
                    ],
                    [
                      "<br><br> Result: W<br> Opponent:Fulham"
                    ],
                    [
                      "<br><br> Result: W<br> Opponent:Aston Villa"
                    ],
                    [
                      "<br><br> Result: L<br> Opponent:Man United"
                    ],
                    [
                      "<br><br> Result: W<br> Opponent:Brentford"
                    ],
                    [
                      "<br><br> Result: W<br> Opponent:Tottenham"
                    ],
                    [
                      "<br><br> Result: W<br> Opponent:Liverpool"
                    ],
                    [
                      "<br><br> Result: W<br> Opponent:Leeds"
                    ],
                    [
                      "<br><br> Result: D<br> Opponent:Southampton"
                    ],
                    [
                      "<br><br> Result: W<br> Opponent:Nott'm Forest"
                    ],
                    [
                      "<br><br> Result: W<br> Opponent:Chelsea"
                    ],
                    [
                      "<br><br> Result: W<br> Opponent:Wolves"
                    ],
                    [
                      "<br><br> Result: W<br> Opponent:West Ham"
                    ],
                    [
                      "<br><br> Result: W<br> Opponent:Brighton"
                    ],
                    [
                      "<br><br> Result: D<br> Opponent:Newcastle"
                    ],
                    [
                      "<br><br> Result: W<br> Opponent:Tottenham"
                    ],
                    [
                      "<br><br> Result: W<br> Opponent:Man United"
                    ],
                    [
                      "<br><br> Result: L<br> Opponent:Everton"
                    ],
                    [
                      "<br><br> Result: D<br> Opponent:Brentford"
                    ],
                    [
                      "<br><br> Result: L<br> Opponent:Man City"
                    ],
                    [
                      "<br><br> Result: W<br> Opponent:Aston Villa"
                    ],
                    [
                      "<br><br> Result: W<br> Opponent:Leicester"
                    ],
                    [
                      "<br><br> Result: W<br> Opponent:Everton"
                    ],
                    [
                      "<br><br> Result: W<br> Opponent:Bournemouth"
                    ],
                    [
                      "<br><br> Result: W<br> Opponent:Fulham"
                    ],
                    [
                      "<br><br> Result: W<br> Opponent:Crystal Palace"
                    ],
                    [
                      "<br><br> Result: W<br> Opponent:Leeds"
                    ],
                    [
                      "<br><br> Result: D<br> Opponent:Liverpool"
                    ],
                    [
                      "<br><br> Result: D<br> Opponent:West Ham"
                    ],
                    [
                      "<br><br> Result: D<br> Opponent:Southampton"
                    ],
                    [
                      "<br><br> Result: L<br> Opponent:Man City"
                    ],
                    [
                      "<br><br> Result: W<br> Opponent:Chelsea"
                    ],
                    [
                      "<br><br> Result: W<br> Opponent:Newcastle"
                    ],
                    [
                      "<br><br> Result: L<br> Opponent:Brighton"
                    ],
                    [
                      "<br><br> Result: L<br> Opponent:Nott'm Forest"
                    ],
                    [
                      "<br><br> Result: W<br> Opponent:Wolves"
                    ]
                  ],
                  "hovertemplate": "%{y}%{customdata} ",
                  "marker": {
                    "color": "#009FBD",
                    "line": {
                      "width": 0
                    }
                  },
                  "name": "Corners Against",
                  "type": "bar",
                  "x": [
                    "2022-08-05T20:00:00",
                    "2022-08-13T15:00:00",
                    "2022-08-20T17:30:00",
                    "2022-08-27T17:30:00",
                    "2022-08-31T19:30:00",
                    "2022-09-04T16:30:00",
                    "2022-09-18T12:00:00",
                    "2022-10-01T12:30:00",
                    "2022-10-09T16:30:00",
                    "2022-10-16T14:00:00",
                    "2022-10-23T14:00:00",
                    "2022-10-30T14:00:00",
                    "2022-11-06T12:00:00",
                    "2022-11-12T19:45:00",
                    "2022-12-26T20:00:00",
                    "2022-12-31T17:30:00",
                    "2023-01-03T19:45:00",
                    "2023-01-15T16:30:00",
                    "2023-01-22T16:30:00",
                    "2023-02-04T12:30:00",
                    "2023-02-11T15:00:00",
                    "2023-02-15T19:30:00",
                    "2023-02-18T12:30:00",
                    "2023-02-25T15:00:00",
                    "2023-03-01T19:45:00",
                    "2023-03-04T15:00:00",
                    "2023-03-12T14:00:00",
                    "2023-03-19T14:00:00",
                    "2023-04-01T15:00:00",
                    "2023-04-09T16:30:00",
                    "2023-04-16T14:00:00",
                    "2023-04-21T20:00:00",
                    "2023-04-26T20:00:00",
                    "2023-05-02T20:00:00",
                    "2023-05-07T16:30:00",
                    "2023-05-14T16:30:00",
                    "2023-05-20T17:30:00",
                    "2023-05-28T16:30:00"
                  ],
                  "y": [
                    3,
                    2,
                    3,
                    2,
                    3,
                    2,
                    3,
                    2,
                    3,
                    6,
                    9,
                    4,
                    4,
                    6,
                    5,
                    7,
                    5,
                    4,
                    4,
                    7,
                    4,
                    3,
                    2,
                    0,
                    1,
                    1,
                    4,
                    4,
                    3,
                    5,
                    7,
                    2,
                    1,
                    2,
                    9,
                    2,
                    3,
                    4
                  ]
                }
              ],
              "layout": {
                "barmode": "relative",
                "font": {
                  "color": "#7785ac",
                  "family": "arial",
                  "size": 15
                },
                "hovermode": "x unified",
                "paper_bgcolor": "#360568",
                "plot_bgcolor": "#5b2a86",
                "template": {
                  "data": {
                    "bar": [
                      {
                        "error_x": {
                          "color": "#2a3f5f"
                        },
                        "error_y": {
                          "color": "#2a3f5f"
                        },
                        "marker": {
                          "line": {
                            "color": "#E5ECF6",
                            "width": 0.5
                          },
                          "pattern": {
                            "fillmode": "overlay",
                            "size": 10,
                            "solidity": 0.2
                          }
                        },
                        "type": "bar"
                      }
                    ],
                    "barpolar": [
                      {
                        "marker": {
                          "line": {
                            "color": "#E5ECF6",
                            "width": 0.5
                          },
                          "pattern": {
                            "fillmode": "overlay",
                            "size": 10,
                            "solidity": 0.2
                          }
                        },
                        "type": "barpolar"
                      }
                    ],
                    "carpet": [
                      {
                        "aaxis": {
                          "endlinecolor": "#2a3f5f",
                          "gridcolor": "white",
                          "linecolor": "white",
                          "minorgridcolor": "white",
                          "startlinecolor": "#2a3f5f"
                        },
                        "baxis": {
                          "endlinecolor": "#2a3f5f",
                          "gridcolor": "white",
                          "linecolor": "white",
                          "minorgridcolor": "white",
                          "startlinecolor": "#2a3f5f"
                        },
                        "type": "carpet"
                      }
                    ],
                    "choropleth": [
                      {
                        "colorbar": {
                          "outlinewidth": 0,
                          "ticks": ""
                        },
                        "type": "choropleth"
                      }
                    ],
                    "contour": [
                      {
                        "colorbar": {
                          "outlinewidth": 0,
                          "ticks": ""
                        },
                        "colorscale": [
                          [
                            0,
                            "#0d0887"
                          ],
                          [
                            0.1111111111111111,
                            "#46039f"
                          ],
                          [
                            0.2222222222222222,
                            "#7201a8"
                          ],
                          [
                            0.3333333333333333,
                            "#9c179e"
                          ],
                          [
                            0.4444444444444444,
                            "#bd3786"
                          ],
                          [
                            0.5555555555555556,
                            "#d8576b"
                          ],
                          [
                            0.6666666666666666,
                            "#ed7953"
                          ],
                          [
                            0.7777777777777778,
                            "#fb9f3a"
                          ],
                          [
                            0.8888888888888888,
                            "#fdca26"
                          ],
                          [
                            1,
                            "#f0f921"
                          ]
                        ],
                        "type": "contour"
                      }
                    ],
                    "contourcarpet": [
                      {
                        "colorbar": {
                          "outlinewidth": 0,
                          "ticks": ""
                        },
                        "type": "contourcarpet"
                      }
                    ],
                    "heatmap": [
                      {
                        "colorbar": {
                          "outlinewidth": 0,
                          "ticks": ""
                        },
                        "colorscale": [
                          [
                            0,
                            "#0d0887"
                          ],
                          [
                            0.1111111111111111,
                            "#46039f"
                          ],
                          [
                            0.2222222222222222,
                            "#7201a8"
                          ],
                          [
                            0.3333333333333333,
                            "#9c179e"
                          ],
                          [
                            0.4444444444444444,
                            "#bd3786"
                          ],
                          [
                            0.5555555555555556,
                            "#d8576b"
                          ],
                          [
                            0.6666666666666666,
                            "#ed7953"
                          ],
                          [
                            0.7777777777777778,
                            "#fb9f3a"
                          ],
                          [
                            0.8888888888888888,
                            "#fdca26"
                          ],
                          [
                            1,
                            "#f0f921"
                          ]
                        ],
                        "type": "heatmap"
                      }
                    ],
                    "heatmapgl": [
                      {
                        "colorbar": {
                          "outlinewidth": 0,
                          "ticks": ""
                        },
                        "colorscale": [
                          [
                            0,
                            "#0d0887"
                          ],
                          [
                            0.1111111111111111,
                            "#46039f"
                          ],
                          [
                            0.2222222222222222,
                            "#7201a8"
                          ],
                          [
                            0.3333333333333333,
                            "#9c179e"
                          ],
                          [
                            0.4444444444444444,
                            "#bd3786"
                          ],
                          [
                            0.5555555555555556,
                            "#d8576b"
                          ],
                          [
                            0.6666666666666666,
                            "#ed7953"
                          ],
                          [
                            0.7777777777777778,
                            "#fb9f3a"
                          ],
                          [
                            0.8888888888888888,
                            "#fdca26"
                          ],
                          [
                            1,
                            "#f0f921"
                          ]
                        ],
                        "type": "heatmapgl"
                      }
                    ],
                    "histogram": [
                      {
                        "marker": {
                          "pattern": {
                            "fillmode": "overlay",
                            "size": 10,
                            "solidity": 0.2
                          }
                        },
                        "type": "histogram"
                      }
                    ],
                    "histogram2d": [
                      {
                        "colorbar": {
                          "outlinewidth": 0,
                          "ticks": ""
                        },
                        "colorscale": [
                          [
                            0,
                            "#0d0887"
                          ],
                          [
                            0.1111111111111111,
                            "#46039f"
                          ],
                          [
                            0.2222222222222222,
                            "#7201a8"
                          ],
                          [
                            0.3333333333333333,
                            "#9c179e"
                          ],
                          [
                            0.4444444444444444,
                            "#bd3786"
                          ],
                          [
                            0.5555555555555556,
                            "#d8576b"
                          ],
                          [
                            0.6666666666666666,
                            "#ed7953"
                          ],
                          [
                            0.7777777777777778,
                            "#fb9f3a"
                          ],
                          [
                            0.8888888888888888,
                            "#fdca26"
                          ],
                          [
                            1,
                            "#f0f921"
                          ]
                        ],
                        "type": "histogram2d"
                      }
                    ],
                    "histogram2dcontour": [
                      {
                        "colorbar": {
                          "outlinewidth": 0,
                          "ticks": ""
                        },
                        "colorscale": [
                          [
                            0,
                            "#0d0887"
                          ],
                          [
                            0.1111111111111111,
                            "#46039f"
                          ],
                          [
                            0.2222222222222222,
                            "#7201a8"
                          ],
                          [
                            0.3333333333333333,
                            "#9c179e"
                          ],
                          [
                            0.4444444444444444,
                            "#bd3786"
                          ],
                          [
                            0.5555555555555556,
                            "#d8576b"
                          ],
                          [
                            0.6666666666666666,
                            "#ed7953"
                          ],
                          [
                            0.7777777777777778,
                            "#fb9f3a"
                          ],
                          [
                            0.8888888888888888,
                            "#fdca26"
                          ],
                          [
                            1,
                            "#f0f921"
                          ]
                        ],
                        "type": "histogram2dcontour"
                      }
                    ],
                    "mesh3d": [
                      {
                        "colorbar": {
                          "outlinewidth": 0,
                          "ticks": ""
                        },
                        "type": "mesh3d"
                      }
                    ],
                    "parcoords": [
                      {
                        "line": {
                          "colorbar": {
                            "outlinewidth": 0,
                            "ticks": ""
                          }
                        },
                        "type": "parcoords"
                      }
                    ],
                    "pie": [
                      {
                        "automargin": true,
                        "type": "pie"
                      }
                    ],
                    "scatter": [
                      {
                        "marker": {
                          "colorbar": {
                            "outlinewidth": 0,
                            "ticks": ""
                          }
                        },
                        "type": "scatter"
                      }
                    ],
                    "scatter3d": [
                      {
                        "line": {
                          "colorbar": {
                            "outlinewidth": 0,
                            "ticks": ""
                          }
                        },
                        "marker": {
                          "colorbar": {
                            "outlinewidth": 0,
                            "ticks": ""
                          }
                        },
                        "type": "scatter3d"
                      }
                    ],
                    "scattercarpet": [
                      {
                        "marker": {
                          "colorbar": {
                            "outlinewidth": 0,
                            "ticks": ""
                          }
                        },
                        "type": "scattercarpet"
                      }
                    ],
                    "scattergeo": [
                      {
                        "marker": {
                          "colorbar": {
                            "outlinewidth": 0,
                            "ticks": ""
                          }
                        },
                        "type": "scattergeo"
                      }
                    ],
                    "scattergl": [
                      {
                        "marker": {
                          "colorbar": {
                            "outlinewidth": 0,
                            "ticks": ""
                          }
                        },
                        "type": "scattergl"
                      }
                    ],
                    "scattermapbox": [
                      {
                        "marker": {
                          "colorbar": {
                            "outlinewidth": 0,
                            "ticks": ""
                          }
                        },
                        "type": "scattermapbox"
                      }
                    ],
                    "scatterpolar": [
                      {
                        "marker": {
                          "colorbar": {
                            "outlinewidth": 0,
                            "ticks": ""
                          }
                        },
                        "type": "scatterpolar"
                      }
                    ],
                    "scatterpolargl": [
                      {
                        "marker": {
                          "colorbar": {
                            "outlinewidth": 0,
                            "ticks": ""
                          }
                        },
                        "type": "scatterpolargl"
                      }
                    ],
                    "scatterternary": [
                      {
                        "marker": {
                          "colorbar": {
                            "outlinewidth": 0,
                            "ticks": ""
                          }
                        },
                        "type": "scatterternary"
                      }
                    ],
                    "surface": [
                      {
                        "colorbar": {
                          "outlinewidth": 0,
                          "ticks": ""
                        },
                        "colorscale": [
                          [
                            0,
                            "#0d0887"
                          ],
                          [
                            0.1111111111111111,
                            "#46039f"
                          ],
                          [
                            0.2222222222222222,
                            "#7201a8"
                          ],
                          [
                            0.3333333333333333,
                            "#9c179e"
                          ],
                          [
                            0.4444444444444444,
                            "#bd3786"
                          ],
                          [
                            0.5555555555555556,
                            "#d8576b"
                          ],
                          [
                            0.6666666666666666,
                            "#ed7953"
                          ],
                          [
                            0.7777777777777778,
                            "#fb9f3a"
                          ],
                          [
                            0.8888888888888888,
                            "#fdca26"
                          ],
                          [
                            1,
                            "#f0f921"
                          ]
                        ],
                        "type": "surface"
                      }
                    ],
                    "table": [
                      {
                        "cells": {
                          "fill": {
                            "color": "#EBF0F8"
                          },
                          "line": {
                            "color": "white"
                          }
                        },
                        "header": {
                          "fill": {
                            "color": "#C8D4E3"
                          },
                          "line": {
                            "color": "white"
                          }
                        },
                        "type": "table"
                      }
                    ]
                  },
                  "layout": {
                    "annotationdefaults": {
                      "arrowcolor": "#2a3f5f",
                      "arrowhead": 0,
                      "arrowwidth": 1
                    },
                    "autotypenumbers": "strict",
                    "coloraxis": {
                      "colorbar": {
                        "outlinewidth": 0,
                        "ticks": ""
                      }
                    },
                    "colorscale": {
                      "diverging": [
                        [
                          0,
                          "#8e0152"
                        ],
                        [
                          0.1,
                          "#c51b7d"
                        ],
                        [
                          0.2,
                          "#de77ae"
                        ],
                        [
                          0.3,
                          "#f1b6da"
                        ],
                        [
                          0.4,
                          "#fde0ef"
                        ],
                        [
                          0.5,
                          "#f7f7f7"
                        ],
                        [
                          0.6,
                          "#e6f5d0"
                        ],
                        [
                          0.7,
                          "#b8e186"
                        ],
                        [
                          0.8,
                          "#7fbc41"
                        ],
                        [
                          0.9,
                          "#4d9221"
                        ],
                        [
                          1,
                          "#276419"
                        ]
                      ],
                      "sequential": [
                        [
                          0,
                          "#0d0887"
                        ],
                        [
                          0.1111111111111111,
                          "#46039f"
                        ],
                        [
                          0.2222222222222222,
                          "#7201a8"
                        ],
                        [
                          0.3333333333333333,
                          "#9c179e"
                        ],
                        [
                          0.4444444444444444,
                          "#bd3786"
                        ],
                        [
                          0.5555555555555556,
                          "#d8576b"
                        ],
                        [
                          0.6666666666666666,
                          "#ed7953"
                        ],
                        [
                          0.7777777777777778,
                          "#fb9f3a"
                        ],
                        [
                          0.8888888888888888,
                          "#fdca26"
                        ],
                        [
                          1,
                          "#f0f921"
                        ]
                      ],
                      "sequentialminus": [
                        [
                          0,
                          "#0d0887"
                        ],
                        [
                          0.1111111111111111,
                          "#46039f"
                        ],
                        [
                          0.2222222222222222,
                          "#7201a8"
                        ],
                        [
                          0.3333333333333333,
                          "#9c179e"
                        ],
                        [
                          0.4444444444444444,
                          "#bd3786"
                        ],
                        [
                          0.5555555555555556,
                          "#d8576b"
                        ],
                        [
                          0.6666666666666666,
                          "#ed7953"
                        ],
                        [
                          0.7777777777777778,
                          "#fb9f3a"
                        ],
                        [
                          0.8888888888888888,
                          "#fdca26"
                        ],
                        [
                          1,
                          "#f0f921"
                        ]
                      ]
                    },
                    "colorway": [
                      "#636efa",
                      "#EF553B",
                      "#00cc96",
                      "#ab63fa",
                      "#FFA15A",
                      "#19d3f3",
                      "#FF6692",
                      "#B6E880",
                      "#FF97FF",
                      "#FECB52"
                    ],
                    "font": {
                      "color": "#2a3f5f"
                    },
                    "geo": {
                      "bgcolor": "white",
                      "lakecolor": "white",
                      "landcolor": "#E5ECF6",
                      "showlakes": true,
                      "showland": true,
                      "subunitcolor": "white"
                    },
                    "hoverlabel": {
                      "align": "left"
                    },
                    "hovermode": "closest",
                    "mapbox": {
                      "style": "light"
                    },
                    "paper_bgcolor": "white",
                    "plot_bgcolor": "#E5ECF6",
                    "polar": {
                      "angularaxis": {
                        "gridcolor": "white",
                        "linecolor": "white",
                        "ticks": ""
                      },
                      "bgcolor": "#E5ECF6",
                      "radialaxis": {
                        "gridcolor": "white",
                        "linecolor": "white",
                        "ticks": ""
                      }
                    },
                    "scene": {
                      "xaxis": {
                        "backgroundcolor": "#E5ECF6",
                        "gridcolor": "white",
                        "gridwidth": 2,
                        "linecolor": "white",
                        "showbackground": true,
                        "ticks": "",
                        "zerolinecolor": "white"
                      },
                      "yaxis": {
                        "backgroundcolor": "#E5ECF6",
                        "gridcolor": "white",
                        "gridwidth": 2,
                        "linecolor": "white",
                        "showbackground": true,
                        "ticks": "",
                        "zerolinecolor": "white"
                      },
                      "zaxis": {
                        "backgroundcolor": "#E5ECF6",
                        "gridcolor": "white",
                        "gridwidth": 2,
                        "linecolor": "white",
                        "showbackground": true,
                        "ticks": "",
                        "zerolinecolor": "white"
                      }
                    },
                    "shapedefaults": {
                      "line": {
                        "color": "#2a3f5f"
                      }
                    },
                    "ternary": {
                      "aaxis": {
                        "gridcolor": "white",
                        "linecolor": "white",
                        "ticks": ""
                      },
                      "baxis": {
                        "gridcolor": "white",
                        "linecolor": "white",
                        "ticks": ""
                      },
                      "bgcolor": "#E5ECF6",
                      "caxis": {
                        "gridcolor": "white",
                        "linecolor": "white",
                        "ticks": ""
                      }
                    },
                    "title": {
                      "x": 0.05
                    },
                    "xaxis": {
                      "automargin": true,
                      "gridcolor": "white",
                      "linecolor": "white",
                      "ticks": "",
                      "title": {
                        "standoff": 15
                      },
                      "zerolinecolor": "white",
                      "zerolinewidth": 2
                    },
                    "yaxis": {
                      "automargin": true,
                      "gridcolor": "white",
                      "linecolor": "white",
                      "ticks": "",
                      "title": {
                        "standoff": 15
                      },
                      "zerolinecolor": "white",
                      "zerolinewidth": 2
                    }
                  }
                },
                "title": {
                  "font": {
                    "size": 30
                  },
                  "text": "Corners Taken/Corners Against Per Game"
                },
                "yaxis": {
                  "gridcolor": "#413543",
                  "zeroline": false
                }
              }
            }
          },
          "metadata": {},
          "output_type": "display_data"
        }
      ],
      "source": [
        "fig = go.Figure()\n",
        "fig.add_trace(go.Bar(x=a_df['Datetime'], y=a_df['Corners Taken PG'],\n",
        "                marker_color='#a5e6ba',\n",
        "                name = 'Corners Taken'\n",
        "                #customdata= [['<br> Result: ' + str(a_df.loc[i,'FTR_AFC'])+'<br> Opponent:'+ str(a_df.loc[i,'opponent'])]for i in a_df.index],\n",
        "                #hovertemplate='%{y}%{customdata} ')\n",
        "                ))\n",
        "fig.add_trace(go.Bar(x=a_df['Datetime'], y=a_df['Corners Against PG'],\n",
        "                marker_color='#009FBD',\n",
        "                name = 'Corners Against',\n",
        "                customdata= [['<br><br> Result: ' + str(a_df.loc[i,'FTR_AFC'])+'<br> Opponent:'+ str(a_df.loc[i,'opponent'])]for i in a_df.index],\n",
        "                hovertemplate='%{y}%{customdata} ')\n",
        "                )\n",
        "fig.update_layout(barmode='relative',title=dict(text=\"Corners Taken/Corners Against Per Game\", font=dict(size=30)),hovermode=\"x unified\")\n",
        "fig.update_traces(marker_line_width=0)\n",
        "fig.update_yaxes(gridcolor='#413543',zeroline=False)\n",
        "fig.update_layout(paper_bgcolor='#360568',plot_bgcolor='#5b2a86',font_color='#7785ac',font_size=15, font_family='arial')\n",
        "fig.show()"
      ]
    },
    {
      "cell_type": "code",
      "execution_count": 60,
      "id": "c6ddff9f",
      "metadata": {},
      "outputs": [
        {
          "name": "stdout",
          "output_type": "stream",
          "text": [
            "2.21053\n",
            "2.31579\n",
            "1.13158\n",
            "5.86842\n",
            "3.71053\n"
          ]
        }
      ],
      "source": [
        "avg_point = (a_df['points'].tail(1).values[0]/a_df['points'].shape[0]).round(5)\n",
        "print(avg_point)\n",
        "avg_goal = (a_df['GF'].tail(1).values[0]/a_df['points'].shape[0]).round(5)\n",
        "avg_goal_against = (a_df['GA'].tail(1).values[0]/a_df['points'].shape[0]).round(5)\n",
        "print(avg_goal)\n",
        "print(avg_goal_against)\n",
        "avg_corners_taken = (a_df['Corners Taken'].tail(1).values[0]/a_df['points'].shape[0]).round(5)\n",
        "avg_corners_against = (a_df['Corners Against'].tail(1).values[0]/a_df['points'].shape[0]).round(5)\n",
        "print(avg_corners_taken)\n",
        "print(avg_corners_against)"
      ]
    },
    {
      "cell_type": "code",
      "execution_count": 61,
      "id": "2476d4c7",
      "metadata": {},
      "outputs": [
        {
          "data": {
            "application/vnd.plotly.v1+json": {
              "config": {
                "plotlyServerURL": "https://plot.ly"
              },
              "data": [
                {
                  "fill": "toself",
                  "fillcolor": "lime",
                  "name": "Seasonal Average Data",
                  "opacity": 0.65,
                  "r": [
                    2.21053,
                    2.31579,
                    1.13158,
                    5.86842,
                    3.71053,
                    2.21053
                  ],
                  "theta": [
                    "Points",
                    "Goals",
                    "Goal Against",
                    "Corners Taken",
                    "Corners Against",
                    "Points"
                  ],
                  "type": "scatterpolar"
                }
              ],
              "layout": {
                "font": {
                  "color": "#7785ac",
                  "family": "arial",
                  "size": 15
                },
                "height": 700,
                "paper_bgcolor": "#360568",
                "plot_bgcolor": "#5b2a86",
                "polar": {
                  "radialaxis": {
                    "visible": true
                  }
                },
                "showlegend": false,
                "template": {
                  "data": {
                    "bar": [
                      {
                        "error_x": {
                          "color": "#2a3f5f"
                        },
                        "error_y": {
                          "color": "#2a3f5f"
                        },
                        "marker": {
                          "line": {
                            "color": "#E5ECF6",
                            "width": 0.5
                          },
                          "pattern": {
                            "fillmode": "overlay",
                            "size": 10,
                            "solidity": 0.2
                          }
                        },
                        "type": "bar"
                      }
                    ],
                    "barpolar": [
                      {
                        "marker": {
                          "line": {
                            "color": "#E5ECF6",
                            "width": 0.5
                          },
                          "pattern": {
                            "fillmode": "overlay",
                            "size": 10,
                            "solidity": 0.2
                          }
                        },
                        "type": "barpolar"
                      }
                    ],
                    "carpet": [
                      {
                        "aaxis": {
                          "endlinecolor": "#2a3f5f",
                          "gridcolor": "white",
                          "linecolor": "white",
                          "minorgridcolor": "white",
                          "startlinecolor": "#2a3f5f"
                        },
                        "baxis": {
                          "endlinecolor": "#2a3f5f",
                          "gridcolor": "white",
                          "linecolor": "white",
                          "minorgridcolor": "white",
                          "startlinecolor": "#2a3f5f"
                        },
                        "type": "carpet"
                      }
                    ],
                    "choropleth": [
                      {
                        "colorbar": {
                          "outlinewidth": 0,
                          "ticks": ""
                        },
                        "type": "choropleth"
                      }
                    ],
                    "contour": [
                      {
                        "colorbar": {
                          "outlinewidth": 0,
                          "ticks": ""
                        },
                        "colorscale": [
                          [
                            0,
                            "#0d0887"
                          ],
                          [
                            0.1111111111111111,
                            "#46039f"
                          ],
                          [
                            0.2222222222222222,
                            "#7201a8"
                          ],
                          [
                            0.3333333333333333,
                            "#9c179e"
                          ],
                          [
                            0.4444444444444444,
                            "#bd3786"
                          ],
                          [
                            0.5555555555555556,
                            "#d8576b"
                          ],
                          [
                            0.6666666666666666,
                            "#ed7953"
                          ],
                          [
                            0.7777777777777778,
                            "#fb9f3a"
                          ],
                          [
                            0.8888888888888888,
                            "#fdca26"
                          ],
                          [
                            1,
                            "#f0f921"
                          ]
                        ],
                        "type": "contour"
                      }
                    ],
                    "contourcarpet": [
                      {
                        "colorbar": {
                          "outlinewidth": 0,
                          "ticks": ""
                        },
                        "type": "contourcarpet"
                      }
                    ],
                    "heatmap": [
                      {
                        "colorbar": {
                          "outlinewidth": 0,
                          "ticks": ""
                        },
                        "colorscale": [
                          [
                            0,
                            "#0d0887"
                          ],
                          [
                            0.1111111111111111,
                            "#46039f"
                          ],
                          [
                            0.2222222222222222,
                            "#7201a8"
                          ],
                          [
                            0.3333333333333333,
                            "#9c179e"
                          ],
                          [
                            0.4444444444444444,
                            "#bd3786"
                          ],
                          [
                            0.5555555555555556,
                            "#d8576b"
                          ],
                          [
                            0.6666666666666666,
                            "#ed7953"
                          ],
                          [
                            0.7777777777777778,
                            "#fb9f3a"
                          ],
                          [
                            0.8888888888888888,
                            "#fdca26"
                          ],
                          [
                            1,
                            "#f0f921"
                          ]
                        ],
                        "type": "heatmap"
                      }
                    ],
                    "heatmapgl": [
                      {
                        "colorbar": {
                          "outlinewidth": 0,
                          "ticks": ""
                        },
                        "colorscale": [
                          [
                            0,
                            "#0d0887"
                          ],
                          [
                            0.1111111111111111,
                            "#46039f"
                          ],
                          [
                            0.2222222222222222,
                            "#7201a8"
                          ],
                          [
                            0.3333333333333333,
                            "#9c179e"
                          ],
                          [
                            0.4444444444444444,
                            "#bd3786"
                          ],
                          [
                            0.5555555555555556,
                            "#d8576b"
                          ],
                          [
                            0.6666666666666666,
                            "#ed7953"
                          ],
                          [
                            0.7777777777777778,
                            "#fb9f3a"
                          ],
                          [
                            0.8888888888888888,
                            "#fdca26"
                          ],
                          [
                            1,
                            "#f0f921"
                          ]
                        ],
                        "type": "heatmapgl"
                      }
                    ],
                    "histogram": [
                      {
                        "marker": {
                          "pattern": {
                            "fillmode": "overlay",
                            "size": 10,
                            "solidity": 0.2
                          }
                        },
                        "type": "histogram"
                      }
                    ],
                    "histogram2d": [
                      {
                        "colorbar": {
                          "outlinewidth": 0,
                          "ticks": ""
                        },
                        "colorscale": [
                          [
                            0,
                            "#0d0887"
                          ],
                          [
                            0.1111111111111111,
                            "#46039f"
                          ],
                          [
                            0.2222222222222222,
                            "#7201a8"
                          ],
                          [
                            0.3333333333333333,
                            "#9c179e"
                          ],
                          [
                            0.4444444444444444,
                            "#bd3786"
                          ],
                          [
                            0.5555555555555556,
                            "#d8576b"
                          ],
                          [
                            0.6666666666666666,
                            "#ed7953"
                          ],
                          [
                            0.7777777777777778,
                            "#fb9f3a"
                          ],
                          [
                            0.8888888888888888,
                            "#fdca26"
                          ],
                          [
                            1,
                            "#f0f921"
                          ]
                        ],
                        "type": "histogram2d"
                      }
                    ],
                    "histogram2dcontour": [
                      {
                        "colorbar": {
                          "outlinewidth": 0,
                          "ticks": ""
                        },
                        "colorscale": [
                          [
                            0,
                            "#0d0887"
                          ],
                          [
                            0.1111111111111111,
                            "#46039f"
                          ],
                          [
                            0.2222222222222222,
                            "#7201a8"
                          ],
                          [
                            0.3333333333333333,
                            "#9c179e"
                          ],
                          [
                            0.4444444444444444,
                            "#bd3786"
                          ],
                          [
                            0.5555555555555556,
                            "#d8576b"
                          ],
                          [
                            0.6666666666666666,
                            "#ed7953"
                          ],
                          [
                            0.7777777777777778,
                            "#fb9f3a"
                          ],
                          [
                            0.8888888888888888,
                            "#fdca26"
                          ],
                          [
                            1,
                            "#f0f921"
                          ]
                        ],
                        "type": "histogram2dcontour"
                      }
                    ],
                    "mesh3d": [
                      {
                        "colorbar": {
                          "outlinewidth": 0,
                          "ticks": ""
                        },
                        "type": "mesh3d"
                      }
                    ],
                    "parcoords": [
                      {
                        "line": {
                          "colorbar": {
                            "outlinewidth": 0,
                            "ticks": ""
                          }
                        },
                        "type": "parcoords"
                      }
                    ],
                    "pie": [
                      {
                        "automargin": true,
                        "type": "pie"
                      }
                    ],
                    "scatter": [
                      {
                        "marker": {
                          "colorbar": {
                            "outlinewidth": 0,
                            "ticks": ""
                          }
                        },
                        "type": "scatter"
                      }
                    ],
                    "scatter3d": [
                      {
                        "line": {
                          "colorbar": {
                            "outlinewidth": 0,
                            "ticks": ""
                          }
                        },
                        "marker": {
                          "colorbar": {
                            "outlinewidth": 0,
                            "ticks": ""
                          }
                        },
                        "type": "scatter3d"
                      }
                    ],
                    "scattercarpet": [
                      {
                        "marker": {
                          "colorbar": {
                            "outlinewidth": 0,
                            "ticks": ""
                          }
                        },
                        "type": "scattercarpet"
                      }
                    ],
                    "scattergeo": [
                      {
                        "marker": {
                          "colorbar": {
                            "outlinewidth": 0,
                            "ticks": ""
                          }
                        },
                        "type": "scattergeo"
                      }
                    ],
                    "scattergl": [
                      {
                        "marker": {
                          "colorbar": {
                            "outlinewidth": 0,
                            "ticks": ""
                          }
                        },
                        "type": "scattergl"
                      }
                    ],
                    "scattermapbox": [
                      {
                        "marker": {
                          "colorbar": {
                            "outlinewidth": 0,
                            "ticks": ""
                          }
                        },
                        "type": "scattermapbox"
                      }
                    ],
                    "scatterpolar": [
                      {
                        "marker": {
                          "colorbar": {
                            "outlinewidth": 0,
                            "ticks": ""
                          }
                        },
                        "type": "scatterpolar"
                      }
                    ],
                    "scatterpolargl": [
                      {
                        "marker": {
                          "colorbar": {
                            "outlinewidth": 0,
                            "ticks": ""
                          }
                        },
                        "type": "scatterpolargl"
                      }
                    ],
                    "scatterternary": [
                      {
                        "marker": {
                          "colorbar": {
                            "outlinewidth": 0,
                            "ticks": ""
                          }
                        },
                        "type": "scatterternary"
                      }
                    ],
                    "surface": [
                      {
                        "colorbar": {
                          "outlinewidth": 0,
                          "ticks": ""
                        },
                        "colorscale": [
                          [
                            0,
                            "#0d0887"
                          ],
                          [
                            0.1111111111111111,
                            "#46039f"
                          ],
                          [
                            0.2222222222222222,
                            "#7201a8"
                          ],
                          [
                            0.3333333333333333,
                            "#9c179e"
                          ],
                          [
                            0.4444444444444444,
                            "#bd3786"
                          ],
                          [
                            0.5555555555555556,
                            "#d8576b"
                          ],
                          [
                            0.6666666666666666,
                            "#ed7953"
                          ],
                          [
                            0.7777777777777778,
                            "#fb9f3a"
                          ],
                          [
                            0.8888888888888888,
                            "#fdca26"
                          ],
                          [
                            1,
                            "#f0f921"
                          ]
                        ],
                        "type": "surface"
                      }
                    ],
                    "table": [
                      {
                        "cells": {
                          "fill": {
                            "color": "#EBF0F8"
                          },
                          "line": {
                            "color": "white"
                          }
                        },
                        "header": {
                          "fill": {
                            "color": "#C8D4E3"
                          },
                          "line": {
                            "color": "white"
                          }
                        },
                        "type": "table"
                      }
                    ]
                  },
                  "layout": {
                    "annotationdefaults": {
                      "arrowcolor": "#2a3f5f",
                      "arrowhead": 0,
                      "arrowwidth": 1
                    },
                    "autotypenumbers": "strict",
                    "coloraxis": {
                      "colorbar": {
                        "outlinewidth": 0,
                        "ticks": ""
                      }
                    },
                    "colorscale": {
                      "diverging": [
                        [
                          0,
                          "#8e0152"
                        ],
                        [
                          0.1,
                          "#c51b7d"
                        ],
                        [
                          0.2,
                          "#de77ae"
                        ],
                        [
                          0.3,
                          "#f1b6da"
                        ],
                        [
                          0.4,
                          "#fde0ef"
                        ],
                        [
                          0.5,
                          "#f7f7f7"
                        ],
                        [
                          0.6,
                          "#e6f5d0"
                        ],
                        [
                          0.7,
                          "#b8e186"
                        ],
                        [
                          0.8,
                          "#7fbc41"
                        ],
                        [
                          0.9,
                          "#4d9221"
                        ],
                        [
                          1,
                          "#276419"
                        ]
                      ],
                      "sequential": [
                        [
                          0,
                          "#0d0887"
                        ],
                        [
                          0.1111111111111111,
                          "#46039f"
                        ],
                        [
                          0.2222222222222222,
                          "#7201a8"
                        ],
                        [
                          0.3333333333333333,
                          "#9c179e"
                        ],
                        [
                          0.4444444444444444,
                          "#bd3786"
                        ],
                        [
                          0.5555555555555556,
                          "#d8576b"
                        ],
                        [
                          0.6666666666666666,
                          "#ed7953"
                        ],
                        [
                          0.7777777777777778,
                          "#fb9f3a"
                        ],
                        [
                          0.8888888888888888,
                          "#fdca26"
                        ],
                        [
                          1,
                          "#f0f921"
                        ]
                      ],
                      "sequentialminus": [
                        [
                          0,
                          "#0d0887"
                        ],
                        [
                          0.1111111111111111,
                          "#46039f"
                        ],
                        [
                          0.2222222222222222,
                          "#7201a8"
                        ],
                        [
                          0.3333333333333333,
                          "#9c179e"
                        ],
                        [
                          0.4444444444444444,
                          "#bd3786"
                        ],
                        [
                          0.5555555555555556,
                          "#d8576b"
                        ],
                        [
                          0.6666666666666666,
                          "#ed7953"
                        ],
                        [
                          0.7777777777777778,
                          "#fb9f3a"
                        ],
                        [
                          0.8888888888888888,
                          "#fdca26"
                        ],
                        [
                          1,
                          "#f0f921"
                        ]
                      ]
                    },
                    "colorway": [
                      "#636efa",
                      "#EF553B",
                      "#00cc96",
                      "#ab63fa",
                      "#FFA15A",
                      "#19d3f3",
                      "#FF6692",
                      "#B6E880",
                      "#FF97FF",
                      "#FECB52"
                    ],
                    "font": {
                      "color": "#2a3f5f"
                    },
                    "geo": {
                      "bgcolor": "white",
                      "lakecolor": "white",
                      "landcolor": "#E5ECF6",
                      "showlakes": true,
                      "showland": true,
                      "subunitcolor": "white"
                    },
                    "hoverlabel": {
                      "align": "left"
                    },
                    "hovermode": "closest",
                    "mapbox": {
                      "style": "light"
                    },
                    "paper_bgcolor": "white",
                    "plot_bgcolor": "#E5ECF6",
                    "polar": {
                      "angularaxis": {
                        "gridcolor": "white",
                        "linecolor": "white",
                        "ticks": ""
                      },
                      "bgcolor": "#E5ECF6",
                      "radialaxis": {
                        "gridcolor": "white",
                        "linecolor": "white",
                        "ticks": ""
                      }
                    },
                    "scene": {
                      "xaxis": {
                        "backgroundcolor": "#E5ECF6",
                        "gridcolor": "white",
                        "gridwidth": 2,
                        "linecolor": "white",
                        "showbackground": true,
                        "ticks": "",
                        "zerolinecolor": "white"
                      },
                      "yaxis": {
                        "backgroundcolor": "#E5ECF6",
                        "gridcolor": "white",
                        "gridwidth": 2,
                        "linecolor": "white",
                        "showbackground": true,
                        "ticks": "",
                        "zerolinecolor": "white"
                      },
                      "zaxis": {
                        "backgroundcolor": "#E5ECF6",
                        "gridcolor": "white",
                        "gridwidth": 2,
                        "linecolor": "white",
                        "showbackground": true,
                        "ticks": "",
                        "zerolinecolor": "white"
                      }
                    },
                    "shapedefaults": {
                      "line": {
                        "color": "#2a3f5f"
                      }
                    },
                    "ternary": {
                      "aaxis": {
                        "gridcolor": "white",
                        "linecolor": "white",
                        "ticks": ""
                      },
                      "baxis": {
                        "gridcolor": "white",
                        "linecolor": "white",
                        "ticks": ""
                      },
                      "bgcolor": "#E5ECF6",
                      "caxis": {
                        "gridcolor": "white",
                        "linecolor": "white",
                        "ticks": ""
                      }
                    },
                    "title": {
                      "x": 0.05
                    },
                    "xaxis": {
                      "automargin": true,
                      "gridcolor": "white",
                      "linecolor": "white",
                      "ticks": "",
                      "title": {
                        "standoff": 15
                      },
                      "zerolinecolor": "white",
                      "zerolinewidth": 2
                    },
                    "yaxis": {
                      "automargin": true,
                      "gridcolor": "white",
                      "linecolor": "white",
                      "ticks": "",
                      "title": {
                        "standoff": 15
                      },
                      "zerolinecolor": "white",
                      "zerolinewidth": 2
                    }
                  }
                },
                "title": {
                  "font": {
                    "size": 30
                  },
                  "text": "Seasonal Average Statistics"
                }
              }
            }
          },
          "metadata": {},
          "output_type": "display_data"
        }
      ],
      "source": [
        "# Rader chart for seasonal Average Data\n",
        "\n",
        "fig = go.Figure(data=go.Scatterpolar(\n",
        "    r=[avg_point, avg_goal, avg_goal_against,\n",
        "        avg_corners_taken, avg_corners_against, avg_point],  # to close the line on rader chart, repeat the first point.\n",
        "    theta=['Points', 'Goals', 'Goal Against', 'Corners Taken',\n",
        "           'Corners Against', 'Points'],\n",
        "    fill='toself',\n",
        "    fillcolor='lime',\n",
        "    opacity=0.65,\n",
        "    name='Seasonal Average Data'\n",
        "\n",
        "))\n",
        "\n",
        "fig.update_layout(\n",
        "    polar=dict(\n",
        "        radialaxis=dict(\n",
        "            visible=True\n",
        "        ),\n",
        "    ),\n",
        "    height=700,\n",
        "    showlegend=False\n",
        ")\n",
        "fig.update_layout(paper_bgcolor='#360568', plot_bgcolor='#5b2a86',\n",
        "                  font_color='#7785ac', font_size=15, font_family='arial')\n",
        "fig.update_layout(title=dict(\n",
        "    text=\"Seasonal Average Statistics\", font=dict(size=30)))\n",
        "fig.show()\n"
      ]
    },
    {
      "cell_type": "code",
      "execution_count": 62,
      "id": "8265dd96",
      "metadata": {},
      "outputs": [],
      "source": [
        "fb_ref_df = pd.read_html('https://fbref.com/en/squads/18bb7c10/Arsenal-Stats#all_results2022-202391')"
      ]
    },
    {
      "cell_type": "code",
      "execution_count": 63,
      "id": "93ab516f",
      "metadata": {},
      "outputs": [
        {
          "data": {
            "text/html": [
              "<div>\n",
              "<style scoped>\n",
              "    .dataframe tbody tr th:only-of-type {\n",
              "        vertical-align: middle;\n",
              "    }\n",
              "\n",
              "    .dataframe tbody tr th {\n",
              "        vertical-align: top;\n",
              "    }\n",
              "\n",
              "    .dataframe thead th {\n",
              "        text-align: right;\n",
              "    }\n",
              "</style>\n",
              "<table border=\"1\" class=\"dataframe\">\n",
              "  <thead>\n",
              "    <tr style=\"text-align: right;\">\n",
              "      <th></th>\n",
              "      <th>Date</th>\n",
              "      <th>Time</th>\n",
              "      <th>Comp</th>\n",
              "      <th>Round</th>\n",
              "      <th>Day</th>\n",
              "      <th>Venue</th>\n",
              "      <th>Result</th>\n",
              "      <th>GF</th>\n",
              "      <th>GA</th>\n",
              "      <th>Opponent</th>\n",
              "      <th>xG</th>\n",
              "      <th>xGA</th>\n",
              "      <th>Poss</th>\n",
              "      <th>Attendance</th>\n",
              "      <th>Captain</th>\n",
              "      <th>Formation</th>\n",
              "      <th>Referee</th>\n",
              "      <th>Match Report</th>\n",
              "      <th>Notes</th>\n",
              "    </tr>\n",
              "  </thead>\n",
              "  <tbody>\n",
              "    <tr>\n",
              "      <th>0</th>\n",
              "      <td>2022-08-05</td>\n",
              "      <td>20:00</td>\n",
              "      <td>Premier League</td>\n",
              "      <td>Matchweek 1</td>\n",
              "      <td>Fri</td>\n",
              "      <td>Away</td>\n",
              "      <td>W</td>\n",
              "      <td>2</td>\n",
              "      <td>0</td>\n",
              "      <td>Crystal Palace</td>\n",
              "      <td>1.0</td>\n",
              "      <td>1.2</td>\n",
              "      <td>44</td>\n",
              "      <td>25286</td>\n",
              "      <td>Martin Ødegaard</td>\n",
              "      <td>4-3-3</td>\n",
              "      <td>Anthony Taylor</td>\n",
              "      <td>Match Report</td>\n",
              "      <td>NaN</td>\n",
              "    </tr>\n",
              "    <tr>\n",
              "      <th>1</th>\n",
              "      <td>2022-08-13</td>\n",
              "      <td>15:00</td>\n",
              "      <td>Premier League</td>\n",
              "      <td>Matchweek 2</td>\n",
              "      <td>Sat</td>\n",
              "      <td>Home</td>\n",
              "      <td>W</td>\n",
              "      <td>4</td>\n",
              "      <td>2</td>\n",
              "      <td>Leicester City</td>\n",
              "      <td>2.7</td>\n",
              "      <td>0.5</td>\n",
              "      <td>50</td>\n",
              "      <td>60033</td>\n",
              "      <td>Martin Ødegaard</td>\n",
              "      <td>4-3-3</td>\n",
              "      <td>Darren England</td>\n",
              "      <td>Match Report</td>\n",
              "      <td>NaN</td>\n",
              "    </tr>\n",
              "    <tr>\n",
              "      <th>2</th>\n",
              "      <td>2022-08-20</td>\n",
              "      <td>17:30</td>\n",
              "      <td>Premier League</td>\n",
              "      <td>Matchweek 3</td>\n",
              "      <td>Sat</td>\n",
              "      <td>Away</td>\n",
              "      <td>W</td>\n",
              "      <td>3</td>\n",
              "      <td>0</td>\n",
              "      <td>Bournemouth</td>\n",
              "      <td>1.3</td>\n",
              "      <td>0.3</td>\n",
              "      <td>57</td>\n",
              "      <td>10423</td>\n",
              "      <td>Martin Ødegaard</td>\n",
              "      <td>4-3-3</td>\n",
              "      <td>Craig Pawson</td>\n",
              "      <td>Match Report</td>\n",
              "      <td>NaN</td>\n",
              "    </tr>\n",
              "    <tr>\n",
              "      <th>3</th>\n",
              "      <td>2022-08-27</td>\n",
              "      <td>17:30</td>\n",
              "      <td>Premier League</td>\n",
              "      <td>Matchweek 4</td>\n",
              "      <td>Sat</td>\n",
              "      <td>Home</td>\n",
              "      <td>W</td>\n",
              "      <td>2</td>\n",
              "      <td>1</td>\n",
              "      <td>Fulham</td>\n",
              "      <td>2.6</td>\n",
              "      <td>0.8</td>\n",
              "      <td>71</td>\n",
              "      <td>60164</td>\n",
              "      <td>Martin Ødegaard</td>\n",
              "      <td>4-3-3</td>\n",
              "      <td>Jarred Gillett</td>\n",
              "      <td>Match Report</td>\n",
              "      <td>NaN</td>\n",
              "    </tr>\n",
              "    <tr>\n",
              "      <th>4</th>\n",
              "      <td>2022-08-31</td>\n",
              "      <td>19:30</td>\n",
              "      <td>Premier League</td>\n",
              "      <td>Matchweek 5</td>\n",
              "      <td>Wed</td>\n",
              "      <td>Home</td>\n",
              "      <td>W</td>\n",
              "      <td>2</td>\n",
              "      <td>1</td>\n",
              "      <td>Aston Villa</td>\n",
              "      <td>2.4</td>\n",
              "      <td>0.4</td>\n",
              "      <td>59</td>\n",
              "      <td>60012</td>\n",
              "      <td>Martin Ødegaard</td>\n",
              "      <td>4-3-3</td>\n",
              "      <td>Robert Jones</td>\n",
              "      <td>Match Report</td>\n",
              "      <td>NaN</td>\n",
              "    </tr>\n",
              "    <tr>\n",
              "      <th>5</th>\n",
              "      <td>2022-09-04</td>\n",
              "      <td>16:30</td>\n",
              "      <td>Premier League</td>\n",
              "      <td>Matchweek 6</td>\n",
              "      <td>Sun</td>\n",
              "      <td>Away</td>\n",
              "      <td>L</td>\n",
              "      <td>1</td>\n",
              "      <td>3</td>\n",
              "      <td>Manchester Utd</td>\n",
              "      <td>1.3</td>\n",
              "      <td>1.5</td>\n",
              "      <td>60</td>\n",
              "      <td>73431</td>\n",
              "      <td>Martin Ødegaard</td>\n",
              "      <td>4-3-3</td>\n",
              "      <td>Paul Tierney</td>\n",
              "      <td>Match Report</td>\n",
              "      <td>NaN</td>\n",
              "    </tr>\n",
              "    <tr>\n",
              "      <th>6</th>\n",
              "      <td>2022-09-08</td>\n",
              "      <td>18:45</td>\n",
              "      <td>Europa Lg</td>\n",
              "      <td>Group stage</td>\n",
              "      <td>Thu</td>\n",
              "      <td>Away</td>\n",
              "      <td>W</td>\n",
              "      <td>2</td>\n",
              "      <td>1</td>\n",
              "      <td>ch Zürich</td>\n",
              "      <td>2.3</td>\n",
              "      <td>1.2</td>\n",
              "      <td>69</td>\n",
              "      <td>17070</td>\n",
              "      <td>Granit Xhaka</td>\n",
              "      <td>4-3-3</td>\n",
              "      <td>Mohammed Al Hakim</td>\n",
              "      <td>Match Report</td>\n",
              "      <td>NaN</td>\n",
              "    </tr>\n",
              "    <tr>\n",
              "      <th>7</th>\n",
              "      <td>2022-09-18</td>\n",
              "      <td>12:00</td>\n",
              "      <td>Premier League</td>\n",
              "      <td>Matchweek 8</td>\n",
              "      <td>Sun</td>\n",
              "      <td>Away</td>\n",
              "      <td>W</td>\n",
              "      <td>3</td>\n",
              "      <td>0</td>\n",
              "      <td>Brentford</td>\n",
              "      <td>1.5</td>\n",
              "      <td>0.5</td>\n",
              "      <td>63</td>\n",
              "      <td>17122</td>\n",
              "      <td>Granit Xhaka</td>\n",
              "      <td>4-3-3</td>\n",
              "      <td>David Coote</td>\n",
              "      <td>Match Report</td>\n",
              "      <td>NaN</td>\n",
              "    </tr>\n",
              "    <tr>\n",
              "      <th>8</th>\n",
              "      <td>2022-10-01</td>\n",
              "      <td>12:30</td>\n",
              "      <td>Premier League</td>\n",
              "      <td>Matchweek 9</td>\n",
              "      <td>Sat</td>\n",
              "      <td>Home</td>\n",
              "      <td>W</td>\n",
              "      <td>3</td>\n",
              "      <td>1</td>\n",
              "      <td>Tottenham</td>\n",
              "      <td>2.4</td>\n",
              "      <td>1.6</td>\n",
              "      <td>64</td>\n",
              "      <td>60278</td>\n",
              "      <td>Martin Ødegaard</td>\n",
              "      <td>4-3-3</td>\n",
              "      <td>Anthony Taylor</td>\n",
              "      <td>Match Report</td>\n",
              "      <td>NaN</td>\n",
              "    </tr>\n",
              "    <tr>\n",
              "      <th>9</th>\n",
              "      <td>2022-10-06</td>\n",
              "      <td>20:00</td>\n",
              "      <td>Europa Lg</td>\n",
              "      <td>Group stage</td>\n",
              "      <td>Thu</td>\n",
              "      <td>Home</td>\n",
              "      <td>W</td>\n",
              "      <td>3</td>\n",
              "      <td>0</td>\n",
              "      <td>no Bodø/Glimt</td>\n",
              "      <td>3.4</td>\n",
              "      <td>0.8</td>\n",
              "      <td>50</td>\n",
              "      <td>59724</td>\n",
              "      <td>Granit Xhaka</td>\n",
              "      <td>4-3-3</td>\n",
              "      <td>Harm Osmers</td>\n",
              "      <td>Match Report</td>\n",
              "      <td>NaN</td>\n",
              "    </tr>\n",
              "    <tr>\n",
              "      <th>10</th>\n",
              "      <td>2022-10-09</td>\n",
              "      <td>16:30</td>\n",
              "      <td>Premier League</td>\n",
              "      <td>Matchweek 10</td>\n",
              "      <td>Sun</td>\n",
              "      <td>Home</td>\n",
              "      <td>W</td>\n",
              "      <td>3</td>\n",
              "      <td>2</td>\n",
              "      <td>Liverpool</td>\n",
              "      <td>2.7</td>\n",
              "      <td>1.1</td>\n",
              "      <td>43</td>\n",
              "      <td>60059</td>\n",
              "      <td>Martin Ødegaard</td>\n",
              "      <td>4-3-3</td>\n",
              "      <td>Michael Oliver</td>\n",
              "      <td>Match Report</td>\n",
              "      <td>NaN</td>\n",
              "    </tr>\n",
              "    <tr>\n",
              "      <th>11</th>\n",
              "      <td>2022-10-13</td>\n",
              "      <td>18:45</td>\n",
              "      <td>Europa Lg</td>\n",
              "      <td>Group stage</td>\n",
              "      <td>Thu</td>\n",
              "      <td>Away</td>\n",
              "      <td>W</td>\n",
              "      <td>1</td>\n",
              "      <td>0</td>\n",
              "      <td>no Bodø/Glimt</td>\n",
              "      <td>0.7</td>\n",
              "      <td>0.5</td>\n",
              "      <td>55</td>\n",
              "      <td>7922</td>\n",
              "      <td>Martin Ødegaard</td>\n",
              "      <td>4-3-3</td>\n",
              "      <td>Irfan Peljto</td>\n",
              "      <td>Match Report</td>\n",
              "      <td>NaN</td>\n",
              "    </tr>\n",
              "    <tr>\n",
              "      <th>12</th>\n",
              "      <td>2022-10-16</td>\n",
              "      <td>14:00</td>\n",
              "      <td>Premier League</td>\n",
              "      <td>Matchweek 11</td>\n",
              "      <td>Sun</td>\n",
              "      <td>Away</td>\n",
              "      <td>W</td>\n",
              "      <td>1</td>\n",
              "      <td>0</td>\n",
              "      <td>Leeds United</td>\n",
              "      <td>0.5</td>\n",
              "      <td>1.8</td>\n",
              "      <td>53</td>\n",
              "      <td>36700</td>\n",
              "      <td>Martin Ødegaard</td>\n",
              "      <td>4-3-3</td>\n",
              "      <td>Chris Kavanagh</td>\n",
              "      <td>Match Report</td>\n",
              "      <td>NaN</td>\n",
              "    </tr>\n",
              "    <tr>\n",
              "      <th>13</th>\n",
              "      <td>2022-10-20</td>\n",
              "      <td>18:00</td>\n",
              "      <td>Europa Lg</td>\n",
              "      <td>Group stage</td>\n",
              "      <td>Thu</td>\n",
              "      <td>Home</td>\n",
              "      <td>W</td>\n",
              "      <td>1</td>\n",
              "      <td>0</td>\n",
              "      <td>nl PSV Eindhoven</td>\n",
              "      <td>2.7</td>\n",
              "      <td>0.3</td>\n",
              "      <td>62</td>\n",
              "      <td>52200</td>\n",
              "      <td>Granit Xhaka</td>\n",
              "      <td>4-3-3</td>\n",
              "      <td>Alejandro Hernández</td>\n",
              "      <td>Match Report</td>\n",
              "      <td>NaN</td>\n",
              "    </tr>\n",
              "    <tr>\n",
              "      <th>14</th>\n",
              "      <td>2022-10-23</td>\n",
              "      <td>14:00</td>\n",
              "      <td>Premier League</td>\n",
              "      <td>Matchweek 13</td>\n",
              "      <td>Sun</td>\n",
              "      <td>Away</td>\n",
              "      <td>D</td>\n",
              "      <td>1</td>\n",
              "      <td>1</td>\n",
              "      <td>Southampton</td>\n",
              "      <td>1.0</td>\n",
              "      <td>0.7</td>\n",
              "      <td>59</td>\n",
              "      <td>31145</td>\n",
              "      <td>Martin Ødegaard</td>\n",
              "      <td>4-3-3</td>\n",
              "      <td>Robert Jones</td>\n",
              "      <td>Match Report</td>\n",
              "      <td>NaN</td>\n",
              "    </tr>\n",
              "    <tr>\n",
              "      <th>15</th>\n",
              "      <td>2022-10-27</td>\n",
              "      <td>18:45</td>\n",
              "      <td>Europa Lg</td>\n",
              "      <td>Group stage</td>\n",
              "      <td>Thu</td>\n",
              "      <td>Away</td>\n",
              "      <td>L</td>\n",
              "      <td>0</td>\n",
              "      <td>2</td>\n",
              "      <td>nl PSV Eindhoven</td>\n",
              "      <td>1.4</td>\n",
              "      <td>0.8</td>\n",
              "      <td>68</td>\n",
              "      <td>35000</td>\n",
              "      <td>Martin Ødegaard</td>\n",
              "      <td>4-3-3</td>\n",
              "      <td>Marco Di Bello</td>\n",
              "      <td>Match Report</td>\n",
              "      <td>NaN</td>\n",
              "    </tr>\n",
              "    <tr>\n",
              "      <th>16</th>\n",
              "      <td>2022-10-30</td>\n",
              "      <td>14:00</td>\n",
              "      <td>Premier League</td>\n",
              "      <td>Matchweek 14</td>\n",
              "      <td>Sun</td>\n",
              "      <td>Home</td>\n",
              "      <td>W</td>\n",
              "      <td>5</td>\n",
              "      <td>0</td>\n",
              "      <td>Nott'ham Forest</td>\n",
              "      <td>2.3</td>\n",
              "      <td>0.4</td>\n",
              "      <td>69</td>\n",
              "      <td>60263</td>\n",
              "      <td>Martin Ødegaard</td>\n",
              "      <td>4-3-3</td>\n",
              "      <td>Simon Hooper</td>\n",
              "      <td>Match Report</td>\n",
              "      <td>NaN</td>\n",
              "    </tr>\n",
              "    <tr>\n",
              "      <th>17</th>\n",
              "      <td>2022-11-03</td>\n",
              "      <td>20:00</td>\n",
              "      <td>Europa Lg</td>\n",
              "      <td>Group stage</td>\n",
              "      <td>Thu</td>\n",
              "      <td>Home</td>\n",
              "      <td>W</td>\n",
              "      <td>1</td>\n",
              "      <td>0</td>\n",
              "      <td>ch Zürich</td>\n",
              "      <td>1.6</td>\n",
              "      <td>0.4</td>\n",
              "      <td>55</td>\n",
              "      <td>48500</td>\n",
              "      <td>Gabriel Jesus</td>\n",
              "      <td>4-3-3</td>\n",
              "      <td>Erik Lambrechts</td>\n",
              "      <td>Match Report</td>\n",
              "      <td>NaN</td>\n",
              "    </tr>\n",
              "    <tr>\n",
              "      <th>18</th>\n",
              "      <td>2022-11-06</td>\n",
              "      <td>12:00</td>\n",
              "      <td>Premier League</td>\n",
              "      <td>Matchweek 15</td>\n",
              "      <td>Sun</td>\n",
              "      <td>Away</td>\n",
              "      <td>W</td>\n",
              "      <td>1</td>\n",
              "      <td>0</td>\n",
              "      <td>Chelsea</td>\n",
              "      <td>2.1</td>\n",
              "      <td>0.3</td>\n",
              "      <td>55</td>\n",
              "      <td>40142</td>\n",
              "      <td>Martin Ødegaard</td>\n",
              "      <td>4-3-3</td>\n",
              "      <td>Michael Oliver</td>\n",
              "      <td>Match Report</td>\n",
              "      <td>NaN</td>\n",
              "    </tr>\n",
              "    <tr>\n",
              "      <th>19</th>\n",
              "      <td>2022-11-09</td>\n",
              "      <td>19:45</td>\n",
              "      <td>EFL Cup</td>\n",
              "      <td>Third round</td>\n",
              "      <td>Wed</td>\n",
              "      <td>Home</td>\n",
              "      <td>L</td>\n",
              "      <td>1</td>\n",
              "      <td>3</td>\n",
              "      <td>Brighton</td>\n",
              "      <td>NaN</td>\n",
              "      <td>NaN</td>\n",
              "      <td>57</td>\n",
              "      <td>59233</td>\n",
              "      <td>Rob Holding</td>\n",
              "      <td>4-2-3-1</td>\n",
              "      <td>Jarred Gillett</td>\n",
              "      <td>Match Report</td>\n",
              "      <td>NaN</td>\n",
              "    </tr>\n",
              "    <tr>\n",
              "      <th>20</th>\n",
              "      <td>2022-11-12</td>\n",
              "      <td>19:45</td>\n",
              "      <td>Premier League</td>\n",
              "      <td>Matchweek 16</td>\n",
              "      <td>Sat</td>\n",
              "      <td>Away</td>\n",
              "      <td>W</td>\n",
              "      <td>2</td>\n",
              "      <td>0</td>\n",
              "      <td>Wolves</td>\n",
              "      <td>2.1</td>\n",
              "      <td>0.7</td>\n",
              "      <td>62</td>\n",
              "      <td>34624</td>\n",
              "      <td>Martin Ødegaard</td>\n",
              "      <td>4-3-3</td>\n",
              "      <td>Stuart Attwell</td>\n",
              "      <td>Match Report</td>\n",
              "      <td>NaN</td>\n",
              "    </tr>\n",
              "    <tr>\n",
              "      <th>21</th>\n",
              "      <td>2022-12-26</td>\n",
              "      <td>20:00</td>\n",
              "      <td>Premier League</td>\n",
              "      <td>Matchweek 17</td>\n",
              "      <td>Mon</td>\n",
              "      <td>Home</td>\n",
              "      <td>W</td>\n",
              "      <td>3</td>\n",
              "      <td>1</td>\n",
              "      <td>West Ham</td>\n",
              "      <td>2.1</td>\n",
              "      <td>1.0</td>\n",
              "      <td>66</td>\n",
              "      <td>60125</td>\n",
              "      <td>Martin Ødegaard</td>\n",
              "      <td>4-3-3</td>\n",
              "      <td>Michael Oliver</td>\n",
              "      <td>Match Report</td>\n",
              "      <td>NaN</td>\n",
              "    </tr>\n",
              "    <tr>\n",
              "      <th>22</th>\n",
              "      <td>2022-12-31</td>\n",
              "      <td>17:30</td>\n",
              "      <td>Premier League</td>\n",
              "      <td>Matchweek 18</td>\n",
              "      <td>Sat</td>\n",
              "      <td>Away</td>\n",
              "      <td>W</td>\n",
              "      <td>4</td>\n",
              "      <td>2</td>\n",
              "      <td>Brighton</td>\n",
              "      <td>2.9</td>\n",
              "      <td>1.2</td>\n",
              "      <td>32</td>\n",
              "      <td>31647</td>\n",
              "      <td>Martin Ødegaard</td>\n",
              "      <td>4-3-3</td>\n",
              "      <td>Anthony Taylor</td>\n",
              "      <td>Match Report</td>\n",
              "      <td>NaN</td>\n",
              "    </tr>\n",
              "    <tr>\n",
              "      <th>23</th>\n",
              "      <td>2023-01-03</td>\n",
              "      <td>19:45</td>\n",
              "      <td>Premier League</td>\n",
              "      <td>Matchweek 19</td>\n",
              "      <td>Tue</td>\n",
              "      <td>Home</td>\n",
              "      <td>D</td>\n",
              "      <td>0</td>\n",
              "      <td>0</td>\n",
              "      <td>Newcastle Utd</td>\n",
              "      <td>1.1</td>\n",
              "      <td>1.0</td>\n",
              "      <td>66</td>\n",
              "      <td>60319</td>\n",
              "      <td>Martin Ødegaard</td>\n",
              "      <td>4-3-3</td>\n",
              "      <td>Andy Madley</td>\n",
              "      <td>Match Report</td>\n",
              "      <td>NaN</td>\n",
              "    </tr>\n",
              "    <tr>\n",
              "      <th>24</th>\n",
              "      <td>2023-01-09</td>\n",
              "      <td>20:00</td>\n",
              "      <td>FA Cup</td>\n",
              "      <td>Third round proper</td>\n",
              "      <td>Mon</td>\n",
              "      <td>Away</td>\n",
              "      <td>W</td>\n",
              "      <td>3</td>\n",
              "      <td>0</td>\n",
              "      <td>Oxford United</td>\n",
              "      <td>NaN</td>\n",
              "      <td>NaN</td>\n",
              "      <td>64</td>\n",
              "      <td>11538</td>\n",
              "      <td>Rob Holding</td>\n",
              "      <td>4-3-3</td>\n",
              "      <td>David Coote</td>\n",
              "      <td>Match Report</td>\n",
              "      <td>NaN</td>\n",
              "    </tr>\n",
              "    <tr>\n",
              "      <th>25</th>\n",
              "      <td>2023-01-15</td>\n",
              "      <td>16:30</td>\n",
              "      <td>Premier League</td>\n",
              "      <td>Matchweek 20</td>\n",
              "      <td>Sun</td>\n",
              "      <td>Away</td>\n",
              "      <td>W</td>\n",
              "      <td>2</td>\n",
              "      <td>0</td>\n",
              "      <td>Tottenham</td>\n",
              "      <td>1.8</td>\n",
              "      <td>1.6</td>\n",
              "      <td>49</td>\n",
              "      <td>61870</td>\n",
              "      <td>Martin Ødegaard</td>\n",
              "      <td>4-3-3</td>\n",
              "      <td>Craig Pawson</td>\n",
              "      <td>Match Report</td>\n",
              "      <td>NaN</td>\n",
              "    </tr>\n",
              "    <tr>\n",
              "      <th>26</th>\n",
              "      <td>2023-01-22</td>\n",
              "      <td>16:30</td>\n",
              "      <td>Premier League</td>\n",
              "      <td>Matchweek 21</td>\n",
              "      <td>Sun</td>\n",
              "      <td>Home</td>\n",
              "      <td>W</td>\n",
              "      <td>3</td>\n",
              "      <td>2</td>\n",
              "      <td>Manchester Utd</td>\n",
              "      <td>3.1</td>\n",
              "      <td>0.4</td>\n",
              "      <td>57</td>\n",
              "      <td>60325</td>\n",
              "      <td>Martin Ødegaard</td>\n",
              "      <td>4-3-3</td>\n",
              "      <td>Anthony Taylor</td>\n",
              "      <td>Match Report</td>\n",
              "      <td>NaN</td>\n",
              "    </tr>\n",
              "    <tr>\n",
              "      <th>27</th>\n",
              "      <td>2023-01-27</td>\n",
              "      <td>20:00</td>\n",
              "      <td>FA Cup</td>\n",
              "      <td>Fourth round proper</td>\n",
              "      <td>Fri</td>\n",
              "      <td>Away</td>\n",
              "      <td>L</td>\n",
              "      <td>0</td>\n",
              "      <td>1</td>\n",
              "      <td>Manchester City</td>\n",
              "      <td>NaN</td>\n",
              "      <td>NaN</td>\n",
              "      <td>46</td>\n",
              "      <td>51589</td>\n",
              "      <td>Granit Xhaka</td>\n",
              "      <td>4-3-3</td>\n",
              "      <td>Paul Tierney</td>\n",
              "      <td>Match Report</td>\n",
              "      <td>NaN</td>\n",
              "    </tr>\n",
              "    <tr>\n",
              "      <th>28</th>\n",
              "      <td>2023-02-04</td>\n",
              "      <td>12:30</td>\n",
              "      <td>Premier League</td>\n",
              "      <td>Matchweek 22</td>\n",
              "      <td>Sat</td>\n",
              "      <td>Away</td>\n",
              "      <td>L</td>\n",
              "      <td>0</td>\n",
              "      <td>1</td>\n",
              "      <td>Everton</td>\n",
              "      <td>0.9</td>\n",
              "      <td>1.7</td>\n",
              "      <td>70</td>\n",
              "      <td>39314</td>\n",
              "      <td>Martin Ødegaard</td>\n",
              "      <td>4-3-3</td>\n",
              "      <td>David Coote</td>\n",
              "      <td>Match Report</td>\n",
              "      <td>NaN</td>\n",
              "    </tr>\n",
              "    <tr>\n",
              "      <th>29</th>\n",
              "      <td>2023-02-11</td>\n",
              "      <td>15:00</td>\n",
              "      <td>Premier League</td>\n",
              "      <td>Matchweek 23</td>\n",
              "      <td>Sat</td>\n",
              "      <td>Home</td>\n",
              "      <td>D</td>\n",
              "      <td>1</td>\n",
              "      <td>1</td>\n",
              "      <td>Brentford</td>\n",
              "      <td>1.6</td>\n",
              "      <td>2.0</td>\n",
              "      <td>69</td>\n",
              "      <td>60254</td>\n",
              "      <td>Martin Ødegaard</td>\n",
              "      <td>4-3-3</td>\n",
              "      <td>Peter Bankes</td>\n",
              "      <td>Match Report</td>\n",
              "      <td>NaN</td>\n",
              "    </tr>\n",
              "    <tr>\n",
              "      <th>30</th>\n",
              "      <td>2023-02-15</td>\n",
              "      <td>19:30</td>\n",
              "      <td>Premier League</td>\n",
              "      <td>Matchweek 12</td>\n",
              "      <td>Wed</td>\n",
              "      <td>Home</td>\n",
              "      <td>L</td>\n",
              "      <td>1</td>\n",
              "      <td>3</td>\n",
              "      <td>Manchester City</td>\n",
              "      <td>1.6</td>\n",
              "      <td>1.8</td>\n",
              "      <td>63</td>\n",
              "      <td>60276</td>\n",
              "      <td>Martin Ødegaard</td>\n",
              "      <td>4-3-3</td>\n",
              "      <td>Anthony Taylor</td>\n",
              "      <td>Match Report</td>\n",
              "      <td>NaN</td>\n",
              "    </tr>\n",
              "    <tr>\n",
              "      <th>31</th>\n",
              "      <td>2023-02-18</td>\n",
              "      <td>12:30</td>\n",
              "      <td>Premier League</td>\n",
              "      <td>Matchweek 24</td>\n",
              "      <td>Sat</td>\n",
              "      <td>Away</td>\n",
              "      <td>W</td>\n",
              "      <td>4</td>\n",
              "      <td>2</td>\n",
              "      <td>Aston Villa</td>\n",
              "      <td>3.2</td>\n",
              "      <td>0.5</td>\n",
              "      <td>67</td>\n",
              "      <td>42066</td>\n",
              "      <td>Martin Ødegaard</td>\n",
              "      <td>4-3-3</td>\n",
              "      <td>Simon Hooper</td>\n",
              "      <td>Match Report</td>\n",
              "      <td>NaN</td>\n",
              "    </tr>\n",
              "    <tr>\n",
              "      <th>32</th>\n",
              "      <td>2023-02-25</td>\n",
              "      <td>15:00</td>\n",
              "      <td>Premier League</td>\n",
              "      <td>Matchweek 25</td>\n",
              "      <td>Sat</td>\n",
              "      <td>Away</td>\n",
              "      <td>W</td>\n",
              "      <td>1</td>\n",
              "      <td>0</td>\n",
              "      <td>Leicester City</td>\n",
              "      <td>0.7</td>\n",
              "      <td>0.0</td>\n",
              "      <td>65</td>\n",
              "      <td>32227</td>\n",
              "      <td>Oleksandr Zinchenko</td>\n",
              "      <td>4-3-3</td>\n",
              "      <td>Craig Pawson</td>\n",
              "      <td>Match Report</td>\n",
              "      <td>NaN</td>\n",
              "    </tr>\n",
              "    <tr>\n",
              "      <th>33</th>\n",
              "      <td>2023-03-01</td>\n",
              "      <td>19:45</td>\n",
              "      <td>Premier League</td>\n",
              "      <td>Matchweek 7</td>\n",
              "      <td>Wed</td>\n",
              "      <td>Home</td>\n",
              "      <td>W</td>\n",
              "      <td>4</td>\n",
              "      <td>0</td>\n",
              "      <td>Everton</td>\n",
              "      <td>2.6</td>\n",
              "      <td>1.2</td>\n",
              "      <td>73</td>\n",
              "      <td>60213</td>\n",
              "      <td>Martin Ødegaard</td>\n",
              "      <td>4-3-3</td>\n",
              "      <td>Michael Oliver</td>\n",
              "      <td>Match Report</td>\n",
              "      <td>NaN</td>\n",
              "    </tr>\n",
              "    <tr>\n",
              "      <th>34</th>\n",
              "      <td>2023-03-04</td>\n",
              "      <td>15:00</td>\n",
              "      <td>Premier League</td>\n",
              "      <td>Matchweek 26</td>\n",
              "      <td>Sat</td>\n",
              "      <td>Home</td>\n",
              "      <td>W</td>\n",
              "      <td>3</td>\n",
              "      <td>2</td>\n",
              "      <td>Bournemouth</td>\n",
              "      <td>2.1</td>\n",
              "      <td>1.3</td>\n",
              "      <td>79</td>\n",
              "      <td>60222</td>\n",
              "      <td>Martin Ødegaard</td>\n",
              "      <td>4-3-3</td>\n",
              "      <td>Chris Kavanagh</td>\n",
              "      <td>Match Report</td>\n",
              "      <td>NaN</td>\n",
              "    </tr>\n",
              "    <tr>\n",
              "      <th>35</th>\n",
              "      <td>2023-03-09</td>\n",
              "      <td>17:45</td>\n",
              "      <td>Europa Lg</td>\n",
              "      <td>Round of 16</td>\n",
              "      <td>Thu</td>\n",
              "      <td>Away</td>\n",
              "      <td>D</td>\n",
              "      <td>2</td>\n",
              "      <td>2</td>\n",
              "      <td>pt Sporting CP</td>\n",
              "      <td>2.0</td>\n",
              "      <td>2.2</td>\n",
              "      <td>67</td>\n",
              "      <td>36006</td>\n",
              "      <td>Granit Xhaka</td>\n",
              "      <td>4-3-3</td>\n",
              "      <td>Tobias Stieler</td>\n",
              "      <td>Match Report</td>\n",
              "      <td>Leg 1 of 2</td>\n",
              "    </tr>\n",
              "    <tr>\n",
              "      <th>36</th>\n",
              "      <td>2023-03-12</td>\n",
              "      <td>14:00</td>\n",
              "      <td>Premier League</td>\n",
              "      <td>Matchweek 27</td>\n",
              "      <td>Sun</td>\n",
              "      <td>Away</td>\n",
              "      <td>W</td>\n",
              "      <td>3</td>\n",
              "      <td>0</td>\n",
              "      <td>Fulham</td>\n",
              "      <td>2.3</td>\n",
              "      <td>0.8</td>\n",
              "      <td>55</td>\n",
              "      <td>24426</td>\n",
              "      <td>Martin Ødegaard</td>\n",
              "      <td>4-3-3</td>\n",
              "      <td>David Coote</td>\n",
              "      <td>Match Report</td>\n",
              "      <td>NaN</td>\n",
              "    </tr>\n",
              "    <tr>\n",
              "      <th>37</th>\n",
              "      <td>2023-03-16</td>\n",
              "      <td>20:00</td>\n",
              "      <td>Europa Lg</td>\n",
              "      <td>Round of 16</td>\n",
              "      <td>Thu</td>\n",
              "      <td>Home</td>\n",
              "      <td>D</td>\n",
              "      <td>1 (3)</td>\n",
              "      <td>1 (5)</td>\n",
              "      <td>pt Sporting CP</td>\n",
              "      <td>1.6</td>\n",
              "      <td>1.3</td>\n",
              "      <td>53</td>\n",
              "      <td>59929</td>\n",
              "      <td>Granit Xhaka</td>\n",
              "      <td>4-3-3</td>\n",
              "      <td>Antonio Matéu</td>\n",
              "      <td>Match Report</td>\n",
              "      <td>Leg 2 of 2; Sporting CP won; Sporting CP won o...</td>\n",
              "    </tr>\n",
              "    <tr>\n",
              "      <th>38</th>\n",
              "      <td>2023-03-19</td>\n",
              "      <td>14:00</td>\n",
              "      <td>Premier League</td>\n",
              "      <td>Matchweek 28</td>\n",
              "      <td>Sun</td>\n",
              "      <td>Home</td>\n",
              "      <td>W</td>\n",
              "      <td>4</td>\n",
              "      <td>1</td>\n",
              "      <td>Crystal Palace</td>\n",
              "      <td>1.6</td>\n",
              "      <td>0.8</td>\n",
              "      <td>62</td>\n",
              "      <td>60247</td>\n",
              "      <td>Martin Ødegaard</td>\n",
              "      <td>4-3-3</td>\n",
              "      <td>Stuart Attwell</td>\n",
              "      <td>Match Report</td>\n",
              "      <td>NaN</td>\n",
              "    </tr>\n",
              "    <tr>\n",
              "      <th>39</th>\n",
              "      <td>2023-04-01</td>\n",
              "      <td>15:00</td>\n",
              "      <td>Premier League</td>\n",
              "      <td>Matchweek 29</td>\n",
              "      <td>Sat</td>\n",
              "      <td>Home</td>\n",
              "      <td>W</td>\n",
              "      <td>4</td>\n",
              "      <td>1</td>\n",
              "      <td>Leeds United</td>\n",
              "      <td>3.8</td>\n",
              "      <td>0.7</td>\n",
              "      <td>66</td>\n",
              "      <td>60283</td>\n",
              "      <td>Martin Ødegaard</td>\n",
              "      <td>4-3-3</td>\n",
              "      <td>Darren England</td>\n",
              "      <td>Match Report</td>\n",
              "      <td>NaN</td>\n",
              "    </tr>\n",
              "    <tr>\n",
              "      <th>40</th>\n",
              "      <td>2023-04-09</td>\n",
              "      <td>16:30</td>\n",
              "      <td>Premier League</td>\n",
              "      <td>Matchweek 30</td>\n",
              "      <td>Sun</td>\n",
              "      <td>Away</td>\n",
              "      <td>D</td>\n",
              "      <td>2</td>\n",
              "      <td>2</td>\n",
              "      <td>Liverpool</td>\n",
              "      <td>1.4</td>\n",
              "      <td>3.9</td>\n",
              "      <td>41</td>\n",
              "      <td>53267</td>\n",
              "      <td>Martin Ødegaard</td>\n",
              "      <td>4-3-3</td>\n",
              "      <td>Paul Tierney</td>\n",
              "      <td>Match Report</td>\n",
              "      <td>NaN</td>\n",
              "    </tr>\n",
              "    <tr>\n",
              "      <th>41</th>\n",
              "      <td>2023-04-16</td>\n",
              "      <td>14:00</td>\n",
              "      <td>Premier League</td>\n",
              "      <td>Matchweek 31</td>\n",
              "      <td>Sun</td>\n",
              "      <td>Away</td>\n",
              "      <td>D</td>\n",
              "      <td>2</td>\n",
              "      <td>2</td>\n",
              "      <td>West Ham</td>\n",
              "      <td>2.7</td>\n",
              "      <td>1.8</td>\n",
              "      <td>70</td>\n",
              "      <td>62481</td>\n",
              "      <td>Martin Ødegaard</td>\n",
              "      <td>4-3-3</td>\n",
              "      <td>David Coote</td>\n",
              "      <td>Match Report</td>\n",
              "      <td>NaN</td>\n",
              "    </tr>\n",
              "    <tr>\n",
              "      <th>42</th>\n",
              "      <td>2023-04-21</td>\n",
              "      <td>20:00</td>\n",
              "      <td>Premier League</td>\n",
              "      <td>Matchweek 32</td>\n",
              "      <td>Fri</td>\n",
              "      <td>Home</td>\n",
              "      <td>D</td>\n",
              "      <td>3</td>\n",
              "      <td>3</td>\n",
              "      <td>Southampton</td>\n",
              "      <td>2.5</td>\n",
              "      <td>1.3</td>\n",
              "      <td>74</td>\n",
              "      <td>60175</td>\n",
              "      <td>Martin Ødegaard</td>\n",
              "      <td>4-3-3</td>\n",
              "      <td>Simon Hooper</td>\n",
              "      <td>Match Report</td>\n",
              "      <td>NaN</td>\n",
              "    </tr>\n",
              "    <tr>\n",
              "      <th>43</th>\n",
              "      <td>2023-04-26</td>\n",
              "      <td>20:00</td>\n",
              "      <td>Premier League</td>\n",
              "      <td>Matchweek 33</td>\n",
              "      <td>Wed</td>\n",
              "      <td>Away</td>\n",
              "      <td>L</td>\n",
              "      <td>1</td>\n",
              "      <td>4</td>\n",
              "      <td>Manchester City</td>\n",
              "      <td>0.5</td>\n",
              "      <td>2.5</td>\n",
              "      <td>48</td>\n",
              "      <td>53482</td>\n",
              "      <td>Martin Ødegaard</td>\n",
              "      <td>4-3-3</td>\n",
              "      <td>Michael Oliver</td>\n",
              "      <td>Match Report</td>\n",
              "      <td>NaN</td>\n",
              "    </tr>\n",
              "    <tr>\n",
              "      <th>44</th>\n",
              "      <td>2023-05-02</td>\n",
              "      <td>20:00</td>\n",
              "      <td>Premier League</td>\n",
              "      <td>Matchweek 34</td>\n",
              "      <td>Tue</td>\n",
              "      <td>Home</td>\n",
              "      <td>W</td>\n",
              "      <td>3</td>\n",
              "      <td>1</td>\n",
              "      <td>Chelsea</td>\n",
              "      <td>1.7</td>\n",
              "      <td>0.8</td>\n",
              "      <td>55</td>\n",
              "      <td>60144</td>\n",
              "      <td>Martin Ødegaard</td>\n",
              "      <td>4-3-3</td>\n",
              "      <td>Robert Jones</td>\n",
              "      <td>Match Report</td>\n",
              "      <td>NaN</td>\n",
              "    </tr>\n",
              "    <tr>\n",
              "      <th>45</th>\n",
              "      <td>2023-05-07</td>\n",
              "      <td>16:30</td>\n",
              "      <td>Premier League</td>\n",
              "      <td>Matchweek 35</td>\n",
              "      <td>Sun</td>\n",
              "      <td>Away</td>\n",
              "      <td>W</td>\n",
              "      <td>2</td>\n",
              "      <td>0</td>\n",
              "      <td>Newcastle Utd</td>\n",
              "      <td>1.3</td>\n",
              "      <td>1.3</td>\n",
              "      <td>45</td>\n",
              "      <td>50267</td>\n",
              "      <td>Martin Ødegaard</td>\n",
              "      <td>4-3-3</td>\n",
              "      <td>Chris Kavanagh</td>\n",
              "      <td>Match Report</td>\n",
              "      <td>NaN</td>\n",
              "    </tr>\n",
              "    <tr>\n",
              "      <th>46</th>\n",
              "      <td>2023-05-14</td>\n",
              "      <td>16:30</td>\n",
              "      <td>Premier League</td>\n",
              "      <td>Matchweek 36</td>\n",
              "      <td>Sun</td>\n",
              "      <td>Home</td>\n",
              "      <td>L</td>\n",
              "      <td>0</td>\n",
              "      <td>3</td>\n",
              "      <td>Brighton</td>\n",
              "      <td>0.9</td>\n",
              "      <td>1.7</td>\n",
              "      <td>41</td>\n",
              "      <td>60139</td>\n",
              "      <td>Martin Ødegaard</td>\n",
              "      <td>4-3-3</td>\n",
              "      <td>Andy Madley</td>\n",
              "      <td>Match Report</td>\n",
              "      <td>NaN</td>\n",
              "    </tr>\n",
              "    <tr>\n",
              "      <th>47</th>\n",
              "      <td>2023-05-20</td>\n",
              "      <td>17:30</td>\n",
              "      <td>Premier League</td>\n",
              "      <td>Matchweek 37</td>\n",
              "      <td>Sat</td>\n",
              "      <td>Away</td>\n",
              "      <td>L</td>\n",
              "      <td>0</td>\n",
              "      <td>1</td>\n",
              "      <td>Nott'ham Forest</td>\n",
              "      <td>0.6</td>\n",
              "      <td>0.6</td>\n",
              "      <td>81</td>\n",
              "      <td>29514</td>\n",
              "      <td>Martin Ødegaard</td>\n",
              "      <td>4-3-3</td>\n",
              "      <td>Anthony Taylor</td>\n",
              "      <td>Match Report</td>\n",
              "      <td>NaN</td>\n",
              "    </tr>\n",
              "    <tr>\n",
              "      <th>48</th>\n",
              "      <td>2023-05-28</td>\n",
              "      <td>16:30</td>\n",
              "      <td>Premier League</td>\n",
              "      <td>Matchweek 38</td>\n",
              "      <td>Sun</td>\n",
              "      <td>Home</td>\n",
              "      <td>W</td>\n",
              "      <td>5</td>\n",
              "      <td>0</td>\n",
              "      <td>Wolves</td>\n",
              "      <td>2.8</td>\n",
              "      <td>0.5</td>\n",
              "      <td>51</td>\n",
              "      <td>60095</td>\n",
              "      <td>Martin Ødegaard</td>\n",
              "      <td>4-3-3</td>\n",
              "      <td>Andre Marriner</td>\n",
              "      <td>Match Report</td>\n",
              "      <td>NaN</td>\n",
              "    </tr>\n",
              "  </tbody>\n",
              "</table>\n",
              "</div>"
            ],
            "text/plain": [
              "          Date   Time            Comp                Round  Day Venue Result  \\\n",
              "0   2022-08-05  20:00  Premier League          Matchweek 1  Fri  Away      W   \n",
              "1   2022-08-13  15:00  Premier League          Matchweek 2  Sat  Home      W   \n",
              "2   2022-08-20  17:30  Premier League          Matchweek 3  Sat  Away      W   \n",
              "3   2022-08-27  17:30  Premier League          Matchweek 4  Sat  Home      W   \n",
              "4   2022-08-31  19:30  Premier League          Matchweek 5  Wed  Home      W   \n",
              "5   2022-09-04  16:30  Premier League          Matchweek 6  Sun  Away      L   \n",
              "6   2022-09-08  18:45       Europa Lg          Group stage  Thu  Away      W   \n",
              "7   2022-09-18  12:00  Premier League          Matchweek 8  Sun  Away      W   \n",
              "8   2022-10-01  12:30  Premier League          Matchweek 9  Sat  Home      W   \n",
              "9   2022-10-06  20:00       Europa Lg          Group stage  Thu  Home      W   \n",
              "10  2022-10-09  16:30  Premier League         Matchweek 10  Sun  Home      W   \n",
              "11  2022-10-13  18:45       Europa Lg          Group stage  Thu  Away      W   \n",
              "12  2022-10-16  14:00  Premier League         Matchweek 11  Sun  Away      W   \n",
              "13  2022-10-20  18:00       Europa Lg          Group stage  Thu  Home      W   \n",
              "14  2022-10-23  14:00  Premier League         Matchweek 13  Sun  Away      D   \n",
              "15  2022-10-27  18:45       Europa Lg          Group stage  Thu  Away      L   \n",
              "16  2022-10-30  14:00  Premier League         Matchweek 14  Sun  Home      W   \n",
              "17  2022-11-03  20:00       Europa Lg          Group stage  Thu  Home      W   \n",
              "18  2022-11-06  12:00  Premier League         Matchweek 15  Sun  Away      W   \n",
              "19  2022-11-09  19:45         EFL Cup          Third round  Wed  Home      L   \n",
              "20  2022-11-12  19:45  Premier League         Matchweek 16  Sat  Away      W   \n",
              "21  2022-12-26  20:00  Premier League         Matchweek 17  Mon  Home      W   \n",
              "22  2022-12-31  17:30  Premier League         Matchweek 18  Sat  Away      W   \n",
              "23  2023-01-03  19:45  Premier League         Matchweek 19  Tue  Home      D   \n",
              "24  2023-01-09  20:00          FA Cup   Third round proper  Mon  Away      W   \n",
              "25  2023-01-15  16:30  Premier League         Matchweek 20  Sun  Away      W   \n",
              "26  2023-01-22  16:30  Premier League         Matchweek 21  Sun  Home      W   \n",
              "27  2023-01-27  20:00          FA Cup  Fourth round proper  Fri  Away      L   \n",
              "28  2023-02-04  12:30  Premier League         Matchweek 22  Sat  Away      L   \n",
              "29  2023-02-11  15:00  Premier League         Matchweek 23  Sat  Home      D   \n",
              "30  2023-02-15  19:30  Premier League         Matchweek 12  Wed  Home      L   \n",
              "31  2023-02-18  12:30  Premier League         Matchweek 24  Sat  Away      W   \n",
              "32  2023-02-25  15:00  Premier League         Matchweek 25  Sat  Away      W   \n",
              "33  2023-03-01  19:45  Premier League          Matchweek 7  Wed  Home      W   \n",
              "34  2023-03-04  15:00  Premier League         Matchweek 26  Sat  Home      W   \n",
              "35  2023-03-09  17:45       Europa Lg          Round of 16  Thu  Away      D   \n",
              "36  2023-03-12  14:00  Premier League         Matchweek 27  Sun  Away      W   \n",
              "37  2023-03-16  20:00       Europa Lg          Round of 16  Thu  Home      D   \n",
              "38  2023-03-19  14:00  Premier League         Matchweek 28  Sun  Home      W   \n",
              "39  2023-04-01  15:00  Premier League         Matchweek 29  Sat  Home      W   \n",
              "40  2023-04-09  16:30  Premier League         Matchweek 30  Sun  Away      D   \n",
              "41  2023-04-16  14:00  Premier League         Matchweek 31  Sun  Away      D   \n",
              "42  2023-04-21  20:00  Premier League         Matchweek 32  Fri  Home      D   \n",
              "43  2023-04-26  20:00  Premier League         Matchweek 33  Wed  Away      L   \n",
              "44  2023-05-02  20:00  Premier League         Matchweek 34  Tue  Home      W   \n",
              "45  2023-05-07  16:30  Premier League         Matchweek 35  Sun  Away      W   \n",
              "46  2023-05-14  16:30  Premier League         Matchweek 36  Sun  Home      L   \n",
              "47  2023-05-20  17:30  Premier League         Matchweek 37  Sat  Away      L   \n",
              "48  2023-05-28  16:30  Premier League         Matchweek 38  Sun  Home      W   \n",
              "\n",
              "       GF     GA          Opponent   xG  xGA  Poss  Attendance  \\\n",
              "0       2      0    Crystal Palace  1.0  1.2    44       25286   \n",
              "1       4      2    Leicester City  2.7  0.5    50       60033   \n",
              "2       3      0       Bournemouth  1.3  0.3    57       10423   \n",
              "3       2      1            Fulham  2.6  0.8    71       60164   \n",
              "4       2      1       Aston Villa  2.4  0.4    59       60012   \n",
              "5       1      3    Manchester Utd  1.3  1.5    60       73431   \n",
              "6       2      1         ch Zürich  2.3  1.2    69       17070   \n",
              "7       3      0         Brentford  1.5  0.5    63       17122   \n",
              "8       3      1         Tottenham  2.4  1.6    64       60278   \n",
              "9       3      0     no Bodø/Glimt  3.4  0.8    50       59724   \n",
              "10      3      2         Liverpool  2.7  1.1    43       60059   \n",
              "11      1      0     no Bodø/Glimt  0.7  0.5    55        7922   \n",
              "12      1      0      Leeds United  0.5  1.8    53       36700   \n",
              "13      1      0  nl PSV Eindhoven  2.7  0.3    62       52200   \n",
              "14      1      1       Southampton  1.0  0.7    59       31145   \n",
              "15      0      2  nl PSV Eindhoven  1.4  0.8    68       35000   \n",
              "16      5      0   Nott'ham Forest  2.3  0.4    69       60263   \n",
              "17      1      0         ch Zürich  1.6  0.4    55       48500   \n",
              "18      1      0           Chelsea  2.1  0.3    55       40142   \n",
              "19      1      3          Brighton  NaN  NaN    57       59233   \n",
              "20      2      0            Wolves  2.1  0.7    62       34624   \n",
              "21      3      1          West Ham  2.1  1.0    66       60125   \n",
              "22      4      2          Brighton  2.9  1.2    32       31647   \n",
              "23      0      0     Newcastle Utd  1.1  1.0    66       60319   \n",
              "24      3      0     Oxford United  NaN  NaN    64       11538   \n",
              "25      2      0         Tottenham  1.8  1.6    49       61870   \n",
              "26      3      2    Manchester Utd  3.1  0.4    57       60325   \n",
              "27      0      1   Manchester City  NaN  NaN    46       51589   \n",
              "28      0      1           Everton  0.9  1.7    70       39314   \n",
              "29      1      1         Brentford  1.6  2.0    69       60254   \n",
              "30      1      3   Manchester City  1.6  1.8    63       60276   \n",
              "31      4      2       Aston Villa  3.2  0.5    67       42066   \n",
              "32      1      0    Leicester City  0.7  0.0    65       32227   \n",
              "33      4      0           Everton  2.6  1.2    73       60213   \n",
              "34      3      2       Bournemouth  2.1  1.3    79       60222   \n",
              "35      2      2    pt Sporting CP  2.0  2.2    67       36006   \n",
              "36      3      0            Fulham  2.3  0.8    55       24426   \n",
              "37  1 (3)  1 (5)    pt Sporting CP  1.6  1.3    53       59929   \n",
              "38      4      1    Crystal Palace  1.6  0.8    62       60247   \n",
              "39      4      1      Leeds United  3.8  0.7    66       60283   \n",
              "40      2      2         Liverpool  1.4  3.9    41       53267   \n",
              "41      2      2          West Ham  2.7  1.8    70       62481   \n",
              "42      3      3       Southampton  2.5  1.3    74       60175   \n",
              "43      1      4   Manchester City  0.5  2.5    48       53482   \n",
              "44      3      1           Chelsea  1.7  0.8    55       60144   \n",
              "45      2      0     Newcastle Utd  1.3  1.3    45       50267   \n",
              "46      0      3          Brighton  0.9  1.7    41       60139   \n",
              "47      0      1   Nott'ham Forest  0.6  0.6    81       29514   \n",
              "48      5      0            Wolves  2.8  0.5    51       60095   \n",
              "\n",
              "                Captain Formation              Referee  Match Report  \\\n",
              "0       Martin Ødegaard     4-3-3       Anthony Taylor  Match Report   \n",
              "1       Martin Ødegaard     4-3-3       Darren England  Match Report   \n",
              "2       Martin Ødegaard     4-3-3         Craig Pawson  Match Report   \n",
              "3       Martin Ødegaard     4-3-3       Jarred Gillett  Match Report   \n",
              "4       Martin Ødegaard     4-3-3         Robert Jones  Match Report   \n",
              "5       Martin Ødegaard     4-3-3         Paul Tierney  Match Report   \n",
              "6          Granit Xhaka     4-3-3    Mohammed Al Hakim  Match Report   \n",
              "7          Granit Xhaka     4-3-3          David Coote  Match Report   \n",
              "8       Martin Ødegaard     4-3-3       Anthony Taylor  Match Report   \n",
              "9          Granit Xhaka     4-3-3          Harm Osmers  Match Report   \n",
              "10      Martin Ødegaard     4-3-3       Michael Oliver  Match Report   \n",
              "11      Martin Ødegaard     4-3-3         Irfan Peljto  Match Report   \n",
              "12      Martin Ødegaard     4-3-3       Chris Kavanagh  Match Report   \n",
              "13         Granit Xhaka     4-3-3  Alejandro Hernández  Match Report   \n",
              "14      Martin Ødegaard     4-3-3         Robert Jones  Match Report   \n",
              "15      Martin Ødegaard     4-3-3       Marco Di Bello  Match Report   \n",
              "16      Martin Ødegaard     4-3-3         Simon Hooper  Match Report   \n",
              "17        Gabriel Jesus     4-3-3      Erik Lambrechts  Match Report   \n",
              "18      Martin Ødegaard     4-3-3       Michael Oliver  Match Report   \n",
              "19          Rob Holding   4-2-3-1       Jarred Gillett  Match Report   \n",
              "20      Martin Ødegaard     4-3-3       Stuart Attwell  Match Report   \n",
              "21      Martin Ødegaard     4-3-3       Michael Oliver  Match Report   \n",
              "22      Martin Ødegaard     4-3-3       Anthony Taylor  Match Report   \n",
              "23      Martin Ødegaard     4-3-3          Andy Madley  Match Report   \n",
              "24          Rob Holding     4-3-3          David Coote  Match Report   \n",
              "25      Martin Ødegaard     4-3-3         Craig Pawson  Match Report   \n",
              "26      Martin Ødegaard     4-3-3       Anthony Taylor  Match Report   \n",
              "27         Granit Xhaka     4-3-3         Paul Tierney  Match Report   \n",
              "28      Martin Ødegaard     4-3-3          David Coote  Match Report   \n",
              "29      Martin Ødegaard     4-3-3         Peter Bankes  Match Report   \n",
              "30      Martin Ødegaard     4-3-3       Anthony Taylor  Match Report   \n",
              "31      Martin Ødegaard     4-3-3         Simon Hooper  Match Report   \n",
              "32  Oleksandr Zinchenko     4-3-3         Craig Pawson  Match Report   \n",
              "33      Martin Ødegaard     4-3-3       Michael Oliver  Match Report   \n",
              "34      Martin Ødegaard     4-3-3       Chris Kavanagh  Match Report   \n",
              "35         Granit Xhaka     4-3-3       Tobias Stieler  Match Report   \n",
              "36      Martin Ødegaard     4-3-3          David Coote  Match Report   \n",
              "37         Granit Xhaka     4-3-3        Antonio Matéu  Match Report   \n",
              "38      Martin Ødegaard     4-3-3       Stuart Attwell  Match Report   \n",
              "39      Martin Ødegaard     4-3-3       Darren England  Match Report   \n",
              "40      Martin Ødegaard     4-3-3         Paul Tierney  Match Report   \n",
              "41      Martin Ødegaard     4-3-3          David Coote  Match Report   \n",
              "42      Martin Ødegaard     4-3-3         Simon Hooper  Match Report   \n",
              "43      Martin Ødegaard     4-3-3       Michael Oliver  Match Report   \n",
              "44      Martin Ødegaard     4-3-3         Robert Jones  Match Report   \n",
              "45      Martin Ødegaard     4-3-3       Chris Kavanagh  Match Report   \n",
              "46      Martin Ødegaard     4-3-3          Andy Madley  Match Report   \n",
              "47      Martin Ødegaard     4-3-3       Anthony Taylor  Match Report   \n",
              "48      Martin Ødegaard     4-3-3       Andre Marriner  Match Report   \n",
              "\n",
              "                                                Notes  \n",
              "0                                                 NaN  \n",
              "1                                                 NaN  \n",
              "2                                                 NaN  \n",
              "3                                                 NaN  \n",
              "4                                                 NaN  \n",
              "5                                                 NaN  \n",
              "6                                                 NaN  \n",
              "7                                                 NaN  \n",
              "8                                                 NaN  \n",
              "9                                                 NaN  \n",
              "10                                                NaN  \n",
              "11                                                NaN  \n",
              "12                                                NaN  \n",
              "13                                                NaN  \n",
              "14                                                NaN  \n",
              "15                                                NaN  \n",
              "16                                                NaN  \n",
              "17                                                NaN  \n",
              "18                                                NaN  \n",
              "19                                                NaN  \n",
              "20                                                NaN  \n",
              "21                                                NaN  \n",
              "22                                                NaN  \n",
              "23                                                NaN  \n",
              "24                                                NaN  \n",
              "25                                                NaN  \n",
              "26                                                NaN  \n",
              "27                                                NaN  \n",
              "28                                                NaN  \n",
              "29                                                NaN  \n",
              "30                                                NaN  \n",
              "31                                                NaN  \n",
              "32                                                NaN  \n",
              "33                                                NaN  \n",
              "34                                                NaN  \n",
              "35                                         Leg 1 of 2  \n",
              "36                                                NaN  \n",
              "37  Leg 2 of 2; Sporting CP won; Sporting CP won o...  \n",
              "38                                                NaN  \n",
              "39                                                NaN  \n",
              "40                                                NaN  \n",
              "41                                                NaN  \n",
              "42                                                NaN  \n",
              "43                                                NaN  \n",
              "44                                                NaN  \n",
              "45                                                NaN  \n",
              "46                                                NaN  \n",
              "47                                                NaN  \n",
              "48                                                NaN  "
            ]
          },
          "execution_count": 63,
          "metadata": {},
          "output_type": "execute_result"
        }
      ],
      "source": [
        "fb_ref_df[1]"
      ]
    }
  ],
  "metadata": {
    "colab": {
      "include_colab_link": true,
      "provenance": []
    },
    "kernelspec": {
      "display_name": "Python 3.9.12 ('base')",
      "language": "python",
      "name": "python3"
    },
    "language_info": {
      "codemirror_mode": {
        "name": "ipython",
        "version": 3
      },
      "file_extension": ".py",
      "mimetype": "text/x-python",
      "name": "python",
      "nbconvert_exporter": "python",
      "pygments_lexer": "ipython3",
      "version": "3.9.12"
    },
    "vscode": {
      "interpreter": {
        "hash": "dff3f7fe939c22fa9cefa964eaa86173eed155c5c1da30614b809f65600c7e48"
      }
    }
  },
  "nbformat": 4,
  "nbformat_minor": 5
}
