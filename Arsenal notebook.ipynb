{
 "cells": [
  {
   "cell_type": "code",
   "execution_count": null,
   "id": "0af01960",
   "metadata": {},
   "outputs": [],
   "source": []
  }
 ],
 "metadata": {
  "kernelspec": {
   "display_name": "Python 3.9.12 ('env': venv)",
   "language": "python",
   "name": "python3"
  },
  "language_info": {
   "name": "python",
   "version": "3.9.12"
  },
  "vscode": {
   "interpreter": {
    "hash": "fc93990378ce2107eead6e776826a7c5cd264cec6c6bb8a8a2af327f7c4f529c"
   }
  }
 },
 "nbformat": 4,
 "nbformat_minor": 5
}
